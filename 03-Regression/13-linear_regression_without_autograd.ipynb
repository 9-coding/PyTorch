{
  "nbformat": 4,
  "nbformat_minor": 0,
  "metadata": {
    "colab": {
      "provenance": [],
      "include_colab_link": true
    },
    "kernelspec": {
      "name": "python3",
      "display_name": "Python 3"
    },
    "language_info": {
      "name": "python"
    }
  },
  "cells": [
    {
      "cell_type": "markdown",
      "metadata": {
        "id": "view-in-github",
        "colab_type": "text"
      },
      "source": [
        "<a href=\"https://colab.research.google.com/github/9-coding/PyTorch/blob/main/13-linear_regression_without_autograd.ipynb\" target=\"_parent\"><img src=\"https://colab.research.google.com/assets/colab-badge.svg\" alt=\"Open In Colab\"/></a>"
      ]
    },
    {
      "cell_type": "markdown",
      "source": [
        "# Linear Regression without AutoGrad"
      ],
      "metadata": {
        "id": "gbOira27oQ9h"
      }
    },
    {
      "cell_type": "code",
      "execution_count": 12,
      "metadata": {
        "id": "QsHfuRGfl0Lf"
      },
      "outputs": [],
      "source": [
        "!pip install --quiet torchviz"
      ]
    },
    {
      "cell_type": "code",
      "source": [
        "import torch\n",
        "import numpy as np\n",
        "import matplotlib.pyplot as plt\n",
        "\n",
        "from torchviz import make_dot # for computational graph\n",
        "from IPython.display import display, Math, Latex # for display"
      ],
      "metadata": {
        "id": "dXlnP0pmnxWV"
      },
      "execution_count": 13,
      "outputs": []
    },
    {
      "cell_type": "code",
      "source": [
        "for c in [torch, np]:\n",
        "  print(c.__version__)"
      ],
      "metadata": {
        "colab": {
          "base_uri": "https://localhost:8080/"
        },
        "id": "QXa31vvUnKoF",
        "outputId": "7f77fbf5-e45e-48b6-ff70-5350922a71da"
      },
      "execution_count": 14,
      "outputs": [
        {
          "output_type": "stream",
          "name": "stdout",
          "text": [
            "2.2.1+cu121\n",
            "1.25.2\n"
          ]
        }
      ]
    },
    {
      "cell_type": "markdown",
      "source": [
        "## Linear Regression\n",
        "1. 데이터 정의 or 불러오기\n",
        "2. linear 함수와 손실함수 선언하기\n",
        "3. paramters 초기화하기\n",
        "4. 미분 함수 정의하기\n",
        "5. training loop 선언<br>\n",
        "  : epoch만큼 순회하며\n",
        "  - prediction하고 loss 계산\n",
        "  - gradient 계산\n",
        "  - update parameters\n",
        "6. 결과 확인"
      ],
      "metadata": {
        "id": "jbM42xRtlndP"
      }
    },
    {
      "cell_type": "markdown",
      "source": [
        "## Linear Regression without pytorch\n",
        "\n",
        "$$ y = w^Tx + b$$\n",
        "- 엄밀히 affine transform (not linear transform)"
      ],
      "metadata": {
        "id": "ehMCFWq2oPcr"
      }
    },
    {
      "cell_type": "markdown",
      "source": [
        "## Farhenheit vs. Celcius\n",
        "- from Fahrenheit(`x`) to Celcius (`y`) -> 선형변환\n",
        "\n",
        "$$y = 1.8 \\times x + 32$$"
      ],
      "metadata": {
        "id": "I6Hhi1jBo7Ti"
      }
    },
    {
      "cell_type": "code",
      "source": [
        "x = np.linspace(-10, 10, 40)\n",
        "y_ideal = 1.8*x + 32.\n",
        "y_noise = y_ideal + 4*np.random.randn((40)) # 노이즈 추가\n",
        "\n",
        "plt.plot(x,y_ideal, x, y_noise)"
      ],
      "metadata": {
        "colab": {
          "base_uri": "https://localhost:8080/",
          "height": 466
        },
        "id": "JcYomEd6ozcT",
        "outputId": "cc67bc8e-f072-429d-d3d4-2ffbfa3e94fd"
      },
      "execution_count": 15,
      "outputs": [
        {
          "output_type": "execute_result",
          "data": {
            "text/plain": [
              "[<matplotlib.lines.Line2D at 0x79b687bad690>,\n",
              " <matplotlib.lines.Line2D at 0x79b687bad6f0>]"
            ]
          },
          "metadata": {},
          "execution_count": 15
        },
        {
          "output_type": "display_data",
          "data": {
            "text/plain": [
              "<Figure size 640x480 with 1 Axes>"
            ],
            "image/png": "[encoded data removed]"
          },
          "metadata": {}
        }
      ]
    },
    {
      "cell_type": "code",
      "source": [
        "y = torch.tensor(y_noise).float()\n",
        "x = torch.tensor(x).float()\n",
        "\n",
        "print(y.dtype, y.shape)\n",
        "print(x.dtype, x.shape)"
      ],
      "metadata": {
        "colab": {
          "base_uri": "https://localhost:8080/"
        },
        "id": "sphdnWvUqbn7",
        "outputId": "8529023b-6f17-49d2-f15e-a4713fe34b09"
      },
      "execution_count": 16,
      "outputs": [
        {
          "output_type": "stream",
          "name": "stdout",
          "text": [
            "torch.float32 torch.Size([40])\n",
            "torch.float32 torch.Size([40])\n"
          ]
        }
      ]
    },
    {
      "cell_type": "markdown",
      "source": [
        "## Model and Loss"
      ],
      "metadata": {
        "id": "ZDs47S0-quBY"
      }
    },
    {
      "cell_type": "code",
      "source": [
        "def ds_linear_model (x, w, b):\n",
        "  ret_v = w * x + b\n",
        "  return ret_v"
      ],
      "metadata": {
        "id": "_D5ZMfWeqvYZ"
      },
      "execution_count": 17,
      "outputs": []
    },
    {
      "cell_type": "code",
      "source": [
        "def loss_func(pred, label):\n",
        "  mse = ((pred - label)**2).mean()\n",
        "  return mse"
      ],
      "metadata": {
        "id": "bGXLPErBrFnC"
      },
      "execution_count": 18,
      "outputs": []
    },
    {
      "cell_type": "markdown",
      "source": [
        "## Init model"
      ],
      "metadata": {
        "id": "DA9S0hIXzJkn"
      }
    },
    {
      "cell_type": "code",
      "source": [
        "w = torch.ones(())\n",
        "b = torch.zeros(())\n",
        "w, b"
      ],
      "metadata": {
        "colab": {
          "base_uri": "https://localhost:8080/"
        },
        "id": "zrA9Oe86rZXp",
        "outputId": "7f4c803b-ac09-4e1d-af65-df0a659c972f"
      },
      "execution_count": 19,
      "outputs": [
        {
          "output_type": "execute_result",
          "data": {
            "text/plain": [
              "(tensor(1.), tensor(0.))"
            ]
          },
          "metadata": {},
          "execution_count": 19
        }
      ]
    },
    {
      "cell_type": "code",
      "source": [
        "pred = ds_linear_model(x, w, b)\n",
        "pred"
      ],
      "metadata": {
        "colab": {
          "base_uri": "https://localhost:8080/"
        },
        "id": "inqRgRuXr2W9",
        "outputId": "97796443-daea-469e-97a1-245c78b6277b"
      },
      "execution_count": 20,
      "outputs": [
        {
          "output_type": "execute_result",
          "data": {
            "text/plain": [
              "tensor([-10.0000,  -9.4872,  -8.9744,  -8.4615,  -7.9487,  -7.4359,  -6.9231,\n",
              "         -6.4103,  -5.8974,  -5.3846,  -4.8718,  -4.3590,  -3.8462,  -3.3333,\n",
              "         -2.8205,  -2.3077,  -1.7949,  -1.2821,  -0.7692,  -0.2564,   0.2564,\n",
              "          0.7692,   1.2821,   1.7949,   2.3077,   2.8205,   3.3333,   3.8462,\n",
              "          4.3590,   4.8718,   5.3846,   5.8974,   6.4103,   6.9231,   7.4359,\n",
              "          7.9487,   8.4615,   8.9744,   9.4872,  10.0000])"
            ]
          },
          "metadata": {},
          "execution_count": 20
        }
      ]
    },
    {
      "cell_type": "code",
      "source": [
        "print(loss_func(pred, pred))\n",
        "print(loss_func(pred+1, pred))"
      ],
      "metadata": {
        "colab": {
          "base_uri": "https://localhost:8080/"
        },
        "id": "4YD1CoFusDkK",
        "outputId": "56c484c8-0b25-42c5-d5ae-b2ef297fa356"
      },
      "execution_count": 21,
      "outputs": [
        {
          "output_type": "stream",
          "name": "stdout",
          "text": [
            "tensor(0.)\n",
            "tensor(1.)\n"
          ]
        }
      ]
    },
    {
      "cell_type": "markdown",
      "source": [
        "## Gradient Descent\n",
        "$$w_{t+1} = w_t - \\eta\\nabla_w L(w_t, X, Y)$$\n",
        "\n",
        "$$\\nabla_w L(w_t, X, Y) = \\cfrac{\\partial L(w_t, X, Y)}{\\partial w}$$\n",
        "\n",
        "$$\\cfrac{f(x + Δx) - f(x - \\Delta x)}{2x}$$에서\n",
        "\n",
        "$$\\nabla_w L(w_t, X, Y) \\approx \\cfrac{L(w_t + δ, X, Y) - L(w_t - \\delta, X, Y)}{2\\delta}$$"
      ],
      "metadata": {
        "id": "_b2VYEjasmmL"
      }
    },
    {
      "cell_type": "code",
      "source": [
        "delta = 0.1\n",
        "lr = 1e-3\n",
        "\n",
        "d_loss_d_w = (loss_func(ds_linear_model(x, w+delta, b), y) - loss_func(ds_linear_model(x, w-delta, b), y)) / (2. * delta) # central difference (위 수식에서 아래)\n",
        "tmp = d_loss_d_w.detach().numpy()\n",
        "print(tmp)\n",
        "display(Math(r'\\cfrac{\\partial L(w_t, X, Y)}{\\partial w} \\approx' + str(tmp)))"
      ],
      "metadata": {
        "colab": {
          "base_uri": "https://localhost:8080/",
          "height": 73
        },
        "id": "USm3iZCbtC10",
        "outputId": "5876f519-1777-45cd-b213-ce2c7c4025fe"
      },
      "execution_count": 22,
      "outputs": [
        {
          "output_type": "stream",
          "name": "stdout",
          "text": [
            "-59.06006\n"
          ]
        },
        {
          "output_type": "display_data",
          "data": {
            "text/plain": [
              "<IPython.core.display.Math object>"
            ],
            "text/latex": "$\\displaystyle \\cfrac{\\partial L(w_t, X, Y)}{\\partial w} \\approx-59.06006$"
          },
          "metadata": {}
        }
      ]
    },
    {
      "cell_type": "markdown",
      "source": [
        "## Bias\n",
        "\n",
        "$$b_{t+1} = b_t - \\eta\\nabla_b L(b_t, X, Y)$$\n",
        "\n",
        "$$\\nabla_b L(b_t, X, Y) = \\cfrac{\\partial L(b_t, X, Y)}{\\partial b}$$\n",
        "\n",
        "$$\\nabla_b L(b_t, X, Y) \\approx \\cfrac{L(b_t + δ, X, Y) - L(b_t - \\delta, X, Y)}{2\\delta}$$"
      ],
      "metadata": {
        "id": "8MeuiS4tx6D3"
      }
    },
    {
      "cell_type": "code",
      "source": [
        "d_loss_d_b = (loss_func(ds_linear_model(x, b+delta, b), y) - loss_func(ds_linear_model(x, b-delta, b), y)) / (2. * delta) # central difference (위 수식에서 아래)\n",
        "tmp = d_loss_d_b.detach().numpy()\n",
        "print(tmp)\n",
        "display(Math(r'\\cfrac{\\partial L(b_t, X, Y)}{\\partial b} \\approx' + str(tmp)))"
      ],
      "metadata": {
        "colab": {
          "base_uri": "https://localhost:8080/",
          "height": 73
        },
        "id": "mfvTa4d0yIO1",
        "outputId": "bcf8301c-ac95-4f48-b066-d8a73267660c"
      },
      "execution_count": 23,
      "outputs": [
        {
          "output_type": "stream",
          "name": "stdout",
          "text": [
            "-129.14612\n"
          ]
        },
        {
          "output_type": "display_data",
          "data": {
            "text/plain": [
              "<IPython.core.display.Math object>"
            ],
            "text/latex": "$\\displaystyle \\cfrac{\\partial L(b_t, X, Y)}{\\partial b} \\approx-129.14612$"
          },
          "metadata": {}
        }
      ]
    },
    {
      "cell_type": "markdown",
      "source": [
        "## Update parameters"
      ],
      "metadata": {
        "id": "pEeUyinmzQ-w"
      }
    },
    {
      "cell_type": "code",
      "source": [
        "w = w - lr * d_loss_d_w\n",
        "b = b - lr * d_loss_d_b\n",
        "\n",
        "w, b"
      ],
      "metadata": {
        "colab": {
          "base_uri": "https://localhost:8080/"
        },
        "id": "6EvdkikWyiao",
        "outputId": "b70a24ba-32ca-4882-8573-618e54a375dc"
      },
      "execution_count": 24,
      "outputs": [
        {
          "output_type": "execute_result",
          "data": {
            "text/plain": [
              "(tensor(1.0591), tensor(0.1291))"
            ]
          },
          "metadata": {},
          "execution_count": 24
        }
      ]
    },
    {
      "cell_type": "code",
      "source": [
        "l = loss_func(pred+1, pred)\n",
        "print(f'current loss: {l=}')\n",
        "pred = ds_linear_model(x,w,b)\n",
        "l_new = loss_func(pred, y)\n",
        "print(f'new loss: {l_new=}')"
      ],
      "metadata": {
        "colab": {
          "base_uri": "https://localhost:8080/"
        },
        "id": "4WqM2heUzZ8S",
        "outputId": "b9299431-22cd-4084-8738-e2307a7b9787"
      },
      "execution_count": 25,
      "outputs": [
        {
          "output_type": "stream",
          "name": "stdout",
          "text": [
            "current loss: l=tensor(1.)\n",
            "new loss: l_new=tensor(1057.9080)\n"
          ]
        }
      ]
    },
    {
      "cell_type": "markdown",
      "source": [
        "$L = MSE() = (pred - y)^2 = (f(x) - y)^2$<br>\n",
        "$f = wx +b$\n",
        "\n",
        "$\\cfrac{\\partial L}{\\partial w} = \\cfrac{\\partial L}{\\partial f}\\cfrac{\\partial f}{\\partial w}$"
      ],
      "metadata": {
        "id": "KFYrPbFRgage"
      }
    },
    {
      "cell_type": "code",
      "source": [
        "# Loss를 f에 대해 편미분\n",
        "def anal_d_loss_d_pred(pred, y):\n",
        "  ret_v = 2. * (pred-y)\n",
        "  return ret_v\n",
        "\n",
        "# f를 w에 대해 편미분\n",
        "def anal_d_pred_d_w(x, w, b):\n",
        "  return x\n",
        "\n",
        "# f를 b에 대해 편미분\n",
        "def anal_d_pred_d_b(w, x, b):\n",
        "  return 1."
      ],
      "metadata": {
        "id": "fXpBJapx0YCq"
      },
      "execution_count": 26,
      "outputs": []
    },
    {
      "cell_type": "markdown",
      "source": [
        "$$\\nabla L = \\begin{bmatrix} \\cfrac{dL}{dw} \\\\ \\cfrac{dL}{db} \\end{bmatrix}$$\n",
        "\n"
      ],
      "metadata": {
        "id": "0hf4N6Wk167D"
      }
    },
    {
      "cell_type": "code",
      "source": [
        "def get_grad(x, y, pred, w, b):\n",
        "  v_d_loss_d_pred = anal_d_loss_d_pred(pred, y)\n",
        "  v_d_loss_d_w = v_d_loss_d_pred * anal_d_pred_d_w(x, w, b)\n",
        "  v_d_loss_d_b = v_d_loss_d_pred * anal_d_pred_d_b(x, w, b)\n",
        "\n",
        "  return torch.stack([v_d_loss_d_w.mean(), v_d_loss_d_b.mean()])"
      ],
      "metadata": {
        "id": "sw31MyeA0dsM"
      },
      "execution_count": 27,
      "outputs": []
    },
    {
      "cell_type": "code",
      "source": [
        "w_init = 1.\n",
        "b_init = 0.\n",
        "\n",
        "preds = ds_linear_model(x, w_init, b_init)\n",
        "l = loss_func(preds, y)\n",
        "grad = get_grad(x, y, preds, w, b)\n",
        "\n",
        "display(f'{grad=}')"
      ],
      "metadata": {
        "colab": {
          "base_uri": "https://localhost:8080/",
          "height": 35
        },
        "id": "9eN3GARV2epD",
        "outputId": "b00c133a-5a36-4789-d0c8-b74b04e0f156"
      },
      "execution_count": 28,
      "outputs": [
        {
          "output_type": "display_data",
          "data": {
            "text/plain": [
              "'grad=tensor([-59.0606, -64.2216])'"
            ],
            "application/vnd.google.colaboratory.intrinsic+json": {
              "type": "string"
            }
          },
          "metadata": {}
        }
      ]
    },
    {
      "cell_type": "markdown",
      "source": [
        "# Training"
      ],
      "metadata": {
        "id": "y91XUXD53Hjf"
      }
    },
    {
      "cell_type": "code",
      "source": [
        "def ds_training(x, y, model, _w, _b, n_epoch, lr, log_flag = False):\n",
        "  w, b = _w, _b\n",
        "  for epoch in range(n_epoch):\n",
        "\n",
        "    pred = model(x,w,b)\n",
        "    l = loss_func(pred, y)\n",
        "\n",
        "    if torch.isinf(l).any():\n",
        "      print('Error: loss is infinity.')\n",
        "      print(f'{epoch=}')\n",
        "      break\n",
        "\n",
        "    # update parameters\n",
        "    grad = get_grad(x, y, pred, w, b)\n",
        "    w = w - lr* grad[0]\n",
        "    b = b - lr* grad[1]\n",
        "\n",
        "    if epoch in [0, 1, 2, 3, 4, 5, 100, 1000, 2000, 3000, 4000, 5000]:\n",
        "      print(f'Epoch {epoch}: Loss {float(l):0.4f}')\n",
        "      if log_flag:\n",
        "        print(f'{w=}, {b=}')\n",
        "    elif epoch in [6, 101, 1001, 2001, 3001, 4001, 5001]:\n",
        "      print('---')\n",
        "\n",
        "  return w, b"
      ],
      "metadata": {
        "id": "MHjbU4Jn3-EL"
      },
      "execution_count": 29,
      "outputs": []
    },
    {
      "cell_type": "code",
      "source": [
        "w_n, b_n = ds_training(x, y, ds_linear_model,\n",
        "            torch.ones(()),\n",
        "            torch.zeros(()),\n",
        "            5000,\n",
        "            1e-3\n",
        ")\n",
        "w_n, b_n"
      ],
      "metadata": {
        "colab": {
          "base_uri": "https://localhost:8080/"
        },
        "id": "2PTyZbvY4Dnn",
        "outputId": "afaaf8e2-9ea4-415b-9f2f-3273918ed735"
      },
      "execution_count": 30,
      "outputs": [
        {
          "output_type": "stream",
          "name": "stdout",
          "text": [
            "Epoch 0: Loss 1069.5511\n",
            "Epoch 1: Loss 1062.0649\n",
            "Epoch 2: Loss 1055.0505\n",
            "Epoch 3: Loss 1048.4460\n",
            "Epoch 4: Loss 1042.1984\n",
            "Epoch 5: Loss 1036.2615\n",
            "---\n",
            "Epoch 100: Loss 704.4550\n",
            "---\n",
            "Epoch 1000: Loss 32.3720\n",
            "---\n",
            "Epoch 2000: Loss 13.9053\n",
            "---\n",
            "Epoch 3000: Loss 13.5684\n",
            "---\n",
            "Epoch 4000: Loss 13.5623\n",
            "---\n"
          ]
        },
        {
          "output_type": "execute_result",
          "data": {
            "text/plain": [
              "(tensor(1.8427), tensor(32.1093))"
            ]
          },
          "metadata": {},
          "execution_count": 30
        }
      ]
    },
    {
      "cell_type": "code",
      "source": [
        "pred = ds_linear_model(x, w_n, b_n)\n",
        "\n",
        "plt.plot(x, pred, x, y_ideal, x, y)"
      ],
      "metadata": {
        "colab": {
          "base_uri": "https://localhost:8080/",
          "height": 484
        },
        "id": "Q29Kh-CD7qwt",
        "outputId": "dcdcc255-c619-46e9-b29d-28221982ff4f"
      },
      "execution_count": 31,
      "outputs": [
        {
          "output_type": "execute_result",
          "data": {
            "text/plain": [
              "[<matplotlib.lines.Line2D at 0x79b687a48b50>,\n",
              " <matplotlib.lines.Line2D at 0x79b687a48d00>,\n",
              " <matplotlib.lines.Line2D at 0x79b687a48df0>]"
            ]
          },
          "metadata": {},
          "execution_count": 31
        },
        {
          "output_type": "display_data",
          "data": {
            "text/plain": [
              "<Figure size 640x480 with 1 Axes>"
            ],
            "image/png": "[encoded data removed]"
          },
          "metadata": {}
        }
      ]
    }
  ]
}