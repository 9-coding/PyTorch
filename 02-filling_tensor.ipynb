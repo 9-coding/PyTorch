{
  "nbformat": 4,
  "nbformat_minor": 0,
  "metadata": {
    "colab": {
      "provenance": [],
      "authorship_tag": "ABX9TyNHVzYlBMqU2umCwjV+Wtm5",
      "include_colab_link": true
    },
    "kernelspec": {
      "name": "python3",
      "display_name": "Python 3"
    },
    "language_info": {
      "name": "python"
    }
  },
  "cells": [
    {
      "cell_type": "markdown",
      "metadata": {
        "id": "view-in-github",
        "colab_type": "text"
      },
      "source": [
        "<a href=\"https://colab.research.google.com/github/9-coding/PyTorch/blob/main/02-filling_tensor.ipynb\" target=\"_parent\"><img src=\"https://colab.research.google.com/assets/colab-badge.svg\" alt=\"Open In Colab\"/></a>"
      ]
    },
    {
      "cell_type": "markdown",
      "source": [
        "# Tensor에 값 채우기"
      ],
      "metadata": {
        "id": "hH3udAdiCoYy"
      }
    },
    {
      "cell_type": "code",
      "execution_count": 1,
      "metadata": {
        "id": "J57UJBP8ClBk"
      },
      "outputs": [],
      "source": [
        "import numpy as np\n",
        "import torch\n",
        "import tensorflow as tf"
      ]
    },
    {
      "cell_type": "code",
      "source": [
        "for c in [np, torch, tf]:\n",
        "  print(c.__name__, c.__version__)"
      ],
      "metadata": {
        "colab": {
          "base_uri": "https://localhost:8080/"
        },
        "id": "_yaM7H7LCoD1",
        "outputId": "9d3a7da7-56be-4122-91cc-2f2d86cb4e08"
      },
      "execution_count": 2,
      "outputs": [
        {
          "output_type": "stream",
          "name": "stdout",
          "text": [
            "numpy 1.25.2\n",
            "torch 2.2.1+cu121\n",
            "tensorflow 2.15.0\n"
          ]
        }
      ]
    },
    {
      "cell_type": "markdown",
      "source": [
        "## zeros\n",
        "- 행렬을 0으로 채움"
      ],
      "metadata": {
        "id": "h9MEn90RC4n7"
      }
    },
    {
      "cell_type": "code",
      "source": [
        "# numpy\n",
        "a = np.zeros((3,2))\n",
        "print(a.dtype)\n",
        "print(a, end=\"\\n\\n\")\n",
        "\n",
        "# pytorch\n",
        "a_torch = torch.zeros((3,2))\n",
        "print(a_torch.dtype)\n",
        "print(a_torch, end=\"\\n\\n\")\n",
        "\n",
        "a_tf = tf.zeros(shape=(3,2))\n",
        "print(a_tf.dtype)\n",
        "print(a_tf)"
      ],
      "metadata": {
        "colab": {
          "base_uri": "https://localhost:8080/"
        },
        "id": "0nJC-7GsC7qo",
        "outputId": "170a8e5a-c4f3-4c1c-865c-d8a13b60ede0"
      },
      "execution_count": 4,
      "outputs": [
        {
          "output_type": "stream",
          "name": "stdout",
          "text": [
            "float64\n",
            "[[0. 0.]\n",
            " [0. 0.]\n",
            " [0. 0.]]\n",
            "\n",
            "torch.float32\n",
            "tensor([[0., 0.],\n",
            "        [0., 0.],\n",
            "        [0., 0.]])\n",
            "\n",
            "<dtype: 'float32'>\n",
            "tf.Tensor(\n",
            "[[0. 0.]\n",
            " [0. 0.]\n",
            " [0. 0.]], shape=(3, 2), dtype=float32)\n"
          ]
        }
      ]
    },
    {
      "cell_type": "markdown",
      "source": [
        "## ones\n",
        "- 행렬을 1으로 채움"
      ],
      "metadata": {
        "id": "FlVG854JDRQf"
      }
    },
    {
      "cell_type": "code",
      "source": [
        "# numpy\n",
        "a = np.ones((3,2))\n",
        "print(a.dtype)\n",
        "print(a, end=\"\\n\\n\")\n",
        "\n",
        "# pytorch\n",
        "a_torch = torch.ones((3,2))\n",
        "print(a_torch.dtype)\n",
        "print(a_torch, end=\"\\n\\n\")\n",
        "\n",
        "# tensorflow\n",
        "a_tf = tf.ones(shape=(3,2))\n",
        "print(a_tf.dtype)\n",
        "print(a_tf)"
      ],
      "metadata": {
        "colab": {
          "base_uri": "https://localhost:8080/"
        },
        "id": "26vd3yyPDTIL",
        "outputId": "c0a64199-4fb0-47ff-e5e4-6442c473bc1a"
      },
      "execution_count": 5,
      "outputs": [
        {
          "output_type": "stream",
          "name": "stdout",
          "text": [
            "float64\n",
            "[[1. 1.]\n",
            " [1. 1.]\n",
            " [1. 1.]]\n",
            "\n",
            "torch.float32\n",
            "tensor([[1., 1.],\n",
            "        [1., 1.],\n",
            "        [1., 1.]])\n",
            "\n",
            "<dtype: 'float32'>\n",
            "tf.Tensor(\n",
            "[[1. 1.]\n",
            " [1. 1.]\n",
            " [1. 1.]], shape=(3, 2), dtype=float32)\n"
          ]
        }
      ]
    },
    {
      "cell_type": "markdown",
      "source": [
        "## full / fill\n",
        "- 행렬을 특정 값으로 가득 채움"
      ],
      "metadata": {
        "id": "ZX9GOrcBDZPf"
      }
    },
    {
      "cell_type": "code",
      "source": [
        "# numpy\n",
        "a_np = np.full((1,3),255)\n",
        "print(a_np.dtype)\n",
        "print(a_np, end=\"\\n\\n\")\n",
        "\n",
        "# torch\n",
        "a_torch = torch.full((1,3),255)\n",
        "print(a_torch.dtype)\n",
        "print(a_torch, end=\"\\n\\n\")\n",
        "\n",
        "# tensorflow\n",
        "a_tf = tf.fill((1,3),255)\n",
        "print(a_tf.dtype)\n",
        "print(a_tf)"
      ],
      "metadata": {
        "colab": {
          "base_uri": "https://localhost:8080/"
        },
        "id": "1kvqhrwODcyX",
        "outputId": "537d14ab-d41a-4265-88f4-f3c2d1724e1e"
      },
      "execution_count": 8,
      "outputs": [
        {
          "output_type": "stream",
          "name": "stdout",
          "text": [
            "int64\n",
            "[[255 255 255]]\n",
            "\n",
            "torch.int64\n",
            "tensor([[255, 255, 255]])\n",
            "\n",
            "<dtype: 'int32'>\n",
            "tf.Tensor([[255 255 255]], shape=(1, 3), dtype=int32)\n"
          ]
        }
      ]
    },
    {
      "cell_type": "markdown",
      "source": [
        "## 원하는 값으로 행렬 채우기\n",
        "- arange: 시작과 끝값을 설정하고 특정 값이 계속 더해지는 1차원 벡터 생성\n",
        "- linspace: 시작과 끝값을 설정하고 특정 값으로 등분하는 1차원 벡터 샐성\n",
        "- empty: 빈 값으로 행렬 생성\n",
        "- eye: identity matrix 생성\n",
        "\n"
      ],
      "metadata": {
        "id": "6G5F4UCSDzoK"
      }
    },
    {
      "cell_type": "markdown",
      "source": [
        "### arange"
      ],
      "metadata": {
        "id": "V7WnsqgdEypd"
      }
    },
    {
      "cell_type": "code",
      "source": [
        "print(range(0,10,1))\n",
        "print(np.arange(0, 1, 0.1))\n",
        "a = np.arange(0,24,2).reshape(3,4)\n",
        "print(a.dtype)\n",
        "print(a)"
      ],
      "metadata": {
        "colab": {
          "base_uri": "https://localhost:8080/"
        },
        "id": "xO__9EMBD3kX",
        "outputId": "9fc02b13-694d-4c22-edd2-55de6f88e66b"
      },
      "execution_count": 9,
      "outputs": [
        {
          "output_type": "stream",
          "name": "stdout",
          "text": [
            "range(0, 10)\n",
            "[0.  0.1 0.2 0.3 0.4 0.5 0.6 0.7 0.8 0.9]\n",
            "int64\n",
            "[[ 0  2  4  6]\n",
            " [ 8 10 12 14]\n",
            " [16 18 20 22]]\n"
          ]
        }
      ]
    },
    {
      "cell_type": "markdown",
      "source": [
        "### linspace"
      ],
      "metadata": {
        "id": "2jwAzvRKEcL_"
      }
    },
    {
      "cell_type": "code",
      "source": [
        "# numpy\n",
        "a = np.linspace(1,5,6) # (시작, 끝, 등분)\n",
        "print(a.dtype)\n",
        "print(a, end='\\n\\n')\n",
        "\n",
        "# pytorch\n",
        "a_torch = torch.linspace(1,5,6)\n",
        "print(a_torch.dtype)\n",
        "print(a_torch, end='\\n\\n')\n",
        "\n",
        "# tensorflow\n",
        "a_tf = tf.linspace(1,5,6) # float32가 아닌 float64임을 주의.\n",
        "print(a_tf.dtype)\n",
        "b_tf = tf.dtypes.cast(a_tf, tf.float32) # 바꿔서 casting해주는 것이 좋음.\n",
        "print(b_tf.dtype)\n",
        "print(b_tf)"
      ],
      "metadata": {
        "colab": {
          "base_uri": "https://localhost:8080/"
        },
        "id": "cu0fUnp8Eb2t",
        "outputId": "55d1a2ab-1961-448e-edc5-dbb245a5e2af"
      },
      "execution_count": 12,
      "outputs": [
        {
          "output_type": "stream",
          "name": "stdout",
          "text": [
            "float64\n",
            "[1.  1.8 2.6 3.4 4.2 5. ]\n",
            "\n",
            "torch.float32\n",
            "tensor([1.0000, 1.8000, 2.6000, 3.4000, 4.2000, 5.0000])\n",
            "\n",
            "<dtype: 'float64'>\n",
            "<dtype: 'float32'>\n",
            "tf.Tensor([1.  1.8 2.6 3.4 4.2 5. ], shape=(6,), dtype=float32)\n"
          ]
        }
      ]
    },
    {
      "cell_type": "markdown",
      "source": [
        "### empty / eye"
      ],
      "metadata": {
        "id": "XAQE_tR3EfdV"
      }
    },
    {
      "cell_type": "code",
      "source": [
        "# empty\n",
        "# numpy\n",
        "a = np.empty((4,2)) # 초기화를 안 하기 때문에 빠름.\n",
        "print(a.dtype)\n",
        "print(a, end='\\n\\n')\n",
        "\n",
        "# pytorch\n",
        "a_torch = torch.empty((4,2))\n",
        "print(a_torch.dtype)\n",
        "print(a_torch, end='\\n\\n')\n",
        "\n",
        "# eye\n",
        "a = np.eye(3) # identitiy matrix\n",
        "print(a)"
      ],
      "metadata": {
        "colab": {
          "base_uri": "https://localhost:8080/"
        },
        "id": "KTX87ddTEf39",
        "outputId": "569780ab-0b7a-4603-ae63-d4d0ecc989ce"
      },
      "execution_count": 13,
      "outputs": [
        {
          "output_type": "stream",
          "name": "stdout",
          "text": [
            "float64\n",
            "[[5.06454545e-310 0.00000000e+000]\n",
            " [0.00000000e+000 0.00000000e+000]\n",
            " [0.00000000e+000 0.00000000e+000]\n",
            " [0.00000000e+000 0.00000000e+000]]\n",
            "torch.float32\n",
            "tensor([[-5.9084e+18,  4.4923e-41],\n",
            "        [ 3.8010e-06,  3.3450e-41],\n",
            "        [ 1.6460e+19,  2.9423e+26],\n",
            "        [ 0.0000e+00,  0.0000e+00]])\n",
            "[[1. 0. 0.]\n",
            " [0. 1. 0.]\n",
            " [0. 0. 1.]]\n"
          ]
        }
      ]
    }
  ]
}