{
  "nbformat": 4,
  "nbformat_minor": 0,
  "metadata": {
    "colab": {
      "provenance": [],
      "authorship_tag": "ABX9TyO0lzauLQkFXo39Y5vRve0y",
      "include_colab_link": true
    },
    "kernelspec": {
      "name": "python3",
      "display_name": "Python 3"
    },
    "language_info": {
      "name": "python"
    }
  },
  "cells": [
    {
      "cell_type": "markdown",
      "metadata": {
        "id": "view-in-github",
        "colab_type": "text"
      },
      "source": [
        "<a href=\"https://colab.research.google.com/github/9-coding/PyTorch/blob/main/02-filling_tensor.ipynb\" target=\"_parent\"><img src=\"https://colab.research.google.com/assets/colab-badge.svg\" alt=\"Open In Colab\"/></a>"
      ]
    },
    {
      "cell_type": "markdown",
      "source": [
        "# Tensor에 값 채우기"
      ],
      "metadata": {
        "id": "hH3udAdiCoYy"
      }
    },
    {
      "cell_type": "code",
      "execution_count": 2,
      "metadata": {
        "id": "J57UJBP8ClBk"
      },
      "outputs": [],
      "source": [
        "import numpy as np\n",
        "import torch\n",
        "import tensorflow as tf"
      ]
    },
    {
      "cell_type": "code",
      "source": [
        "for c in [np, torch, tf]:\n",
        "  print(c.__name__, c.__version__)"
      ],
      "metadata": {
        "colab": {
          "base_uri": "https://localhost:8080/"
        },
        "id": "_yaM7H7LCoD1",
        "outputId": "613737c4-6bd6-4010-bd2d-ef0c3150aad4"
      },
      "execution_count": 3,
      "outputs": [
        {
          "output_type": "stream",
          "name": "stdout",
          "text": [
            "numpy 1.25.2\n",
            "torch 2.2.1+cu121\n",
            "tensorflow 2.15.0\n"
          ]
        }
      ]
    },
    {
      "cell_type": "markdown",
      "source": [
        "- `zeros()`\n",
        "- `ones()`\n",
        "- `full() / fill()`\n",
        "- `arange()`\n",
        "- `linspace()`\n",
        "- `empty()`\n",
        "- `eye()`"
      ],
      "metadata": {
        "id": "yogUCNZb7htU"
      }
    },
    {
      "cell_type": "markdown",
      "source": [
        "## zeros\n",
        "- 행렬을 0으로 채움"
      ],
      "metadata": {
        "id": "h9MEn90RC4n7"
      }
    },
    {
      "cell_type": "code",
      "source": [
        "# numpy\n",
        "a = np.zeros((3,2))\n",
        "print(a.dtype)\n",
        "print(a, end=\"\\n\\n\")\n",
        "\n",
        "# pytorch\n",
        "a_torch = torch.zeros((3,2))\n",
        "print(a_torch.dtype)\n",
        "print(a_torch, end=\"\\n\\n\")\n",
        "\n",
        "# tensorflow\n",
        "a_tf = tf.zeros(shape=(3,2))\n",
        "print(a_tf.dtype)\n",
        "print(a_tf)"
      ],
      "metadata": {
        "colab": {
          "base_uri": "https://localhost:8080/"
        },
        "id": "0nJC-7GsC7qo",
        "outputId": "3753cad3-9442-4639-dffe-d0a9cd38dc16"
      },
      "execution_count": 4,
      "outputs": [
        {
          "output_type": "stream",
          "name": "stdout",
          "text": [
            "float64\n",
            "[[0. 0.]\n",
            " [0. 0.]\n",
            " [0. 0.]]\n",
            "\n",
            "torch.float32\n",
            "tensor([[0., 0.],\n",
            "        [0., 0.],\n",
            "        [0., 0.]])\n",
            "\n",
            "<dtype: 'float32'>\n",
            "tf.Tensor(\n",
            "[[0. 0.]\n",
            " [0. 0.]\n",
            " [0. 0.]], shape=(3, 2), dtype=float32)\n"
          ]
        }
      ]
    },
    {
      "cell_type": "markdown",
      "source": [
        "## ones\n",
        "- 행렬을 1으로 채움"
      ],
      "metadata": {
        "id": "FlVG854JDRQf"
      }
    },
    {
      "cell_type": "code",
      "source": [
        "# numpy\n",
        "a = np.ones((3,2))\n",
        "print(a.dtype)\n",
        "print(a, end=\"\\n\\n\")\n",
        "\n",
        "# pytorch\n",
        "a_torch = torch.ones((3,2))\n",
        "print(a_torch.dtype)\n",
        "print(a_torch, end=\"\\n\\n\")\n",
        "\n",
        "# tensorflow\n",
        "a_tf = tf.ones(shape=(3,2))\n",
        "print(a_tf.dtype)\n",
        "print(a_tf)"
      ],
      "metadata": {
        "colab": {
          "base_uri": "https://localhost:8080/"
        },
        "id": "26vd3yyPDTIL",
        "outputId": "8b011f05-c08c-4152-a73b-891027ba4d22"
      },
      "execution_count": 5,
      "outputs": [
        {
          "output_type": "stream",
          "name": "stdout",
          "text": [
            "float64\n",
            "[[1. 1.]\n",
            " [1. 1.]\n",
            " [1. 1.]]\n",
            "\n",
            "torch.float32\n",
            "tensor([[1., 1.],\n",
            "        [1., 1.],\n",
            "        [1., 1.]])\n",
            "\n",
            "<dtype: 'float32'>\n",
            "tf.Tensor(\n",
            "[[1. 1.]\n",
            " [1. 1.]\n",
            " [1. 1.]], shape=(3, 2), dtype=float32)\n"
          ]
        }
      ]
    },
    {
      "cell_type": "markdown",
      "source": [
        "## full / fill\n",
        "- 행렬을 특정 값으로 가득 채움\n",
        "- numpy, pytorch는 `full()`, tensorflow는 `fill()`"
      ],
      "metadata": {
        "id": "ZX9GOrcBDZPf"
      }
    },
    {
      "cell_type": "code",
      "source": [
        "# numpy\n",
        "a_np = np.full((1,3),255)\n",
        "print(a_np.dtype)\n",
        "print(a_np, end=\"\\n\\n\")\n",
        "\n",
        "# torch\n",
        "a_torch = torch.full((1,3),255)\n",
        "print(a_torch.dtype)\n",
        "print(a_torch, end=\"\\n\\n\")\n",
        "\n",
        "# tensorflow\n",
        "a_tf = tf.fill((1,3),255)\n",
        "print(a_tf.dtype)\n",
        "print(a_tf)"
      ],
      "metadata": {
        "colab": {
          "base_uri": "https://localhost:8080/"
        },
        "id": "1kvqhrwODcyX",
        "outputId": "8e2501bf-1005-4f48-af00-4cefab1af6a5"
      },
      "execution_count": 6,
      "outputs": [
        {
          "output_type": "stream",
          "name": "stdout",
          "text": [
            "int64\n",
            "[[255 255 255]]\n",
            "\n",
            "torch.int64\n",
            "tensor([[255, 255, 255]])\n",
            "\n",
            "<dtype: 'int32'>\n",
            "tf.Tensor([[255 255 255]], shape=(1, 3), dtype=int32)\n"
          ]
        }
      ]
    },
    {
      "cell_type": "markdown",
      "source": [
        "## 원하는 값으로 행렬 채우기\n",
        "- arange: 시작과 끝값을 설정하고 특정 값이 계속 더해지는 1차원 벡터 생성\n",
        "- linspace: 시작과 끝값을 설정하고 특정 값으로 등분하는 1차원 벡터 생성\n",
        "- empty: 빈 값으로 행렬 생성\n",
        "- eye: identity matrix 생성\n",
        "\n"
      ],
      "metadata": {
        "id": "6G5F4UCSDzoK"
      }
    },
    {
      "cell_type": "markdown",
      "source": [
        "### arange\n",
        "끝값을 포함하지 않고 특정 값 더해 벡터 생성<br>\n",
        "`arange(start, finish, add_val)`<br>\n",
        "범위: [start, finish)\n",
        "- tensorflow는 `arange()` 대신 `range()` 사용"
      ],
      "metadata": {
        "id": "V7WnsqgdEypd"
      }
    },
    {
      "cell_type": "code",
      "source": [
        "print(range(0,10,1))\n",
        "\n",
        "# numpy\n",
        "print(np.arange(0, 1, 0.1))\n",
        "a = np.arange(0,24,2).reshape(3,4)\n",
        "print(a)\n",
        "\n",
        "# torch\n",
        "print(torch.arange(0, 10, 1))\n",
        "\n",
        "# tensorflow\n",
        "print(tf.range(0, 10, 1))"
      ],
      "metadata": {
        "colab": {
          "base_uri": "https://localhost:8080/"
        },
        "id": "xO__9EMBD3kX",
        "outputId": "eda935c2-fa21-4531-9d79-7fdd9696e187"
      },
      "execution_count": 8,
      "outputs": [
        {
          "output_type": "stream",
          "name": "stdout",
          "text": [
            "range(0, 10)\n",
            "[0.  0.1 0.2 0.3 0.4 0.5 0.6 0.7 0.8 0.9]\n",
            "[[ 0  2  4  6]\n",
            " [ 8 10 12 14]\n",
            " [16 18 20 22]]\n",
            "tensor([0, 1, 2, 3, 4, 5, 6, 7, 8, 9])\n",
            "tf.Tensor([0 1 2 3 4 5 6 7 8 9], shape=(10,), dtype=int32)\n"
          ]
        }
      ]
    },
    {
      "cell_type": "markdown",
      "source": [
        "### linspace\n",
        "끝값을 포함하여 벡터에 포함될 값의 개수를 지정해 등분하여 벡터 생성<br>\n",
        "`arange(start, finish, num_val)`<br>\n",
        "범위: [start, finish]\n",
        "\n"
      ],
      "metadata": {
        "id": "2jwAzvRKEcL_"
      }
    },
    {
      "cell_type": "code",
      "source": [
        "# numpy\n",
        "a = np.linspace(1,5,6) # (시작, 끝, 등분)\n",
        "print(a.dtype)\n",
        "print(a, end='\\n\\n')\n",
        "\n",
        "# pytorch\n",
        "a_torch = torch.linspace(1,5,6)\n",
        "print(a_torch.dtype)\n",
        "print(a_torch, end='\\n\\n')\n",
        "\n",
        "# tensorflow\n",
        "a_tf = tf.linspace(1,5,6) # float32가 아닌 float64임을 주의.\n",
        "print(a_tf.dtype)\n",
        "b_tf = tf.dtypes.cast(a_tf, tf.float32) # 바꿔서 casting해주는 것이 좋음.\n",
        "print(b_tf.dtype)\n",
        "print(b_tf)"
      ],
      "metadata": {
        "colab": {
          "base_uri": "https://localhost:8080/"
        },
        "id": "cu0fUnp8Eb2t",
        "outputId": "dc075b25-d813-46fd-849f-62249cc081a4"
      },
      "execution_count": 9,
      "outputs": [
        {
          "output_type": "stream",
          "name": "stdout",
          "text": [
            "float64\n",
            "[1.  1.8 2.6 3.4 4.2 5. ]\n",
            "\n",
            "torch.float32\n",
            "tensor([1.0000, 1.8000, 2.6000, 3.4000, 4.2000, 5.0000])\n",
            "\n",
            "<dtype: 'float64'>\n",
            "<dtype: 'float32'>\n",
            "tf.Tensor([1.  1.8 2.6 3.4 4.2 5. ], shape=(6,), dtype=float32)\n"
          ]
        }
      ]
    },
    {
      "cell_type": "markdown",
      "source": [
        "### empty\n",
        "크기를 지정하여 빈 텐서 생성.\n",
        "- 초기화를 하지 않기 때문에 속도가 빠름.\n",
        "- tensorflow `tf.empty()` 지원 안 함.\n",
        "- `tf.experimental.numpy.empty((4,2))`로 사용"
      ],
      "metadata": {
        "id": "XAQE_tR3EfdV"
      }
    },
    {
      "cell_type": "code",
      "source": [
        "# empty\n",
        "# numpy\n",
        "a = np.empty((4,2))\n",
        "print(a.dtype)\n",
        "print(a, end='\\n\\n')\n",
        "\n",
        "# pytorch\n",
        "a_torch = torch.empty((4,2))\n",
        "print(a_torch.dtype)\n",
        "print(a_torch, end='\\n\\n')\n",
        "\n",
        "# tensorflow\n",
        "# a_tf = tf.empty((4,2)) 지원 안 함\n",
        "a_tf = tf.experimental.numpy.empty((4,2))\n",
        "print(a_tf)"
      ],
      "metadata": {
        "colab": {
          "base_uri": "https://localhost:8080/"
        },
        "id": "KTX87ddTEf39",
        "outputId": "4a542bf5-2fbc-4b2f-aa03-80a471691679"
      },
      "execution_count": 14,
      "outputs": [
        {
          "output_type": "stream",
          "name": "stdout",
          "text": [
            "float64\n",
            "[[0. 0.]\n",
            " [0. 0.]\n",
            " [0. 0.]\n",
            " [0. 0.]]\n",
            "\n",
            "torch.float32\n",
            "tensor([[ 4.6581e-32,  4.4183e-41],\n",
            "        [-1.4129e+36,  3.1028e-41],\n",
            "        [ 4.4842e-44,  0.0000e+00],\n",
            "        [ 6.7262e-44,  0.0000e+00]])\n",
            "\n",
            "tf.Tensor(\n",
            "[[0. 0.]\n",
            " [0. 0.]\n",
            " [0. 0.]\n",
            " [0. 0.]], shape=(4, 2), dtype=float64)\n"
          ]
        }
      ]
    },
    {
      "cell_type": "markdown",
      "source": [
        "### eye\n",
        "대칭행렬 생성.\n",
        "row와 col의 사이즈가 같은 행렬이기 때문에, 크기 하나만 인수로 받음."
      ],
      "metadata": {
        "id": "kXO6DdQz8PTk"
      }
    },
    {
      "cell_type": "code",
      "source": [
        "# eye\n",
        "# numpy\n",
        "a = np.eye(3) # identitiy matrix\n",
        "print(a)\n",
        "\n",
        "# torch\n",
        "a_t = torch.eye(3)\n",
        "print(a_t)\n",
        "\n",
        "# tensorflow\n",
        "a_tf = tf.eye(3)\n",
        "print(a_tf)"
      ],
      "metadata": {
        "colab": {
          "base_uri": "https://localhost:8080/"
        },
        "id": "wHAsnHPw8Pmd",
        "outputId": "04cf85e6-a93e-45f3-ae43-dafa8f618916"
      },
      "execution_count": 16,
      "outputs": [
        {
          "output_type": "stream",
          "name": "stdout",
          "text": [
            "[[1. 0. 0.]\n",
            " [0. 1. 0.]\n",
            " [0. 0. 1.]]\n",
            "tensor([[1., 0., 0.],\n",
            "        [0., 1., 0.],\n",
            "        [0., 0., 1.]])\n",
            "tf.Tensor(\n",
            "[[1. 0. 0.]\n",
            " [0. 1. 0.]\n",
            " [0. 0. 1.]], shape=(3, 3), dtype=float32)\n"
          ]
        }
      ]
    }
  ]
}