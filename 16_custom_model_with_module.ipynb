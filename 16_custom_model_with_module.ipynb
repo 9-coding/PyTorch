{
  "nbformat": 4,
  "nbformat_minor": 0,
  "metadata": {
    "colab": {
      "provenance": [],
      "authorship_tag": "ABX9TyOJLrytblQESUHAT2GI8TZV",
      "include_colab_link": true
    },
    "kernelspec": {
      "name": "python3",
      "display_name": "Python 3"
    },
    "language_info": {
      "name": "python"
    }
  },
  "cells": [
    {
      "cell_type": "markdown",
      "metadata": {
        "id": "view-in-github",
        "colab_type": "text"
      },
      "source": [
        "<a href=\"https://colab.research.google.com/github/9-coding/PyTorch/blob/main/16_custom_model_with_module.ipynb\" target=\"_parent\"><img src=\"https://colab.research.google.com/assets/colab-badge.svg\" alt=\"Open In Colab\"/></a>"
      ]
    },
    {
      "cell_type": "code",
      "execution_count": 162,
      "metadata": {
        "id": "QRVdeyLdoAgx"
      },
      "outputs": [],
      "source": [
        "import torch\n",
        "import numpy as np"
      ]
    },
    {
      "cell_type": "code",
      "source": [
        "for c in [torch, np]:\n",
        "  print(c.__version__)"
      ],
      "metadata": {
        "colab": {
          "base_uri": "https://localhost:8080/"
        },
        "id": "jq3pcIW9pCpI",
        "outputId": "3aa77a0b-24dd-442d-f239-8fe9eeeaad40"
      },
      "execution_count": 163,
      "outputs": [
        {
          "output_type": "stream",
          "name": "stdout",
          "text": [
            "2.2.1+cu121\n",
            "1.25.2\n"
          ]
        }
      ]
    },
    {
      "cell_type": "code",
      "source": [
        "!pip install --quiet torchvision\n",
        "!pip install --quiet torchsummary"
      ],
      "metadata": {
        "id": "PPqnE4q3pe1M"
      },
      "execution_count": 164,
      "outputs": []
    },
    {
      "cell_type": "code",
      "source": [
        "from torch.nn import Module, init, Linear, Parameter, MSELoss, ReLU\n",
        "from torch import optim\n",
        "import matplotlib.pyplot as plt\n",
        "import torchvision\n",
        "import torchsummary"
      ],
      "metadata": {
        "id": "M3Pzd3R3ppkJ"
      },
      "execution_count": 165,
      "outputs": []
    },
    {
      "cell_type": "markdown",
      "source": [
        "# Data 생성부\n",
        "- input\n",
        "- output: x (tensor), y (tensor) = y_ideal + noise"
      ],
      "metadata": {
        "id": "nzyqW1cuHJuT"
      }
    },
    {
      "cell_type": "code",
      "source": [
        "def gen_xy():\n",
        "  x = np.linspace(-10, 10, 100)\n",
        "  y_ideal = 1.8 * x + 32.\n",
        "  y = y_ideal + 8. * np.random.randn((100))\n",
        "\n",
        "  return x, y, y_ideal"
      ],
      "metadata": {
        "id": "1AZL2oqQqpYw"
      },
      "execution_count": 195,
      "outputs": []
    },
    {
      "cell_type": "code",
      "source": [
        "x, y, y_ideal = gen_xy()\n",
        "\n",
        "plt.plot(x, y_ideal)\n",
        "plt.scatter(x, y)"
      ],
      "metadata": {
        "colab": {
          "base_uri": "https://localhost:8080/",
          "height": 447
        },
        "id": "EY8cog9CMKAp",
        "outputId": "d2c93c72-6641-4c71-8231-ed2fd5294bd7"
      },
      "execution_count": 196,
      "outputs": [
        {
          "output_type": "execute_result",
          "data": {
            "text/plain": [
              "<matplotlib.collections.PathCollection at 0x7e708c68dcc0>"
            ]
          },
          "metadata": {},
          "execution_count": 196
        },
        {
          "output_type": "display_data",
          "data": {
            "text/plain": [
              "<Figure size 640x480 with 1 Axes>"
            ],
            "image/png": "[encoded data removed]"
          },
          "metadata": {}
        }
      ]
    },
    {
      "cell_type": "markdown",
      "source": [
        "### tensor로 변환 (+shape)"
      ],
      "metadata": {
        "id": "h9OEo45jMTeC"
      }
    },
    {
      "cell_type": "code",
      "source": [
        "x = torch.tensor(x).float()\n",
        "y = torch.tensor(y).float()\n",
        "x = x.reshape(-1,1)\n",
        "y = y.reshape(-1,1)\n",
        "\n",
        "print(x.shape, type(x))\n",
        "print(y.shape, type(y))"
      ],
      "metadata": {
        "colab": {
          "base_uri": "https://localhost:8080/"
        },
        "id": "83Oug_y0rcy9",
        "outputId": "250b0c31-09c5-4799-c279-2b58becf8222"
      },
      "execution_count": 197,
      "outputs": [
        {
          "output_type": "stream",
          "name": "stdout",
          "text": [
            "torch.Size([100, 1]) <class 'torch.Tensor'>\n",
            "torch.Size([100, 1]) <class 'torch.Tensor'>\n"
          ]
        }
      ]
    },
    {
      "cell_type": "markdown",
      "source": [
        "# Model"
      ],
      "metadata": {
        "id": "DYvBAqnXImT7"
      }
    },
    {
      "cell_type": "code",
      "source": [
        "class DsANN(Module):\n",
        "  def __init__(self,\n",
        "               n_in_f, # input vector의 차원 수\n",
        "               n_out_f # output vector의 차원 수\n",
        "               ):\n",
        "    super().__init__()\n",
        "\n",
        "    self.l0 = Linear(n_in_f, 32)\n",
        "    self.relu0 = ReLU()\n",
        "    self.l1 = Linear(32, 32)\n",
        "    self.relu1 = ReLU()\n",
        "    self.l2 = Linear(32, n_out_f)\n",
        "\n",
        "    with torch.no_grad():\n",
        "      init.constant_(self.l0.bias, 0.)\n",
        "      init.xavier_uniform(self.l0.weight)\n",
        "\n",
        "  def forward(self, x):\n",
        "    x = self.l0(x)\n",
        "    x = self.relu0(x)\n",
        "    x = self.l1(x)\n",
        "    x = self.relu1(x)\n",
        "    y = self.l2(x)\n",
        "    return y"
      ],
      "metadata": {
        "id": "p8Zt1GwfrrwW"
      },
      "execution_count": 198,
      "outputs": []
    },
    {
      "cell_type": "markdown",
      "source": [
        "## torch.nn.init 모듈\n",
        "ANN을 구현할 때, 각 layer의 weight 와 bias를 초기화하는 방법을 제공함.\n",
        "\n",
        "- 초기화는 ANN의 수렴 속도 및 학습 안정화에 매우 큰 영향을 줌.\n",
        "- torch.nn.init는 일반적으로 사용되는 다양한 초기화 방법들이 구현되어 있음.\n",
        "\n",
        "### `.uniform_(tensor, a=0., b=1.)`\n",
        "- 지정된 parameters를 uniform distance로 초기화\n",
        "- a와 b는 값의 범위를 지정하는데 사용됨: [a,b)\n",
        "\n",
        "### `.normal_(tensor, mean=0., std=1.)`\n",
        "- normal distribution으로 초기화.\n",
        "\n",
        "### `.constant_(tensor, val=0.)`\n",
        "- val 에 지정된 상수값으로 초기화.\n",
        "\n",
        "### `.ones_() and .zeros_()`\n",
        "- 0과 1로 초기화."
      ],
      "metadata": {
        "id": "yi610nmc4PZY"
      }
    },
    {
      "cell_type": "code",
      "source": [
        "model = DsLinearModel(1,1)\n",
        "\n",
        "for idx, c in enumerate(model.named_parameters()):\n",
        "  print(idx, c)\n",
        "print()\n",
        "\n",
        "for idx, c in enumerate(model.parameters()):\n",
        "  print(idx, c)"
      ],
      "metadata": {
        "colab": {
          "base_uri": "https://localhost:8080/"
        },
        "id": "U5npqM3hvBXV",
        "outputId": "0bd2cab6-7d22-4582-f70f-f3e25e29a87a"
      },
      "execution_count": 185,
      "outputs": [
        {
          "output_type": "stream",
          "name": "stdout",
          "text": [
            "0 ('l0.weight', Parameter containing:\n",
            "tensor([[-0.4062],\n",
            "        [ 0.2838],\n",
            "        [-0.2797],\n",
            "        [-0.2363],\n",
            "        [-0.1084],\n",
            "        [ 0.2156],\n",
            "        [ 0.2793],\n",
            "        [-0.0907],\n",
            "        [-0.2038],\n",
            "        [-0.4196],\n",
            "        [ 0.3934],\n",
            "        [-0.3782],\n",
            "        [ 0.3097],\n",
            "        [ 0.0423],\n",
            "        [ 0.3088],\n",
            "        [-0.2585],\n",
            "        [-0.0122],\n",
            "        [-0.3665],\n",
            "        [-0.2613],\n",
            "        [ 0.2641],\n",
            "        [-0.0624],\n",
            "        [ 0.1837],\n",
            "        [-0.2333],\n",
            "        [ 0.2912],\n",
            "        [-0.2721],\n",
            "        [ 0.3893],\n",
            "        [ 0.4056],\n",
            "        [-0.3445],\n",
            "        [ 0.3728],\n",
            "        [-0.2528],\n",
            "        [ 0.4010],\n",
            "        [-0.4179]], requires_grad=True))\n",
            "1 ('l0.bias', Parameter containing:\n",
            "tensor([0., 0., 0., 0., 0., 0., 0., 0., 0., 0., 0., 0., 0., 0., 0., 0., 0., 0., 0., 0., 0., 0., 0., 0.,\n",
            "        0., 0., 0., 0., 0., 0., 0., 0.], requires_grad=True))\n",
            "2 ('l1.weight', Parameter containing:\n",
            "tensor([[ 0.1593,  0.0999,  0.1311,  ..., -0.1550, -0.0476,  0.0380],\n",
            "        [-0.0688,  0.0267, -0.0765,  ..., -0.1545,  0.0656,  0.0796],\n",
            "        [-0.0469, -0.1654, -0.0184,  ...,  0.0185,  0.0455,  0.0507],\n",
            "        ...,\n",
            "        [-0.0401,  0.0575,  0.0108,  ..., -0.0229, -0.1582,  0.1232],\n",
            "        [ 0.0070, -0.1076,  0.1655,  ...,  0.0905, -0.0308,  0.1577],\n",
            "        [-0.0005, -0.1182, -0.0929,  ...,  0.0615,  0.0016,  0.1127]],\n",
            "       requires_grad=True))\n",
            "3 ('l1.bias', Parameter containing:\n",
            "tensor([ 0.0893,  0.1621, -0.1081, -0.1630, -0.1544, -0.0471, -0.0466, -0.0979,\n",
            "         0.1728,  0.0974, -0.1565,  0.1445,  0.1577, -0.0330, -0.1375, -0.1206,\n",
            "        -0.0853,  0.0894, -0.1133, -0.1706, -0.1597,  0.1619, -0.0241, -0.0836,\n",
            "         0.0290, -0.1045,  0.0050, -0.0678, -0.1183,  0.1584, -0.0674,  0.0189],\n",
            "       requires_grad=True))\n",
            "4 ('l2.weight', Parameter containing:\n",
            "tensor([[-0.0488, -0.0099, -0.1355, -0.0565, -0.0023, -0.1209,  0.1343,  0.0143,\n",
            "          0.0517,  0.0368, -0.0652, -0.1635,  0.0826, -0.0209,  0.0627,  0.0373,\n",
            "         -0.0250,  0.1754,  0.0498, -0.1673,  0.0781,  0.1234,  0.1031,  0.1492,\n",
            "         -0.1617,  0.1488, -0.0780,  0.1644,  0.1251,  0.0045,  0.0456,  0.0175]],\n",
            "       requires_grad=True))\n",
            "5 ('l2.bias', Parameter containing:\n",
            "tensor([-0.0305], requires_grad=True))\n",
            "\n",
            "0 Parameter containing:\n",
            "tensor([[-0.4062],\n",
            "        [ 0.2838],\n",
            "        [-0.2797],\n",
            "        [-0.2363],\n",
            "        [-0.1084],\n",
            "        [ 0.2156],\n",
            "        [ 0.2793],\n",
            "        [-0.0907],\n",
            "        [-0.2038],\n",
            "        [-0.4196],\n",
            "        [ 0.3934],\n",
            "        [-0.3782],\n",
            "        [ 0.3097],\n",
            "        [ 0.0423],\n",
            "        [ 0.3088],\n",
            "        [-0.2585],\n",
            "        [-0.0122],\n",
            "        [-0.3665],\n",
            "        [-0.2613],\n",
            "        [ 0.2641],\n",
            "        [-0.0624],\n",
            "        [ 0.1837],\n",
            "        [-0.2333],\n",
            "        [ 0.2912],\n",
            "        [-0.2721],\n",
            "        [ 0.3893],\n",
            "        [ 0.4056],\n",
            "        [-0.3445],\n",
            "        [ 0.3728],\n",
            "        [-0.2528],\n",
            "        [ 0.4010],\n",
            "        [-0.4179]], requires_grad=True)\n",
            "1 Parameter containing:\n",
            "tensor([0., 0., 0., 0., 0., 0., 0., 0., 0., 0., 0., 0., 0., 0., 0., 0., 0., 0., 0., 0., 0., 0., 0., 0.,\n",
            "        0., 0., 0., 0., 0., 0., 0., 0.], requires_grad=True)\n",
            "2 Parameter containing:\n",
            "tensor([[ 0.1593,  0.0999,  0.1311,  ..., -0.1550, -0.0476,  0.0380],\n",
            "        [-0.0688,  0.0267, -0.0765,  ..., -0.1545,  0.0656,  0.0796],\n",
            "        [-0.0469, -0.1654, -0.0184,  ...,  0.0185,  0.0455,  0.0507],\n",
            "        ...,\n",
            "        [-0.0401,  0.0575,  0.0108,  ..., -0.0229, -0.1582,  0.1232],\n",
            "        [ 0.0070, -0.1076,  0.1655,  ...,  0.0905, -0.0308,  0.1577],\n",
            "        [-0.0005, -0.1182, -0.0929,  ...,  0.0615,  0.0016,  0.1127]],\n",
            "       requires_grad=True)\n",
            "3 Parameter containing:\n",
            "tensor([ 0.0893,  0.1621, -0.1081, -0.1630, -0.1544, -0.0471, -0.0466, -0.0979,\n",
            "         0.1728,  0.0974, -0.1565,  0.1445,  0.1577, -0.0330, -0.1375, -0.1206,\n",
            "        -0.0853,  0.0894, -0.1133, -0.1706, -0.1597,  0.1619, -0.0241, -0.0836,\n",
            "         0.0290, -0.1045,  0.0050, -0.0678, -0.1183,  0.1584, -0.0674,  0.0189],\n",
            "       requires_grad=True)\n",
            "4 Parameter containing:\n",
            "tensor([[-0.0488, -0.0099, -0.1355, -0.0565, -0.0023, -0.1209,  0.1343,  0.0143,\n",
            "          0.0517,  0.0368, -0.0652, -0.1635,  0.0826, -0.0209,  0.0627,  0.0373,\n",
            "         -0.0250,  0.1754,  0.0498, -0.1673,  0.0781,  0.1234,  0.1031,  0.1492,\n",
            "         -0.1617,  0.1488, -0.0780,  0.1644,  0.1251,  0.0045,  0.0456,  0.0175]],\n",
            "       requires_grad=True)\n",
            "5 Parameter containing:\n",
            "tensor([-0.0305], requires_grad=True)\n"
          ]
        },
        {
          "output_type": "stream",
          "name": "stderr",
          "text": [
            "<ipython-input-184-c344cfee1d2a>:12: UserWarning: nn.init.xavier_uniform is now deprecated in favor of nn.init.xavier_uniform_.\n",
            "  init.xavier_uniform(self.l0.weight)\n"
          ]
        }
      ]
    },
    {
      "cell_type": "code",
      "source": [
        "for idx, cl in enumerate(model.named_children()): # cl: child layer\n",
        "  print(idx, cl)\n",
        "print()\n",
        "\n",
        "for idx, cl in enumerate(model.children()): # cl: child layer\n",
        "  print(idx, cl)"
      ],
      "metadata": {
        "colab": {
          "base_uri": "https://localhost:8080/"
        },
        "id": "mVAAkUrvvS03",
        "outputId": "4713139f-f1b9-493f-91bc-ba55144efd4f"
      },
      "execution_count": 170,
      "outputs": [
        {
          "output_type": "stream",
          "name": "stdout",
          "text": [
            "0 ('l0', Linear(in_features=1, out_features=32, bias=True))\n",
            "1 ('relu0', ReLU())\n",
            "2 ('l1', Linear(in_features=32, out_features=32, bias=True))\n",
            "3 ('relu1', ReLU())\n",
            "4 ('l2', Linear(in_features=32, out_features=1, bias=True))\n",
            "\n",
            "0 Linear(in_features=1, out_features=32, bias=True)\n",
            "1 ReLU()\n",
            "2 Linear(in_features=32, out_features=32, bias=True)\n",
            "3 ReLU()\n",
            "4 Linear(in_features=32, out_features=1, bias=True)\n"
          ]
        }
      ]
    },
    {
      "cell_type": "code",
      "source": [
        "for idx, modu in enumerate(model.named_modules()):\n",
        "  print(idx, modu)\n",
        "print()\n",
        "\n",
        "for idx, modu in enumerate(model.modules()):\n",
        "  print(idx, modu)"
      ],
      "metadata": {
        "id": "wNpZMag7wpiZ",
        "colab": {
          "base_uri": "https://localhost:8080/"
        },
        "outputId": "918b6dfb-de29-440c-ad60-e2032124a465"
      },
      "execution_count": 171,
      "outputs": [
        {
          "output_type": "stream",
          "name": "stdout",
          "text": [
            "0 ('', DsLinearModel(\n",
            "  (l0): Linear(in_features=1, out_features=32, bias=True)\n",
            "  (relu0): ReLU()\n",
            "  (l1): Linear(in_features=32, out_features=32, bias=True)\n",
            "  (relu1): ReLU()\n",
            "  (l2): Linear(in_features=32, out_features=1, bias=True)\n",
            "))\n",
            "1 ('l0', Linear(in_features=1, out_features=32, bias=True))\n",
            "2 ('relu0', ReLU())\n",
            "3 ('l1', Linear(in_features=32, out_features=32, bias=True))\n",
            "4 ('relu1', ReLU())\n",
            "5 ('l2', Linear(in_features=32, out_features=1, bias=True))\n",
            "\n",
            "0 DsLinearModel(\n",
            "  (l0): Linear(in_features=1, out_features=32, bias=True)\n",
            "  (relu0): ReLU()\n",
            "  (l1): Linear(in_features=32, out_features=32, bias=True)\n",
            "  (relu1): ReLU()\n",
            "  (l2): Linear(in_features=32, out_features=1, bias=True)\n",
            ")\n",
            "1 Linear(in_features=1, out_features=32, bias=True)\n",
            "2 ReLU()\n",
            "3 Linear(in_features=32, out_features=32, bias=True)\n",
            "4 ReLU()\n",
            "5 Linear(in_features=32, out_features=1, bias=True)\n"
          ]
        }
      ]
    },
    {
      "cell_type": "code",
      "source": [
        "pred = model(x)\n",
        "pred"
      ],
      "metadata": {
        "colab": {
          "base_uri": "https://localhost:8080/"
        },
        "id": "3KaD2hn5yHnd",
        "outputId": "53ea1821-faf6-4874-dc8f-85d3e643c73b"
      },
      "execution_count": 186,
      "outputs": [
        {
          "output_type": "execute_result",
          "data": {
            "text/plain": [
              "tensor([[ 5.1302e-01],\n",
              "        [ 5.0126e-01],\n",
              "        [ 4.8950e-01],\n",
              "        [ 4.7774e-01],\n",
              "        [ 4.6598e-01],\n",
              "        [ 4.5422e-01],\n",
              "        [ 4.4246e-01],\n",
              "        [ 4.3070e-01],\n",
              "        [ 4.1893e-01],\n",
              "        [ 4.0717e-01],\n",
              "        [ 3.9541e-01],\n",
              "        [ 3.8365e-01],\n",
              "        [ 3.7189e-01],\n",
              "        [ 3.6013e-01],\n",
              "        [ 3.4837e-01],\n",
              "        [ 3.3661e-01],\n",
              "        [ 3.2485e-01],\n",
              "        [ 3.1308e-01],\n",
              "        [ 3.0137e-01],\n",
              "        [ 2.8989e-01],\n",
              "        [ 2.7841e-01],\n",
              "        [ 2.6693e-01],\n",
              "        [ 2.5545e-01],\n",
              "        [ 2.4397e-01],\n",
              "        [ 2.3249e-01],\n",
              "        [ 2.2102e-01],\n",
              "        [ 2.0954e-01],\n",
              "        [ 1.9806e-01],\n",
              "        [ 1.8658e-01],\n",
              "        [ 1.7510e-01],\n",
              "        [ 1.6362e-01],\n",
              "        [ 1.5214e-01],\n",
              "        [ 1.4066e-01],\n",
              "        [ 1.2918e-01],\n",
              "        [ 1.1770e-01],\n",
              "        [ 1.0623e-01],\n",
              "        [ 9.5091e-02],\n",
              "        [ 8.4103e-02],\n",
              "        [ 7.3114e-02],\n",
              "        [ 6.2126e-02],\n",
              "        [ 5.0988e-02],\n",
              "        [ 3.9157e-02],\n",
              "        [ 2.7581e-02],\n",
              "        [ 1.6615e-02],\n",
              "        [ 8.4185e-03],\n",
              "        [ 1.4182e-03],\n",
              "        [-5.3546e-03],\n",
              "        [-1.0987e-02],\n",
              "        [-1.1677e-02],\n",
              "        [-5.7872e-03],\n",
              "        [-2.4093e-04],\n",
              "        [ 5.0191e-03],\n",
              "        [ 6.0485e-03],\n",
              "        [ 5.4719e-03],\n",
              "        [ 4.8954e-03],\n",
              "        [ 3.9604e-03],\n",
              "        [ 2.7991e-03],\n",
              "        [ 1.5377e-03],\n",
              "        [ 3.4200e-04],\n",
              "        [-8.5365e-04],\n",
              "        [-2.0493e-03],\n",
              "        [-3.2450e-03],\n",
              "        [-4.4406e-03],\n",
              "        [-5.0196e-03],\n",
              "        [-5.3433e-03],\n",
              "        [-6.1885e-03],\n",
              "        [-7.1401e-03],\n",
              "        [-8.0547e-03],\n",
              "        [-8.2596e-03],\n",
              "        [-8.4645e-03],\n",
              "        [-8.6694e-03],\n",
              "        [-8.8743e-03],\n",
              "        [-9.0792e-03],\n",
              "        [-9.2841e-03],\n",
              "        [-9.4890e-03],\n",
              "        [-9.6850e-03],\n",
              "        [-9.8766e-03],\n",
              "        [-1.0068e-02],\n",
              "        [-1.0029e-02],\n",
              "        [-9.6672e-03],\n",
              "        [-9.3052e-03],\n",
              "        [-8.9431e-03],\n",
              "        [-8.5811e-03],\n",
              "        [-8.2191e-03],\n",
              "        [-7.8571e-03],\n",
              "        [-7.4951e-03],\n",
              "        [-7.1331e-03],\n",
              "        [-6.7710e-03],\n",
              "        [-6.4090e-03],\n",
              "        [-6.0470e-03],\n",
              "        [-5.6850e-03],\n",
              "        [-5.3230e-03],\n",
              "        [-4.9609e-03],\n",
              "        [-4.5989e-03],\n",
              "        [-4.2369e-03],\n",
              "        [-3.8749e-03],\n",
              "        [-3.5129e-03],\n",
              "        [-3.1509e-03],\n",
              "        [-2.7888e-03],\n",
              "        [-2.4269e-03]], grad_fn=<AddmmBackward0>)"
            ]
          },
          "metadata": {},
          "execution_count": 186
        }
      ]
    },
    {
      "cell_type": "markdown",
      "source": [
        "# Loss"
      ],
      "metadata": {
        "id": "TDnYj3-gI_9p"
      }
    },
    {
      "cell_type": "code",
      "source": [
        "loss_func = MSELoss()\n",
        "\n",
        "l = loss_func(pred, y)\n",
        "l"
      ],
      "metadata": {
        "colab": {
          "base_uri": "https://localhost:8080/"
        },
        "id": "m_oMh8yv5Ns4",
        "outputId": "d4b4d3df-e16e-4d5f-f4e7-d810de4aaabc"
      },
      "execution_count": 188,
      "outputs": [
        {
          "output_type": "execute_result",
          "data": {
            "text/plain": [
              "tensor(1242.8005, grad_fn=<MseLossBackward0>)"
            ]
          },
          "metadata": {},
          "execution_count": 188
        }
      ]
    },
    {
      "cell_type": "markdown",
      "source": [
        "# Training Loop"
      ],
      "metadata": {
        "id": "7FNVl-ELJC1Y"
      }
    },
    {
      "cell_type": "code",
      "source": [
        "def training_loop(\n",
        "    x, y,\n",
        "    model,\n",
        "    lr,\n",
        "    n_epochs,\n",
        "):\n",
        "\n",
        "  model.train()\n",
        "  # model.eval()\n",
        "\n",
        "  optimizer = optim.SGD(\n",
        "    model.parameters(),\n",
        "    lr = lr,\n",
        "  )\n",
        "\n",
        "  print(n_epochs)\n",
        "\n",
        "\n",
        "  for epoch in range(n_epochs):\n",
        "    pred = model(x)\n",
        "    l = loss_func(pred, y)\n",
        "\n",
        "    if torch.isinf(l).any(): # 무한대로 발산하면\n",
        "      print('Error: diverge!')\n",
        "      break\n",
        "\n",
        "    optimizer.zero_grad()\n",
        "    l.backward()\n",
        "    optimizer.step()\n",
        "\n",
        "    if epoch % 1000 == 0:\n",
        "      print(f'Epoch {epoch}: Loss {float(l):0.4f}')\n",
        "\n",
        "  return model"
      ],
      "metadata": {
        "id": "hS6gfojL6Ln1"
      },
      "execution_count": 187,
      "outputs": []
    },
    {
      "cell_type": "markdown",
      "source": [
        "# Train"
      ],
      "metadata": {
        "id": "hPalmTCNJJIB"
      }
    },
    {
      "cell_type": "code",
      "source": [
        "model = DsLinearModel(1,1)\n",
        "model = training_loop(\n",
        "    x, y,\n",
        "    model,\n",
        "    1e-3,\n",
        "    7000,\n",
        ")"
      ],
      "metadata": {
        "colab": {
          "base_uri": "https://localhost:8080/"
        },
        "id": "s5xNKhbo9ZFR",
        "outputId": "e99b81f0-89b9-4196-cb5b-0d2490d2ec89"
      },
      "execution_count": 191,
      "outputs": [
        {
          "output_type": "stream",
          "name": "stderr",
          "text": [
            "<ipython-input-184-c344cfee1d2a>:12: UserWarning: nn.init.xavier_uniform is now deprecated in favor of nn.init.xavier_uniform_.\n",
            "  init.xavier_uniform(self.l0.weight)\n"
          ]
        },
        {
          "output_type": "stream",
          "name": "stdout",
          "text": [
            "7000\n",
            "Epoch 0: Loss 1250.5737\n",
            "Epoch 1000: Loss 74.8099\n",
            "Epoch 2000: Loss 73.2076\n",
            "Epoch 3000: Loss 73.8614\n",
            "Epoch 4000: Loss 72.3891\n",
            "Epoch 5000: Loss 72.9672\n",
            "Epoch 6000: Loss 70.6479\n"
          ]
        }
      ]
    },
    {
      "cell_type": "markdown",
      "source": [
        "# Evaluation"
      ],
      "metadata": {
        "id": "K1xTup6QJYQv"
      }
    },
    {
      "cell_type": "code",
      "source": [
        "pred = model(x)\n",
        "plt.scatter(x.detach().numpy(),y.detach().numpy())\n",
        "plt.plot(x.detach().numpy(), pred.detach().numpy(), color='r')\n",
        "plt.plot(x.detach().numpy(), y_label, color='g')"
      ],
      "metadata": {
        "colab": {
          "base_uri": "https://localhost:8080/",
          "height": 447
        },
        "id": "KG7L6riT8zpA",
        "outputId": "203c94eb-6628-4d10-9da2-8eb5b0551812"
      },
      "execution_count": 192,
      "outputs": [
        {
          "output_type": "execute_result",
          "data": {
            "text/plain": [
              "[<matplotlib.lines.Line2D at 0x7e708c165840>]"
            ]
          },
          "metadata": {},
          "execution_count": 192
        },
        {
          "output_type": "display_data",
          "data": {
            "text/plain": [
              "<Figure size 640x480 with 1 Axes>"
            ],
            "image/png": "[encoded data removed]"
          },
          "metadata": {}
        }
      ]
    },
    {
      "cell_type": "code",
      "source": [
        "from torchsummary import summary\n",
        "\n",
        "summary(model, (1,))"
      ],
      "metadata": {
        "colab": {
          "base_uri": "https://localhost:8080/"
        },
        "id": "u5RUZP9sFK_1",
        "outputId": "c8f43b25-bd45-4dbf-83cb-09a2155bbd02"
      },
      "execution_count": 193,
      "outputs": [
        {
          "output_type": "stream",
          "name": "stdout",
          "text": [
            "----------------------------------------------------------------\n",
            "        Layer (type)               Output Shape         Param #\n",
            "================================================================\n",
            "            Linear-1                   [-1, 32]              64\n",
            "              ReLU-2                   [-1, 32]               0\n",
            "            Linear-3                   [-1, 32]           1,056\n",
            "              ReLU-4                   [-1, 32]               0\n",
            "            Linear-5                    [-1, 1]              33\n",
            "================================================================\n",
            "Total params: 1,153\n",
            "Trainable params: 1,153\n",
            "Non-trainable params: 0\n",
            "----------------------------------------------------------------\n",
            "Input size (MB): 0.00\n",
            "Forward/backward pass size (MB): 0.00\n",
            "Params size (MB): 0.00\n",
            "Estimated Total Size (MB): 0.01\n",
            "----------------------------------------------------------------\n"
          ]
        }
      ]
    }
  ]
}