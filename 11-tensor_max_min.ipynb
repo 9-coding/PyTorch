{
  "nbformat": 4,
  "nbformat_minor": 0,
  "metadata": {
    "colab": {
      "provenance": [],
      "authorship_tag": "ABX9TyPaRUp0mseE79NxlvzAN1Vv",
      "include_colab_link": true
    },
    "kernelspec": {
      "name": "python3",
      "display_name": "Python 3"
    },
    "language_info": {
      "name": "python"
    }
  },
  "cells": [
    {
      "cell_type": "markdown",
      "metadata": {
        "id": "view-in-github",
        "colab_type": "text"
      },
      "source": [
        "<a href=\"https://colab.research.google.com/github/9-coding/PyTorch/blob/main/11-tensor_max_min.ipynb\" target=\"_parent\"><img src=\"https://colab.research.google.com/assets/colab-badge.svg\" alt=\"Open In Colab\"/></a>"
      ]
    },
    {
      "cell_type": "markdown",
      "source": [
        "# Find maximum and minimum from tensor"
      ],
      "metadata": {
        "id": "lAGFedC0ToBG"
      }
    },
    {
      "cell_type": "code",
      "execution_count": 1,
      "metadata": {
        "id": "7hWn33eBPhhu"
      },
      "outputs": [],
      "source": [
        "import numpy as np\n",
        "import torch\n",
        "import tensorflow as tf"
      ]
    },
    {
      "cell_type": "code",
      "source": [
        "for c in [np,torch,tf]:\n",
        "  print(c.__version__)"
      ],
      "metadata": {
        "colab": {
          "base_uri": "https://localhost:8080/"
        },
        "id": "UcpgFw2PUJzD",
        "outputId": "90900f45-c15c-4239-df9d-841dcbd40486"
      },
      "execution_count": 2,
      "outputs": [
        {
          "output_type": "stream",
          "name": "stdout",
          "text": [
            "1.25.2\n",
            "2.2.1+cu121\n",
            "2.15.0\n"
          ]
        }
      ]
    },
    {
      "cell_type": "code",
      "source": [
        "rng = np.random.default_rng(seed=23)\n",
        "ori = rng.random((3,2)).astype(np.float32)\n",
        "print(ori)\n",
        "\n",
        "a_np = ori.copy()\n",
        "a_torch = torch.tensor(ori)\n",
        "a_tf = tf.Variable(ori)"
      ],
      "metadata": {
        "colab": {
          "base_uri": "https://localhost:8080/"
        },
        "id": "NhQJAVqeWgsh",
        "outputId": "5b892e0c-0f5a-4c45-ac60-3f14703a8ebb"
      },
      "execution_count": 6,
      "outputs": [
        {
          "output_type": "stream",
          "name": "stdout",
          "text": [
            "[[0.69393307 0.6414582 ]\n",
            " [0.12864423 0.11370805]\n",
            " [0.6533455  0.8534571 ]]\n"
          ]
        }
      ]
    },
    {
      "cell_type": "markdown",
      "source": [
        "## NumPy\n",
        "- np.max 와 np.min 함수를 이용하여 최대, 최소인 값을 구함.\n",
        "- 특정 축을 axis parameter로 지정하여 구할 수 있음 (결과는 해당 axis가 1이 됨.)\n",
        "- np.argmax 와 np.argmin 함수를 이용하여 최대, 최소인 값의 index를 반환함."
      ],
      "metadata": {
        "id": "5OFgfu8bTlt7"
      }
    },
    {
      "cell_type": "code",
      "source": [
        "print(\"max\")\n",
        "print(np.max(a_np)) # 전체\n",
        "print(np.max(a_np, 0)) # row\n",
        "print(np.max(a_np, 1)) # column\n",
        "\n",
        "print(\"\\nmin\")\n",
        "print(np.min(a_np)) # 전체\n",
        "print(np.min(a_np, 0)) # row\n",
        "print(np.min(a_np, 1)) # column\n",
        "\n",
        "print(\"\\nargmax\")\n",
        "print(np.argmax(a_np)) # 전체\n",
        "print(np.argmax(a_np, 0)) # row\n",
        "print(np.argmax(a_np, 1)) # column\n",
        "\n",
        "print(\"\\nargmin\")\n",
        "print(np.argmin(a_np)) # 전체\n",
        "print(np.argmin(a_np, 0)) # row\n",
        "print(np.argmin(a_np, 1)) # column"
      ],
      "metadata": {
        "colab": {
          "base_uri": "https://localhost:8080/"
        },
        "id": "wUbZPzFEWVzS",
        "outputId": "c35a713c-1d62-4fac-9ab7-757cc04c6e3f"
      },
      "execution_count": 25,
      "outputs": [
        {
          "output_type": "stream",
          "name": "stdout",
          "text": [
            "max\n",
            "0.8534571\n",
            "[0.69393307 0.8534571 ]\n",
            "[0.69393307 0.12864423 0.8534571 ]\n",
            "\n",
            "min\n",
            "0.11370805\n",
            "[0.12864423 0.11370805]\n",
            "[0.6414582  0.11370805 0.6533455 ]\n",
            "\n",
            "argmax\n",
            "5\n",
            "[0 2]\n",
            "[0 0 1]\n",
            "\n",
            "argmin\n",
            "3\n",
            "[1 1]\n",
            "[1 1 0]\n"
          ]
        }
      ]
    },
    {
      "cell_type": "markdown",
      "source": [
        "## PyTorch\n",
        "\n",
        "`torch.max`와 `torch.min` 함수를 사용하여 최대값과 최소값을 구함.\n",
        "\n",
        "- 특정 축을 `dim` parameter로 지정하여 구할 수 있음.\n",
        "- 특정 축을 지정할 경우, `torch.max`와 `torch.min`은 indices를 같이 반환함.\n",
        "- `torch.argmax` 와 `torch.argmin` 함수를 이용하여 최대, 최소값의 indices를 반환함."
      ],
      "metadata": {
        "id": "5G2ZFa648mag"
      }
    },
    {
      "cell_type": "code",
      "source": [
        "print(\"max\")\n",
        "print(torch.max(a_torch)) # 축을 지정하지 않으면 값만 반환\n",
        "print(torch.max(a_torch, 0)) # row\n",
        "print(torch.max(a_torch, 1)) # column\n",
        "\n",
        "print(\"\\nmin\")\n",
        "print(torch.min(a_torch)) # 축을 지정하지 않으면 값만 반환\n",
        "print(torch.min(a_torch, 0)) # row\n",
        "print(torch.min(a_torch, 1)) # column\n",
        "\n",
        "print(\"\\nargmax\")\n",
        "print(torch.argmax(a_torch)) # 축을 지정하지 않으면 값만 반환\n",
        "print(torch.argmax(a_torch, 0)) # row\n",
        "print(torch.argmax(a_torch, 1)) # column\n",
        "\n",
        "print(\"\\nargmin\")\n",
        "print(torch.argmin(a_torch)) # 축을 지정하지 않으면 값만 반환\n",
        "print(torch.argmin(a_torch, 0)) # row\n",
        "print(torch.argmin(a_torch, 1)) # column"
      ],
      "metadata": {
        "colab": {
          "base_uri": "https://localhost:8080/"
        },
        "id": "hc3L85zd8zKA",
        "outputId": "f20249dd-f559-4e45-ace3-eafa080b23c0"
      },
      "execution_count": 26,
      "outputs": [
        {
          "output_type": "stream",
          "name": "stdout",
          "text": [
            "max\n",
            "tensor(0.8535)\n",
            "torch.return_types.max(\n",
            "values=tensor([0.6939, 0.8535]),\n",
            "indices=tensor([0, 2]))\n",
            "torch.return_types.max(\n",
            "values=tensor([0.6939, 0.1286, 0.8535]),\n",
            "indices=tensor([0, 0, 1]))\n",
            "\n",
            "min\n",
            "tensor(0.1137)\n",
            "torch.return_types.min(\n",
            "values=tensor([0.1286, 0.1137]),\n",
            "indices=tensor([1, 1]))\n",
            "torch.return_types.min(\n",
            "values=tensor([0.6415, 0.1137, 0.6533]),\n",
            "indices=tensor([1, 1, 0]))\n",
            "\n",
            "argmax\n",
            "tensor(5)\n",
            "tensor([0, 2])\n",
            "tensor([0, 0, 1])\n",
            "\n",
            "argmin\n",
            "tensor(3)\n",
            "tensor([1, 1])\n",
            "tensor([1, 1, 0])\n"
          ]
        }
      ]
    },
    {
      "cell_type": "markdown",
      "source": [
        "## TensorFlow\n",
        "\n",
        "`tf.reduce_max`와 `tf.reduce_min` 함수를 사용하여 최대값과 최소값을 구함.\n",
        "\n",
        "- 특정 축을 따라 구할 경우엔, `axis` parameter로 지정.\n",
        "- torch.argmax 와 torch.argmin 함수를 이용하여 최대, 최소값의 indices를 반환함."
      ],
      "metadata": {
        "id": "oGMLmHR28zOT"
      }
    },
    {
      "cell_type": "code",
      "source": [
        "print(\"max\")\n",
        "print(tf.reduce_max(a_tf)) # 전체\n",
        "print(tf.reduce_max(a_tf, 0))\n",
        "print(tf.reduce_max(a_tf, 1))\n",
        "\n",
        "print(\"\\nmin\")\n",
        "print(tf.reduce_min(a_tf))\n",
        "print(tf.reduce_min(a_tf, 0))\n",
        "print(tf.reduce_min(a_tf, 1))\n",
        "\n",
        "print(\"\\nargmax\")\n",
        "print(tf.argmax(a_tf))\n",
        "print(tf.argmax(a_tf, 0))\n",
        "print(tf.argmax(a_tf, 1))\n",
        "\n",
        "print(\"\\nargmin\")\n",
        "print(tf.argmin(a_tf))\n",
        "print(tf.argmin(a_tf, 0))\n",
        "print(tf.argmin(a_tf, 1))"
      ],
      "metadata": {
        "colab": {
          "base_uri": "https://localhost:8080/"
        },
        "id": "KE27rp_n859o",
        "outputId": "39975131-3766-42b1-a27d-730cf32df70d"
      },
      "execution_count": 28,
      "outputs": [
        {
          "output_type": "stream",
          "name": "stdout",
          "text": [
            "max\n",
            "tf.Tensor(0.8534571, shape=(), dtype=float32)\n",
            "tf.Tensor([0.69393307 0.8534571 ], shape=(2,), dtype=float32)\n",
            "tf.Tensor([0.69393307 0.12864423 0.8534571 ], shape=(3,), dtype=float32)\n",
            "\n",
            "min\n",
            "tf.Tensor(0.11370805, shape=(), dtype=float32)\n",
            "tf.Tensor([0.12864423 0.11370805], shape=(2,), dtype=float32)\n",
            "tf.Tensor([0.6414582  0.11370805 0.6533455 ], shape=(3,), dtype=float32)\n",
            "\n",
            "argmax\n",
            "tf.Tensor([0 2], shape=(2,), dtype=int64)\n",
            "tf.Tensor([0 2], shape=(2,), dtype=int64)\n",
            "tf.Tensor([0 0 1], shape=(3,), dtype=int64)\n",
            "\n",
            "argmin\n",
            "tf.Tensor([1 1], shape=(2,), dtype=int64)\n",
            "tf.Tensor([1 1], shape=(2,), dtype=int64)\n",
            "tf.Tensor([1 1 0], shape=(3,), dtype=int64)\n"
          ]
        }
      ]
    },
    {
      "cell_type": "markdown",
      "source": [
        "<hr>"
      ],
      "metadata": {
        "id": "33V9eNzUARzV"
      }
    },
    {
      "cell_type": "code",
      "source": [
        "a_np = rng.random((2,2,3)).astype(np.float32)\n",
        "a_np"
      ],
      "metadata": {
        "colab": {
          "base_uri": "https://localhost:8080/"
        },
        "id": "s9UbuhRMATac",
        "outputId": "2b227035-93a7-4b7d-f965-8b16f7e181f4"
      },
      "execution_count": 30,
      "outputs": [
        {
          "output_type": "execute_result",
          "data": {
            "text/plain": [
              "array([[[0.20177913, 0.21801864, 0.7165846 ],\n",
              "        [0.47069967, 0.41522193, 0.3491478 ]],\n",
              "\n",
              "       [[0.06385376, 0.45466617, 0.3014533 ],\n",
              "        [0.38907674, 0.5402978 , 0.6835897 ]]], dtype=float32)"
            ]
          },
          "metadata": {},
          "execution_count": 30
        }
      ]
    },
    {
      "cell_type": "code",
      "source": [
        "a = torch.tensor(a_np)\n",
        "m = torch.max(a,2)\n",
        "print(m[0].shape)\n",
        "print(m[1].shape)\n",
        "m"
      ],
      "metadata": {
        "colab": {
          "base_uri": "https://localhost:8080/"
        },
        "id": "-mOKRSXxAVTL",
        "outputId": "6ce700ef-07e6-4fa2-8a37-0d21b4abb99a"
      },
      "execution_count": 31,
      "outputs": [
        {
          "output_type": "stream",
          "name": "stdout",
          "text": [
            "torch.Size([2, 2])\n",
            "torch.Size([2, 2])\n"
          ]
        },
        {
          "output_type": "execute_result",
          "data": {
            "text/plain": [
              "torch.return_types.max(\n",
              "values=tensor([[0.7166, 0.4707],\n",
              "        [0.4547, 0.6836]]),\n",
              "indices=tensor([[2, 0],\n",
              "        [1, 2]]))"
            ]
          },
          "metadata": {},
          "execution_count": 31
        }
      ]
    },
    {
      "cell_type": "code",
      "source": [
        "m = torch.max(a,1)\n",
        "print(m[0].shape, m[1].shape)\n",
        "m"
      ],
      "metadata": {
        "colab": {
          "base_uri": "https://localhost:8080/"
        },
        "id": "VPpgtcvpAYNl",
        "outputId": "426e2728-920a-49b8-b02e-fbf629a76a15"
      },
      "execution_count": 32,
      "outputs": [
        {
          "output_type": "stream",
          "name": "stdout",
          "text": [
            "torch.Size([2, 3]) torch.Size([2, 3])\n"
          ]
        },
        {
          "output_type": "execute_result",
          "data": {
            "text/plain": [
              "torch.return_types.max(\n",
              "values=tensor([[0.4707, 0.4152, 0.7166],\n",
              "        [0.3891, 0.5403, 0.6836]]),\n",
              "indices=tensor([[1, 1, 0],\n",
              "        [1, 1, 1]]))"
            ]
          },
          "metadata": {},
          "execution_count": 32
        }
      ]
    },
    {
      "cell_type": "code",
      "source": [
        "a_p = torch.permute(a, [0,2,1])\n",
        "a_p"
      ],
      "metadata": {
        "colab": {
          "base_uri": "https://localhost:8080/"
        },
        "id": "FQGFxH70AbGf",
        "outputId": "ef894652-a837-41b7-fcc6-76e6d17011e3"
      },
      "execution_count": 33,
      "outputs": [
        {
          "output_type": "execute_result",
          "data": {
            "text/plain": [
              "tensor([[[0.2018, 0.4707],\n",
              "         [0.2180, 0.4152],\n",
              "         [0.7166, 0.3491]],\n",
              "\n",
              "        [[0.0639, 0.3891],\n",
              "         [0.4547, 0.5403],\n",
              "         [0.3015, 0.6836]]])"
            ]
          },
          "metadata": {},
          "execution_count": 33
        }
      ]
    }
  ]
}