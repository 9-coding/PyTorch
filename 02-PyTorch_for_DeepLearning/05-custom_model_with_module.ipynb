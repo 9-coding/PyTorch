{
  "nbformat": 4,
  "nbformat_minor": 0,
  "metadata": {
    "colab": {
      "provenance": [],
      "authorship_tag": "ABX9TyN+orlCIf3+LvLepwT1aWs0",
      "include_colab_link": true
    },
    "kernelspec": {
      "name": "python3",
      "display_name": "Python 3"
    },
    "language_info": {
      "name": "python"
    }
  },
  "cells": [
    {
      "cell_type": "markdown",
      "metadata": {
        "id": "view-in-github",
        "colab_type": "text"
      },
      "source": [
        "<a href=\"https://colab.research.google.com/github/9-coding/PyTorch/blob/main/16_custom_model_with_module.ipynb\" target=\"_parent\"><img src=\"https://colab.research.google.com/assets/colab-badge.svg\" alt=\"Open In Colab\"/></a>"
      ]
    },
    {
      "cell_type": "code",
      "execution_count": 1,
      "metadata": {
        "id": "QRVdeyLdoAgx"
      },
      "outputs": [],
      "source": [
        "import torch\n",
        "import numpy as np"
      ]
    },
    {
      "cell_type": "code",
      "source": [
        "for c in [torch, np]:\n",
        "  print(c.__version__)"
      ],
      "metadata": {
        "colab": {
          "base_uri": "https://localhost:8080/"
        },
        "id": "jq3pcIW9pCpI",
        "outputId": "44dda3d7-a247-41f1-8b2b-b01cbeedb45c"
      },
      "execution_count": 2,
      "outputs": [
        {
          "output_type": "stream",
          "name": "stdout",
          "text": [
            "2.2.1+cu121\n",
            "1.25.2\n"
          ]
        }
      ]
    },
    {
      "cell_type": "code",
      "source": [
        "!pip install --quiet torchvision\n",
        "!pip install --quiet torchsummary"
      ],
      "metadata": {
        "id": "PPqnE4q3pe1M"
      },
      "execution_count": 3,
      "outputs": []
    },
    {
      "cell_type": "code",
      "source": [
        "from torch.nn import Module, init, Linear, Parameter, MSELoss, ReLU\n",
        "from torch import optim\n",
        "import matplotlib.pyplot as plt\n",
        "import torchvision\n",
        "import torchsummary"
      ],
      "metadata": {
        "id": "M3Pzd3R3ppkJ"
      },
      "execution_count": 4,
      "outputs": []
    },
    {
      "cell_type": "markdown",
      "source": [
        "# Data 생성부\n",
        "- input\n",
        "- output: x (tensor), y (tensor) = y_ideal + noise"
      ],
      "metadata": {
        "id": "nzyqW1cuHJuT"
      }
    },
    {
      "cell_type": "code",
      "source": [
        "def gen_xy():\n",
        "  x = np.linspace(-10, 10, 100)\n",
        "  y_ideal = 1.8 * x + 32.\n",
        "  y = y_ideal + 8. * np.random.randn((100))\n",
        "\n",
        "  return x, y, y_ideal"
      ],
      "metadata": {
        "id": "1AZL2oqQqpYw"
      },
      "execution_count": 5,
      "outputs": []
    },
    {
      "cell_type": "code",
      "source": [
        "x, y, y_ideal = gen_xy()\n",
        "\n",
        "plt.plot(x, y_ideal)\n",
        "plt.scatter(x, y)"
      ],
      "metadata": {
        "colab": {
          "base_uri": "https://localhost:8080/",
          "height": 448
        },
        "id": "EY8cog9CMKAp",
        "outputId": "69c4a20c-fd02-4845-ab55-9ed528230b94"
      },
      "execution_count": 6,
      "outputs": [
        {
          "output_type": "execute_result",
          "data": {
            "text/plain": [
              "<matplotlib.collections.PathCollection at 0x7a7be34e9090>"
            ]
          },
          "metadata": {},
          "execution_count": 6
        },
        {
          "output_type": "display_data",
          "data": {
            "text/plain": [
              "<Figure size 640x480 with 1 Axes>"
            ],
            "image/png": "[encoded data removed]"
          },
          "metadata": {}
        }
      ]
    },
    {
      "cell_type": "markdown",
      "source": [
        "### tensor로 변환 (+shape)"
      ],
      "metadata": {
        "id": "h9OEo45jMTeC"
      }
    },
    {
      "cell_type": "code",
      "source": [
        "x = torch.tensor(x).float()\n",
        "y = torch.tensor(y).float()\n",
        "x = x.reshape(-1,1)\n",
        "y = y.reshape(-1,1)\n",
        "\n",
        "print(x.shape, type(x))\n",
        "print(y.shape, type(y))"
      ],
      "metadata": {
        "colab": {
          "base_uri": "https://localhost:8080/"
        },
        "id": "83Oug_y0rcy9",
        "outputId": "a1f5ed2e-9ba8-4759-ec59-e46c63c0cf0e"
      },
      "execution_count": 7,
      "outputs": [
        {
          "output_type": "stream",
          "name": "stdout",
          "text": [
            "torch.Size([100, 1]) <class 'torch.Tensor'>\n",
            "torch.Size([100, 1]) <class 'torch.Tensor'>\n"
          ]
        }
      ]
    },
    {
      "cell_type": "markdown",
      "source": [
        "# Model"
      ],
      "metadata": {
        "id": "DYvBAqnXImT7"
      }
    },
    {
      "cell_type": "code",
      "source": [
        "class DsANN(Module):\n",
        "  def __init__(self,\n",
        "               n_in_f, # input vector의 차원 수\n",
        "               n_out_f # output vector의 차원 수\n",
        "               ):\n",
        "    super().__init__()\n",
        "\n",
        "    self.l0 = Linear(n_in_f, 32)\n",
        "    self.relu0 = ReLU()\n",
        "    self.l1 = Linear(32, 32)\n",
        "    self.relu1 = ReLU()\n",
        "    self.l2 = Linear(32, n_out_f)\n",
        "\n",
        "    with torch.no_grad():\n",
        "      init.constant_(self.l0.bias, 0.)\n",
        "      init.xavier_uniform(self.l0.weight)\n",
        "\n",
        "  def forward(self, x):\n",
        "    x = self.l0(x)\n",
        "    x = self.relu0(x)\n",
        "    x = self.l1(x)\n",
        "    x = self.relu1(x)\n",
        "    y = self.l2(x)\n",
        "    return y"
      ],
      "metadata": {
        "id": "p8Zt1GwfrrwW"
      },
      "execution_count": 8,
      "outputs": []
    },
    {
      "cell_type": "markdown",
      "source": [
        "## torch.nn.init 모듈\n",
        "ANN을 구현할 때, 각 layer의 weight 와 bias를 초기화하는 방법을 제공함.\n",
        "\n",
        "- 초기화는 ANN의 수렴 속도 및 학습 안정화에 매우 큰 영향을 줌.\n",
        "- torch.nn.init는 일반적으로 사용되는 다양한 초기화 방법들이 구현되어 있음.\n",
        "\n",
        "### `.uniform_(tensor, a=0., b=1.)`\n",
        "- 지정된 parameters를 uniform distance로 초기화\n",
        "- a와 b는 값의 범위를 지정하는데 사용됨: [a,b)\n",
        "\n",
        "### `.normal_(tensor, mean=0., std=1.)`\n",
        "- normal distribution으로 초기화.\n",
        "\n",
        "### `.constant_(tensor, val=0.)`\n",
        "- val 에 지정된 상수값으로 초기화.\n",
        "\n",
        "### `.ones_() and .zeros_()`\n",
        "- 0과 1로 초기화."
      ],
      "metadata": {
        "id": "yi610nmc4PZY"
      }
    },
    {
      "cell_type": "code",
      "source": [
        "model = DsANN(1,1)\n",
        "\n",
        "for idx, c in enumerate(model.named_parameters()):\n",
        "  print(idx, c)\n",
        "print()\n",
        "\n",
        "for idx, c in enumerate(model.parameters()):\n",
        "  print(idx, c)"
      ],
      "metadata": {
        "colab": {
          "base_uri": "https://localhost:8080/"
        },
        "id": "U5npqM3hvBXV",
        "outputId": "ca8bcaa7-0f50-4e6b-d244-033cd614b27b"
      },
      "execution_count": 9,
      "outputs": [
        {
          "output_type": "stream",
          "name": "stdout",
          "text": [
            "0 ('l0.weight', Parameter containing:\n",
            "tensor([[ 0.1051],\n",
            "        [-0.0097],\n",
            "        [-0.0755],\n",
            "        [ 0.3240],\n",
            "        [ 0.2826],\n",
            "        [ 0.0219],\n",
            "        [-0.0600],\n",
            "        [-0.1762],\n",
            "        [ 0.1653],\n",
            "        [ 0.0166],\n",
            "        [ 0.1777],\n",
            "        [ 0.1782],\n",
            "        [ 0.3407],\n",
            "        [ 0.0620],\n",
            "        [ 0.3076],\n",
            "        [-0.2269],\n",
            "        [ 0.1553],\n",
            "        [ 0.4050],\n",
            "        [ 0.0401],\n",
            "        [ 0.2016],\n",
            "        [-0.3703],\n",
            "        [-0.0008],\n",
            "        [-0.3979],\n",
            "        [-0.0375],\n",
            "        [-0.3327],\n",
            "        [-0.2652],\n",
            "        [-0.2867],\n",
            "        [-0.1336],\n",
            "        [ 0.1722],\n",
            "        [-0.2460],\n",
            "        [-0.1163],\n",
            "        [-0.1040]], requires_grad=True))\n",
            "1 ('l0.bias', Parameter containing:\n",
            "tensor([0., 0., 0., 0., 0., 0., 0., 0., 0., 0., 0., 0., 0., 0., 0., 0., 0., 0., 0., 0., 0., 0., 0., 0.,\n",
            "        0., 0., 0., 0., 0., 0., 0., 0.], requires_grad=True))\n",
            "2 ('l1.weight', Parameter containing:\n",
            "tensor([[-0.0182,  0.1607,  0.1218,  ..., -0.0737, -0.0265,  0.0848],\n",
            "        [ 0.0347, -0.0244,  0.1316,  ..., -0.1669, -0.0706,  0.0846],\n",
            "        [-0.0991, -0.1680,  0.1323,  ..., -0.1260,  0.0995, -0.0419],\n",
            "        ...,\n",
            "        [ 0.1397, -0.0655, -0.0806,  ..., -0.1289, -0.0133, -0.0127],\n",
            "        [-0.0868, -0.0643, -0.0481,  ...,  0.0276,  0.0144, -0.1185],\n",
            "        [ 0.0286, -0.0845, -0.0418,  ...,  0.0563,  0.0985,  0.0686]],\n",
            "       requires_grad=True))\n",
            "3 ('l1.bias', Parameter containing:\n",
            "tensor([ 0.1761,  0.0475,  0.0537,  0.1456,  0.1535,  0.0170,  0.0056,  0.1390,\n",
            "         0.0325,  0.1065,  0.1044, -0.1648,  0.1318,  0.1409, -0.0069,  0.1403,\n",
            "         0.1708, -0.1005, -0.1114, -0.1655, -0.0017, -0.0826,  0.0317, -0.0165,\n",
            "        -0.0338, -0.1598, -0.0131,  0.0751, -0.1592, -0.1587, -0.0673, -0.0931],\n",
            "       requires_grad=True))\n",
            "4 ('l2.weight', Parameter containing:\n",
            "tensor([[-0.0776, -0.0202,  0.1600, -0.1503,  0.0600, -0.0830,  0.0012, -0.1579,\n",
            "          0.1447,  0.0125,  0.1255, -0.0591,  0.1067, -0.0223,  0.0955, -0.0310,\n",
            "         -0.1598, -0.1313, -0.0045,  0.0258, -0.1683,  0.1430, -0.1705, -0.0832,\n",
            "         -0.0756, -0.0594,  0.1139, -0.0317, -0.1492,  0.1261,  0.0362,  0.0977]],\n",
            "       requires_grad=True))\n",
            "5 ('l2.bias', Parameter containing:\n",
            "tensor([0.1606], requires_grad=True))\n",
            "\n",
            "0 Parameter containing:\n",
            "tensor([[ 0.1051],\n",
            "        [-0.0097],\n",
            "        [-0.0755],\n",
            "        [ 0.3240],\n",
            "        [ 0.2826],\n",
            "        [ 0.0219],\n",
            "        [-0.0600],\n",
            "        [-0.1762],\n",
            "        [ 0.1653],\n",
            "        [ 0.0166],\n",
            "        [ 0.1777],\n",
            "        [ 0.1782],\n",
            "        [ 0.3407],\n",
            "        [ 0.0620],\n",
            "        [ 0.3076],\n",
            "        [-0.2269],\n",
            "        [ 0.1553],\n",
            "        [ 0.4050],\n",
            "        [ 0.0401],\n",
            "        [ 0.2016],\n",
            "        [-0.3703],\n",
            "        [-0.0008],\n",
            "        [-0.3979],\n",
            "        [-0.0375],\n",
            "        [-0.3327],\n",
            "        [-0.2652],\n",
            "        [-0.2867],\n",
            "        [-0.1336],\n",
            "        [ 0.1722],\n",
            "        [-0.2460],\n",
            "        [-0.1163],\n",
            "        [-0.1040]], requires_grad=True)\n",
            "1 Parameter containing:\n",
            "tensor([0., 0., 0., 0., 0., 0., 0., 0., 0., 0., 0., 0., 0., 0., 0., 0., 0., 0., 0., 0., 0., 0., 0., 0.,\n",
            "        0., 0., 0., 0., 0., 0., 0., 0.], requires_grad=True)\n",
            "2 Parameter containing:\n",
            "tensor([[-0.0182,  0.1607,  0.1218,  ..., -0.0737, -0.0265,  0.0848],\n",
            "        [ 0.0347, -0.0244,  0.1316,  ..., -0.1669, -0.0706,  0.0846],\n",
            "        [-0.0991, -0.1680,  0.1323,  ..., -0.1260,  0.0995, -0.0419],\n",
            "        ...,\n",
            "        [ 0.1397, -0.0655, -0.0806,  ..., -0.1289, -0.0133, -0.0127],\n",
            "        [-0.0868, -0.0643, -0.0481,  ...,  0.0276,  0.0144, -0.1185],\n",
            "        [ 0.0286, -0.0845, -0.0418,  ...,  0.0563,  0.0985,  0.0686]],\n",
            "       requires_grad=True)\n",
            "3 Parameter containing:\n",
            "tensor([ 0.1761,  0.0475,  0.0537,  0.1456,  0.1535,  0.0170,  0.0056,  0.1390,\n",
            "         0.0325,  0.1065,  0.1044, -0.1648,  0.1318,  0.1409, -0.0069,  0.1403,\n",
            "         0.1708, -0.1005, -0.1114, -0.1655, -0.0017, -0.0826,  0.0317, -0.0165,\n",
            "        -0.0338, -0.1598, -0.0131,  0.0751, -0.1592, -0.1587, -0.0673, -0.0931],\n",
            "       requires_grad=True)\n",
            "4 Parameter containing:\n",
            "tensor([[-0.0776, -0.0202,  0.1600, -0.1503,  0.0600, -0.0830,  0.0012, -0.1579,\n",
            "          0.1447,  0.0125,  0.1255, -0.0591,  0.1067, -0.0223,  0.0955, -0.0310,\n",
            "         -0.1598, -0.1313, -0.0045,  0.0258, -0.1683,  0.1430, -0.1705, -0.0832,\n",
            "         -0.0756, -0.0594,  0.1139, -0.0317, -0.1492,  0.1261,  0.0362,  0.0977]],\n",
            "       requires_grad=True)\n",
            "5 Parameter containing:\n",
            "tensor([0.1606], requires_grad=True)\n"
          ]
        },
        {
          "output_type": "stream",
          "name": "stderr",
          "text": [
            "<ipython-input-8-c99a1fa6031d>:16: UserWarning: nn.init.xavier_uniform is now deprecated in favor of nn.init.xavier_uniform_.\n",
            "  init.xavier_uniform(self.l0.weight)\n"
          ]
        }
      ]
    },
    {
      "cell_type": "code",
      "source": [
        "for idx, cl in enumerate(model.named_children()): # cl: child layer\n",
        "  print(idx, cl)\n",
        "print()\n",
        "\n",
        "for idx, cl in enumerate(model.children()): # cl: child layer\n",
        "  print(idx, cl)"
      ],
      "metadata": {
        "colab": {
          "base_uri": "https://localhost:8080/"
        },
        "id": "mVAAkUrvvS03",
        "outputId": "4929ed0a-7c59-41e4-e0b1-9944b4474810"
      },
      "execution_count": 10,
      "outputs": [
        {
          "output_type": "stream",
          "name": "stdout",
          "text": [
            "0 ('l0', Linear(in_features=1, out_features=32, bias=True))\n",
            "1 ('relu0', ReLU())\n",
            "2 ('l1', Linear(in_features=32, out_features=32, bias=True))\n",
            "3 ('relu1', ReLU())\n",
            "4 ('l2', Linear(in_features=32, out_features=1, bias=True))\n",
            "\n",
            "0 Linear(in_features=1, out_features=32, bias=True)\n",
            "1 ReLU()\n",
            "2 Linear(in_features=32, out_features=32, bias=True)\n",
            "3 ReLU()\n",
            "4 Linear(in_features=32, out_features=1, bias=True)\n"
          ]
        }
      ]
    },
    {
      "cell_type": "code",
      "source": [
        "for idx, modu in enumerate(model.named_modules()):\n",
        "  print(idx, modu)\n",
        "print()\n",
        "\n",
        "for idx, modu in enumerate(model.modules()):\n",
        "  print(idx, modu)"
      ],
      "metadata": {
        "id": "wNpZMag7wpiZ",
        "colab": {
          "base_uri": "https://localhost:8080/"
        },
        "outputId": "c839bcec-5fa5-44ac-8500-fa0746ef8573"
      },
      "execution_count": 11,
      "outputs": [
        {
          "output_type": "stream",
          "name": "stdout",
          "text": [
            "0 ('', DsANN(\n",
            "  (l0): Linear(in_features=1, out_features=32, bias=True)\n",
            "  (relu0): ReLU()\n",
            "  (l1): Linear(in_features=32, out_features=32, bias=True)\n",
            "  (relu1): ReLU()\n",
            "  (l2): Linear(in_features=32, out_features=1, bias=True)\n",
            "))\n",
            "1 ('l0', Linear(in_features=1, out_features=32, bias=True))\n",
            "2 ('relu0', ReLU())\n",
            "3 ('l1', Linear(in_features=32, out_features=32, bias=True))\n",
            "4 ('relu1', ReLU())\n",
            "5 ('l2', Linear(in_features=32, out_features=1, bias=True))\n",
            "\n",
            "0 DsANN(\n",
            "  (l0): Linear(in_features=1, out_features=32, bias=True)\n",
            "  (relu0): ReLU()\n",
            "  (l1): Linear(in_features=32, out_features=32, bias=True)\n",
            "  (relu1): ReLU()\n",
            "  (l2): Linear(in_features=32, out_features=1, bias=True)\n",
            ")\n",
            "1 Linear(in_features=1, out_features=32, bias=True)\n",
            "2 ReLU()\n",
            "3 Linear(in_features=32, out_features=32, bias=True)\n",
            "4 ReLU()\n",
            "5 Linear(in_features=32, out_features=1, bias=True)\n"
          ]
        }
      ]
    },
    {
      "cell_type": "code",
      "source": [
        "pred = model(x)\n",
        "pred"
      ],
      "metadata": {
        "colab": {
          "base_uri": "https://localhost:8080/"
        },
        "id": "3KaD2hn5yHnd",
        "outputId": "61fee33a-378a-493a-facd-c52323d2abae"
      },
      "execution_count": 12,
      "outputs": [
        {
          "output_type": "execute_result",
          "data": {
            "text/plain": [
              "tensor([[-0.6904],\n",
              "        [-0.6747],\n",
              "        [-0.6590],\n",
              "        [-0.6432],\n",
              "        [-0.6275],\n",
              "        [-0.6117],\n",
              "        [-0.5960],\n",
              "        [-0.5802],\n",
              "        [-0.5645],\n",
              "        [-0.5487],\n",
              "        [-0.5330],\n",
              "        [-0.5173],\n",
              "        [-0.5015],\n",
              "        [-0.4858],\n",
              "        [-0.4701],\n",
              "        [-0.4543],\n",
              "        [-0.4386],\n",
              "        [-0.4229],\n",
              "        [-0.4071],\n",
              "        [-0.3914],\n",
              "        [-0.3757],\n",
              "        [-0.3599],\n",
              "        [-0.3442],\n",
              "        [-0.3285],\n",
              "        [-0.3127],\n",
              "        [-0.2970],\n",
              "        [-0.2813],\n",
              "        [-0.2655],\n",
              "        [-0.2497],\n",
              "        [-0.2339],\n",
              "        [-0.2181],\n",
              "        [-0.2023],\n",
              "        [-0.1866],\n",
              "        [-0.1709],\n",
              "        [-0.1551],\n",
              "        [-0.1394],\n",
              "        [-0.1236],\n",
              "        [-0.1079],\n",
              "        [-0.0922],\n",
              "        [-0.0766],\n",
              "        [-0.0617],\n",
              "        [-0.0464],\n",
              "        [-0.0328],\n",
              "        [-0.0191],\n",
              "        [-0.0038],\n",
              "        [ 0.0124],\n",
              "        [ 0.0298],\n",
              "        [ 0.0497],\n",
              "        [ 0.0699],\n",
              "        [ 0.0960],\n",
              "        [ 0.1144],\n",
              "        [ 0.1242],\n",
              "        [ 0.1341],\n",
              "        [ 0.1440],\n",
              "        [ 0.1538],\n",
              "        [ 0.1551],\n",
              "        [ 0.1556],\n",
              "        [ 0.1552],\n",
              "        [ 0.1523],\n",
              "        [ 0.1494],\n",
              "        [ 0.1466],\n",
              "        [ 0.1437],\n",
              "        [ 0.1409],\n",
              "        [ 0.1380],\n",
              "        [ 0.1352],\n",
              "        [ 0.1323],\n",
              "        [ 0.1295],\n",
              "        [ 0.1266],\n",
              "        [ 0.1238],\n",
              "        [ 0.1209],\n",
              "        [ 0.1181],\n",
              "        [ 0.1152],\n",
              "        [ 0.1124],\n",
              "        [ 0.1095],\n",
              "        [ 0.1067],\n",
              "        [ 0.1038],\n",
              "        [ 0.1010],\n",
              "        [ 0.0981],\n",
              "        [ 0.0953],\n",
              "        [ 0.0924],\n",
              "        [ 0.0896],\n",
              "        [ 0.0867],\n",
              "        [ 0.0839],\n",
              "        [ 0.0810],\n",
              "        [ 0.0782],\n",
              "        [ 0.0753],\n",
              "        [ 0.0725],\n",
              "        [ 0.0696],\n",
              "        [ 0.0668],\n",
              "        [ 0.0639],\n",
              "        [ 0.0610],\n",
              "        [ 0.0582],\n",
              "        [ 0.0553],\n",
              "        [ 0.0525],\n",
              "        [ 0.0496],\n",
              "        [ 0.0468],\n",
              "        [ 0.0439],\n",
              "        [ 0.0411],\n",
              "        [ 0.0382],\n",
              "        [ 0.0354]], grad_fn=<AddmmBackward0>)"
            ]
          },
          "metadata": {},
          "execution_count": 12
        }
      ]
    },
    {
      "cell_type": "markdown",
      "source": [
        "# Loss"
      ],
      "metadata": {
        "id": "TDnYj3-gI_9p"
      }
    },
    {
      "cell_type": "code",
      "source": [
        "loss_func = MSELoss()\n",
        "\n",
        "l = loss_func(pred, y)\n",
        "l"
      ],
      "metadata": {
        "colab": {
          "base_uri": "https://localhost:8080/"
        },
        "id": "m_oMh8yv5Ns4",
        "outputId": "ff467543-b69a-44de-93c1-506b24c78cbd"
      },
      "execution_count": 13,
      "outputs": [
        {
          "output_type": "execute_result",
          "data": {
            "text/plain": [
              "tensor(1205.2950, grad_fn=<MseLossBackward0>)"
            ]
          },
          "metadata": {},
          "execution_count": 13
        }
      ]
    },
    {
      "cell_type": "markdown",
      "source": [
        "# Training Loop"
      ],
      "metadata": {
        "id": "7FNVl-ELJC1Y"
      }
    },
    {
      "cell_type": "code",
      "source": [
        "def training_loop(\n",
        "    x, y,\n",
        "    model,\n",
        "    lr,\n",
        "    n_epochs,\n",
        "):\n",
        "\n",
        "  model.train()\n",
        "  # model.eval()\n",
        "\n",
        "  optimizer = optim.SGD(\n",
        "    model.parameters(),\n",
        "    lr = lr,\n",
        "  )\n",
        "\n",
        "  print(n_epochs)\n",
        "\n",
        "\n",
        "  for epoch in range(n_epochs):\n",
        "    pred = model(x)\n",
        "    l = loss_func(pred, y)\n",
        "\n",
        "    if torch.isinf(l).any(): # 무한대로 발산하면\n",
        "      print('Error: diverge!')\n",
        "      break\n",
        "\n",
        "    optimizer.zero_grad()\n",
        "    l.backward()\n",
        "    optimizer.step()\n",
        "\n",
        "    if epoch % 1000 == 0:\n",
        "      print(f'Epoch {epoch}: Loss {float(l):0.4f}')\n",
        "\n",
        "  return model"
      ],
      "metadata": {
        "id": "hS6gfojL6Ln1"
      },
      "execution_count": 14,
      "outputs": []
    },
    {
      "cell_type": "markdown",
      "source": [
        "# Train"
      ],
      "metadata": {
        "id": "hPalmTCNJJIB"
      }
    },
    {
      "cell_type": "code",
      "source": [
        "model = DsANN(1,1)\n",
        "model = training_loop(\n",
        "    x, y,\n",
        "    model,\n",
        "    1e-3,\n",
        "    7000,\n",
        ")"
      ],
      "metadata": {
        "colab": {
          "base_uri": "https://localhost:8080/"
        },
        "id": "s5xNKhbo9ZFR",
        "outputId": "8dc6487a-6aa7-4109-8685-2fe9fc1e3a5d"
      },
      "execution_count": 15,
      "outputs": [
        {
          "output_type": "stream",
          "name": "stdout",
          "text": [
            "7000\n",
            "Epoch 0: Loss 1178.9258\n"
          ]
        },
        {
          "output_type": "stream",
          "name": "stderr",
          "text": [
            "<ipython-input-8-c99a1fa6031d>:16: UserWarning: nn.init.xavier_uniform is now deprecated in favor of nn.init.xavier_uniform_.\n",
            "  init.xavier_uniform(self.l0.weight)\n"
          ]
        },
        {
          "output_type": "stream",
          "name": "stdout",
          "text": [
            "Epoch 1000: Loss 54.2804\n",
            "Epoch 2000: Loss 53.4521\n",
            "Epoch 3000: Loss 53.2175\n",
            "Epoch 4000: Loss 53.0282\n",
            "Epoch 5000: Loss 53.0039\n",
            "Epoch 6000: Loss 53.0447\n"
          ]
        }
      ]
    },
    {
      "cell_type": "markdown",
      "source": [
        "# Evaluation"
      ],
      "metadata": {
        "id": "K1xTup6QJYQv"
      }
    },
    {
      "cell_type": "code",
      "source": [
        "pred = model(x)\n",
        "plt.scatter(x.detach().numpy(),y.detach().numpy())\n",
        "plt.plot(x.detach().numpy(), pred.detach().numpy(), color='r')\n",
        "plt.plot(x.detach().numpy(), y_ideal, color='g')"
      ],
      "metadata": {
        "colab": {
          "base_uri": "https://localhost:8080/",
          "height": 448
        },
        "id": "KG7L6riT8zpA",
        "outputId": "122ce1c6-14be-4ad0-baa0-31cdc0c201ce"
      },
      "execution_count": 17,
      "outputs": [
        {
          "output_type": "execute_result",
          "data": {
            "text/plain": [
              "[<matplotlib.lines.Line2D at 0x7a7be07d4940>]"
            ]
          },
          "metadata": {},
          "execution_count": 17
        },
        {
          "output_type": "display_data",
          "data": {
            "text/plain": [
              "<Figure size 640x480 with 1 Axes>"
            ],
            "image/png": "[encoded data removed]"
          },
          "metadata": {}
        }
      ]
    },
    {
      "cell_type": "code",
      "source": [
        "from torchsummary import summary\n",
        "\n",
        "summary(model, (1,))"
      ],
      "metadata": {
        "id": "u5RUZP9sFK_1"
      },
      "execution_count": null,
      "outputs": []
    }
  ]
}