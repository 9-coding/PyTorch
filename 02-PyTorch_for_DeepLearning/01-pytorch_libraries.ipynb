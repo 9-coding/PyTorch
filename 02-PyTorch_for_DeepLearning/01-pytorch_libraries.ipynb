{
  "nbformat": 4,
  "nbformat_minor": 0,
  "metadata": {
    "colab": {
      "provenance": [],
      "authorship_tag": "ABX9TyNM6YURAJLLIA51wqKrU6yE",
      "include_colab_link": true
    },
    "kernelspec": {
      "name": "python3",
      "display_name": "Python 3"
    },
    "language_info": {
      "name": "python"
    }
  },
  "cells": [
    {
      "cell_type": "markdown",
      "metadata": {
        "id": "view-in-github",
        "colab_type": "text"
      },
      "source": [
        "<a href=\"https://colab.research.google.com/github/9-coding/PyTorch/blob/main/pytorch_libraries.ipynb\" target=\"_parent\"><img src=\"https://colab.research.google.com/assets/colab-badge.svg\" alt=\"Open In Colab\"/></a>"
      ]
    },
    {
      "cell_type": "markdown",
      "source": [
        "# PyTorch Libraries"
      ],
      "metadata": {
        "id": "mvp2rFTZnbhW"
      }
    },
    {
      "cell_type": "code",
      "execution_count": null,
      "metadata": {
        "id": "1d6wTc7OlNIE"
      },
      "outputs": [],
      "source": [
        "import torch\n",
        "from torch import nn\n",
        "import torch.nn as nn\n",
        "from torch.nn import Module, Linear, ReLU, init\n",
        "import torch.nn.functional as F\n",
        "from torch.utils.data import Dataset, DataLoader, random_split\n",
        "import torchvision\n",
        "from torchvision import datasets, transforms"
      ]
    },
    {
      "cell_type": "markdown",
      "source": [
        "## `torch.nn`\n",
        "모든 neural network module의 기본 클래스.\n",
        "- 신경망을 구축할 때 사용되는 함수들이 정의되어 있음.\n",
        "- 이를 상속받고 시작해야만 학습을 편하게 수행할 수 있음.\n",
        "- 주로 layer와 activation function과 관련된 함수들이 정의되어 있음.\n",
        "\n"
      ],
      "metadata": {
        "id": "Hd95EwRvntWj"
      }
    },
    {
      "cell_type": "markdown",
      "source": [
        "### PyTorch Layer의 종류\n",
        "(수업 때 다룬 내용 위주로)\n",
        "1. Linear layers\n",
        "<br>`nn.Linear`\n",
        "2. Convolution layers\n",
        "<br>`nn.Conv2d`\n",
        "3. Pooling layers\n",
        "<br>`nn.MaxPool2d`\n",
        "4. Padding layers\n",
        "<br>`nn.ZeroPad2d`\n",
        "5. Normalization layers\n",
        "<br>`nn.BatrhNorm2d`\n",
        "6. Recurent layers\n",
        "<br>`nn.RNN`\n",
        "7. Dropout layers\n",
        "<br>`nn.Dropout2d`\n",
        "8. Sparse layers\n",
        "<br>`nn.Embedding`"
      ],
      "metadata": {
        "id": "HLaCHcHQqZ9Q"
      }
    },
    {
      "cell_type": "markdown",
      "source": [
        "PyTorch Activation function의 종류<br>\n",
        "\n",
        "`nn.Sigmoid`, `nn.Tanh`, `nn.ReLU`, `nn.ELU`<br>\n",
        "`nn.Softmax`, `nn.LogSoftmax`\n"
      ],
      "metadata": {
        "id": "j_PGXBOvr-I1"
      }
    },
    {
      "cell_type": "markdown",
      "source": [
        "### `torch.nn.Module`\n",
        "pytorch model을 사용하기 위해서 상속해야 하는 class. (모든 신경망 모델은 `nn.Module`의 suvclass.)\n",
        "- `__init__()`, `forward()`를 override해야 함.\n",
        "- `__init__()`에서는 모델에 사용될 module, activation function 등을 정의함.\n",
        "- `forward()`에서는 모델에서 실행되어야 하는 계산 정의.\n",
        "- backwrad 계산은 `backward()`를 이용하면 pytorch가 알아서 해줌\n"
      ],
      "metadata": {
        "id": "-wU-S4z6poyv"
      }
    },
    {
      "cell_type": "markdown",
      "source": [
        "### `torch.nn.init`\n",
        "tensor에 초기값을 주기 위해 필요한 함수들이 저장되어 있음"
      ],
      "metadata": {
        "id": "2sEjqI6uxnf5"
      }
    },
    {
      "cell_type": "markdown",
      "source": [
        "## `torch.nn.functional`\n",
        "`torch.nn`과 같은 결과를 제공하며, 편한 것을 선택하여 개발하면 된다.\n",
        "- 함수로 정의되어 있음. (`torch.nn`은 클래스)\n",
        "- 따라서 인스턴스화 시킬 필요없이 바로 입력값을 받을 수 있음.\n",
        "- `torch.nn`은 인스턴스화를 시켜야 하고 attribute를 활용해 state를 저장해 활용할 수 있음.\n",
        "- 관례적으로 F로 약칭 지정.\n",
        "\n",
        "\n",
        "https://discuss.pytorch.org/t/what-is-the-difference-between-torch-nn-and-torch-nn-functional/33597"
      ],
      "metadata": {
        "id": "mtvZrXPGtYJu"
      }
    },
    {
      "cell_type": "code",
      "source": [
        "loss = nn.CrossEntropyLoss()\n",
        "input = torch.randn(3,5,requires_grad=True)\n",
        "target = torch.empty(3, dtype=torch.long).random_(5)\n",
        "output = loss(input, target)\n",
        "output.backward()"
      ],
      "metadata": {
        "id": "jPWW2QApuHa_"
      },
      "execution_count": null,
      "outputs": []
    },
    {
      "cell_type": "code",
      "source": [
        "input = torch.randn(3,5,requires_grad=True)\n",
        "target = torch.randint(5,(3,),dtype=torch.int64)\n",
        "loss = F.cross_entropy(input,target)\n",
        "loss.backward()"
      ],
      "metadata": {
        "id": "yqxnNRB3uHzr"
      },
      "execution_count": null,
      "outputs": []
    },
    {
      "cell_type": "markdown",
      "source": [
        "## `torch.utils.data`\n",
        "PyTorch data loading에 필수적인 `DataLoader`와 `Dataset` 포함.\n",
        "- `torch.utils.data.DataLoader`: Dataset을 통해 데이터 로딩을 수행하는 클래스.\n",
        "- `torch.utils.data.Dataset`: raw-data로부터 tensor를 얻게 해주는 역할을 수행하는 클래스."
      ],
      "metadata": {
        "id": "bGvdJE6DugQB"
      }
    },
    {
      "cell_type": "markdown",
      "source": [
        "### `torch.utisl.data.random_split`\n",
        "데이터를 불러와 데이터셋을 train, test, valid으로 나눔"
      ],
      "metadata": {
        "id": "cC5IoYzGyaxn"
      }
    },
    {
      "cell_type": "markdown",
      "source": [
        "## `torchvision`\n",
        "자주 사용되는 dataset, model architecture, computer vision을 위한 image transform들로 구성됨"
      ],
      "metadata": {
        "id": "o_d2-MozxKHP"
      }
    },
    {
      "cell_type": "markdown",
      "source": [
        "### `torchvision.datasets`\n",
        "torch에서 제공하는 데이터셋들.\n",
        "- CIFAR, COCO, Fashion-MNIST, ImageNet, MNIST, VOC 등 다수의 데이터셋 포함.\n",
        "- `torchvision.datasets.ImageFolder`: 경로에 저장된 데이터셋을 불러오고 싶을 때 사용.\n",
        "- 라벨로 분류된 디렉토리 안에 이미지 파일들이 위치해야 한다."
      ],
      "metadata": {
        "id": "D6cIindYv_vi"
      }
    },
    {
      "cell_type": "markdown",
      "source": [
        "### `torchvision.transforms`\n",
        "torch에서 이미지 데이터의 전처리 및 데이터 증강을 위해 제공하는 모듈.\n",
        "- `torchvision.transforms.ToTensor()`: PIL 이미지 또는 numpy 배열을 pytorch tensor로 변환시켜주는 클래스."
      ],
      "metadata": {
        "id": "8B2EsOVXwoNZ"
      }
    }
  ]
}