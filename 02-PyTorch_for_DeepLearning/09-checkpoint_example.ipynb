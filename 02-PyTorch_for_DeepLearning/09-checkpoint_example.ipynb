{
  "nbformat": 4,
  "nbformat_minor": 0,
  "metadata": {
    "colab": {
      "provenance": [],
      "authorship_tag": "ABX9TyPLHvuQPXHI8WH6ZYU2b0Kb",
      "include_colab_link": true
    },
    "kernelspec": {
      "name": "python3",
      "display_name": "Python 3"
    },
    "language_info": {
      "name": "python"
    }
  },
  "cells": [
    {
      "cell_type": "markdown",
      "metadata": {
        "id": "view-in-github",
        "colab_type": "text"
      },
      "source": [
        "<a href=\"https://colab.research.google.com/github/9-coding/PyTorch/blob/main/checkpoint_example.ipynb\" target=\"_parent\"><img src=\"https://colab.research.google.com/assets/colab-badge.svg\" alt=\"Open In Colab\"/></a>"
      ]
    },
    {
      "cell_type": "markdown",
      "source": [
        "# Checkpoint\n",
        "모델의 학습 과정 중 특정 시점에서 모델의 가중치와 파라미터를 저장하는 것.\n",
        "- 중단된 학습 재개\n",
        "- 과적합 방지 위한 조기 중지"
      ],
      "metadata": {
        "id": "5jbyWerlX5sG"
      }
    },
    {
      "cell_type": "code",
      "execution_count": null,
      "metadata": {
        "id": "9VBfqLaNT8M4"
      },
      "outputs": [],
      "source": [
        "import torch\n",
        "import torch.nn as nn\n",
        "import torch.optim as optim\n",
        "from torch.utils.data import DataLoader, TensorDataset\n",
        "import os"
      ]
    },
    {
      "cell_type": "markdown",
      "source": [
        "## Model Implementation"
      ],
      "metadata": {
        "id": "yd4ycxeSYPyw"
      }
    },
    {
      "cell_type": "code",
      "source": [
        "class SimpleModel(nn.Module):\n",
        "    def __init__(self):\n",
        "        super(SimpleModel, self).__init__()\n",
        "        self.fc1 = nn.Linear(10, 20)\n",
        "        self.relu = nn.ReLU()\n",
        "        self.fc2 = nn.Linear(20, 1)\n",
        "\n",
        "    def forward(self, x):\n",
        "        x = self.fc1(x)\n",
        "        x = self.relu(x)\n",
        "        x = self.fc2(x)\n",
        "        return x"
      ],
      "metadata": {
        "id": "pN2bKl-rXsWR"
      },
      "execution_count": null,
      "outputs": []
    },
    {
      "cell_type": "code",
      "source": [
        "# 데이터셋 생성\n",
        "x_train = torch.randn(100, 10)\n",
        "y_train = torch.randn(100, 1)\n",
        "dataset = TensorDataset(x_train, y_train)\n",
        "dataloader = DataLoader(dataset, batch_size=32, shuffle=True)\n",
        "\n",
        "# 모델, 손실 함수 및 옵티마이저 초기화\n",
        "model = SimpleModel()\n",
        "criterion = nn.MSELoss()\n",
        "optimizer = optim.Adam(model.parameters(), lr=0.001)\n",
        "\n",
        "# 체크포인트 디렉토리 생성\n",
        "checkpoint_dir = './checkpoints'\n",
        "os.makedirs(checkpoint_dir, exist_ok=True)\n",
        "\n",
        "# 최상의 손실 값 초기화\n",
        "best_loss = float('inf')"
      ],
      "metadata": {
        "id": "nZ2aEmdrXswn"
      },
      "execution_count": null,
      "outputs": []
    },
    {
      "cell_type": "markdown",
      "source": [
        "## Training Loop\n",
        "손실이 낮아질 때마다 모델 저장<br>\n",
        "`torch.save(opject, path)` 사용해 training loop에서 모델의 상태를 저장"
      ],
      "metadata": {
        "id": "KuXJggNfYXQV"
      }
    },
    {
      "cell_type": "code",
      "source": [
        "# 훈련 루프\n",
        "num_epochs = 5\n",
        "\n",
        "for epoch in range(num_epochs):\n",
        "    model.train()\n",
        "    running_loss = 0.0\n",
        "    for inputs, targets in dataloader:\n",
        "        optimizer.zero_grad()\n",
        "        outputs = model(inputs)\n",
        "        loss = criterion(outputs, targets)\n",
        "        loss.backward()\n",
        "        optimizer.step()\n",
        "        running_loss += loss.item() * inputs.size(0)\n",
        "\n",
        "    epoch_loss = running_loss / len(dataloader.dataset)\n",
        "    print(f'Epoch {epoch+1}/{num_epochs}, Loss: {epoch_loss:.4f}')\n",
        "\n",
        "    # 손실이 낮아질 때마다 모델 저장\n",
        "    if epoch_loss < best_loss:\n",
        "        best_loss = epoch_loss\n",
        "        checkpoint_path = os.path.join(checkpoint_dir, 'best_model.pth')\n",
        "        torch.save({\n",
        "            'epoch': epoch + 1,\n",
        "            'model_state_dict': model.state_dict(),\n",
        "            'optimizer_state_dict': optimizer.state_dict(),\n",
        "            'loss': best_loss,\n",
        "        }, checkpoint_path)\n",
        "        print(f'Model saved to {checkpoint_path}')"
      ],
      "metadata": {
        "id": "aHJp55ZKXzqu"
      },
      "execution_count": null,
      "outputs": []
    },
    {
      "cell_type": "markdown",
      "source": [
        "모델 학습이 끝난 후,<br>\n",
        "- `torch.load()`를 사용해 모델을 통째로 불러오고\n",
        "- `torch.nn.Module.load_state_dict(dict)`를 사용해 모델 객체 내의 parameter 값을 초기화함.\n",
        "- model과 optimizer 둘 다에 대해 초기화하는 것에 유의."
      ],
      "metadata": {
        "id": "vwtzcmHbaaj-"
      }
    },
    {
      "cell_type": "code",
      "source": [
        "# 저장된 모델 로드\n",
        "checkpoint = torch.load(checkpoint_path)\n",
        "model.load_state_dict(checkpoint['model_state_dict'])\n",
        "optimizer.load_state_dict(checkpoint['optimizer_state_dict'])\n",
        "\n",
        "start_epoch = checkpoint['epoch']\n",
        "best_loss = checkpoint['loss']\n",
        "\n",
        "print(f'Checkpoint loaded. Training will resume from epoch {start_epoch} with loss {best_loss:.4f}')\n"
      ],
      "metadata": {
        "id": "F_FA4JDTX03-"
      },
      "execution_count": null,
      "outputs": []
    }
  ]
}