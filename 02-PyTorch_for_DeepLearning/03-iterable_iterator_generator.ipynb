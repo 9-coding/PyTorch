{
  "nbformat": 4,
  "nbformat_minor": 0,
  "metadata": {
    "colab": {
      "provenance": [],
      "authorship_tag": "ABX9TyN2uRKKwC+GZXL29mRkoRw3",
      "include_colab_link": true
    },
    "kernelspec": {
      "name": "python3",
      "display_name": "Python 3"
    },
    "language_info": {
      "name": "python"
    }
  },
  "cells": [
    {
      "cell_type": "markdown",
      "metadata": {
        "id": "view-in-github",
        "colab_type": "text"
      },
      "source": [
        "<a href=\"https://colab.research.google.com/github/9-coding/PyTorch/blob/main/17-iterable_iterator_generator.ipynb\" target=\"_parent\"><img src=\"https://colab.research.google.com/assets/colab-badge.svg\" alt=\"Open In Colab\"/></a>"
      ]
    },
    {
      "cell_type": "markdown",
      "source": [
        "# Iterable / Iterator / Generator"
      ],
      "metadata": {
        "id": "aYWbCNh4jm0u"
      }
    },
    {
      "cell_type": "markdown",
      "source": [
        "## Iterable\n",
        "**반복 가능한 객체**\n",
        "- for loop을 사용해 순회할 수 있는 모든 객체를 의미\n",
        "- `__iter__()` method 구현하여 iterator 반환.\n",
        "- list, tuple, dictionary, set 등"
      ],
      "metadata": {
        "id": "BLusfWMlj64_"
      }
    },
    {
      "cell_type": "code",
      "source": [
        "my_list = [1, 2, 3]\n",
        "for item in my_list:\n",
        "    print(item)"
      ],
      "metadata": {
        "colab": {
          "base_uri": "https://localhost:8080/"
        },
        "id": "synwMj_dlrWl",
        "outputId": "0eadafbb-0c42-4f70-93a3-a4b819d169ae"
      },
      "execution_count": null,
      "outputs": [
        {
          "output_type": "stream",
          "name": "stdout",
          "text": [
            "1\n",
            "2\n",
            "3\n"
          ]
        }
      ]
    },
    {
      "cell_type": "markdown",
      "source": [
        "## Iterator\n",
        "**값을 차례대로 꺼낼 수 있는 객체.**\n",
        "- `__next__()` 메서드를 구현하여 연속된 값들을 하나씩 반환.\n",
        "- 더 이상 반환할 값이 없을 때는 StopIteration 예외 발생.\n",
        "- `iter()` 함수에 의해 Iterable로부터 생성 또는 generator 사용."
      ],
      "metadata": {
        "id": "1HnGIgYWlGla"
      }
    },
    {
      "cell_type": "code",
      "source": [
        "my_list = [1, 2, 3]\n",
        "my_iterator = iter(my_list)\n",
        "print(next(my_iterator))\n",
        "print(next(my_iterator))\n",
        "print(next(my_iterator))\n",
        "# print(next(my_iterator)) -> StopIteration"
      ],
      "metadata": {
        "colab": {
          "base_uri": "https://localhost:8080/"
        },
        "id": "NCp_MV5Oeh2G",
        "outputId": "dd52dcf6-6db5-4f29-8adf-ff132b7a7b27"
      },
      "execution_count": null,
      "outputs": [
        {
          "output_type": "stream",
          "name": "stdout",
          "text": [
            "1\n",
            "2\n",
            "3\n"
          ]
        }
      ]
    },
    {
      "cell_type": "markdown",
      "source": [
        "## Generator\n",
        "**Iterator의 일종. 값을 생성하기 위해 yield 표현식을 사용.**\n",
        "- 함수 내부에 `yield` 표현식을 사용하면 해당 함수는 Generator가 됨.\n",
        "- `yield`는 `return`과 같이 값을 반환하지만 함수가 종료되지 않고 그대로 유지됨.\n",
        "- 필요할 때 값을 생성(lazy evaluation)하기 때문에 메모리를 효율적으로 사용할 수 있으며, 대용량 데이터 처리에 유용."
      ],
      "metadata": {
        "id": "4t6uI3EJeiGE"
      }
    },
    {
      "cell_type": "code",
      "source": [
        "def my_generator():\n",
        "    yield 1\n",
        "    yield 2\n",
        "    yield 3\n",
        "\n",
        "for item in my_generator():\n",
        "    print(item)"
      ],
      "metadata": {
        "colab": {
          "base_uri": "https://localhost:8080/"
        },
        "id": "yrXgQgfXlxzz",
        "outputId": "4e7bb3f9-fdf1-4434-de2a-adbb0e38de4c"
      },
      "execution_count": null,
      "outputs": [
        {
          "output_type": "stream",
          "name": "stdout",
          "text": [
            "1\n",
            "2\n",
            "3\n"
          ]
        }
      ]
    },
    {
      "cell_type": "markdown",
      "source": [
        "# 정리\n",
        "- Iterable: 반복 가능한 모든 객체를 의미하며, for 루프로 순회할 수 있습니다.\n",
        "- Iterator: __next__() 메서드를 통해 연속된 값을 하나씩 반환할 수 있는 객체. Iterable로부터 생성.\n",
        "- Generator: 간단하게 Iterator를 생성할 수 있는 함수. yield를 사용하여 값 반환.\n",
        "\n",
        "## 차이점\n",
        "- Iterable 객체는 메모리에 로딩이 되어 있어 여러 번 반복 사용 가능.\n",
        "- Generator로 생성한 데이터는 메모리에 로딩하지 않아 요청할 때마다 생성해서 반환.\n",
        "\n"
      ],
      "metadata": {
        "id": "3rghObzBg_Kx"
      }
    }
  ]
}