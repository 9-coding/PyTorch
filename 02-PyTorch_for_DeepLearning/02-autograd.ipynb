{
  "nbformat": 4,
  "nbformat_minor": 0,
  "metadata": {
    "colab": {
      "provenance": [],
      "authorship_tag": "ABX9TyPt4D8yHjH3WeOzxpU8EvO1",
      "include_colab_link": true
    },
    "kernelspec": {
      "name": "python3",
      "display_name": "Python 3"
    },
    "language_info": {
      "name": "python"
    }
  },
  "cells": [
    {
      "cell_type": "markdown",
      "metadata": {
        "id": "view-in-github",
        "colab_type": "text"
      },
      "source": [
        "<a href=\"https://colab.research.google.com/github/9-coding/PyTorch/blob/main/10-autograd.ipynb\" target=\"_parent\"><img src=\"https://colab.research.google.com/assets/colab-badge.svg\" alt=\"Open In Colab\"/></a>"
      ]
    },
    {
      "cell_type": "markdown",
      "source": [
        "# Autograd"
      ],
      "metadata": {
        "id": "7rwykatZJMO7"
      }
    },
    {
      "cell_type": "code",
      "source": [
        "!pip install --quiet torchviz"
      ],
      "metadata": {
        "colab": {
          "base_uri": "https://localhost:8080/"
        },
        "id": "9pX2fDUdAAPP",
        "outputId": "43087685-b8f1-4853-9975-61448a4174bc"
      },
      "execution_count": 1,
      "outputs": [
        {
          "output_type": "stream",
          "name": "stdout",
          "text": [
            "  Preparing metadata (setup.py) ... \u001b[?25l\u001b[?25hdone\n",
            "  Building wheel for torchviz (setup.py) ... \u001b[?25l\u001b[?25hdone\n"
          ]
        }
      ]
    },
    {
      "cell_type": "code",
      "source": [
        "import numpy as np\n",
        "import torch\n",
        "\n",
        "from IPython.display import display\n",
        "import torchviz"
      ],
      "metadata": {
        "id": "IZTxSgqmABaA"
      },
      "execution_count": 28,
      "outputs": []
    },
    {
      "cell_type": "code",
      "source": [
        "for c in [np, torch]:\n",
        "  print(c.__name__, c.__version__)"
      ],
      "metadata": {
        "colab": {
          "base_uri": "https://localhost:8080/"
        },
        "id": "dHn9c9JlADMa",
        "outputId": "36d17092-da48-4d8e-b388-131aa27e5451"
      },
      "execution_count": 29,
      "outputs": [
        {
          "output_type": "stream",
          "name": "stdout",
          "text": [
            "numpy 1.25.2\n",
            "torch 2.2.1+cu121\n"
          ]
        }
      ]
    },
    {
      "cell_type": "markdown",
      "source": [
        "## 1. `requires_grad`를 True로 설정\n",
        "- tensor 연산 추적, 자동으로 gradient 계산"
      ],
      "metadata": {
        "id": "FYwwpwfbu9Md"
      }
    },
    {
      "cell_type": "code",
      "execution_count": 30,
      "metadata": {
        "id": "4OPHPjFbIcXV",
        "colab": {
          "base_uri": "https://localhost:8080/",
          "height": 35
        },
        "outputId": "a346f5a0-32c6-4bbd-de6b-ca8247d5ab54"
      },
      "outputs": [
        {
          "output_type": "display_data",
          "data": {
            "text/plain": [
              "tensor([-1.0000, -0.5000,  0.0000,  0.5000], requires_grad=True)"
            ]
          },
          "metadata": {}
        }
      ],
      "source": [
        "x_np = np.arange(-1, 1, 0.5)\n",
        "\n",
        "x = torch.tensor(x_np, dtype=torch.float32)\n",
        "x.requires_grad = True\n",
        "\n",
        "display(x)"
      ]
    },
    {
      "cell_type": "markdown",
      "source": [
        "## Autograd 관련 attributes\n",
        "\n",
        "### x.is_leaf\n",
        "- 계산 그래프에서 “leaf node\"인지 여부를 나타냄.\n",
        "- leaf node: 직접 생성된 tensor.\n",
        "- 만약 tensor 가 다른 tensor로부터 어떤 연산을 통해 생성되었다면, is_leaf 속성은 `False`임.\n",
        "\n",
        "### x.grad_fn\n",
        "- 텐서가 다른 텐서들의 연산을 통해 생성된 경우(=leaf node가 아닌 경우) 해당 연산을 나타냄.\n",
        "- 이를 통해 back-propagation 에서 gradient를 계산할 때 어떤 연산을 통해 편미분을 계산하는지 알 수 있음.\n",
        "\n",
        "### x.grad\n",
        "- tensor 인스턴스 x 에 대해 수행된 마지막 `.backward()` 연산으로부터 계산된 gradient가 저장됨.\n",
        "- x의 `requires_grad = True`일 때,\n",
        "  - PyTorch는 x에 대한 모든 연산 추적\n",
        "  - `.backward()`가 호출될 때 자동으로 gradient를 계산하여 `x.grad에` 저장\n",
        "- 만약 x가 scalar가 아닌 경우, `.backward()` 호출 시 gradient의 shape를 지정하는 argument를 전달해야함\n",
        "(`.backward()`를 호출하는 tensor와 같은 shape 이며 각 요소로 scalar 1을 가지는 tensor 인스턴스가 주로 argument로 사용됨.)"
      ],
      "metadata": {
        "id": "3ivJkFDCItKJ"
      }
    },
    {
      "cell_type": "markdown",
      "source": [
        "## 2. tensor 인스턴스에 대한 연산 기재\n",
        "`requires_grad=True`인 경우 not working (`.detach()` 필요.)"
      ],
      "metadata": {
        "id": "6yb44PyO-C9k"
      }
    },
    {
      "cell_type": "markdown",
      "source": [
        "- `requires_grad=True`인 tensor 인스턴스에 연결된 모든 tensor 인스턴스도 다 `requires_grad=True` 임.\n",
        "- 맨 처음 `requires_grad=True` 로 지정한 tensor 인스턴스는 `is_leaf`는 True로 설정되고, 이후 해당 인스턴스에 연결되는 Tensor들은 False 임.\n",
        "- 이들 연결된 tensor들의 `grad_fn` 에 Backward function이 할당됨\n",
        "\n",
        "leaf node 가 아닌 다른 tensor 와 연산으로 만들어진 tensor 인스턴스에 대해\n",
        "Gradient를 구하고 싶을때는 해당 tensor 인스턴스의 메서드 `.retain_grad()`를\n",
        ".backward() 호출 전에 호출하면 됨: <br>\n",
        "이를 통해 해당 tensor 인스턴스의 gradient를 \"유지\"하게 됨.\n",
        "\n"
      ],
      "metadata": {
        "id": "eTnnsrH--ViV"
      }
    },
    {
      "cell_type": "code",
      "source": [
        "y = 3 * x + 10\n",
        "\n",
        "display(y)"
      ],
      "metadata": {
        "colab": {
          "base_uri": "https://localhost:8080/",
          "height": 35
        },
        "id": "52Oe_4BP-QOR",
        "outputId": "d54adbdf-e6e2-4f57-c4ba-ac2d7733217f"
      },
      "execution_count": 31,
      "outputs": [
        {
          "output_type": "display_data",
          "data": {
            "text/plain": [
              "tensor([ 7.0000,  8.5000, 10.0000, 11.5000], grad_fn=<AddBackward0>)"
            ]
          },
          "metadata": {}
        }
      ]
    },
    {
      "cell_type": "code",
      "source": [
        "import matplotlib.pyplot as plt\n",
        "\n",
        "# plt.plot(x, y) # requires_grad=True인 경우 not working (.detach 필요.)\n",
        "plt.plot(x.detach().numpy(), y.detach().numpy()) # requires_grad=True인 경우 not working"
      ],
      "metadata": {
        "colab": {
          "base_uri": "https://localhost:8080/",
          "height": 448
        },
        "id": "qjcOXGfhAQEx",
        "outputId": "c28ccf9d-c41b-4240-c59c-7e6d59c4a171"
      },
      "execution_count": 32,
      "outputs": [
        {
          "output_type": "execute_result",
          "data": {
            "text/plain": [
              "[<matplotlib.lines.Line2D at 0x7de6d39bde40>]"
            ]
          },
          "metadata": {},
          "execution_count": 32
        },
        {
          "output_type": "display_data",
          "data": {
            "text/plain": [
              "<Figure size 640x480 with 1 Axes>"
            ],
            "image/png": "[encoded data removed]"
          },
          "metadata": {}
        }
      ]
    },
    {
      "cell_type": "markdown",
      "source": [
        "## 3. Back-propagation 수행\n",
        "\n",
        "### **초기화**\n",
        "**Training 과정 중 \"한 번의 iteration (단일 batch에 대해)\"이 끝난 후에는 grad 를 0으로 초기화해야 함.**\n",
        "- grad 를 초기화하지 않으면, 각 batch에 대한 grad가 누적되어 parameter가 잘못 update되고 제대로 학습이 이루어지지 않음.\n",
        "- training loop 에서 `x.grad.zero_()` 또는 `optimizer.zero_grad()`를 호출하여 gradient를 초기화함.\n",
        "\n",
        "\n",
        "### **과정**\n",
        "- backpropagation이 시작되는 loss function의 결과 Tensor 인스턴스 ( b )에서\n",
        "backward() 메서드를 수행하여 gradient 계산.\n",
        "- computational graph의 leaf node의 attribute 인 .grad 에 계산된 gradient를 accumulate 시킴.\n",
        "\n",
        "### **argument**\n",
        "- `.backward()`가 호출될 때의 argument는 호출에 사용되는 tensor 인스턴스와 같은 shape이면서 scalar 1 값을 가져야 함\n",
        "- `.backward()` 메서드를 호출하는 tensor 인스턴스가 scalar 여야 한다.\n",
        "\n",
        "### **`retain_graph`**\n",
        "`.backward()`를 여러 번 수행하는 경우 필요.\n",
        "- `retain_graph=True`: `.backward()`를 여러차례 호출 가능.\n",
        "- `retain_graph=False`: forward phase에서 구해진 중간값들이 free되어 다시 `.backward()`를 호출하면 runtime error 발생."
      ],
      "metadata": {
        "id": "bqCqtxrQ_D-n"
      }
    },
    {
      "cell_type": "code",
      "source": [
        "y.backward(torch.ones_like(y))\n",
        "\n",
        "# 다시 backward를 하기 전 꼭 초기화할것.\n",
        "# 안하면 누적되기 때문임.\n",
        "# 우선 누적되는 여부를 보기 위해 주석처리가 되어 있음.\n",
        "# x.grad.zero_() #inplace op."
      ],
      "metadata": {
        "id": "G_OHphEDATJa"
      },
      "execution_count": 33,
      "outputs": []
    },
    {
      "cell_type": "markdown",
      "source": [
        "## 4. Gradient 확인"
      ],
      "metadata": {
        "id": "nQrvR2Wi_n5t"
      }
    },
    {
      "cell_type": "code",
      "source": [
        "# y = 3 * x + 10이기 때문에 3으로 나옴.\n",
        "display(x.grad)"
      ],
      "metadata": {
        "colab": {
          "base_uri": "https://localhost:8080/",
          "height": 35
        },
        "id": "AO_F5hiSBqo_",
        "outputId": "7c25eabb-f9c9-4f5b-de6f-84a00879959c"
      },
      "execution_count": 34,
      "outputs": [
        {
          "output_type": "display_data",
          "data": {
            "text/plain": [
              "tensor([3., 3., 3., 3.])"
            ]
          },
          "metadata": {}
        }
      ]
    },
    {
      "cell_type": "code",
      "source": [
        "cg = torchviz.make_dot(y, params={\"input\":x, \"output\":y})\n",
        "\n",
        "cg.render(\"graph\", view=True) # save pdf\n",
        "display(cg) # jupyter note에서 확인."
      ],
      "metadata": {
        "colab": {
          "base_uri": "https://localhost:8080/",
          "height": 380
        },
        "id": "x22aTmkNBtDc",
        "outputId": "a006509b-c595-4ee8-e627-8010f6d99c0f"
      },
      "execution_count": 9,
      "outputs": [
        {
          "output_type": "display_data",
          "data": {
            "image/svg+xml": "<?xml version=\"1.0\" encoding=\"UTF-8\" standalone=\"no\"?>\n<!DOCTYPE svg PUBLIC \"-//W3C//DTD SVG 1.1//EN\"\n \"http://www.w3.org/Graphics/SVG/1.1/DTD/svg11.dtd\">\n<!-- Generated by graphviz version 2.43.0 (0)\n -->\n<!-- Title: %3 Pages: 1 -->\n<svg width=\"109pt\" height=\"269pt\"\n viewBox=\"0.00 0.00 109.00 269.00\" xmlns=\"http://www.w3.org/2000/svg\" xmlns:xlink=\"http://www.w3.org/1999/xlink\">\n<g id=\"graph0\" class=\"graph\" transform=\"scale(1 1) rotate(0) translate(4 265)\">\n<title>%3</title>\n<polygon fill=\"white\" stroke=\"transparent\" points=\"-4,4 -4,-265 105,-265 105,4 -4,4\"/>\n<!-- 138430414944384 -->\n<g id=\"node1\" class=\"node\">\n<title>138430414944384</title>\n<polygon fill=\"#caff70\" stroke=\"black\" points=\"77.5,-30 23.5,-30 23.5,0 77.5,0 77.5,-30\"/>\n<text text-anchor=\"middle\" x=\"50.5\" y=\"-18\" font-family=\"monospace\" font-size=\"10.00\">output</text>\n<text text-anchor=\"middle\" x=\"50.5\" y=\"-7\" font-family=\"monospace\" font-size=\"10.00\"> (4)</text>\n</g>\n<!-- 138430358095808 -->\n<g id=\"node2\" class=\"node\">\n<title>138430358095808</title>\n<polygon fill=\"lightgrey\" stroke=\"black\" points=\"95,-85 6,-85 6,-66 95,-66 95,-85\"/>\n<text text-anchor=\"middle\" x=\"50.5\" y=\"-73\" font-family=\"monospace\" font-size=\"10.00\">AddBackward0</text>\n</g>\n<!-- 138430358095808&#45;&gt;138430414944384 -->\n<g id=\"edge4\" class=\"edge\">\n<title>138430358095808&#45;&gt;138430414944384</title>\n<path fill=\"none\" stroke=\"black\" d=\"M50.5,-65.87C50.5,-59.11 50.5,-49.35 50.5,-40.26\"/>\n<polygon fill=\"black\" stroke=\"black\" points=\"54,-40.11 50.5,-30.11 47,-40.11 54,-40.11\"/>\n</g>\n<!-- 138430358100944 -->\n<g id=\"node3\" class=\"node\">\n<title>138430358100944</title>\n<polygon fill=\"lightgrey\" stroke=\"black\" points=\"95,-140 6,-140 6,-121 95,-121 95,-140\"/>\n<text text-anchor=\"middle\" x=\"50.5\" y=\"-128\" font-family=\"monospace\" font-size=\"10.00\">MulBackward0</text>\n</g>\n<!-- 138430358100944&#45;&gt;138430358095808 -->\n<g id=\"edge1\" class=\"edge\">\n<title>138430358100944&#45;&gt;138430358095808</title>\n<path fill=\"none\" stroke=\"black\" d=\"M50.5,-120.75C50.5,-113.8 50.5,-103.85 50.5,-95.13\"/>\n<polygon fill=\"black\" stroke=\"black\" points=\"54,-95.09 50.5,-85.09 47,-95.09 54,-95.09\"/>\n</g>\n<!-- 138430358105984 -->\n<g id=\"node4\" class=\"node\">\n<title>138430358105984</title>\n<polygon fill=\"lightgrey\" stroke=\"black\" points=\"101,-195 0,-195 0,-176 101,-176 101,-195\"/>\n<text text-anchor=\"middle\" x=\"50.5\" y=\"-183\" font-family=\"monospace\" font-size=\"10.00\">AccumulateGrad</text>\n</g>\n<!-- 138430358105984&#45;&gt;138430358100944 -->\n<g id=\"edge2\" class=\"edge\">\n<title>138430358105984&#45;&gt;138430358100944</title>\n<path fill=\"none\" stroke=\"black\" d=\"M50.5,-175.75C50.5,-168.8 50.5,-158.85 50.5,-150.13\"/>\n<polygon fill=\"black\" stroke=\"black\" points=\"54,-150.09 50.5,-140.09 47,-150.09 54,-150.09\"/>\n</g>\n<!-- 138430414945184 -->\n<g id=\"node5\" class=\"node\">\n<title>138430414945184</title>\n<polygon fill=\"lightblue\" stroke=\"black\" points=\"77.5,-261 23.5,-261 23.5,-231 77.5,-231 77.5,-261\"/>\n<text text-anchor=\"middle\" x=\"50.5\" y=\"-249\" font-family=\"monospace\" font-size=\"10.00\">input</text>\n<text text-anchor=\"middle\" x=\"50.5\" y=\"-238\" font-family=\"monospace\" font-size=\"10.00\"> (4)</text>\n</g>\n<!-- 138430414945184&#45;&gt;138430358105984 -->\n<g id=\"edge3\" class=\"edge\">\n<title>138430414945184&#45;&gt;138430358105984</title>\n<path fill=\"none\" stroke=\"black\" d=\"M50.5,-230.84C50.5,-223.21 50.5,-213.7 50.5,-205.45\"/>\n<polygon fill=\"black\" stroke=\"black\" points=\"54,-205.27 50.5,-195.27 47,-205.27 54,-205.27\"/>\n</g>\n</g>\n</svg>\n",
            "text/plain": [
              "<graphviz.graphs.Digraph at 0x7de6d4522ec0>"
            ]
          },
          "metadata": {}
        }
      ]
    },
    {
      "cell_type": "code",
      "source": [
        "# x.grad를 초기화하지 않고 다른 loss에서의 grad 계산을 수행시 중첩됨.\n",
        "y2 = 2*x\n",
        "y2.backward(torch.ones_like(y2))\n",
        "\n",
        "display(x.grad) # 앞서의 3과 현재의 2가 더해져 5로 나옴."
      ],
      "metadata": {
        "colab": {
          "base_uri": "https://localhost:8080/",
          "height": 35
        },
        "id": "yJ8zf8R9Bu2e",
        "outputId": "69b2aeaa-6ed4-4c42-ec1e-c2c9b5377df3"
      },
      "execution_count": 35,
      "outputs": [
        {
          "output_type": "display_data",
          "data": {
            "text/plain": [
              "tensor([5., 5., 5., 5.])"
            ]
          },
          "metadata": {}
        }
      ]
    },
    {
      "cell_type": "code",
      "source": [
        "# 중첩을 막으려면\n",
        "y3 = 4*x\n",
        "x.grad.zero_()\n",
        "print(torch.ones_like(y3))\n",
        "print(y3)\n",
        "y3.backward(torch.ones_like(y3))\n",
        "\n",
        "display(x.grad)"
      ],
      "metadata": {
        "colab": {
          "base_uri": "https://localhost:8080/",
          "height": 71
        },
        "id": "k58ADqk5fMhu",
        "outputId": "7d4ef9af-c84a-4968-edb1-eb854bcbe465"
      },
      "execution_count": 42,
      "outputs": [
        {
          "output_type": "stream",
          "name": "stdout",
          "text": [
            "tensor([1., 1., 1., 1.])\n",
            "tensor([-4., -2.,  0.,  2.], grad_fn=<MulBackward0>)\n"
          ]
        },
        {
          "output_type": "display_data",
          "data": {
            "text/plain": [
              "tensor([4., 4., 4., 4.])"
            ]
          },
          "metadata": {}
        }
      ]
    },
    {
      "cell_type": "markdown",
      "source": [
        "## 주로 사용되는 방법"
      ],
      "metadata": {
        "id": "QnZhOV99lZ-I"
      }
    },
    {
      "cell_type": "code",
      "source": [
        "# 예제 코드\n",
        "for data, target in dataset:\n",
        "    optimizer.zero_grad() # model의 모든 parameters의 grad를 0으로 초기화\n",
        "    output = model(data)\n",
        "    loss = loss_function(output, target)\n",
        "    loss.backward()   # back-propagation을 통해 gradient 계산\n",
        "    optimizer.step()  # 계산된 gradient를 통해 model의 parameters 갱신 (or 수정)."
      ],
      "metadata": {
        "id": "p6vuG4qVhA43"
      },
      "execution_count": null,
      "outputs": []
    }
  ]
}