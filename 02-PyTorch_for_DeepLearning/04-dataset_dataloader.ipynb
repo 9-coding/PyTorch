{
  "nbformat": 4,
  "nbformat_minor": 0,
  "metadata": {
    "colab": {
      "provenance": [],
      "authorship_tag": "ABX9TyOfQhvM3PGPwfnZKYJ8Ugaa",
      "include_colab_link": true
    },
    "kernelspec": {
      "name": "python3",
      "display_name": "Python 3"
    },
    "language_info": {
      "name": "python"
    }
  },
  "cells": [
    {
      "cell_type": "markdown",
      "metadata": {
        "id": "view-in-github",
        "colab_type": "text"
      },
      "source": [
        "<a href=\"https://colab.research.google.com/github/9-coding/PyTorch/blob/main/18_dataset_dataloader.ipynb\" target=\"_parent\"><img src=\"https://colab.research.google.com/assets/colab-badge.svg\" alt=\"Open In Colab\"/></a>"
      ]
    },
    {
      "cell_type": "markdown",
      "source": [
        "# Dataset & DataLoader"
      ],
      "metadata": {
        "id": "esI5UHp48-Ru"
      }
    },
    {
      "cell_type": "code",
      "execution_count": null,
      "metadata": {
        "id": "vRctVpo1842q"
      },
      "outputs": [],
      "source": [
        "import torch\n",
        "import numpy as np\n",
        "\n",
        "from torch.utils.data import Dataset, DataLoader\n",
        "from collections.abc import Iterator, Iterable, Sized"
      ]
    },
    {
      "cell_type": "markdown",
      "source": [
        "## Dataset\n",
        "- PyTorch 의 tensor 와 학습에 사용될 일반 raw data (흔히, storage에 저장된 파일들) 사이에 위치.\n",
        "- raw-data로부터 PyTorch의 기본데이터형 인 tensor를 얻게 해주는 역할을 수행하는 class."
      ],
      "metadata": {
        "id": "2W_WPbt89Fbl"
      }
    },
    {
      "cell_type": "markdown",
      "source": [
        "## Custom Dataset 만들기\n",
        "torch.uitl.data 모듈의 Dataset을 상속하고,\n",
        "다음의 methods를 overriding해야 함.\n",
        "\n",
        "###`__init__(self)`\n",
        "- Dataset 인스턴스에 대한 **생성자**로 데이터셋에 대한 초기화를 담당.\n",
        "- raw-data에 따라 **parameters를 자유롭게 추가**할 수 있음.\n",
        "\n",
        "###`__len__(self)`\n",
        "- Dataset 인스턴스 내에 있는 샘플 갯수를 반환하도록 구현.\n",
        "\n",
        "###`__getitem__(self, idx)`\n",
        "- argument로 넘어오는 idx 에 해당하는 샘플을 반환하도록 구현.\n",
        "- `dataset[idx]` 등으로 Dataset 인스턴스인 dataset에 대해 idx에 해당하는 데이터셋 샘플에 접근할 때 호출됨.\n",
        "- 하나의 샘플은 input feature data와 label을 묶어서 tuple로 반환."
      ],
      "metadata": {
        "id": "60PunUR-9GUD"
      }
    },
    {
      "cell_type": "code",
      "source": [
        "class CustomDataset(Dataset):\n",
        "    def __init__(self, data, labels):\n",
        "        self.data = torch.tensor(data).float()\n",
        "        self.labels = torch.tensor(labels).float()\n",
        "\n",
        "    def __len__(self):\n",
        "        return len(self.data)\n",
        "\n",
        "    def __getitem__(self, idx):\n",
        "        sample = self.data[idx]\n",
        "        label = self.labels[idx]\n",
        "        return sample, label\n",
        "\n",
        "x = [ 0.5, 14.0, 15.0, 28.0, 11.0,  8.0,  3.0, -4.0,  6.0, 13.0, 21.0] # data\n",
        "y = [35.7, 55.9, 58.2, 81.9, 56.3, 48.9, 33.9, 21.8, 48.4, 60.4, 68.4] # labels\n",
        "\n",
        "dataset = CustomDataset(x, y)"
      ],
      "metadata": {
        "id": "zGYm9_t49Hrz"
      },
      "execution_count": null,
      "outputs": []
    },
    {
      "cell_type": "code",
      "source": [
        "CustomDataset.mro()"
      ],
      "metadata": {
        "colab": {
          "base_uri": "https://localhost:8080/"
        },
        "id": "7RloGDux9Jod",
        "outputId": "8d952720-0789-4879-fce6-ad56535d55c5"
      },
      "execution_count": null,
      "outputs": [
        {
          "output_type": "execute_result",
          "data": {
            "text/plain": [
              "[__main__.CustomDataset,\n",
              " torch.utils.data.dataset.Dataset,\n",
              " typing.Generic,\n",
              " object]"
            ]
          },
          "metadata": {},
          "execution_count": 29
        }
      ]
    },
    {
      "cell_type": "code",
      "source": [
        "print(isinstance(dataset, Iterator))\n",
        "print(isinstance(dataset, Dataset))"
      ],
      "metadata": {
        "colab": {
          "base_uri": "https://localhost:8080/"
        },
        "id": "0RU1IBrd9NCj",
        "outputId": "8f626513-5a3d-4a03-c63e-a8b45f0068f0"
      },
      "execution_count": null,
      "outputs": [
        {
          "output_type": "stream",
          "name": "stdout",
          "text": [
            "False\n",
            "True\n"
          ]
        }
      ]
    },
    {
      "cell_type": "code",
      "source": [
        "i = iter(dataset)\n",
        "print(next(i))\n",
        "print(i.__next__())"
      ],
      "metadata": {
        "colab": {
          "base_uri": "https://localhost:8080/"
        },
        "id": "Nlofokja9NU8",
        "outputId": "b60bfcd3-2cf0-41f9-a389-f90b46a83f6c"
      },
      "execution_count": null,
      "outputs": [
        {
          "output_type": "stream",
          "name": "stdout",
          "text": [
            "(tensor(0.5000), tensor(35.7000))\n",
            "(tensor(14.), tensor(55.9000))\n"
          ]
        }
      ]
    },
    {
      "cell_type": "code",
      "source": [
        "# absolute base class\n",
        "class sub_sized(Sized):\n",
        "  def __len__(self):\n",
        "    print('=====')\n",
        "    return 10"
      ],
      "metadata": {
        "id": "2fIekdyE9Pt-"
      },
      "execution_count": null,
      "outputs": []
    },
    {
      "cell_type": "code",
      "source": [
        "a = sub_sized()\n",
        "len(a)"
      ],
      "metadata": {
        "colab": {
          "base_uri": "https://localhost:8080/"
        },
        "id": "0OEMJsgS9Q1A",
        "outputId": "45eb3361-8607-4533-d9e7-df617bc8ccb8"
      },
      "execution_count": null,
      "outputs": [
        {
          "output_type": "stream",
          "name": "stdout",
          "text": [
            "=====\n"
          ]
        },
        {
          "output_type": "execute_result",
          "data": {
            "text/plain": [
              "10"
            ]
          },
          "metadata": {},
          "execution_count": 33
        }
      ]
    },
    {
      "cell_type": "markdown",
      "source": [
        "## DataLoader\n",
        "\n",
        "Dataset을 통해 데이터 로딩을 수행하는 Class.\n",
        "\n",
        "Dataset으로부터 실제 Training Loop등에 training (mini)batch를 묶어서 효율적으로 제공해주는 역할을 수행\n",
        "\n",
        "- data loading: raw-data로부터 tensor 를 얻어내는 과정 수행.\n",
        "- 병렬 처리: storage에서 데이터를 읽어들이는 loading\n",
        "은 속도가 느리므로 병렬처리\n",
        "- shuffle: training 에서 데이터 샘플의 순서를 섞음.\n",
        "\n",
        "\n",
        "DataLoader는 Dataset 을 제공해 줄 경우,\n",
        "해당 Dataset을 통해 이루어지는 데이터 로딩을\n",
        "병렬처리 및 shuffle, minibatch로 나누는 기능 등을 추가하여 수행하도록 도와줌."
      ],
      "metadata": {
        "id": "t9NtEPV59SZG"
      }
    },
    {
      "cell_type": "markdown",
      "source": [
        "```\n",
        "data_loader = DataLoader(\n",
        "    dataset,     # torch.utils.data.Dataset의 instance\n",
        "    batch_size,  # batch의 샘플수\n",
        "    shffule,     # boolean, 셔플링을 할지 여부(순서를 랜덤하게)\n",
        "    num_workers, # 데이터로딩에 사용되는 sub-process의 수 (CPU의 core수를 넘으면 안됨.)\n",
        "    pin_memory,  # boolean, GPU memory 영역을 예약할지 여부(pin).\n",
        "    drop_last,   # boolean, 마지막 batch가 샘플의 수가 맞지 않을 경우 drop할지 여부.\n",
        "    )\n",
        "```"
      ],
      "metadata": {
        "id": "759c9pey9Uxf"
      }
    },
    {
      "cell_type": "code",
      "source": [
        "data_loader = DataLoader(\n",
        "    dataset,\n",
        "    batch_size = 4,\n",
        "    shuffle = True,\n",
        ")\n",
        "\n",
        "for batch_idx, (data, labels) in enumerate(data_loader):\n",
        "    print(f'{batch_idx=}')\n",
        "    print(f'{data.shape} | {data=}')\n",
        "    print(f'{labels.shape} | {labels=}')\n",
        "\n",
        "    # training ..."
      ],
      "metadata": {
        "colab": {
          "base_uri": "https://localhost:8080/"
        },
        "id": "6nXlzvbt9W37",
        "outputId": "92285b3d-94fe-48fe-d533-b702db93243f"
      },
      "execution_count": null,
      "outputs": [
        {
          "output_type": "stream",
          "name": "stdout",
          "text": [
            "batch_idx=0\n",
            "torch.Size([4]) | data=tensor([ 0.5000, 21.0000, 15.0000, 13.0000])\n",
            "torch.Size([4]) | labels=tensor([35.7000, 68.4000, 58.2000, 60.4000])\n",
            "batch_idx=1\n",
            "torch.Size([4]) | data=tensor([-4., 11., 14.,  3.])\n",
            "torch.Size([4]) | labels=tensor([21.8000, 56.3000, 55.9000, 33.9000])\n",
            "batch_idx=2\n",
            "torch.Size([3]) | data=tensor([28.,  8.,  6.])\n",
            "torch.Size([3]) | labels=tensor([81.9000, 48.9000, 48.4000])\n"
          ]
        }
      ]
    }
  ]
}