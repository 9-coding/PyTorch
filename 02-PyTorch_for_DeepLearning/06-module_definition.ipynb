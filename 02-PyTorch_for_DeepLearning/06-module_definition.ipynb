{
  "nbformat": 4,
  "nbformat_minor": 0,
  "metadata": {
    "colab": {
      "provenance": []
    },
    "kernelspec": {
      "name": "python3",
      "display_name": "Python 3"
    },
    "language_info": {
      "name": "python"
    }
  },
  "cells": [
    {
      "cell_type": "markdown",
      "source": [
        "# `nn.Sequential`, `nn.ModuleList`, `nn.ModuleDict`"
      ],
      "metadata": {
        "id": "lo8KK2ksCwD1"
      }
    },
    {
      "cell_type": "code",
      "source": [
        "import torch\n",
        "from torch import nn"
      ],
      "metadata": {
        "id": "OIYXLXtoCjxq"
      },
      "execution_count": null,
      "outputs": []
    },
    {
      "cell_type": "markdown",
      "source": [
        "## `nn.Sequential`\n",
        "- 여러 모듈을 정의한 대로 순차적으로 실행할 수 있도록 함.\n",
        "- 간단한 네트워크 구조 만들 때 유용.\n",
        "- 직관적으로 정의 가능."
      ],
      "metadata": {
        "id": "CTuQLpat3vyJ"
      }
    },
    {
      "cell_type": "code",
      "source": [
        "model = nn.Sequential(\n",
        "    nn.Linear(10, 20),\n",
        "    nn.ReLU(),\n",
        "    nn.Linear(20, 10)\n",
        ")\n",
        "\n",
        "print(model)"
      ],
      "metadata": {
        "colab": {
          "base_uri": "https://localhost:8080/"
        },
        "id": "zI5wOkRz7gZK",
        "outputId": "ef997d74-7f18-4d7b-ad8d-fa587fe1437e"
      },
      "execution_count": null,
      "outputs": [
        {
          "output_type": "stream",
          "name": "stdout",
          "text": [
            "Sequential(\n",
            "  (0): Linear(in_features=10, out_features=20, bias=True)\n",
            "  (1): ReLU()\n",
            "  (2): Linear(in_features=20, out_features=10, bias=True)\n",
            ")\n"
          ]
        }
      ]
    },
    {
      "cell_type": "markdown",
      "source": [
        "## `nn.ModuleList`\n",
        "- `nn.Module`을 list처럼 다룰 수 있음.\n",
        "- 반복문 통해 순차적으로 모듈 적용에 유리\n",
        "- list에 포함된 모듈을 올바르게 등록되고 관리됨.\n",
        "- model parameter 자동 추적\n",
        "- `to()`, `cuda()`, `cpu()`와 같은 method 사용 가능."
      ],
      "metadata": {
        "id": "xbGHUmIx36CK"
      }
    },
    {
      "cell_type": "code",
      "source": [
        "class MyModel(nn.Module):\n",
        "    def __init__(self):\n",
        "        super(MyModel, self).__init__()\n",
        "        self.layers = nn.ModuleList([\n",
        "            nn.Linear(10, 20),\n",
        "            nn.ReLU(),\n",
        "            nn.Linear(20, 10)\n",
        "        ])\n",
        "\n",
        "    def forward(self, x):\n",
        "        for layer in self.layers:\n",
        "            x = layer(x)\n",
        "        return x\n",
        "\n",
        "model = MyModel()\n",
        "print(model)"
      ],
      "metadata": {
        "id": "_EhJWx9u8IVv",
        "outputId": "d9d8d109-81aa-4c9a-b836-d2f05186f5a0",
        "colab": {
          "base_uri": "https://localhost:8080/"
        }
      },
      "execution_count": null,
      "outputs": [
        {
          "output_type": "stream",
          "name": "stdout",
          "text": [
            "MyModel(\n",
            "  (layers): ModuleList(\n",
            "    (0): Linear(in_features=10, out_features=20, bias=True)\n",
            "    (1): ReLU()\n",
            "    (2): Linear(in_features=20, out_features=10, bias=True)\n",
            "  )\n",
            ")\n"
          ]
        }
      ]
    },
    {
      "cell_type": "markdown",
      "source": [
        "## `nn.ModuleDict`\n",
        "- `nn.Module`을 dictionary처럼 다룰 수 있음.\n",
        "- 키를 사용하여 모듈에 접근할 때 유용\n",
        "- list에 포함된 모듈을 올바르게 등록되고 관리됨.\n",
        "- model parameter 자동 추적\n",
        "- `to()`, `cuda()`, `cpu()`와 같은 method 사용 가능.\n",
        "- 이름을 지정하면 디버깅시 확인이 매우 편함."
      ],
      "metadata": {
        "id": "EkQMP2J63_QQ"
      }
    },
    {
      "cell_type": "code",
      "source": [
        "class MyModel(nn.Module):\n",
        "    def __init__(self):\n",
        "        super(MyModel, self).__init__()\n",
        "        self.layers = nn.ModuleDict({\n",
        "            'fc1': nn.Linear(10, 20),\n",
        "            'relu': nn.ReLU(),\n",
        "            'fc2': nn.Linear(20, 10)\n",
        "        })\n",
        "\n",
        "    def forward(self, x):\n",
        "        x = self.layers['fc1'](x)\n",
        "        x = self.layers['relu'](x)\n",
        "        x = self.layers['fc2'](x)\n",
        "        return x\n",
        "\n",
        "model = MyModel()\n",
        "print(model)"
      ],
      "metadata": {
        "colab": {
          "base_uri": "https://localhost:8080/"
        },
        "id": "ZK35rvCX-Ibi",
        "outputId": "5e655273-9761-4524-c2ac-0f34fdfb183b"
      },
      "execution_count": null,
      "outputs": [
        {
          "output_type": "stream",
          "name": "stdout",
          "text": [
            "MyModel(\n",
            "  (layers): ModuleDict(\n",
            "    (fc1): Linear(in_features=10, out_features=20, bias=True)\n",
            "    (relu): ReLU()\n",
            "    (fc2): Linear(in_features=20, out_features=10, bias=True)\n",
            "  )\n",
            ")\n"
          ]
        }
      ]
    },
    {
      "cell_type": "markdown",
      "source": [
        "## 일반 list나 dict 사용\n",
        "- 일반 list / dict를 사용하면 parameter로 선언이 안 되기 때문에 학습 자체가 불가.\n",
        "- parameter 자동 추적 불가.\n",
        "- 포함된 모든 모듈이 자동으로 cpu/gpu로 이동하지 않음."
      ],
      "metadata": {
        "id": "Ioi_7VEM_kXo"
      }
    }
  ]
}