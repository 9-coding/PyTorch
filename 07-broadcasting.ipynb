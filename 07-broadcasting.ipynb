{
  "nbformat": 4,
  "nbformat_minor": 0,
  "metadata": {
    "colab": {
      "provenance": [],
      "authorship_tag": "ABX9TyPlFMK60eTkGfYta+1zkrfo",
      "include_colab_link": true
    },
    "kernelspec": {
      "name": "python3",
      "display_name": "Python 3"
    },
    "language_info": {
      "name": "python"
    }
  },
  "cells": [
    {
      "cell_type": "markdown",
      "metadata": {
        "id": "view-in-github",
        "colab_type": "text"
      },
      "source": [
        "<a href=\"https://colab.research.google.com/github/9-coding/PyTorch/blob/main/07-broadcasting.ipynb\" target=\"_parent\"><img src=\"https://colab.research.google.com/assets/colab-badge.svg\" alt=\"Open In Colab\"/></a>"
      ]
    },
    {
      "cell_type": "markdown",
      "source": [
        "# Broadcasting\n",
        "\n",
        "차원이 맞지 않는 matrix 혹은 matrix와 scalar를 연산시킬 때 **차원 또는 길이를 확장시켜** 연산이 가능하도록 하는 기능.\n",
        "- numpy, pytorch, tensorflow에서 같은 방식으로 동작."
      ],
      "metadata": {
        "id": "cxz6FOH6cjHe"
      }
    },
    {
      "cell_type": "code",
      "execution_count": 2,
      "metadata": {
        "id": "RbYIEFf8cL5-"
      },
      "outputs": [],
      "source": [
        "import numpy as np\n",
        "import torch\n",
        "import tensorflow as tf"
      ]
    },
    {
      "cell_type": "code",
      "source": [
        "for c in [np, torch, tf]:\n",
        "  print(c.__name__, c.__version__)"
      ],
      "metadata": {
        "colab": {
          "base_uri": "https://localhost:8080/"
        },
        "id": "zSpXRGK6cpc7",
        "outputId": "00c0d562-793c-448a-bafa-e2ffc505d8e7"
      },
      "execution_count": 3,
      "outputs": [
        {
          "output_type": "stream",
          "name": "stdout",
          "text": [
            "numpy 1.25.2\n",
            "torch 2.2.1+cu121\n",
            "tensorflow 2.15.0\n"
          ]
        }
      ]
    },
    {
      "cell_type": "markdown",
      "source": [
        "## 차원의 수(ndim)가 같지 않은 경우\n",
        "\n",
        "**적은 ndarray의 shape가 leading side쪽(shape에서 왼쪽)으로 1로 padding됨.**\n",
        "\n",
        "- A의 shape가 (3,4,1) 이고, B의 shape가 (1,2)이면,\n",
        "- B가 2차원(ndim=2)이므로 3차원(ndim=3)으로 늘어나고,\n",
        "- leading side(왼쪽)로 1로 padding된 shape가 됨.\n",
        "- **B는 (1,2)에서 (1,1,2)가 되고**\n",
        "- 1차원인 부분이 확장되면서 최종 행렬은 (3,4,2)가 됨.\n",
        "\n",
        "이 경우 길이가 1인 차원이 포함되지 않았더라도 padding된 이후에 나머지 차원의 크기가 맞으면 성립함.\n",
        "- (3,2,4) 행렬과 (2,4) 행렬 -> 연산 가능\n"
      ],
      "metadata": {
        "id": "Ee63Yp9TfcBw"
      }
    },
    {
      "cell_type": "code",
      "source": [
        "# numpy\n",
        "a = np.ones((3,4,1))\n",
        "b = np.ones((1,2))\n",
        "print(\"a\\n\", a)\n",
        "print(\"b\\n\", b)\n",
        "c = a+b\n",
        "print(\"b\\n\", c)\n",
        "print(c.shape, end='\\n\\n')\n",
        "\n",
        "# torch\n",
        "a_torch = torch.ones((3,4,1))\n",
        "b_torch = torch.ones((2))\n",
        "c_torch = a_torch + b_torch\n",
        "print(c_torch.shape, end='\\n\\n')\n",
        "\n",
        "# tensorflow\n",
        "a_tf = tf.ones((3,4,1))\n",
        "b_tf = tf.ones((2))\n",
        "c_tf = a_tf + b_tf\n",
        "print(c_tf.shape)"
      ],
      "metadata": {
        "colab": {
          "base_uri": "https://localhost:8080/"
        },
        "id": "YtCZ-iGNgMCx",
        "outputId": "7445a242-4085-428f-a773-f904f56bf78b"
      },
      "execution_count": 17,
      "outputs": [
        {
          "output_type": "stream",
          "name": "stdout",
          "text": [
            "a\n",
            " [[[1.]\n",
            "  [1.]\n",
            "  [1.]\n",
            "  [1.]]\n",
            "\n",
            " [[1.]\n",
            "  [1.]\n",
            "  [1.]\n",
            "  [1.]]\n",
            "\n",
            " [[1.]\n",
            "  [1.]\n",
            "  [1.]\n",
            "  [1.]]]\n",
            "b\n",
            " [[1. 1.]]\n",
            "b\n",
            " [[[2. 2.]\n",
            "  [2. 2.]\n",
            "  [2. 2.]\n",
            "  [2. 2.]]\n",
            "\n",
            " [[2. 2.]\n",
            "  [2. 2.]\n",
            "  [2. 2.]\n",
            "  [2. 2.]]\n",
            "\n",
            " [[2. 2.]\n",
            "  [2. 2.]\n",
            "  [2. 2.]\n",
            "  [2. 2.]]]\n",
            "(3, 4, 2)\n",
            "\n",
            "torch.Size([3, 4, 2])\n",
            "\n",
            "(3, 4, 2)\n"
          ]
        }
      ]
    },
    {
      "cell_type": "code",
      "source": [
        "a = np.ones((3, 2, 4))\n",
        "b = np.ones((2, 4))\n",
        "a+b"
      ],
      "metadata": {
        "colab": {
          "base_uri": "https://localhost:8080/"
        },
        "id": "3gEef4fECaKd",
        "outputId": "2ee0dd5f-60cb-48b7-e9df-b3f0b5d490e4"
      },
      "execution_count": 20,
      "outputs": [
        {
          "output_type": "execute_result",
          "data": {
            "text/plain": [
              "array([[[2., 2., 2., 2.],\n",
              "        [2., 2., 2., 2.]],\n",
              "\n",
              "       [[2., 2., 2., 2.],\n",
              "        [2., 2., 2., 2.]],\n",
              "\n",
              "       [[2., 2., 2., 2.],\n",
              "        [2., 2., 2., 2.]]])"
            ]
          },
          "metadata": {},
          "execution_count": 20
        }
      ]
    },
    {
      "cell_type": "markdown",
      "source": [
        "## 차원의 수(ndim)은 같으나, shape이 일치하지 않는 경우\n",
        "\n",
        "**ndarray 각각에서 shape가 1인 차원이 상대방의 해당하는 차원의 shape로 변경됨.**\n",
        "\n",
        "A의 shape가 (3,4,1) 이고, B의 shape가 (1,1,2)이면\n",
        "- A의 첫번째 차원의 shape 수인 3에 맞춰 B의 첫번째 차원의 shape도 3이 됨.\n",
        "- 두번째 차원의 경우, A의 4에 맞춰 B도 4로 늘어남.\n",
        "- 세번째 차원의 경우 B의 2에 맞춰 A의 1이 2로 늘어남."
      ],
      "metadata": {
        "id": "QObhUeCagMZy"
      }
    },
    {
      "cell_type": "code",
      "source": [
        "a = np.ones((3,4,1))\n",
        "b = np.ones((1,1,2))\n",
        "c = a+b\n",
        "print(c.shape, end='\\n\\n')"
      ],
      "metadata": {
        "colab": {
          "base_uri": "https://localhost:8080/"
        },
        "id": "2TmpbFfAkQyD",
        "outputId": "a487299d-b07a-4c14-fd52-c734850c1f27"
      },
      "execution_count": 5,
      "outputs": [
        {
          "output_type": "stream",
          "name": "stdout",
          "text": [
            "(3, 4, 2)\n",
            "\n"
          ]
        }
      ]
    },
    {
      "cell_type": "markdown",
      "source": [
        "# Broadcasting이 실패하는 경우\n",
        "**ndim은 같고 shape이 일치하지 않는 위의 경우에서 어느 한 쪽 ndarray가 1이 아니면 실패.**"
      ],
      "metadata": {
        "id": "mgrynUnjg9gB"
      }
    },
    {
      "cell_type": "code",
      "source": [
        "a = np.ones((3,4,1))\n",
        "b = np.ones((1,2,2))\n",
        "# c = a+b\n",
        "# print(c.shape, end='\\n\\n') # 실패. 두 번째 차원을 맞출 수 없음\n",
        "\n",
        "a = np.ones((3, 2))\n",
        "b = np.arange(3)\n",
        "# print(a+b) 실패: 차원을 맞출 수 없음\n",
        "\n",
        "a = np.ones((3, 2))\n",
        "b = np.arange(3).reshape(3,1) # 이렇게 하면 차원을 맞출 수 있음\n",
        "print(a+b)\n",
        "\n"
      ],
      "metadata": {
        "colab": {
          "base_uri": "https://localhost:8080/"
        },
        "id": "K4PMO5yzhLHT",
        "outputId": "d31f5183-a1ec-4691-b28b-47101cb1719d"
      },
      "execution_count": 6,
      "outputs": [
        {
          "output_type": "stream",
          "name": "stdout",
          "text": [
            "[[1. 1.]\n",
            " [2. 2.]\n",
            " [3. 3.]]\n"
          ]
        }
      ]
    },
    {
      "cell_type": "markdown",
      "source": [
        "## PyTorch"
      ],
      "metadata": {
        "id": "D-xgjiwVfQ_P"
      }
    },
    {
      "cell_type": "code",
      "source": [
        "# same shape\n",
        "m1 = torch.FloatTensor([[3,3]])\n",
        "m2 = torch.FloatTensor([[2,2]])\n",
        "print(m1+m2)\n",
        "print()\n",
        "\n",
        "# matrix + scalar\n",
        "m = torch.FloatTensor([[1,2]])\n",
        "s = torch.FloatTensor([3])\n",
        "print(m)\n",
        "print(s)\n",
        "print(m+s)\n",
        "print()\n",
        "\n",
        "# 2x1 matrix + 1x2 matrix\n",
        "m1 = torch.FloatTensor([[1, 2]])\n",
        "m2 = torch.FloatTensor([[3], [4]])\n",
        "print(m1)\n",
        "print(m2)\n",
        "print(m1+m2)\n"
      ],
      "metadata": {
        "id": "FcFJG-zhd3dg",
        "colab": {
          "base_uri": "https://localhost:8080/"
        },
        "outputId": "b196dfb5-2552-498c-8a81-7dea05d05b26"
      },
      "execution_count": 7,
      "outputs": [
        {
          "output_type": "stream",
          "name": "stdout",
          "text": [
            "tensor([[5., 5.]])\n",
            "\n",
            "tensor([[1., 2.]])\n",
            "tensor([3.])\n",
            "tensor([[4., 5.]])\n",
            "\n",
            "tensor([[1., 2.]])\n",
            "tensor([[3.],\n",
            "        [4.]])\n",
            "tensor([[4., 5.],\n",
            "        [5., 6.]])\n"
          ]
        }
      ]
    }
  ]
}