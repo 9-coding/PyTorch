{
  "nbformat": 4,
  "nbformat_minor": 0,
  "metadata": {
    "colab": {
      "provenance": [],
      "authorship_tag": "ABX9TyNSP0jFSs/MJxDc3uyaAZ2A",
      "include_colab_link": true
    },
    "kernelspec": {
      "name": "python3",
      "display_name": "Python 3"
    },
    "language_info": {
      "name": "python"
    }
  },
  "cells": [
    {
      "cell_type": "markdown",
      "metadata": {
        "id": "view-in-github",
        "colab_type": "text"
      },
      "source": [
        "<a href=\"https://colab.research.google.com/github/9-coding/PyTorch/blob/main/07-broadcasting.ipynb\" target=\"_parent\"><img src=\"https://colab.research.google.com/assets/colab-badge.svg\" alt=\"Open In Colab\"/></a>"
      ]
    },
    {
      "cell_type": "markdown",
      "source": [
        "# Broadcasting\n",
        "\n",
        "차원이 맞지 않는 matrix 혹은 matrix와 scalar를 연산시킬 때 **차원 또는 길이를 확장시켜** 연산이 가능하도록 하는 기능.\n",
        "- numpy, pytorch, tensorflow에서 같은 방식으로 동작."
      ],
      "metadata": {
        "id": "cxz6FOH6cjHe"
      }
    },
    {
      "cell_type": "code",
      "execution_count": 1,
      "metadata": {
        "id": "RbYIEFf8cL5-"
      },
      "outputs": [],
      "source": [
        "import numpy as np\n",
        "import torch\n",
        "import tensorflow as tf"
      ]
    },
    {
      "cell_type": "code",
      "source": [
        "for c in [np, torch, tf]:\n",
        "  print(c.__name__, c.__version__)"
      ],
      "metadata": {
        "colab": {
          "base_uri": "https://localhost:8080/"
        },
        "id": "zSpXRGK6cpc7",
        "outputId": "9456735d-8cf8-4fc8-fae5-5ba34366551d"
      },
      "execution_count": 2,
      "outputs": [
        {
          "output_type": "stream",
          "name": "stdout",
          "text": [
            "numpy 1.25.2\n",
            "torch 2.2.1+cu121\n",
            "tensorflow 2.15.0\n"
          ]
        }
      ]
    },
    {
      "cell_type": "markdown",
      "source": [
        "## 차원의 수(ndim)가 같지 않은 경우\n",
        "\n",
        "**적은 ndarray의 shape가 leading side쪽(shape에서 왼쪽)으로 1로 padding됨.**\n",
        "\n",
        "- A의 shape가 (3,4,1) 이고, B의 shape가 (1,2)이면,\n",
        "- B가 2차원(ndim=2)이므로 3차원(ndim=3)으로 늘어나고,\n",
        "- leading side(왼쪽)로 1로 padding된 shape가 됨.\n",
        "\n",
        "**B는 (1,2)에서 (1,1,2)이 됨.**\n",
        "\n"
      ],
      "metadata": {
        "id": "Ee63Yp9TfcBw"
      }
    },
    {
      "cell_type": "code",
      "source": [
        "# numpy\n",
        "a = np.ones((3,4,1))\n",
        "b = np.ones((1,2))\n",
        "print(\"a\\n\", a)\n",
        "print(\"b\\n\", b)\n",
        "c = a+b\n",
        "print(c.shape, end='\\n\\n')\n",
        "\n",
        "# torch\n",
        "a_torch = torch.ones((3,4,1))\n",
        "b_torch = torch.ones((2))\n",
        "c_torch = a_torch + b_torch\n",
        "print(c_torch.shape, end='\\n\\n')\n",
        "\n",
        "# tensorflow\n",
        "a_tf = tf.ones((3,4,1))\n",
        "b_tf = tf.ones((2))\n",
        "c_tf = a_tf + b_tf\n",
        "print(c_tf.shape)"
      ],
      "metadata": {
        "colab": {
          "base_uri": "https://localhost:8080/"
        },
        "id": "YtCZ-iGNgMCx",
        "outputId": "92826dce-0174-46be-adf2-91cab827681b"
      },
      "execution_count": 27,
      "outputs": [
        {
          "output_type": "stream",
          "name": "stdout",
          "text": [
            "a\n",
            " [[[1.]\n",
            "  [1.]\n",
            "  [1.]\n",
            "  [1.]]\n",
            "\n",
            " [[1.]\n",
            "  [1.]\n",
            "  [1.]\n",
            "  [1.]]\n",
            "\n",
            " [[1.]\n",
            "  [1.]\n",
            "  [1.]\n",
            "  [1.]]]\n",
            "b\n",
            " [[1. 1.]]\n",
            "(3, 4, 2)\n",
            "\n",
            "torch.Size([3, 4, 2])\n",
            "\n",
            "(3, 4, 2)\n"
          ]
        }
      ]
    },
    {
      "cell_type": "markdown",
      "source": [
        "## 차원의 수(ndim)은 같으나, shape이 일치하지 않는 경우\n",
        "\n",
        "**ndarray 각각에서 shape가 1인 차원이 상대방의 해당하는 차원의 shape로 변경됨.**\n",
        "\n",
        "A의 shape가 (3,4,1) 이고, B의 shape가 (1,1,2)이면\n",
        "- A의 첫번째 차원의 shape수인 3에 맞춰 B의 첫번째 차원의 shape도 3이 됨.\n",
        "- 두번째 차원의 경우, A의 4에 맞춰 B도 4로 늘어남.\n",
        "- 세번째 차원의 경우 B의 2에 맞춰 A의 1이 2로 늘어남."
      ],
      "metadata": {
        "id": "QObhUeCagMZy"
      }
    },
    {
      "cell_type": "code",
      "source": [
        "a = np.ones((3,4,1))\n",
        "b = np.ones((1,1,2))\n",
        "c = a+b\n",
        "print(c.shape, end='\\n\\n')"
      ],
      "metadata": {
        "colab": {
          "base_uri": "https://localhost:8080/"
        },
        "id": "2TmpbFfAkQyD",
        "outputId": "eb8dc35b-9bc0-4bb8-8d00-6fc006668ea8"
      },
      "execution_count": 29,
      "outputs": [
        {
          "output_type": "stream",
          "name": "stdout",
          "text": [
            "(3, 4, 2)\n",
            "\n"
          ]
        }
      ]
    },
    {
      "cell_type": "markdown",
      "source": [
        "# Broadcasting이 실패하는 경우\n",
        "**ndim은 같고 shape이 일치하지 않는 위의 경우에서 어느 한 쪽 ndarray가 1이 아니면 실패.**"
      ],
      "metadata": {
        "id": "mgrynUnjg9gB"
      }
    },
    {
      "cell_type": "code",
      "source": [
        "a = np.ones((3,4,1))\n",
        "b = np.ones((1,2,2))\n",
        "# c = a+b\n",
        "# print(c.shape, end='\\n\\n') # 실패. 두 번째 차원을 맞출 수 없음\n",
        "\n",
        "a = np.ones((3, 2))\n",
        "b = np.arange(3)\n",
        "# print(a+b) 실패: 차원을 맞출 수 없음\n",
        "\n",
        "a = np.ones((3, 2))\n",
        "b = np.arange(3).reshape(3,1) # 이렇게 하면 차원을 맞출 수 있음\n",
        "print(a+b)\n",
        "\n"
      ],
      "metadata": {
        "colab": {
          "base_uri": "https://localhost:8080/"
        },
        "id": "K4PMO5yzhLHT",
        "outputId": "63df2b9c-c601-4683-875a-3f39d13d0c41"
      },
      "execution_count": 32,
      "outputs": [
        {
          "output_type": "stream",
          "name": "stdout",
          "text": [
            "[[1. 1.]\n",
            " [2. 2.]\n",
            " [3. 3.]]\n"
          ]
        }
      ]
    },
    {
      "cell_type": "markdown",
      "source": [
        "## PyTorch"
      ],
      "metadata": {
        "id": "D-xgjiwVfQ_P"
      }
    },
    {
      "cell_type": "code",
      "source": [
        "# same shape\n",
        "m1 = torch.FloatTensor([[3,3]])\n",
        "m2 = torch.FloatTensor([[2,2]])\n",
        "print(m1+m2)\n",
        "print()\n",
        "\n",
        "# matrix + scalar\n",
        "m = torch.FloatTensor([[1,2]])\n",
        "s = torch.FloatTensor([3])\n",
        "print(m)\n",
        "print(s)\n",
        "print(m+s)\n",
        "print()\n",
        "\n",
        "# 2x1 matrix + 1x2 matrix\n",
        "m1 = torch.FloatTensor([[1, 2]])\n",
        "m2 = torch.FloatTensor([[3], [4]])\n",
        "print(m1)\n",
        "print(m2)\n",
        "print(m1+m2)\n",
        ""
      ],
      "metadata": {
        "id": "FcFJG-zhd3dg"
      },
      "execution_count": null,
      "outputs": []
    }
  ]
}