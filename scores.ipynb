{
  "nbformat": 4,
  "nbformat_minor": 0,
  "metadata": {
    "colab": {
      "provenance": [],
      "authorship_tag": "ABX9TyOlinGc8K84PoFKw6kPsCBQ",
      "include_colab_link": true
    },
    "kernelspec": {
      "name": "python3",
      "display_name": "Python 3"
    },
    "language_info": {
      "name": "python"
    }
  },
  "cells": [
    {
      "cell_type": "markdown",
      "metadata": {
        "id": "view-in-github",
        "colab_type": "text"
      },
      "source": [
        "<a href=\"https://colab.research.google.com/github/9-coding/PyTorch/blob/main/scores.ipynb\" target=\"_parent\"><img src=\"https://colab.research.google.com/assets/colab-badge.svg\" alt=\"Open In Colab\"/></a>"
      ]
    },
    {
      "cell_type": "code",
      "execution_count": null,
      "metadata": {
        "id": "Mh4-pIo0XNWr"
      },
      "outputs": [],
      "source": []
    },
    {
      "cell_type": "markdown",
      "source": [
        "# Precision (정밀도)\n",
        "### 모델이 True라고 분류한 것 중에서 실제 True인 것의 비율.\n",
        "- 모델의 입장에서 정답을 정답이라고 맞춘 경우<br>\n",
        "$\\mathrm{Precision} = \\cfrac{TP}{TP+FP}$"
      ],
      "metadata": {
        "id": "_yrgEzYOXSWH"
      }
    },
    {
      "cell_type": "markdown",
      "source": [
        "# Recall (재현율)\n",
        "### 실제 True인 것 중에서 모델이 True라고 예측한 것의 비율\n",
        "- sensitivity\n",
        "- hit rate\n",
        "- 실제 정답의 입장에서 정답을 정답이라고 맞춘 경우<br>\n",
        "$\\mathrm{Recall} = \\cfrac{TP}{TP+FN}$"
      ],
      "metadata": {
        "id": "eqsEczsvXlAg"
      }
    },
    {
      "cell_type": "markdown",
      "source": [
        "# Accuracy\n",
        "### 모든 경우를 고려하는 지표\n",
        "- False를 False라고 예측한 것도 옳은 경우에 포함. <br>\n",
        "$\\mathrm{Accuracy} = \\cfrac{TP+TN}{TP+FN+FP+TN}$"
      ],
      "metadata": {
        "id": "DsZ-78HKYT98"
      }
    },
    {
      "cell_type": "markdown",
      "source": [
        "# F1 score\n",
        "### Precision과 Recall의 조화평균\n",
        "- 데이터 label이 불균형 구조일 때 모델 성능을 정확하게 평가할 수 있고 성능을 하나의 숫자로 표현할 수 있음\n",
        "\n",
        "$\\mathrm{F1-score}\n",
        " = 2\\times\\cfrac{1}{\\cfrac{1}{\\mathrm{Precision}}+ \\cfrac{1}{\\mathrm{Recall}}}\n",
        " = 2 \\times \\cfrac{\\mathrm{Precision} \\times \\mathrm{Recall}}{\\mathrm{Precision} + \\mathrm{Recall}}\n",
        "$"
      ],
      "metadata": {
        "id": "tgHqIPrgYl3o"
      }
    }
  ]
}