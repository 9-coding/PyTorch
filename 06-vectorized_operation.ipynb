{
  "nbformat": 4,
  "nbformat_minor": 0,
  "metadata": {
    "colab": {
      "provenance": [],
      "authorship_tag": "ABX9TyPhjd2rpn5vOhLgL7073RgG",
      "include_colab_link": true
    },
    "kernelspec": {
      "name": "python3",
      "display_name": "Python 3"
    },
    "language_info": {
      "name": "python"
    }
  },
  "cells": [
    {
      "cell_type": "markdown",
      "metadata": {
        "id": "view-in-github",
        "colab_type": "text"
      },
      "source": [
        "<a href=\"https://colab.research.google.com/github/9-coding/PyTorch/blob/main/06-vectorized_operation.ipynb\" target=\"_parent\"><img src=\"https://colab.research.google.com/assets/colab-badge.svg\" alt=\"Open In Colab\"/></a>"
      ]
    },
    {
      "cell_type": "markdown",
      "source": [
        "# Vectorized Operation\n",
        "**scalar가 아닌 vector or matrix 전체에 대해 동일한 연산을 동시에 수행하는 방식.**\n",
        "- homogeneous / contiguous tensor에서 모든 elements에 대해 같은 연산을 적용하여 기존 loop 연산에 비해 속도가 빠르며 간편한 연산자 사용.\n",
        "- **코드 간결화**: 반복 루프를 사용하지 않고 vector/matrix 연산을 간결하게 표현.\n",
        "- **효율성 향상**: SIMD를 활용하여 기존보다 훨씬 빠른 연산 수행.\n",
        "- **메모리 사용량 증가**: multiple data를 한 번에 처리하므로 많은 메모리 사용을 요구함.\n",
        "- numpy, pytorch, tensorflow 등에서 기본 제공.\n"
      ],
      "metadata": {
        "id": "SYx0nPTHJI9i"
      }
    },
    {
      "cell_type": "code",
      "execution_count": 43,
      "metadata": {
        "id": "Spj4-udWJGBx"
      },
      "outputs": [],
      "source": [
        "import numpy as np\n",
        "import torch\n",
        "import tensorflow as tf\n",
        "import time"
      ]
    },
    {
      "cell_type": "code",
      "source": [
        "for c in [np, torch, tf]:\n",
        "  print(c.__name__, c.__version__)"
      ],
      "metadata": {
        "colab": {
          "base_uri": "https://localhost:8080/"
        },
        "id": "H2-s5BNZJ4QP",
        "outputId": "c3a19a05-5340-4ae2-a1e9-e89b65db9223"
      },
      "execution_count": 44,
      "outputs": [
        {
          "output_type": "stream",
          "name": "stdout",
          "text": [
            "numpy 1.25.2\n",
            "torch 2.2.1+cu121\n",
            "tensorflow 2.15.0\n"
          ]
        }
      ]
    },
    {
      "cell_type": "markdown",
      "source": [
        "## for loop과 vectorized operation의 차이\n"
      ],
      "metadata": {
        "id": "1L1DUNAjK7xK"
      }
    },
    {
      "cell_type": "code",
      "source": [
        "def add_vectors(x, y):\n",
        "  result = []\n",
        "  for i in range(len(x)):\n",
        "    result.append(x[i] + y[i])\n",
        "  return result\n",
        "\n",
        "x = np.arange(0, 1000, 1)\n",
        "y = np.arange(0, 1000, 1)\n",
        "\n",
        "start = time.time()\n",
        "z = add_vectors(x, y)\n",
        "end = time.time()\n",
        "\n",
        "print(f\"{end - start:.5f} sec\")"
      ],
      "metadata": {
        "colab": {
          "base_uri": "https://localhost:8080/"
        },
        "id": "32tDbs8jLBBC",
        "outputId": "2f741871-d270-474d-f67a-34b6ce9d3a6f"
      },
      "execution_count": 45,
      "outputs": [
        {
          "output_type": "stream",
          "name": "stdout",
          "text": [
            "0.00083 sec\n"
          ]
        }
      ]
    },
    {
      "cell_type": "code",
      "source": [
        "import numpy as np\n",
        "\n",
        "x = np.arange(0, 1000, 1)\n",
        "y = np.arange(0, 1000, 1)\n",
        "\n",
        "start = time.time()\n",
        "z = np.add(x, y)  # 벡터 덧셈\n",
        "end = time.time()\n",
        "\n",
        "print(f\"{end - start:.5f} sec\")"
      ],
      "metadata": {
        "colab": {
          "base_uri": "https://localhost:8080/"
        },
        "id": "s8a6SxQYLCNj",
        "outputId": "b4dd86ff-bacb-4ed2-9f74-3cf59cf325d7"
      },
      "execution_count": 46,
      "outputs": [
        {
          "output_type": "stream",
          "name": "stdout",
          "text": [
            "0.00018 sec\n"
          ]
        }
      ]
    },
    {
      "cell_type": "markdown",
      "source": [
        "## 사칙연산\n",
        "\n",
        "일반적인 파이썬 코드와 같음.\n",
        "- Addition: +\n",
        "- Multiplication: *\n",
        "- Subtraction: -\n",
        "- Division: /\n",
        "- Negation: -"
      ],
      "metadata": {
        "id": "7OqlyMdRMbFQ"
      }
    },
    {
      "cell_type": "code",
      "source": [
        "# tensor 초기화\n",
        "a = np.arange(6).reshape((3,2)).astype(np.float32)\n",
        "b = np.ones((3,2),dtype=np.float32)\n",
        "print(a.dtype, b.dtype)\n",
        "\n",
        "a_t = torch.tensor(a).float()\n",
        "b_t = torch.tensor(b).float()\n",
        "print(a_t.dtype, b_t.dtype)\n",
        "\n",
        "a_tf = tf.convert_to_tensor(a,dtype=tf.float32)\n",
        "b_tf = tf.convert_to_tensor(b,dtype=tf.float32)\n",
        "print(a_tf.dtype, b_tf.dtype)"
      ],
      "metadata": {
        "colab": {
          "base_uri": "https://localhost:8080/"
        },
        "id": "S_OOOiNvMZxN",
        "outputId": "82a297fa-445c-4966-d53d-6591b56467ce"
      },
      "execution_count": 47,
      "outputs": [
        {
          "output_type": "stream",
          "name": "stdout",
          "text": [
            "float32 float32\n",
            "torch.float32 torch.float32\n",
            "<dtype: 'float32'> <dtype: 'float32'>\n"
          ]
        }
      ]
    },
    {
      "cell_type": "code",
      "source": [
        "# Addition\n",
        "\n",
        "c = a + b\n",
        "print(c)\n",
        "c_t = a_t + b_t\n",
        "print(c_t)\n",
        "c_tf = a_tf + b_tf\n",
        "print(c_tf)"
      ],
      "metadata": {
        "colab": {
          "base_uri": "https://localhost:8080/"
        },
        "id": "PZfLsUR5MhXw",
        "outputId": "a6f4dcd5-9dfe-4c4d-8bf6-3905f645b652"
      },
      "execution_count": 48,
      "outputs": [
        {
          "output_type": "stream",
          "name": "stdout",
          "text": [
            "[[1. 2.]\n",
            " [3. 4.]\n",
            " [5. 6.]]\n",
            "tensor([[1., 2.],\n",
            "        [3., 4.],\n",
            "        [5., 6.]])\n",
            "tf.Tensor(\n",
            "[[1. 2.]\n",
            " [3. 4.]\n",
            " [5. 6.]], shape=(3, 2), dtype=float32)\n"
          ]
        }
      ]
    },
    {
      "cell_type": "code",
      "source": [
        "# Multiplication\n",
        "\n",
        "c = a * b\n",
        "print(c)\n",
        "c_t = a_t * b_t\n",
        "print(c_t)\n",
        "c_tf = a_tf * b_tf\n",
        "print(c_tf)"
      ],
      "metadata": {
        "colab": {
          "base_uri": "https://localhost:8080/"
        },
        "id": "G-lY7SCnM6aI",
        "outputId": "766c50b5-224b-4b3e-cc5f-4823d068dac7"
      },
      "execution_count": 49,
      "outputs": [
        {
          "output_type": "stream",
          "name": "stdout",
          "text": [
            "[[0. 1.]\n",
            " [2. 3.]\n",
            " [4. 5.]]\n",
            "tensor([[0., 1.],\n",
            "        [2., 3.],\n",
            "        [4., 5.]])\n",
            "tf.Tensor(\n",
            "[[0. 1.]\n",
            " [2. 3.]\n",
            " [4. 5.]], shape=(3, 2), dtype=float32)\n"
          ]
        }
      ]
    },
    {
      "cell_type": "code",
      "source": [
        "# Subtraction\n",
        "\n",
        "c = a - b\n",
        "print(c)\n",
        "c_t = a_t - b_t\n",
        "print(c_t)\n",
        "c_tf = a_tf - b_tf\n",
        "print(c_tf)"
      ],
      "metadata": {
        "colab": {
          "base_uri": "https://localhost:8080/"
        },
        "id": "moqSX2ntM6gf",
        "outputId": "dc14409c-1127-4a98-8dd1-cd235a66b635"
      },
      "execution_count": 50,
      "outputs": [
        {
          "output_type": "stream",
          "name": "stdout",
          "text": [
            "[[-1.  0.]\n",
            " [ 1.  2.]\n",
            " [ 3.  4.]]\n",
            "tensor([[-1.,  0.],\n",
            "        [ 1.,  2.],\n",
            "        [ 3.,  4.]])\n",
            "tf.Tensor(\n",
            "[[-1.  0.]\n",
            " [ 1.  2.]\n",
            " [ 3.  4.]], shape=(3, 2), dtype=float32)\n"
          ]
        }
      ]
    },
    {
      "cell_type": "code",
      "source": [
        "# Division\n",
        "\n",
        "c = a / b\n",
        "print(c)\n",
        "c_t = a_t / b_t\n",
        "print(c_t)\n",
        "c_tf = a_tf / b_tf\n",
        "print(c_tf)"
      ],
      "metadata": {
        "colab": {
          "base_uri": "https://localhost:8080/"
        },
        "id": "ORlL2reUM6kT",
        "outputId": "69411e44-028e-4d2c-ef25-b003a7ac320c"
      },
      "execution_count": 51,
      "outputs": [
        {
          "output_type": "stream",
          "name": "stdout",
          "text": [
            "[[0. 1.]\n",
            " [2. 3.]\n",
            " [4. 5.]]\n",
            "tensor([[0., 1.],\n",
            "        [2., 3.],\n",
            "        [4., 5.]])\n",
            "tf.Tensor(\n",
            "[[0. 1.]\n",
            " [2. 3.]\n",
            " [4. 5.]], shape=(3, 2), dtype=float32)\n"
          ]
        }
      ]
    },
    {
      "cell_type": "code",
      "source": [
        "# Negation\n",
        "\n",
        "c = -a\n",
        "print(c)\n",
        "c_t = -a_t\n",
        "print(c_t)\n",
        "c_tf = -a_tf\n",
        "print(c_tf)"
      ],
      "metadata": {
        "colab": {
          "base_uri": "https://localhost:8080/"
        },
        "id": "WLeC2fhdM6nh",
        "outputId": "860b5194-b9b9-4800-c8cf-5436adb7a325"
      },
      "execution_count": 52,
      "outputs": [
        {
          "output_type": "stream",
          "name": "stdout",
          "text": [
            "[[-0. -1.]\n",
            " [-2. -3.]\n",
            " [-4. -5.]]\n",
            "tensor([[-0., -1.],\n",
            "        [-2., -3.],\n",
            "        [-4., -5.]])\n",
            "tf.Tensor(\n",
            "[[-0. -1.]\n",
            " [-2. -3.]\n",
            " [-4. -5.]], shape=(3, 2), dtype=float32)\n"
          ]
        }
      ]
    },
    {
      "cell_type": "markdown",
      "source": [
        "## Power & Exponentiation\n",
        "\n",
        "### Power\n",
        "$x^a$\n",
        "- `a**2`\n",
        "- `np.square(a)`\n",
        "- `np.power(a, 2)`\n",
        "- `torch.pow(a, 2)`\n",
        "- `tf.pow(a, 2)`\n",
        "- `pow()` 또는 `power()`의 경우 2 대신 다른 값을 넣으면 지수로 사용할 수 있음.\n",
        "\n",
        "### Exponential\n",
        "$e^x$&ensp;밑이 e인 지수\n",
        "- `np.exp(a)`\n",
        "- `torch.exp(a)`\n",
        "- `tf.exp(a)`\n",
        "\n",
        "$2^x$&ensp;밑이 2인 지수\n",
        "- `np.exp2(a)`\n",
        "- `torch.exp2(a)`\n",
        "- `c_tf = tf.pow(2.,a_tf)`: exp 지원x\n",
        "\n",
        "$a^x$&ensp;밑이 3 이상인 지수\n",
        "- `np.power(3, a)`\n",
        "- `torch.pow(3, a_t)`\n",
        "- `tf.pow(3,a_tf)`\n",
        "\n",
        "\n"
      ],
      "metadata": {
        "id": "GzsfuFxcNLNl"
      }
    },
    {
      "cell_type": "code",
      "source": [
        "# common operator\n",
        "\n",
        "c = a**2\n",
        "print(c)\n",
        "c_t = a_t**2\n",
        "print(c_t)\n",
        "c_tf = a_tf**2\n",
        "print(c_tf)"
      ],
      "metadata": {
        "colab": {
          "base_uri": "https://localhost:8080/"
        },
        "id": "BY11ofhmNvA6",
        "outputId": "4cb62a8e-f057-48c2-fbe0-efbcf448f596"
      },
      "execution_count": 53,
      "outputs": [
        {
          "output_type": "stream",
          "name": "stdout",
          "text": [
            "[[ 0.  1.]\n",
            " [ 4.  9.]\n",
            " [16. 25.]]\n",
            "tensor([[ 0.,  1.],\n",
            "        [ 4.,  9.],\n",
            "        [16., 25.]])\n",
            "tf.Tensor(\n",
            "[[ 0.  1.]\n",
            " [ 4.  9.]\n",
            " [16. 25.]], shape=(3, 2), dtype=float32)\n"
          ]
        }
      ]
    },
    {
      "cell_type": "code",
      "source": [
        "c = np.square(a)\n",
        "print(c)\n",
        "c = np.power(a,2)\n",
        "print(c)\n",
        "print('-------------')\n",
        "c_t = torch.pow(a_t,2)\n",
        "print(c_t)\n",
        "c_tf = tf.pow(a_tf,2)\n",
        "print(c_tf)"
      ],
      "metadata": {
        "colab": {
          "base_uri": "https://localhost:8080/"
        },
        "id": "PqJrHvDNNvEQ",
        "outputId": "dc94df94-afdc-4255-a099-03630536981e"
      },
      "execution_count": 54,
      "outputs": [
        {
          "output_type": "stream",
          "name": "stdout",
          "text": [
            "[[ 0.  1.]\n",
            " [ 4.  9.]\n",
            " [16. 25.]]\n",
            "[[ 0.  1.]\n",
            " [ 4.  9.]\n",
            " [16. 25.]]\n",
            "-------------\n",
            "tensor([[ 0.,  1.],\n",
            "        [ 4.,  9.],\n",
            "        [16., 25.]])\n",
            "tf.Tensor(\n",
            "[[ 0.  1.]\n",
            " [ 4.  9.]\n",
            " [16. 25.]], shape=(3, 2), dtype=float32)\n"
          ]
        }
      ]
    },
    {
      "cell_type": "code",
      "source": [
        "# exponential\n",
        "\n",
        "# 밑이 e인 지수\n",
        "c = np.exp(a)\n",
        "print(c)\n",
        "c_t = torch.exp(a_t)\n",
        "print(c_t)\n",
        "c_tf = tf.exp(a_tf)\n",
        "print(c_tf)\n",
        "\n",
        "# 밑이 2인 지수\n",
        "print()\n",
        "c = np.exp2(a)\n",
        "print(c)\n",
        "c_t = torch.exp2(a_t)\n",
        "print(c_t)\n",
        "# c_tf = tf.exp2(a_tf) # not working\n",
        "# print(c_tf)\n",
        "c_tf = tf.pow(2.,a_tf)\n",
        "print(c_tf)\n",
        "\n",
        "# 밑이 3 이상인 지수\n",
        "print()\n",
        "c = np.power(3, a)\n",
        "print(c)\n",
        "c_t = torch.pow(3, a_t)\n",
        "print(c_t)\n",
        "c_tf = tf.pow(3,a_tf)\n",
        "print(c_tf)"
      ],
      "metadata": {
        "colab": {
          "base_uri": "https://localhost:8080/"
        },
        "id": "qzwIRFwZNvH_",
        "outputId": "adeb441e-0763-473b-fa3b-2530f626f6c5"
      },
      "execution_count": 55,
      "outputs": [
        {
          "output_type": "stream",
          "name": "stdout",
          "text": [
            "[[  1.          2.718282 ]\n",
            " [  7.3890557  20.085537 ]\n",
            " [ 54.59815   148.41316  ]]\n",
            "tensor([[  1.0000,   2.7183],\n",
            "        [  7.3891,  20.0855],\n",
            "        [ 54.5981, 148.4132]])\n",
            "tf.Tensor(\n",
            "[[  1.          2.7182817]\n",
            " [  7.389056   20.085537 ]\n",
            " [ 54.59815   148.41316  ]], shape=(3, 2), dtype=float32)\n",
            "\n",
            "[[ 1.  2.]\n",
            " [ 4.  8.]\n",
            " [16. 32.]]\n",
            "tensor([[ 1.,  2.],\n",
            "        [ 4.,  8.],\n",
            "        [16., 32.]])\n",
            "tf.Tensor(\n",
            "[[ 1.  2.]\n",
            " [ 4.  8.]\n",
            " [16. 32.]], shape=(3, 2), dtype=float32)\n",
            "\n",
            "[[  1.   3.]\n",
            " [  9.  27.]\n",
            " [ 81. 243.]]\n",
            "tensor([[  1.,   3.],\n",
            "        [  9.,  27.],\n",
            "        [ 81., 243.]])\n",
            "tf.Tensor(\n",
            "[[  1.   3.]\n",
            " [  9.  27.]\n",
            " [ 81. 243.]], shape=(3, 2), dtype=float32)\n"
          ]
        }
      ]
    },
    {
      "cell_type": "markdown",
      "source": [
        "## Log\n",
        "\n",
        "$\\ln$\n",
        "- `np.log(a)`\n",
        "- `torch.log(a)`\n",
        "- `tf.math.log(a)`\n",
        "\n",
        "$\\log_2$\n",
        "- `np.log2(a)`\n",
        "- `torch.log2(a)`\n",
        "- `tf.experimental.numpy.log2(a)`\n",
        "\n",
        "$\\log_{10}$\n",
        "- `np.log10(a)`\n",
        "- `torch.log10(a)`\n",
        "- `tf.experimental.numpy.log10(a)`"
      ],
      "metadata": {
        "id": "EwitcwQGSNPr"
      }
    },
    {
      "cell_type": "code",
      "source": [
        "# 밑이 e인 로그\n",
        "c = np.log(a)\n",
        "print(c)\n",
        "c_t = torch.log(a_t)\n",
        "print(c_t)\n",
        "c_tf = tf.math.log(a_tf)\n",
        "print(c_tf)\n",
        "print()\n",
        "\n",
        "# 밑이 2인 로그\n",
        "c = np.log2(a)\n",
        "print(c)\n",
        "c_t = torch.log2(a_t)\n",
        "print(c_t)\n",
        "# c_tf = tf.math.log2(a_tf) not working\n",
        "# print(c_tf)\n",
        "c_tf = tf.experimental.numpy.log2(a_tf)\n",
        "print(c_tf)\n",
        "print()\n",
        "\n",
        "# 밑이 10인 로그\n",
        "c = np.log10(a)\n",
        "print(c)\n",
        "c_t = torch.log10(a_t)\n",
        "print(c_t)\n",
        "# c_tf = tf.math.log10(a_tf) # not working\n",
        "# print(c_tf)\n",
        "c_tf = tf.experimental.numpy.log10(a_tf)\n",
        "print(c_tf)\n",
        "print()"
      ],
      "metadata": {
        "colab": {
          "base_uri": "https://localhost:8080/"
        },
        "id": "3MNnqyq5SQB0",
        "outputId": "44fcb293-7176-4582-8baa-1c8760df6698"
      },
      "execution_count": 56,
      "outputs": [
        {
          "output_type": "stream",
          "name": "stdout",
          "text": [
            "[[     -inf 0.       ]\n",
            " [0.6931472 1.0986123]\n",
            " [1.3862944 1.609438 ]]\n",
            "tensor([[  -inf, 0.0000],\n",
            "        [0.6931, 1.0986],\n",
            "        [1.3863, 1.6094]])\n",
            "tf.Tensor(\n",
            "[[     -inf 0.       ]\n",
            " [0.6931472 1.0986123]\n",
            " [1.3862944 1.609438 ]], shape=(3, 2), dtype=float32)\n",
            "\n",
            "[[     -inf 0.       ]\n",
            " [1.        1.5849625]\n",
            " [2.        2.321928 ]]\n",
            "tensor([[  -inf, 0.0000],\n",
            "        [1.0000, 1.5850],\n",
            "        [2.0000, 2.3219]])\n",
            "tf.Tensor(\n",
            "[[     -inf 0.       ]\n",
            " [1.        1.5849625]\n",
            " [2.        2.321928 ]], shape=(3, 2), dtype=float32)\n",
            "\n",
            "[[      -inf 0.        ]\n",
            " [0.30103    0.47712123]\n",
            " [0.60206    0.69897   ]]\n",
            "tensor([[  -inf, 0.0000],\n",
            "        [0.3010, 0.4771],\n",
            "        [0.6021, 0.6990]])\n",
            "tf.Tensor(\n",
            "[[      -inf 0.        ]\n",
            " [0.30102998 0.47712126]\n",
            " [0.60205996 0.69897   ]], shape=(3, 2), dtype=float32)\n",
            "\n"
          ]
        },
        {
          "output_type": "stream",
          "name": "stderr",
          "text": [
            "<ipython-input-56-bb1c3fd4992a>:2: RuntimeWarning: divide by zero encountered in log\n",
            "  c = np.log(a)\n",
            "<ipython-input-56-bb1c3fd4992a>:11: RuntimeWarning: divide by zero encountered in log2\n",
            "  c = np.log2(a)\n",
            "<ipython-input-56-bb1c3fd4992a>:22: RuntimeWarning: divide by zero encountered in log10\n",
            "  c = np.log10(a)\n"
          ]
        }
      ]
    },
    {
      "cell_type": "markdown",
      "source": [
        "## square root"
      ],
      "metadata": {
        "id": "kjkeAYndYBKG"
      }
    },
    {
      "cell_type": "code",
      "source": [
        "c = np.sqrt(a)\n",
        "print(c)\n",
        "c_t = torch.sqrt(a_t)\n",
        "print(c_t)\n",
        "c_tf = tf.sqrt(a_tf)\n",
        "print(c_tf)"
      ],
      "metadata": {
        "colab": {
          "base_uri": "https://localhost:8080/"
        },
        "id": "svLSD3idX02m",
        "outputId": "532e5017-9e05-4025-9e0b-02541f76f8fc"
      },
      "execution_count": 57,
      "outputs": [
        {
          "output_type": "stream",
          "name": "stdout",
          "text": [
            "[[0.        1.       ]\n",
            " [1.4142135 1.7320508]\n",
            " [2.        2.236068 ]]\n",
            "tensor([[0.0000, 1.0000],\n",
            "        [1.4142, 1.7321],\n",
            "        [2.0000, 2.2361]])\n",
            "tf.Tensor(\n",
            "[[0.        1.       ]\n",
            " [1.4142135 1.7320508]\n",
            " [2.        2.236068 ]], shape=(3, 2), dtype=float32)\n"
          ]
        }
      ]
    },
    {
      "cell_type": "markdown",
      "source": [
        "## Absolute Value\n",
        "\n",
        "Python의 built-in function인 abs도 사용가능하지만,\n",
        "\n",
        "각 tensor가 속한 라이브러리의 abs를 사용하는게 효과적임."
      ],
      "metadata": {
        "id": "CmP4PO-kYJiF"
      }
    },
    {
      "cell_type": "code",
      "source": [
        "c = np.abs(a)           # 엄밀하게는 np.absolute\n",
        "print(c)\n",
        "c_t = torch.abs(a_t)\n",
        "print(c_t)\n",
        "c_tf = tf.abs(a_tf)\n",
        "print(c_tf)"
      ],
      "metadata": {
        "colab": {
          "base_uri": "https://localhost:8080/"
        },
        "id": "tIE_2WPBYH7o",
        "outputId": "320d927f-d6f2-4a14-b725-4cac32939a22"
      },
      "execution_count": 58,
      "outputs": [
        {
          "output_type": "stream",
          "name": "stdout",
          "text": [
            "[[0. 1.]\n",
            " [2. 3.]\n",
            " [4. 5.]]\n",
            "tensor([[0., 1.],\n",
            "        [2., 3.],\n",
            "        [4., 5.]])\n",
            "tf.Tensor(\n",
            "[[0. 1.]\n",
            " [2. 3.]\n",
            " [4. 5.]], shape=(3, 2), dtype=float32)\n"
          ]
        }
      ]
    },
    {
      "cell_type": "markdown",
      "source": [
        "## Relational Operation\n",
        "\n",
        "\\> , < , >= , <= , != , == 등.\n",
        "\n",
        "결과값이 boolean tensor 임.\n",
        "\n",
        "(아래에 기술한 boolean opeartion 과 함께 사용되어 특정 조건에 해당하는 elements를 찾는데 사용됨.)"
      ],
      "metadata": {
        "id": "7y67QY6_ZFNF"
      }
    },
    {
      "cell_type": "code",
      "source": [
        "c = a > b\n",
        "print(c)\n",
        "c_t = a_t > b_t\n",
        "print(c_t)\n",
        "c_tf = a_tf > b_tf\n",
        "print(c_tf)"
      ],
      "metadata": {
        "colab": {
          "base_uri": "https://localhost:8080/"
        },
        "id": "NH3pi3rhZZ8g",
        "outputId": "557bbe8c-b1b4-435e-b8a8-f35a40b9be9a"
      },
      "execution_count": 59,
      "outputs": [
        {
          "output_type": "stream",
          "name": "stdout",
          "text": [
            "[[False False]\n",
            " [ True  True]\n",
            " [ True  True]]\n",
            "tensor([[False, False],\n",
            "        [ True,  True],\n",
            "        [ True,  True]])\n",
            "tf.Tensor(\n",
            "[[False False]\n",
            " [ True  True]\n",
            " [ True  True]], shape=(3, 2), dtype=bool)\n"
          ]
        }
      ]
    },
    {
      "cell_type": "markdown",
      "source": [
        "## Trigonometric Operations\n",
        "- 간단하게 `sin`, `cos`, `tan` 등을 사용할 수 있음."
      ],
      "metadata": {
        "id": "L4NLF8z6Zce8"
      }
    },
    {
      "cell_type": "code",
      "source": [
        "print(\"sine\")\n",
        "c = np.sin(a)\n",
        "print(c)\n",
        "c_t = torch.sin(a_t)\n",
        "print(c_t)\n",
        "c_tf = tf.sin(a_tf)\n",
        "print(c_tf)\n",
        "\n",
        "print(\"\\ncosine\")\n",
        "c = np.cos(a)\n",
        "print(c)\n",
        "c_t = torch.cos(a_t)\n",
        "print(c_t)\n",
        "c_tf = tf.cos(a_tf)\n",
        "print(c_tf)\n",
        "\n",
        "print(\"\\ntangent\")\n",
        "c = np.tan(a)\n",
        "print(c)\n",
        "c_t = torch.tan(a_t)\n",
        "print(c_t)\n",
        "c_tf = tf.tan(a_tf)\n",
        "print(c_tf)"
      ],
      "metadata": {
        "colab": {
          "base_uri": "https://localhost:8080/"
        },
        "id": "hK-2zysSZihL",
        "outputId": "60b6dddc-666b-43e9-ea6b-848384cf9f92"
      },
      "execution_count": 60,
      "outputs": [
        {
          "output_type": "stream",
          "name": "stdout",
          "text": [
            "sine\n",
            "[[ 0.         0.841471 ]\n",
            " [ 0.9092974  0.14112  ]\n",
            " [-0.7568025 -0.9589243]]\n",
            "tensor([[ 0.0000,  0.8415],\n",
            "        [ 0.9093,  0.1411],\n",
            "        [-0.7568, -0.9589]])\n",
            "tf.Tensor(\n",
            "[[ 0.          0.84147096]\n",
            " [ 0.9092974   0.14112   ]\n",
            " [-0.7568025  -0.9589243 ]], shape=(3, 2), dtype=float32)\n",
            "\n",
            "cosine\n",
            "[[ 1.          0.5403023 ]\n",
            " [-0.4161468  -0.9899925 ]\n",
            " [-0.6536436   0.28366217]]\n",
            "tensor([[ 1.0000,  0.5403],\n",
            "        [-0.4161, -0.9900],\n",
            "        [-0.6536,  0.2837]])\n",
            "tf.Tensor(\n",
            "[[ 1.          0.5403023 ]\n",
            " [-0.41614684 -0.9899925 ]\n",
            " [-0.6536436   0.2836622 ]], shape=(3, 2), dtype=float32)\n",
            "\n",
            "tangent\n",
            "[[ 0.          1.5574077 ]\n",
            " [-2.1850398  -0.14254655]\n",
            " [ 1.1578213  -3.380515  ]]\n",
            "tensor([[ 0.0000,  1.5574],\n",
            "        [-2.1850, -0.1425],\n",
            "        [ 1.1578, -3.3805]])\n",
            "tf.Tensor(\n",
            "[[ 0.          1.5574077 ]\n",
            " [-2.1850398  -0.14254655]\n",
            " [ 1.1578213  -3.380515  ]], shape=(3, 2), dtype=float32)\n"
          ]
        }
      ]
    },
    {
      "cell_type": "markdown",
      "source": [
        "## Aggregation\n",
        "- max / min / sum / mean / median 등.\n",
        "- Nan이 있는 경우 에러 발생\n",
        "- 특정 축에 대해 수행\n",
        "  - axis: numpy, tensorflow\n",
        "  - dim: pytorch\n",
        "\n",
        "\n",
        "\n"
      ],
      "metadata": {
        "id": "jWphBfMGZ0Zh"
      }
    },
    {
      "cell_type": "code",
      "source": [
        "print(\"\\nmax\")\n",
        "c = np.max(a)\n",
        "print(c)\n",
        "c_t = torch.max(a_t)\n",
        "print(c_t)\n",
        "c_tf = tf.reduce_max(a_tf)\n",
        "print(c_tf)\n",
        "\n",
        "print(\"\\nmin\")\n",
        "c = np.min(a)\n",
        "print(c)\n",
        "c_t = torch.min(a_t)\n",
        "print(c_t)\n",
        "c_tf = tf.reduce_min(a_tf)\n",
        "print(c_tf)\n",
        "\n",
        "print(\"\\nsum\")\n",
        "c = np.sum(a)\n",
        "print(c)\n",
        "c_t = torch.sum(a_t)\n",
        "print(c_t)\n",
        "c_tf = tf.reduce_sum(a_tf)\n",
        "print(c_tf)\n",
        "\n",
        "print('\\nmean')\n",
        "c = np.mean(a, axis=0)\n",
        "print(c)\n",
        "c_t = torch.mean(a_t, dim=0)\n",
        "print(c_t)\n",
        "c_tf = tf.reduce_mean(a_tf, axis=0)\n",
        "print(c_tf)\n",
        "\n",
        "print('\\nmedian')\n",
        "c = np.median(a, axis=0)\n",
        "print(c)\n",
        "c_t = torch.median(a_t, dim=0).values # indices도 구함.\n",
        "print(c_t)\n",
        "c_tf = tf.math.reduce_mean(a_tf, axis=0)\n",
        "print(c_tf)"
      ],
      "metadata": {
        "colab": {
          "base_uri": "https://localhost:8080/"
        },
        "id": "Nq7HZ1FMa2bd",
        "outputId": "eaaf4493-b2b6-4e3e-98c5-a9ee7c5f02f5"
      },
      "execution_count": 61,
      "outputs": [
        {
          "output_type": "stream",
          "name": "stdout",
          "text": [
            "\n",
            "max\n",
            "5.0\n",
            "tensor(5.)\n",
            "tf.Tensor(5.0, shape=(), dtype=float32)\n",
            "\n",
            "min\n",
            "0.0\n",
            "tensor(0.)\n",
            "tf.Tensor(0.0, shape=(), dtype=float32)\n",
            "\n",
            "sum\n",
            "15.0\n",
            "tensor(15.)\n",
            "tf.Tensor(15.0, shape=(), dtype=float32)\n",
            "\n",
            "mean\n",
            "[2. 3.]\n",
            "tensor([2., 3.])\n",
            "tf.Tensor([2. 3.], shape=(2,), dtype=float32)\n",
            "\n",
            "median\n",
            "[2. 3.]\n",
            "tensor([2., 3.])\n",
            "tf.Tensor([2. 3.], shape=(2,), dtype=float32)\n"
          ]
        }
      ]
    },
    {
      "cell_type": "code",
      "source": [
        "print(a, end=\"\\n\\n\")\n",
        "\n",
        "print(\"\\nmax\")\n",
        "print(np.max(a, axis=0))\n",
        "print(np.max(a, axis=1))\n",
        "\n",
        "print(torch.max(a_t, dim=0))\n",
        "print(torch.max(a_t, dim=1))\n",
        "\n",
        "print(tf.reduce_max(a_tf, axis=0))\n",
        "print(tf.reduce_max(a_tf, axis=1))\n",
        "\n",
        "print(\"\\nmin\")\n",
        "print(np.min(a, axis=0))\n",
        "print(np.min(a, axis=1))\n",
        "\n",
        "print(torch.min(a_t, dim=0))\n",
        "print(torch.min(a_t, dim=1))\n",
        "\n",
        "print(tf.reduce_min(a_tf, axis=0))\n",
        "print(tf.reduce_min(a_tf, axis=1))\n",
        "\n",
        "print(\"\\nsum\")\n",
        "print(np.sum(a, axis=0))\n",
        "print(np.sum(a, axis=1))\n",
        "\n",
        "print(torch.sum(a_t, dim=0))\n",
        "print(torch.sum(a_t, dim=1))\n",
        "\n",
        "print(tf.reduce_sum(a_tf, axis=0))\n",
        "print(tf.reduce_sum(a_tf, axis=1))\n",
        "\n",
        "print('\\nmean')\n",
        "print(np.mean(a, axis=0))\n",
        "print(np.mean(a, axis=1))\n",
        "\n",
        "print(torch.mean(a_t, dim=0))\n",
        "print(torch.mean(a_t, dim=1))\n",
        "\n",
        "print(tf.reduce_mean(a_tf, axis=0))\n",
        "print(tf.reduce_mean(a_tf, axis=1))\n",
        "\n",
        "print('\\nmedian')\n",
        "print(np.median(a, axis=0))\n",
        "print(np.median(a, axis=1))\n",
        "\n",
        "print(torch.median(a_t, dim=0))\n",
        "print(torch.median(a_t, dim=1))\n",
        "\n",
        "print(tf.math.reduce_mean(a_tf, axis=0))\n",
        "print(tf.math.reduce_mean(a_tf, axis=1))"
      ],
      "metadata": {
        "id": "7yQkT0eG6acU",
        "colab": {
          "base_uri": "https://localhost:8080/"
        },
        "outputId": "f0f9d17b-8036-4b19-d149-caba38524c04"
      },
      "execution_count": 62,
      "outputs": [
        {
          "output_type": "stream",
          "name": "stdout",
          "text": [
            "[[0. 1.]\n",
            " [2. 3.]\n",
            " [4. 5.]]\n",
            "\n",
            "\n",
            "max\n",
            "[4. 5.]\n",
            "[1. 3. 5.]\n",
            "torch.return_types.max(\n",
            "values=tensor([4., 5.]),\n",
            "indices=tensor([2, 2]))\n",
            "torch.return_types.max(\n",
            "values=tensor([1., 3., 5.]),\n",
            "indices=tensor([1, 1, 1]))\n",
            "tf.Tensor([4. 5.], shape=(2,), dtype=float32)\n",
            "tf.Tensor([1. 3. 5.], shape=(3,), dtype=float32)\n",
            "\n",
            "min\n",
            "[0. 1.]\n",
            "[0. 2. 4.]\n",
            "torch.return_types.min(\n",
            "values=tensor([0., 1.]),\n",
            "indices=tensor([0, 0]))\n",
            "torch.return_types.min(\n",
            "values=tensor([0., 2., 4.]),\n",
            "indices=tensor([0, 0, 0]))\n",
            "tf.Tensor([0. 1.], shape=(2,), dtype=float32)\n",
            "tf.Tensor([0. 2. 4.], shape=(3,), dtype=float32)\n",
            "\n",
            "sum\n",
            "[6. 9.]\n",
            "[1. 5. 9.]\n",
            "tensor([6., 9.])\n",
            "tensor([1., 5., 9.])\n",
            "tf.Tensor([6. 9.], shape=(2,), dtype=float32)\n",
            "tf.Tensor([1. 5. 9.], shape=(3,), dtype=float32)\n",
            "\n",
            "mean\n",
            "[2. 3.]\n",
            "[0.5 2.5 4.5]\n",
            "tensor([2., 3.])\n",
            "tensor([0.5000, 2.5000, 4.5000])\n",
            "tf.Tensor([2. 3.], shape=(2,), dtype=float32)\n",
            "tf.Tensor([0.5 2.5 4.5], shape=(3,), dtype=float32)\n",
            "\n",
            "median\n",
            "[2. 3.]\n",
            "[0.5 2.5 4.5]\n",
            "torch.return_types.median(\n",
            "values=tensor([2., 3.]),\n",
            "indices=tensor([1, 1]))\n",
            "torch.return_types.median(\n",
            "values=tensor([0., 2., 4.]),\n",
            "indices=tensor([0, 0, 0]))\n",
            "tf.Tensor([2. 3.], shape=(2,), dtype=float32)\n",
            "tf.Tensor([0.5 2.5 4.5], shape=(3,), dtype=float32)\n"
          ]
        }
      ]
    },
    {
      "cell_type": "markdown",
      "source": [
        "## Boolean Operations"
      ],
      "metadata": {
        "id": "IvoOJKEGbYf3"
      }
    },
    {
      "cell_type": "code",
      "source": [
        "bm0= [[False, False],\n",
        " [False,  True],\n",
        " [ True,  True]]\n",
        "bm1= [[False, False],\n",
        " [False, False],\n",
        " [ True,  True]]\n",
        "\n",
        "\n",
        "bm0 = a > 2.5\n",
        "bm1 = a > 3.5\n",
        "print('bm0=',bm0)\n",
        "print('bm1=',bm1)\n",
        "bm0_t = a_t > 2.5\n",
        "bm1_t = a_t > 3.5\n",
        "bm0_tf = a_tf > 2.5\n",
        "bm1_tf = a_tf > 3.5\n",
        "\n",
        "print('\\nand')\n",
        "c = bm0 & bm1 # and\n",
        "print(c)\n",
        "c_t = bm0_t & bm1_t\n",
        "print(c_t)\n",
        "c_tf = bm0_tf & bm1_tf\n",
        "print(c_tf)\n",
        "\n",
        "print('\\nor')\n",
        "c = bm0 | bm1 # or\n",
        "print(c)\n",
        "c_t = bm0_t | bm1_t\n",
        "print(c_t)\n",
        "c_tf = bm0_tf | bm1_tf\n",
        "print(c_tf)\n",
        "\n",
        "print('\\nxor')\n",
        "c = bm0 ^ bm1 # xor\n",
        "print(c)\n",
        "c_t = bm0_t ^ bm1_t\n",
        "print(c_t)\n",
        "c_tf = bm0_tf ^ bm1_tf\n",
        "print(c_tf)\n",
        "\n",
        "\n",
        "print('\\nnot')\n",
        "c = ~bm0 # not\n",
        "print(c)\n",
        "c_t = ~bm0_t\n",
        "print(c_t)\n",
        "c_tf = ~bm0_tf\n",
        "print(c_tf)\n"
      ],
      "metadata": {
        "colab": {
          "base_uri": "https://localhost:8080/"
        },
        "id": "vfKIsEGlbYKL",
        "outputId": "3cca629d-4116-4706-b527-d130c36fb8d7"
      },
      "execution_count": 63,
      "outputs": [
        {
          "output_type": "stream",
          "name": "stdout",
          "text": [
            "bm0= [[False False]\n",
            " [False  True]\n",
            " [ True  True]]\n",
            "bm1= [[False False]\n",
            " [False False]\n",
            " [ True  True]]\n",
            "\n",
            "and\n",
            "[[False False]\n",
            " [False False]\n",
            " [ True  True]]\n",
            "tensor([[False, False],\n",
            "        [False, False],\n",
            "        [ True,  True]])\n",
            "tf.Tensor(\n",
            "[[False False]\n",
            " [False False]\n",
            " [ True  True]], shape=(3, 2), dtype=bool)\n",
            "\n",
            "or\n",
            "[[False False]\n",
            " [False  True]\n",
            " [ True  True]]\n",
            "tensor([[False, False],\n",
            "        [False,  True],\n",
            "        [ True,  True]])\n",
            "tf.Tensor(\n",
            "[[False False]\n",
            " [False  True]\n",
            " [ True  True]], shape=(3, 2), dtype=bool)\n",
            "\n",
            "xor\n",
            "[[False False]\n",
            " [False  True]\n",
            " [False False]]\n",
            "tensor([[False, False],\n",
            "        [False,  True],\n",
            "        [False, False]])\n",
            "tf.Tensor(\n",
            "[[False False]\n",
            " [False  True]\n",
            " [False False]], shape=(3, 2), dtype=bool)\n",
            "\n",
            "not\n",
            "[[ True  True]\n",
            " [ True False]\n",
            " [False False]]\n",
            "tensor([[ True,  True],\n",
            "        [ True, False],\n",
            "        [False, False]])\n",
            "tf.Tensor(\n",
            "[[ True  True]\n",
            " [ True False]\n",
            " [False False]], shape=(3, 2), dtype=bool)\n"
          ]
        }
      ]
    }
  ]
}