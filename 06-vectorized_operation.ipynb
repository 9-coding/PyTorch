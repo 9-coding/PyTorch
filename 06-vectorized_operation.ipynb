{
  "nbformat": 4,
  "nbformat_minor": 0,
  "metadata": {
    "colab": {
      "provenance": [],
      "authorship_tag": "ABX9TyPy0kzWWkOF0uiCg1SZQgpv",
      "include_colab_link": true
    },
    "kernelspec": {
      "name": "python3",
      "display_name": "Python 3"
    },
    "language_info": {
      "name": "python"
    }
  },
  "cells": [
    {
      "cell_type": "markdown",
      "metadata": {
        "id": "view-in-github",
        "colab_type": "text"
      },
      "source": [
        "<a href=\"https://colab.research.google.com/github/9-coding/PyTorch/blob/main/06-vectorized_operation.ipynb\" target=\"_parent\"><img src=\"https://colab.research.google.com/assets/colab-badge.svg\" alt=\"Open In Colab\"/></a>"
      ]
    },
    {
      "cell_type": "markdown",
      "source": [
        "# Vectorized Operation\n",
        "**scalar가 아닌 vector or matrix 전체에 대해 동일한 연산을 동시에 수행하는 방식.**\n",
        "- homogeneous / contiguous tensor에서 모든 elements에 대해 같은 연산을 적용하여 기존 loop 연산에 비해 속도가 빠르며 간편한 연산자 사용.\n",
        "- **코드 간결화**: 반복 루프를 사용하지 않고 vector/matrix 연산을 간결하게 표현.\n",
        "- **효율성 향상**: SIMD를 활용하여 기존보다 훨씬 빠른 연산 수행.\n",
        "- **메모리 사용량 증가**: multiple data를 한 번에 처리하므로 많은 메모리 사용을 요구함.\n",
        "- numpy, pytorch, tensorflow 등에서 기본 제공.\n"
      ],
      "metadata": {
        "id": "SYx0nPTHJI9i"
      }
    },
    {
      "cell_type": "code",
      "execution_count": null,
      "metadata": {
        "id": "Spj4-udWJGBx"
      },
      "outputs": [],
      "source": [
        "import numpy as np\n",
        "import torch\n",
        "import tensorflow as tf\n",
        "import time"
      ]
    },
    {
      "cell_type": "code",
      "source": [
        "for c in [np, torch, tf]:\n",
        "  print(c.__name__, c.__version__)"
      ],
      "metadata": {
        "colab": {
          "base_uri": "https://localhost:8080/"
        },
        "id": "H2-s5BNZJ4QP",
        "outputId": "383d0dd2-a2bb-4f6e-e385-4c7fcaa5d23d"
      },
      "execution_count": null,
      "outputs": [
        {
          "output_type": "stream",
          "name": "stdout",
          "text": [
            "numpy 1.25.2\n",
            "torch 2.2.1+cu121\n",
            "tensorflow 2.15.0\n"
          ]
        }
      ]
    },
    {
      "cell_type": "markdown",
      "source": [
        "## for loop과 vectorized operation의 차이\n"
      ],
      "metadata": {
        "id": "1L1DUNAjK7xK"
      }
    },
    {
      "cell_type": "code",
      "source": [
        "def add_vectors(x, y):\n",
        "  result = []\n",
        "  for i in range(len(x)):\n",
        "    result.append(x[i] + y[i])\n",
        "  return result\n",
        "\n",
        "x = np.arange(0, 1000, 1)\n",
        "y = np.arange(0, 1000, 1)\n",
        "\n",
        "start = time.time()\n",
        "z = add_vectors(x, y)\n",
        "end = time.time()\n",
        "\n",
        "print(f\"{end - start:.5f} sec\")"
      ],
      "metadata": {
        "colab": {
          "base_uri": "https://localhost:8080/"
        },
        "id": "32tDbs8jLBBC",
        "outputId": "854cfce1-aa0a-47b5-d38b-9bd19a6fc6f4"
      },
      "execution_count": null,
      "outputs": [
        {
          "output_type": "stream",
          "name": "stdout",
          "text": [
            "0.00071 sec\n"
          ]
        }
      ]
    },
    {
      "cell_type": "code",
      "source": [
        "import numpy as np\n",
        "\n",
        "x = np.arange(0, 1000, 1)\n",
        "y = np.arange(0, 1000, 1)\n",
        "\n",
        "start = time.time()\n",
        "z = np.add(x, y)  # 벡터 덧셈\n",
        "end = time.time()\n",
        "\n",
        "print(f\"{end - start:.5f} sec\")"
      ],
      "metadata": {
        "colab": {
          "base_uri": "https://localhost:8080/"
        },
        "id": "s8a6SxQYLCNj",
        "outputId": "e96fec3c-10ae-4149-d3f3-28f9aba0f23e"
      },
      "execution_count": null,
      "outputs": [
        {
          "output_type": "stream",
          "name": "stdout",
          "text": [
            "0.00014 sec\n"
          ]
        }
      ]
    },
    {
      "cell_type": "markdown",
      "source": [
        "## 사칙연산\n",
        "\n",
        "일반적인 파이썬 코드와 같음.\n",
        "- Addition: +\n",
        "- Multiplication: *\n",
        "- Subtraction: -\n",
        "- Division: /\n",
        "- Negation: -"
      ],
      "metadata": {
        "id": "7OqlyMdRMbFQ"
      }
    },
    {
      "cell_type": "code",
      "source": [
        "# tensor 초기화\n",
        "a = np.arange(6).reshape((3,2)).astype(np.float32)\n",
        "b = np.ones((3,2),dtype=np.float32)\n",
        "print(a.dtype, b.dtype)\n",
        "\n",
        "a_t = torch.tensor(a).float()\n",
        "b_t = torch.tensor(b).float()\n",
        "print(a_t.dtype, b_t.dtype)\n",
        "\n",
        "a_tf = tf.convert_to_tensor(a,dtype=tf.float32)\n",
        "b_tf = tf.convert_to_tensor(b,dtype=tf.float32)\n",
        "print(a_tf.dtype, b_tf.dtype)"
      ],
      "metadata": {
        "colab": {
          "base_uri": "https://localhost:8080/"
        },
        "id": "S_OOOiNvMZxN",
        "outputId": "431adccd-b037-442f-8aff-7105075e79b2"
      },
      "execution_count": null,
      "outputs": [
        {
          "output_type": "stream",
          "name": "stdout",
          "text": [
            "float32 float32\n",
            "torch.float32 torch.float32\n",
            "<dtype: 'float32'> <dtype: 'float32'>\n"
          ]
        }
      ]
    },
    {
      "cell_type": "code",
      "source": [
        "# Addition\n",
        "\n",
        "c = a + b\n",
        "print(c)\n",
        "c_t = a_t + b_t\n",
        "print(c_t)\n",
        "c_tf = a_tf + b_tf\n",
        "print(c_tf)"
      ],
      "metadata": {
        "colab": {
          "base_uri": "https://localhost:8080/"
        },
        "id": "PZfLsUR5MhXw",
        "outputId": "27d8de1c-04d2-4f3e-b4cd-69673dfac8c0"
      },
      "execution_count": null,
      "outputs": [
        {
          "output_type": "stream",
          "name": "stdout",
          "text": [
            "[[1. 2.]\n",
            " [3. 4.]\n",
            " [5. 6.]]\n",
            "tensor([[1., 2.],\n",
            "        [3., 4.],\n",
            "        [5., 6.]])\n",
            "tf.Tensor(\n",
            "[[1. 2.]\n",
            " [3. 4.]\n",
            " [5. 6.]], shape=(3, 2), dtype=float32)\n"
          ]
        }
      ]
    },
    {
      "cell_type": "code",
      "source": [
        "# Multiplication\n",
        "\n",
        "c = a * b\n",
        "print(c)\n",
        "c_t = a_t * b_t\n",
        "print(c_t)\n",
        "c_tf = a_tf * b_tf\n",
        "print(c_tf)"
      ],
      "metadata": {
        "colab": {
          "base_uri": "https://localhost:8080/"
        },
        "id": "G-lY7SCnM6aI",
        "outputId": "e2412855-d70b-46d7-cf41-85a0930f9d8a"
      },
      "execution_count": null,
      "outputs": [
        {
          "output_type": "stream",
          "name": "stdout",
          "text": [
            "[[0. 1.]\n",
            " [2. 3.]\n",
            " [4. 5.]]\n",
            "tensor([[0., 1.],\n",
            "        [2., 3.],\n",
            "        [4., 5.]])\n",
            "tf.Tensor(\n",
            "[[0. 1.]\n",
            " [2. 3.]\n",
            " [4. 5.]], shape=(3, 2), dtype=float32)\n"
          ]
        }
      ]
    },
    {
      "cell_type": "code",
      "source": [
        "# Subtraction\n",
        "\n",
        "c = a - b\n",
        "print(c)\n",
        "c_t = a_t - b_t\n",
        "print(c_t)\n",
        "c_tf = a_tf - b_tf\n",
        "print(c_tf)"
      ],
      "metadata": {
        "colab": {
          "base_uri": "https://localhost:8080/"
        },
        "id": "moqSX2ntM6gf",
        "outputId": "137b2263-9291-4dd4-f8dc-f22633539ee9"
      },
      "execution_count": null,
      "outputs": [
        {
          "output_type": "stream",
          "name": "stdout",
          "text": [
            "[[-1.  0.]\n",
            " [ 1.  2.]\n",
            " [ 3.  4.]]\n",
            "tensor([[-1.,  0.],\n",
            "        [ 1.,  2.],\n",
            "        [ 3.,  4.]])\n",
            "tf.Tensor(\n",
            "[[-1.  0.]\n",
            " [ 1.  2.]\n",
            " [ 3.  4.]], shape=(3, 2), dtype=float32)\n"
          ]
        }
      ]
    },
    {
      "cell_type": "code",
      "source": [
        "# Division\n",
        "\n",
        "c = a / b\n",
        "print(c)\n",
        "c_t = a_t / b_t\n",
        "print(c_t)\n",
        "c_tf = a_tf / b_tf\n",
        "print(c_tf)"
      ],
      "metadata": {
        "colab": {
          "base_uri": "https://localhost:8080/"
        },
        "id": "ORlL2reUM6kT",
        "outputId": "c5425db5-7bcb-4ae9-b2bd-a8c9c78e5c57"
      },
      "execution_count": null,
      "outputs": [
        {
          "output_type": "stream",
          "name": "stdout",
          "text": [
            "[[0. 1.]\n",
            " [2. 3.]\n",
            " [4. 5.]]\n",
            "tensor([[0., 1.],\n",
            "        [2., 3.],\n",
            "        [4., 5.]])\n",
            "tf.Tensor(\n",
            "[[0. 1.]\n",
            " [2. 3.]\n",
            " [4. 5.]], shape=(3, 2), dtype=float32)\n"
          ]
        }
      ]
    },
    {
      "cell_type": "code",
      "source": [
        "# Negation\n",
        "\n",
        "c = -a\n",
        "print(c)\n",
        "c_t = -a_t\n",
        "print(c_t)\n",
        "c_tf = -a_tf\n",
        "print(c_tf)"
      ],
      "metadata": {
        "colab": {
          "base_uri": "https://localhost:8080/"
        },
        "id": "WLeC2fhdM6nh",
        "outputId": "bb06c7a7-e93e-47bd-c5df-9c7de4a14792"
      },
      "execution_count": null,
      "outputs": [
        {
          "output_type": "stream",
          "name": "stdout",
          "text": [
            "[[-0. -1.]\n",
            " [-2. -3.]\n",
            " [-4. -5.]]\n",
            "tensor([[-0., -1.],\n",
            "        [-2., -3.],\n",
            "        [-4., -5.]])\n",
            "tf.Tensor(\n",
            "[[-0. -1.]\n",
            " [-2. -3.]\n",
            " [-4. -5.]], shape=(3, 2), dtype=float32)\n"
          ]
        }
      ]
    },
    {
      "cell_type": "markdown",
      "source": [
        "## Power & Exponentiation\n",
        "\n",
        "### Power\n",
        "$x^a$\n",
        "- `a**2`\n",
        "- `np.square(a)`\n",
        "- `np.power(a, 2)`\n",
        "- `torch.pow(a, 2)`\n",
        "- `tf.pow(a, 2)`\n",
        "- `pow()` 또는 `power()`의 경우 2 대신 다른 값을 넣으면 지수로 사용할 수 있음.\n",
        "\n",
        "### Exponential\n",
        "$e^x$&ensp;밑이 e인 지수\n",
        "- `np.exp(a)`\n",
        "- `torch.exp(a)`\n",
        "- `tf.exp(a)`\n",
        "\n",
        "$2^x$&ensp;밑이 2인 지수\n",
        "- `np.exp2(a)`\n",
        "- `torch.exp2(a)`\n",
        "- `c_tf = tf.pow(2.,a_tf)`: exp 지원x\n",
        "\n",
        "$a^x$&ensp;밑이 3 이상인 지수\n",
        "- `np.power(3, a)`\n",
        "- `torch.pow(3, a_t)`\n",
        "- `tf.pow(3,a_tf)`\n",
        "\n",
        "\n"
      ],
      "metadata": {
        "id": "GzsfuFxcNLNl"
      }
    },
    {
      "cell_type": "code",
      "source": [
        "# common operator\n",
        "\n",
        "c = a**2\n",
        "print(c)\n",
        "c_t = a_t**2\n",
        "print(c_t)\n",
        "c_tf = a_tf**2\n",
        "print(c_tf)"
      ],
      "metadata": {
        "colab": {
          "base_uri": "https://localhost:8080/"
        },
        "id": "BY11ofhmNvA6",
        "outputId": "bd9d1b13-0638-482e-d407-bfa7c6cf5062"
      },
      "execution_count": null,
      "outputs": [
        {
          "output_type": "stream",
          "name": "stdout",
          "text": [
            "[[ 0.  1.]\n",
            " [ 4.  9.]\n",
            " [16. 25.]]\n",
            "tensor([[ 0.,  1.],\n",
            "        [ 4.,  9.],\n",
            "        [16., 25.]])\n",
            "tf.Tensor(\n",
            "[[ 0.  1.]\n",
            " [ 4.  9.]\n",
            " [16. 25.]], shape=(3, 2), dtype=float32)\n"
          ]
        }
      ]
    },
    {
      "cell_type": "code",
      "source": [
        "c = np.square(a)\n",
        "print(c)\n",
        "c = np.power(a,2)\n",
        "print(c)\n",
        "print('-------------')\n",
        "c_t = torch.pow(a_t,2)\n",
        "print(c_t)\n",
        "c_tf = tf.pow(a_tf,2)\n",
        "print(c_tf)"
      ],
      "metadata": {
        "colab": {
          "base_uri": "https://localhost:8080/"
        },
        "id": "PqJrHvDNNvEQ",
        "outputId": "33a7bd3d-deb3-4f7c-9bce-8eb5cf22efbf"
      },
      "execution_count": null,
      "outputs": [
        {
          "output_type": "stream",
          "name": "stdout",
          "text": [
            "[[ 0.  1.]\n",
            " [ 4.  9.]\n",
            " [16. 25.]]\n",
            "[[ 0.  1.]\n",
            " [ 4.  9.]\n",
            " [16. 25.]]\n",
            "-------------\n",
            "tensor([[ 0.,  1.],\n",
            "        [ 4.,  9.],\n",
            "        [16., 25.]])\n",
            "tf.Tensor(\n",
            "[[ 0.  1.]\n",
            " [ 4.  9.]\n",
            " [16. 25.]], shape=(3, 2), dtype=float32)\n"
          ]
        }
      ]
    },
    {
      "cell_type": "code",
      "source": [
        "# exponential\n",
        "\n",
        "# 밑이 e인 지수\n",
        "c = np.exp(a)\n",
        "print(c)\n",
        "c_t = torch.exp(a_t)\n",
        "print(c_t)\n",
        "c_tf = tf.exp(a_tf)\n",
        "print(c_tf)\n",
        "\n",
        "# 밑이 2인 지수\n",
        "print()\n",
        "c = np.exp2(a)\n",
        "print(c)\n",
        "c_t = torch.exp2(a_t)\n",
        "print(c_t)\n",
        "# c_tf = tf.exp2(a_tf) # not working\n",
        "# print(c_tf)\n",
        "c_tf = tf.pow(2.,a_tf)\n",
        "print(c_tf)\n",
        "\n",
        "# 밑이 3 이상인 지수\n",
        "print()\n",
        "c = np.power(3, a)\n",
        "print(c)\n",
        "c_t = torch.pow(3, a_t)\n",
        "print(c_t)\n",
        "c_tf = tf.pow(3,a_tf)\n",
        "print(c_tf)"
      ],
      "metadata": {
        "colab": {
          "base_uri": "https://localhost:8080/"
        },
        "id": "qzwIRFwZNvH_",
        "outputId": "3fd9f550-6c47-4d39-92b6-2eff862c1bb6"
      },
      "execution_count": null,
      "outputs": [
        {
          "output_type": "stream",
          "name": "stdout",
          "text": [
            "[[  1.          2.718282 ]\n",
            " [  7.3890557  20.085537 ]\n",
            " [ 54.59815   148.41316  ]]\n",
            "tensor([[  1.0000,   2.7183],\n",
            "        [  7.3891,  20.0855],\n",
            "        [ 54.5981, 148.4132]])\n",
            "tf.Tensor(\n",
            "[[  1.          2.7182817]\n",
            " [  7.389056   20.085537 ]\n",
            " [ 54.59815   148.41316  ]], shape=(3, 2), dtype=float32)\n",
            "\n",
            "[[ 1.  2.]\n",
            " [ 4.  8.]\n",
            " [16. 32.]]\n",
            "tensor([[ 1.,  2.],\n",
            "        [ 4.,  8.],\n",
            "        [16., 32.]])\n",
            "tf.Tensor(\n",
            "[[ 1.  2.]\n",
            " [ 4.  8.]\n",
            " [16. 32.]], shape=(3, 2), dtype=float32)\n",
            "\n",
            "[[  1.   3.]\n",
            " [  9.  27.]\n",
            " [ 81. 243.]]\n",
            "tensor([[  1.,   3.],\n",
            "        [  9.,  27.],\n",
            "        [ 81., 243.]])\n",
            "tf.Tensor(\n",
            "[[  1.   3.]\n",
            " [  9.  27.]\n",
            " [ 81. 243.]], shape=(3, 2), dtype=float32)\n"
          ]
        }
      ]
    },
    {
      "cell_type": "markdown",
      "source": [
        "## Log\n",
        "\n",
        "$\\ln$\n",
        "- `np.log(a)`\n",
        "- `torch.log(a)`\n",
        "- `tf.math.log(a)`\n",
        "\n",
        "$\\log_2$\n",
        "- `np.log2(a)`\n",
        "- `torch.log2(a)`\n",
        "- `tf.experimental.numpy.log2(a)`\n",
        "\n",
        "$\\log_{10}$\n",
        "- `np.log10(a)`\n",
        "- `torch.log10(a)`\n",
        "- `tf.experimental.numpy.log10(a)`"
      ],
      "metadata": {
        "id": "EwitcwQGSNPr"
      }
    },
    {
      "cell_type": "code",
      "source": [
        "# 밑이 e인 로그\n",
        "c = np.log(a)\n",
        "print(c)\n",
        "c_t = torch.log(a_t)\n",
        "print(c_t)\n",
        "c_tf = tf.math.log(a_tf)\n",
        "print(c_tf)\n",
        "print()\n",
        "\n",
        "# 밑이 2인 로그\n",
        "c = np.log2(a)\n",
        "print(c)\n",
        "c_t = torch.log2(a_t)\n",
        "print(c_t)\n",
        "# c_tf = tf.math.log2(a_tf) not working\n",
        "# print(c_tf)\n",
        "c_tf = tf.experimental.numpy.log2(a_tf)\n",
        "print(c_tf)\n",
        "print()\n",
        "\n",
        "# 밑이 10인 로그\n",
        "c = np.log10(a)\n",
        "print(c)\n",
        "c_t = torch.log10(a_t)\n",
        "print(c_t)\n",
        "# c_tf = tf.math.log10(a_tf) # not working\n",
        "# print(c_tf)\n",
        "c_tf = tf.experimental.numpy.log10(a_tf)\n",
        "print(c_tf)\n",
        "print()"
      ],
      "metadata": {
        "colab": {
          "base_uri": "https://localhost:8080/"
        },
        "id": "3MNnqyq5SQB0",
        "outputId": "19b6c7f0-ccf6-448e-aab4-0d86d958dc92"
      },
      "execution_count": null,
      "outputs": [
        {
          "output_type": "stream",
          "name": "stdout",
          "text": [
            "[[     -inf 0.       ]\n",
            " [0.6931472 1.0986123]\n",
            " [1.3862944 1.609438 ]]\n",
            "tensor([[  -inf, 0.0000],\n",
            "        [0.6931, 1.0986],\n",
            "        [1.3863, 1.6094]])\n",
            "tf.Tensor(\n",
            "[[     -inf 0.       ]\n",
            " [0.6931472 1.0986123]\n",
            " [1.3862944 1.609438 ]], shape=(3, 2), dtype=float32)\n",
            "\n",
            "[[     -inf 0.       ]\n",
            " [1.        1.5849625]\n",
            " [2.        2.321928 ]]\n",
            "tensor([[  -inf, 0.0000],\n",
            "        [1.0000, 1.5850],\n",
            "        [2.0000, 2.3219]])\n",
            "tf.Tensor(\n",
            "[[     -inf 0.       ]\n",
            " [1.        1.5849625]\n",
            " [2.        2.321928 ]], shape=(3, 2), dtype=float32)\n",
            "\n",
            "[[      -inf 0.        ]\n",
            " [0.30103    0.47712123]\n",
            " [0.60206    0.69897   ]]\n",
            "tensor([[  -inf, 0.0000],\n",
            "        [0.3010, 0.4771],\n",
            "        [0.6021, 0.6990]])\n",
            "tf.Tensor(\n",
            "[[      -inf 0.        ]\n",
            " [0.30102998 0.47712126]\n",
            " [0.60205996 0.69897   ]], shape=(3, 2), dtype=float32)\n",
            "\n"
          ]
        },
        {
          "output_type": "stream",
          "name": "stderr",
          "text": [
            "<ipython-input-27-bb1c3fd4992a>:2: RuntimeWarning: divide by zero encountered in log\n",
            "  c = np.log(a)\n",
            "<ipython-input-27-bb1c3fd4992a>:11: RuntimeWarning: divide by zero encountered in log2\n",
            "  c = np.log2(a)\n",
            "<ipython-input-27-bb1c3fd4992a>:22: RuntimeWarning: divide by zero encountered in log10\n",
            "  c = np.log10(a)\n"
          ]
        }
      ]
    },
    {
      "cell_type": "markdown",
      "source": [
        "## square root"
      ],
      "metadata": {
        "id": "kjkeAYndYBKG"
      }
    },
    {
      "cell_type": "code",
      "source": [
        "c = np.sqrt(a)\n",
        "print(c)\n",
        "c_t = torch.sqrt(a_t)\n",
        "print(c_t)\n",
        "c_tf = tf.sqrt(a_tf)\n",
        "print(c_tf)"
      ],
      "metadata": {
        "colab": {
          "base_uri": "https://localhost:8080/"
        },
        "id": "svLSD3idX02m",
        "outputId": "ebe0fbb2-ee3f-4059-9801-4dc2f7d53580"
      },
      "execution_count": null,
      "outputs": [
        {
          "output_type": "stream",
          "name": "stdout",
          "text": [
            "[[0.        1.       ]\n",
            " [1.4142135 1.7320508]\n",
            " [2.        2.236068 ]]\n",
            "tensor([[0.0000, 1.0000],\n",
            "        [1.4142, 1.7321],\n",
            "        [2.0000, 2.2361]])\n",
            "tf.Tensor(\n",
            "[[0.        1.       ]\n",
            " [1.4142135 1.7320508]\n",
            " [2.        2.236068 ]], shape=(3, 2), dtype=float32)\n"
          ]
        }
      ]
    },
    {
      "cell_type": "markdown",
      "source": [
        "## Absolute Value\n",
        "\n",
        "Python의 built-in function인 abs도 사용가능하지만,\n",
        "\n",
        "각 tensor가 속한 라이브러리의 abs를 사용하는게 효과적임."
      ],
      "metadata": {
        "id": "CmP4PO-kYJiF"
      }
    },
    {
      "cell_type": "code",
      "source": [
        "c = np.abs(a)           # 엄밀하게는 np.absolute\n",
        "print(c)\n",
        "c_t = torch.abs(a_t)\n",
        "print(c_t)\n",
        "c_tf = tf.abs(a_tf)\n",
        "print(c_tf)"
      ],
      "metadata": {
        "colab": {
          "base_uri": "https://localhost:8080/"
        },
        "id": "tIE_2WPBYH7o",
        "outputId": "bc573c91-fe87-4b4c-a71c-70cf62ec45ae"
      },
      "execution_count": null,
      "outputs": [
        {
          "output_type": "stream",
          "name": "stdout",
          "text": [
            "[[0. 1.]\n",
            " [2. 3.]\n",
            " [4. 5.]]\n",
            "tensor([[0., 1.],\n",
            "        [2., 3.],\n",
            "        [4., 5.]])\n",
            "tf.Tensor(\n",
            "[[0. 1.]\n",
            " [2. 3.]\n",
            " [4. 5.]], shape=(3, 2), dtype=float32)\n"
          ]
        }
      ]
    },
    {
      "cell_type": "markdown",
      "source": [
        "## Relational Operation\n",
        "\n",
        "\\> , < , >= , <= , != , == 등.\n",
        "\n",
        "결과값이 boolean tensor 임.\n",
        "\n",
        "(아래에 기술한 boolean opeartion 과 함께 사용되어 특정 조건에 해당하는 elements를 찾는데 사용됨.)"
      ],
      "metadata": {
        "id": "7y67QY6_ZFNF"
      }
    },
    {
      "cell_type": "code",
      "source": [
        "c = a > b\n",
        "print(c)\n",
        "c_t = a_t > b_t\n",
        "print(c_t)\n",
        "c_tf = a_tf > b_tf\n",
        "print(c_tf)"
      ],
      "metadata": {
        "colab": {
          "base_uri": "https://localhost:8080/"
        },
        "id": "NH3pi3rhZZ8g",
        "outputId": "3e4e4976-b239-4e21-8262-6c73ded3615a"
      },
      "execution_count": null,
      "outputs": [
        {
          "output_type": "stream",
          "name": "stdout",
          "text": [
            "[[False False]\n",
            " [ True  True]\n",
            " [ True  True]]\n",
            "tensor([[False, False],\n",
            "        [ True,  True],\n",
            "        [ True,  True]])\n",
            "tf.Tensor(\n",
            "[[False False]\n",
            " [ True  True]\n",
            " [ True  True]], shape=(3, 2), dtype=bool)\n"
          ]
        }
      ]
    },
    {
      "cell_type": "markdown",
      "source": [
        "## Trigonometric Operations\n",
        "- 간단하게 `sin`, `cos`, `tan` 등을 사용할 수 있음."
      ],
      "metadata": {
        "id": "L4NLF8z6Zce8"
      }
    },
    {
      "cell_type": "code",
      "source": [
        "print(\"sine\")\n",
        "c = np.sin(a)\n",
        "print(c)\n",
        "c_t = torch.sin(a_t)\n",
        "print(c_t)\n",
        "c_tf = tf.sin(a_tf)\n",
        "print(c_tf)\n",
        "\n",
        "print(\"\\ncosine\")\n",
        "c = np.cos(a)\n",
        "print(c)\n",
        "c_t = torch.cos(a_t)\n",
        "print(c_t)\n",
        "c_tf = tf.cos(a_tf)\n",
        "print(c_tf)\n",
        "\n",
        "print(\"\\ntangent\")\n",
        "c = np.tan(a)\n",
        "print(c)\n",
        "c_t = torch.tan(a_t)\n",
        "print(c_t)\n",
        "c_tf = tf.tan(a_tf)\n",
        "print(c_tf)"
      ],
      "metadata": {
        "colab": {
          "base_uri": "https://localhost:8080/"
        },
        "id": "hK-2zysSZihL",
        "outputId": "ba055f52-4767-473b-aa28-751cd69dd3f3"
      },
      "execution_count": null,
      "outputs": [
        {
          "output_type": "stream",
          "name": "stdout",
          "text": [
            "sine\n",
            "[[ 0.         0.841471 ]\n",
            " [ 0.9092974  0.14112  ]\n",
            " [-0.7568025 -0.9589243]]\n",
            "tensor([[ 0.0000,  0.8415],\n",
            "        [ 0.9093,  0.1411],\n",
            "        [-0.7568, -0.9589]])\n",
            "tf.Tensor(\n",
            "[[ 0.          0.84147096]\n",
            " [ 0.9092974   0.14112   ]\n",
            " [-0.7568025  -0.9589243 ]], shape=(3, 2), dtype=float32)\n",
            "\n",
            "cosine\n",
            "[[ 1.          0.5403023 ]\n",
            " [-0.4161468  -0.9899925 ]\n",
            " [-0.6536436   0.28366217]]\n",
            "tensor([[ 1.0000,  0.5403],\n",
            "        [-0.4161, -0.9900],\n",
            "        [-0.6536,  0.2837]])\n",
            "tf.Tensor(\n",
            "[[ 1.          0.5403023 ]\n",
            " [-0.41614684 -0.9899925 ]\n",
            " [-0.6536436   0.2836622 ]], shape=(3, 2), dtype=float32)\n",
            "\n",
            "tangent\n",
            "[[ 0.          1.5574077 ]\n",
            " [-2.1850398  -0.14254655]\n",
            " [ 1.1578213  -3.380515  ]]\n",
            "tensor([[ 0.0000,  1.5574],\n",
            "        [-2.1850, -0.1425],\n",
            "        [ 1.1578, -3.3805]])\n",
            "tf.Tensor(\n",
            "[[ 0.          1.5574077 ]\n",
            " [-2.1850398  -0.14254655]\n",
            " [ 1.1578213  -3.380515  ]], shape=(3, 2), dtype=float32)\n"
          ]
        }
      ]
    },
    {
      "cell_type": "markdown",
      "source": [
        "## Aggregation\n",
        "- 특정 축에 대해 수행\n",
        "- axis: numpy, tensorflow\n",
        "- dim: pytorch\n",
        "- Nan이 있는 경우 에러 발생\n",
        "\n"
      ],
      "metadata": {
        "id": "jWphBfMGZ0Zh"
      }
    },
    {
      "cell_type": "code",
      "source": [
        "print(\"\\nmax\")\n",
        "c = np.max(a)\n",
        "print(c)\n",
        "c_t = torch.max(a_t)\n",
        "print(c_t)\n",
        "c_tf = tf.reduce_max(a_tf)\n",
        "print(c_tf)\n",
        "\n",
        "print(\"\\nmin\")\n",
        "c = np.min(a)\n",
        "print(c)\n",
        "c_t = torch.min(a_t)\n",
        "print(c_t)\n",
        "c_tf = tf.reduce_min(a_tf)\n",
        "print(c_tf)\n",
        "\n",
        "print(\"\\nsum\")\n",
        "c = np.sum(a)\n",
        "print(c)\n",
        "c_t = torch.sum(a_t)\n",
        "print(c_t)\n",
        "c_tf = tf.reduce_sum(a_tf)\n",
        "print(c_tf)\n",
        "\n",
        "print('\\nmean')\n",
        "c = np.mean(a, axis=0)\n",
        "print(c)\n",
        "c_t = torch.mean(a_t, dim=0)\n",
        "print(c_t)\n",
        "c_tf = tf.reduce_mean(a_tf, axis=0)\n",
        "print(c_tf)\n",
        "\n",
        "print('\\nmedian')\n",
        "c = np.median(a, axis=0)\n",
        "print(c)\n",
        "c_t = torch.median(a_t, dim=0).values # indices도 구함.\n",
        "print(c_t)\n",
        "c_tf = tf.math.reduce_mean(a_tf, axis=0)\n",
        "print(c_tf)"
      ],
      "metadata": {
        "colab": {
          "base_uri": "https://localhost:8080/"
        },
        "id": "Nq7HZ1FMa2bd",
        "outputId": "e4b1911e-f767-47ae-8923-4e22b9c48cad"
      },
      "execution_count": null,
      "outputs": [
        {
          "output_type": "stream",
          "name": "stdout",
          "text": [
            "\n",
            "max\n",
            "5.0\n",
            "tensor(5.)\n",
            "tf.Tensor(5.0, shape=(), dtype=float32)\n",
            "\n",
            "min\n",
            "0.0\n",
            "tensor(0.)\n",
            "tf.Tensor(0.0, shape=(), dtype=float32)\n",
            "\n",
            "sum\n",
            "15.0\n",
            "tensor(15.)\n",
            "tf.Tensor(15.0, shape=(), dtype=float32)\n",
            "\n",
            "mean\n",
            "[2. 3.]\n",
            "tensor([2., 3.])\n",
            "tf.Tensor([2. 3.], shape=(2,), dtype=float32)\n",
            "\n",
            "median\n",
            "[2. 3.]\n",
            "tensor([2., 3.])\n",
            "tf.Tensor([2. 3.], shape=(2,), dtype=float32)\n"
          ]
        }
      ]
    },
    {
      "cell_type": "markdown",
      "source": [
        "## Boolean Operations"
      ],
      "metadata": {
        "id": "IvoOJKEGbYf3"
      }
    },
    {
      "cell_type": "code",
      "source": [
        "bm0= [[False, False],\n",
        " [False,  True],\n",
        " [ True,  True]]\n",
        "bm1= [[False, False],\n",
        " [False, False],\n",
        " [ True,  True]]\n",
        "\n",
        "\n",
        "bm0 = a > 2.5\n",
        "bm1 = a > 3.5\n",
        "print('bm0=',bm0)\n",
        "print('bm1=',bm1)\n",
        "bm0_t = a_t > 2.5\n",
        "bm1_t = a_t > 3.5\n",
        "bm0_tf = a_tf > 2.5\n",
        "bm1_tf = a_tf > 3.5\n",
        "\n",
        "print('\\nand')\n",
        "c = bm0 & bm1 # and\n",
        "print(c)\n",
        "c_t = bm0_t & bm1_t\n",
        "print(c_t)\n",
        "c_tf = bm0_tf & bm1_tf\n",
        "print(c_tf)\n",
        "\n",
        "print('\\nor')\n",
        "c = bm0 | bm1 # or\n",
        "print(c)\n",
        "c_t = bm0_t | bm1_t\n",
        "print(c_t)\n",
        "c_tf = bm0_tf | bm1_tf\n",
        "print(c_tf)\n",
        "\n",
        "print('\\nxor')\n",
        "c = bm0 ^ bm1 # xor\n",
        "print(c)\n",
        "c_t = bm0_t ^ bm1_t\n",
        "print(c_t)\n",
        "c_tf = bm0_tf ^ bm1_tf\n",
        "print(c_tf)\n",
        "\n",
        "\n",
        "print('\\nnot')\n",
        "c = ~bm0 # not\n",
        "print(c)\n",
        "c_t = ~bm0_t\n",
        "print(c_t)\n",
        "c_tf = ~bm0_tf\n",
        "print(c_tf)\n"
      ],
      "metadata": {
        "colab": {
          "base_uri": "https://localhost:8080/"
        },
        "id": "vfKIsEGlbYKL",
        "outputId": "967ef250-a202-41b2-c42f-6ef37c716911"
      },
      "execution_count": null,
      "outputs": [
        {
          "output_type": "stream",
          "name": "stdout",
          "text": [
            "bm0= [[False False]\n",
            " [False  True]\n",
            " [ True  True]]\n",
            "bm1= [[False False]\n",
            " [False False]\n",
            " [ True  True]]\n",
            "\n",
            "and\n",
            "[[False False]\n",
            " [False False]\n",
            " [ True  True]]\n",
            "tensor([[False, False],\n",
            "        [False, False],\n",
            "        [ True,  True]])\n",
            "tf.Tensor(\n",
            "[[False False]\n",
            " [False False]\n",
            " [ True  True]], shape=(3, 2), dtype=bool)\n",
            "\n",
            "or\n",
            "[[False False]\n",
            " [False  True]\n",
            " [ True  True]]\n",
            "tensor([[False, False],\n",
            "        [False,  True],\n",
            "        [ True,  True]])\n",
            "tf.Tensor(\n",
            "[[False False]\n",
            " [False  True]\n",
            " [ True  True]], shape=(3, 2), dtype=bool)\n",
            "\n",
            "xor\n",
            "[[False False]\n",
            " [False  True]\n",
            " [False False]]\n",
            "tensor([[False, False],\n",
            "        [False,  True],\n",
            "        [False, False]])\n",
            "tf.Tensor(\n",
            "[[False False]\n",
            " [False  True]\n",
            " [False False]], shape=(3, 2), dtype=bool)\n",
            "\n",
            "not\n",
            "[[ True  True]\n",
            " [ True False]\n",
            " [False False]]\n",
            "tensor([[ True,  True],\n",
            "        [ True, False],\n",
            "        [False, False]])\n",
            "tf.Tensor(\n",
            "[[ True  True]\n",
            " [ True False]\n",
            " [False False]], shape=(3, 2), dtype=bool)\n"
          ]
        }
      ]
    }
  ]
}