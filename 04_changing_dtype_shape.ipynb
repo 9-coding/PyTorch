{
  "nbformat": 4,
  "nbformat_minor": 0,
  "metadata": {
    "colab": {
      "provenance": [],
      "authorship_tag": "ABX9TyMDFlmMaEOvar1acRbKi3So",
      "include_colab_link": true
    },
    "kernelspec": {
      "name": "python3",
      "display_name": "Python 3"
    },
    "language_info": {
      "name": "python"
    }
  },
  "cells": [
    {
      "cell_type": "markdown",
      "metadata": {
        "id": "view-in-github",
        "colab_type": "text"
      },
      "source": [
        "<a href=\"https://colab.research.google.com/github/9-coding/PyTorch/blob/main/04_changing_dtype_shape.ipynb\" target=\"_parent\"><img src=\"https://colab.research.google.com/assets/colab-badge.svg\" alt=\"Open In Colab\"/></a>"
      ]
    },
    {
      "cell_type": "markdown",
      "source": [
        "# dtype, shape 변경"
      ],
      "metadata": {
        "id": "t2G1i0jQhanw"
      }
    },
    {
      "cell_type": "code",
      "source": [
        "import numpy as np\n",
        "import torch\n",
        "import tensorflow as tf"
      ],
      "metadata": {
        "id": "O3yyVvtthhwA"
      },
      "execution_count": 1,
      "outputs": []
    },
    {
      "cell_type": "code",
      "source": [
        "for c in [np, torch, tf]:\n",
        "  print(c.__name__, c.__version__)"
      ],
      "metadata": {
        "colab": {
          "base_uri": "https://localhost:8080/"
        },
        "id": "PUMHHNQghml8",
        "outputId": "08f3de8e-81e8-4204-afc1-8ebcae65b136"
      },
      "execution_count": 2,
      "outputs": [
        {
          "output_type": "stream",
          "name": "stdout",
          "text": [
            "numpy 1.25.2\n",
            "torch 2.2.1+cu121\n",
            "tensorflow 2.15.0\n"
          ]
        }
      ]
    },
    {
      "cell_type": "code",
      "execution_count": 3,
      "metadata": {
        "id": "VwbagjDcAUBY"
      },
      "outputs": [],
      "source": [
        "# tensor 생성\n",
        "t = (1,2,3,4)\n",
        "\n",
        "a_np = np.array(t)\n",
        "a_torch = torch.tensor(t)\n",
        "a_tf = tf.constant(t)"
      ]
    },
    {
      "cell_type": "markdown",
      "source": [
        "## dtype 변경\n",
        "\n",
        "**dtype: The data type of element**\n",
        "\n",
        "바꾸는 원본 tensor인스턴스를 기반으로 원하는 dtype로 구성된 새로운 tensor인스턴스가 생성됨 (연결X)\n",
        "\n",
        "### numpy\n",
        "\n",
        "- `ndarray.astype(desired_dtype)`\n",
        "- `np.uint8(src_array)`\n",
        "\n",
        "### pytorch\n",
        "\n",
        "- `torch.tensor.type(desired_dtype)`\n",
        "- `tensor.to(desired_dtype)`\n",
        "\n",
        "### tensorflow\n",
        "\n",
        "- `tensorflow.dtypes.cast(src_tensor, desired_dtype)`"
      ],
      "metadata": {
        "id": "xg3hl_bLho9O"
      }
    },
    {
      "cell_type": "code",
      "source": [
        "a = np.ones((3,3))\n",
        "b = np.uint8(a)\n",
        "c = a.astype('float32')\n",
        "print(c)\n",
        "\n",
        "print(id(a),a.dtype)\n",
        "print(id(b),b.dtype)\n",
        "print(id(c),c.dtype)"
      ],
      "metadata": {
        "colab": {
          "base_uri": "https://localhost:8080/"
        },
        "id": "43R2We41hq3-",
        "outputId": "1670d329-75bd-4a47-ed7f-5b10e7692130"
      },
      "execution_count": 4,
      "outputs": [
        {
          "output_type": "stream",
          "name": "stdout",
          "text": [
            "[[1. 1. 1.]\n",
            " [1. 1. 1.]\n",
            " [1. 1. 1.]]\n",
            "140536783614672 float64\n",
            "140536783614768 uint8\n",
            "140531646361936 float32\n"
          ]
        }
      ]
    },
    {
      "cell_type": "code",
      "source": [
        "print(a_torch.dtype)\n",
        "print(a_torch.to(dtype = torch.float32)) # to: dtype을 어딘가로 보냄.\n",
        "print(a_torch.dtype)"
      ],
      "metadata": {
        "colab": {
          "base_uri": "https://localhost:8080/"
        },
        "id": "tzohm344htwn",
        "outputId": "ec06280d-2e1f-432c-91da-1df6353dffef"
      },
      "execution_count": 5,
      "outputs": [
        {
          "output_type": "stream",
          "name": "stdout",
          "text": [
            "torch.int64\n",
            "tensor([1., 2., 3., 4.])\n",
            "torch.int64\n"
          ]
        }
      ]
    },
    {
      "cell_type": "markdown",
      "source": [
        "### Torch"
      ],
      "metadata": {
        "id": "XeWvMn0wiIPq"
      }
    },
    {
      "cell_type": "code",
      "source": [
        "a_torch = torch.rand(3,4)\n",
        "b_torch = a_torch.to(torch.uint8) # 보통 데이터를 gpu 또는 cpu로 옮길 때 사용. 형 변환이 필요하기 때문에 함께 쓰임.\n",
        "c_torch = a_torch.type(torch.float64)\n",
        "\n",
        "print(a_torch)\n",
        "print(b_torch)\n",
        "print(c_torch)\n",
        "print(id(a_torch), a_torch.dtype)\n",
        "print(id(b_torch), b_torch.dtype)\n",
        "print(id(c_torch), c_torch.dtype)\n",
        "\n",
        "b_torch[0,1] = 9\n",
        "c_torch[0,0] = 1000\n",
        "print()\n",
        "print(a_torch)\n",
        "print(b_torch)\n",
        "print(c_torch) # b_torch와 c_torch의 값을 바꿔도 a_torch의 값이 변하지 않음."
      ],
      "metadata": {
        "colab": {
          "base_uri": "https://localhost:8080/"
        },
        "id": "4Iax_EUkiHFm",
        "outputId": "cb56e307-b6cb-4054-e32c-51fd0f15618e"
      },
      "execution_count": 7,
      "outputs": [
        {
          "output_type": "stream",
          "name": "stdout",
          "text": [
            "tensor([[0.9012, 0.9598, 0.0884, 0.3977],\n",
            "        [0.6745, 0.2790, 0.0779, 0.5111],\n",
            "        [0.9498, 0.9450, 0.5527, 0.2526]])\n",
            "tensor([[0, 0, 0, 0],\n",
            "        [0, 0, 0, 0],\n",
            "        [0, 0, 0, 0]], dtype=torch.uint8)\n",
            "tensor([[0.9012, 0.9598, 0.0884, 0.3977],\n",
            "        [0.6745, 0.2790, 0.0779, 0.5111],\n",
            "        [0.9498, 0.9450, 0.5527, 0.2526]], dtype=torch.float64)\n",
            "140533210271152 torch.float32\n",
            "140533210270832 torch.uint8\n",
            "140533210280512 torch.float64\n",
            "\n",
            "tensor([[0.9012, 0.9598, 0.0884, 0.3977],\n",
            "        [0.6745, 0.2790, 0.0779, 0.5111],\n",
            "        [0.9498, 0.9450, 0.5527, 0.2526]])\n",
            "tensor([[0, 9, 0, 0],\n",
            "        [0, 0, 0, 0],\n",
            "        [0, 0, 0, 0]], dtype=torch.uint8)\n",
            "tensor([[1.0000e+03, 9.5976e-01, 8.8353e-02, 3.9766e-01],\n",
            "        [6.7447e-01, 2.7896e-01, 7.7905e-02, 5.1112e-01],\n",
            "        [9.4979e-01, 9.4501e-01, 5.5273e-01, 2.5259e-01]], dtype=torch.float64)\n"
          ]
        }
      ]
    },
    {
      "cell_type": "markdown",
      "source": [
        "### TensorFlow"
      ],
      "metadata": {
        "id": "eKfb_3TdiLYp"
      }
    },
    {
      "cell_type": "code",
      "source": [
        "a_tf = tf.random.uniform(shape=(3,4))\n",
        "c_tf = tf.dtypes.cast(a_tf,tf.float64)\n",
        "print(c_tf)\n",
        "print(id(a_tf), a_tf.dtype)\n",
        "print(id(c_tf), c_tf.dtype)"
      ],
      "metadata": {
        "colab": {
          "base_uri": "https://localhost:8080/"
        },
        "id": "lQh7EW3GiNv2",
        "outputId": "16be015e-ebdd-4d13-fbe9-ab0c7f93f6ee"
      },
      "execution_count": 8,
      "outputs": [
        {
          "output_type": "stream",
          "name": "stdout",
          "text": [
            "tf.Tensor(\n",
            "[[0.74271929 0.40627432 0.20696175 0.51956022]\n",
            " [0.50978422 0.6868403  0.20246887 0.72943413]\n",
            " [0.80793452 0.15891683 0.66476834 0.75395751]], shape=(3, 4), dtype=float64)\n",
            "140537210747568 <dtype: 'float32'>\n",
            "140531646506688 <dtype: 'float64'>\n"
          ]
        }
      ]
    },
    {
      "cell_type": "markdown",
      "source": [
        "## Shape 변경\n",
        "\n",
        "- shape는 tensor의 각 축의 크기를 나타내는 sequence type의 인스턴스임.\n",
        "- 즉, tensor의 크기와 형태를 나타냄.\n",
        "\n",
        "### numpy\n",
        "\n",
        "- `numpy.reshape(src_ndarray, desired_shape)`\n",
        "- `numpy.array.reshape(desired_shape)`\n",
        "\n",
        "### pytorch\n",
        "\n",
        "- `torch.reshape(src_tensor, desired_shape)`\n",
        "- `torch.tensor.reshape(desired_shape)`\n",
        "\n",
        "### tensorflow\n",
        "\n",
        "- `tensorflow.reshape(src_tensor, desired_shape)`\n",
        "\n",
        "메모리가 contiguous해야 view를 만들 수 있음.\n",
        "\n",
        "transpose는 행렬을 바꿔놓기 때문에 일정하게 쭉 올라가던 메모리에서 순서가 꼬이게 됨. is_contiguous 사용하면 인접한지 확인할 수 있음.\n",
        "\n",
        "<br>\n",
        "\n",
        "### numpy"
      ],
      "metadata": {
        "id": "ju-7cj25iOq_"
      }
    },
    {
      "cell_type": "code",
      "source": [
        "a = np.arange(0,10,1) # [ s:e :step_size]\n",
        "b = a.reshape((2,5))\n",
        "print(a.shape,id(a))\n",
        "print(b.shape,id(b))\n",
        "c = np.reshape(a,(5,2))\n",
        "print(c.shape,id(c))\n",
        "c[0,0] = 1000\n",
        "print(a)\n",
        "print(b)\n",
        "print(c)"
      ],
      "metadata": {
        "colab": {
          "base_uri": "https://localhost:8080/"
        },
        "id": "99eyFGDNiQ_9",
        "outputId": "44f50dff-0a94-4cd2-a3f9-7b45a9107b39"
      },
      "execution_count": 9,
      "outputs": [
        {
          "output_type": "stream",
          "name": "stdout",
          "text": [
            "(10,) 140531646363568\n",
            "(2, 5) 140531380548496\n",
            "(5, 2) 140531380543696\n",
            "[1000    1    2    3    4    5    6    7    8    9]\n",
            "[[1000    1    2    3    4]\n",
            " [   5    6    7    8    9]]\n",
            "[[1000    1]\n",
            " [   2    3]\n",
            " [   4    5]\n",
            " [   6    7]\n",
            " [   8    9]]\n"
          ]
        }
      ]
    },
    {
      "cell_type": "markdown",
      "source": [
        "### pytorch"
      ],
      "metadata": {
        "id": "0KYoZYIbiZ4m"
      }
    },
    {
      "cell_type": "code",
      "source": [
        "a_torch = torch.arange(0,10,1)\n",
        "b_torch = a_torch.reshape((2,5))\n",
        "print(a_torch.shape,id(a_torch))\n",
        "print(b_torch.shape,id(b_torch))\n",
        "c_torch = torch.reshape(a_torch,(5,2))\n",
        "print(c_torch.shape,id(c_torch))\n",
        "c_torch[0,0] = 1000\n",
        "\n",
        "print(a_torch)\n",
        "print(b_torch)\n",
        "print(c_torch)"
      ],
      "metadata": {
        "colab": {
          "base_uri": "https://localhost:8080/"
        },
        "id": "V0dBximWibVL",
        "outputId": "0ae87ac8-a045-4248-9428-14339ceedad9"
      },
      "execution_count": 10,
      "outputs": [
        {
          "output_type": "stream",
          "name": "stdout",
          "text": [
            "torch.Size([10]) 140531380809984\n",
            "torch.Size([2, 5]) 140531380808944\n",
            "torch.Size([5, 2]) 140531380602656\n",
            "tensor([1000,    1,    2,    3,    4,    5,    6,    7,    8,    9])\n",
            "tensor([[1000,    1,    2,    3,    4],\n",
            "        [   5,    6,    7,    8,    9]])\n",
            "tensor([[1000,    1],\n",
            "        [   2,    3],\n",
            "        [   4,    5],\n",
            "        [   6,    7],\n",
            "        [   8,    9]])\n"
          ]
        }
      ]
    },
    {
      "cell_type": "markdown",
      "source": [
        "### tensorflow"
      ],
      "metadata": {
        "id": "xgH6owoLicyX"
      }
    },
    {
      "cell_type": "code",
      "source": [
        "a_tensor = tf.range(0,10,1)\n",
        "b_tensor = tf.reshape(a_tensor,(2,5))\n",
        "# b_tensor = a_tensor.reshape((2,5)) # not working\n",
        "print(a_tensor.shape,id(a_tensor))\n",
        "print(b_tensor.shape,id(b_tensor))\n",
        "\n",
        "c_tensor = tf.reshape(a_tensor,(5,2))\n",
        "print(c_tensor.shape,id(c_tensor))\n",
        "\n",
        "# 변경하고 싶은 위치와 값을 정의\n",
        "indices = tf.constant([[0, 0]]) # (2, 2) 위치를 변경하고자 함\n",
        "updates = tf.constant([999]) # 해당 위치에 넣고 싶은 값\n",
        "\n",
        "# 업데이트 적용\n",
        "c_tensor = tf.tensor_scatter_nd_update(c_tensor, indices, updates)\n",
        "\n",
        "print(a_tensor)\n",
        "print(b_tensor)\n",
        "print(c_tensor)"
      ],
      "metadata": {
        "colab": {
          "base_uri": "https://localhost:8080/"
        },
        "id": "1OFmedm1idzC",
        "outputId": "c8ebf91e-9bc9-4f5e-fd5d-e91a4eaf8c60"
      },
      "execution_count": 11,
      "outputs": [
        {
          "output_type": "stream",
          "name": "stdout",
          "text": [
            "(10,) 140531646511792\n",
            "(2, 5) 140531652537936\n",
            "(5, 2) 140531646508448\n",
            "tf.Tensor([0 1 2 3 4 5 6 7 8 9], shape=(10,), dtype=int32)\n",
            "tf.Tensor(\n",
            "[[0 1 2 3 4]\n",
            " [5 6 7 8 9]], shape=(2, 5), dtype=int32)\n",
            "tf.Tensor(\n",
            "[[999   1]\n",
            " [  2   3]\n",
            " [  4   5]\n",
            " [  6   7]\n",
            " [  8   9]], shape=(5, 2), dtype=int32)\n"
          ]
        }
      ]
    }
  ]
}