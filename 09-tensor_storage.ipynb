{
  "nbformat": 4,
  "nbformat_minor": 0,
  "metadata": {
    "colab": {
      "provenance": [],
      "authorship_tag": "ABX9TyOZIJzIH5KQThh7Iihr3qEy",
      "include_colab_link": true
    },
    "kernelspec": {
      "name": "python3",
      "display_name": "Python 3"
    },
    "language_info": {
      "name": "python"
    }
  },
  "cells": [
    {
      "cell_type": "markdown",
      "metadata": {
        "id": "view-in-github",
        "colab_type": "text"
      },
      "source": [
        "<a href=\"https://colab.research.google.com/github/9-coding/PyTorch/blob/main/09-tensor_storage.ipynb\" target=\"_parent\"><img src=\"https://colab.research.google.com/assets/colab-badge.svg\" alt=\"Open In Colab\"/></a>"
      ]
    },
    {
      "cell_type": "markdown",
      "source": [
        "# Tensor Storage\n",
        "Tensor 인스턴스의 실제 데이터가 저장되는 1D numerical array 관리\n",
        "- 여러 인스턴스들이 같은 storage를 공유할 수 있음.\n",
        "- cpu 또는 gpu 등의 memory의 실제 data가 저장된 contiguous block 관리.\n",
        "- 다양한 shape의 Tensor 인스턴스들은 자신의 storage 인스턴스를 통해 data block을 관리함."
      ],
      "metadata": {
        "id": "-pN6K0cMQY0C"
      }
    },
    {
      "cell_type": "code",
      "execution_count": 26,
      "metadata": {
        "colab": {
          "base_uri": "https://localhost:8080/"
        },
        "id": "62MDsceIQSve",
        "outputId": "7dbb6f11-06ac-41b3-ba5b-f92ef382b375"
      },
      "outputs": [
        {
          "output_type": "stream",
          "name": "stdout",
          "text": [
            " -2.1574738025665283\n",
            " -0.3487687110900879\n",
            " 0.5054190754890442\n",
            " 0.3268362283706665\n",
            " -0.6415106058120728\n",
            " 0.1692473143339157\n",
            " -0.4657959043979645\n",
            " 0.42953771352767944\n",
            " 2.534769296646118\n",
            "[torch.storage.TypedStorage(dtype=torch.float32, device=cpu) of size 9]\n"
          ]
        }
      ],
      "source": [
        "import torch\n",
        "\n",
        "x = torch.randn(3,3)\n",
        "\n",
        "print(x.storage())"
      ]
    },
    {
      "cell_type": "markdown",
      "source": [
        "- 실제 data가 저장되는 memory를 가리키는 위치를 반환하는 메서드 가짐."
      ],
      "metadata": {
        "id": "oEg0eqcSavXf"
      }
    },
    {
      "cell_type": "code",
      "source": [
        "import torch\n",
        "\n",
        "a = torch.tensor([range(i,i+3) for i in [0,3,6]])\n",
        "a_sub = a[1:,0] # 부분에 대한 view\n",
        "\n",
        "# Tensor a 와 a_sub 의 contiguous 여부 확인.\n",
        "print(a.is_contiguous(), a_sub.is_contiguous())\n",
        "\n",
        "# Tensor a 와 a_sub 가 같은 메모리의 데이터를 공유하는지 여부.\n",
        "print(a.storage().data_ptr() == a_sub.storage().data_ptr())\n",
        "\n",
        "# Storage 인스턴스는 각 Tensor 인스턴스 별로 생성됨.\n",
        "print(id(a.storage()) == id(a_sub.storage()))\n",
        "\n",
        "# Tensor 인스턴스의 meta data\n",
        "print(f\"{a.shape=}, {a.size()=}, {a.stride()=}, {a.storage_offset()=}\")\n",
        "print(f\"{a_sub.shape=}, {a_sub.size()=}, {a_sub.stride()=}, {a_sub.storage_offset()=}\")"
      ],
      "metadata": {
        "colab": {
          "base_uri": "https://localhost:8080/"
        },
        "id": "ASwhvdhda7C7",
        "outputId": "a9c16174-eddb-4dc6-f2f2-87de807417e2"
      },
      "execution_count": 27,
      "outputs": [
        {
          "output_type": "stream",
          "name": "stdout",
          "text": [
            "True False\n",
            "True\n",
            "False\n",
            "a.shape=torch.Size([3, 3]), a.size()=torch.Size([3, 3]), a.stride()=(3, 1), a.storage_offset()=0\n",
            "a_sub.shape=torch.Size([2]), a_sub.size()=torch.Size([2]), a_sub.stride()=(3,), a_sub.storage_offset()=3\n"
          ]
        }
      ]
    },
    {
      "cell_type": "markdown",
      "source": [
        "- `stride`: 각 축에서 index가 증가할 때 건너뛰어야하는 객체의 수.\n",
        "- `storage_offset`: 현재 Tensor 인스턴스가 Storage가 관리하는 memory block에서 몇 번째 객체에서 시작하는지를 나타냄.  "
      ],
      "metadata": {
        "id": "wSsp1LHaa-df"
      }
    },
    {
      "cell_type": "markdown",
      "source": [
        "## Contiguous 확인"
      ],
      "metadata": {
        "id": "docry8l6eKGB"
      }
    },
    {
      "cell_type": "code",
      "source": [
        "a = torch.tensor([ range(i,i+3) for i in [0,3,6]])\n",
        "print(a)\n",
        "print(a.storage())\n",
        "print(a.is_contiguous())"
      ],
      "metadata": {
        "colab": {
          "base_uri": "https://localhost:8080/"
        },
        "id": "TuzZxKVSePSB",
        "outputId": "b738fc7d-c1b9-496a-80e8-3ab7985c867c"
      },
      "execution_count": 28,
      "outputs": [
        {
          "output_type": "stream",
          "name": "stdout",
          "text": [
            "tensor([[0, 1, 2],\n",
            "        [3, 4, 5],\n",
            "        [6, 7, 8]])\n",
            " 0\n",
            " 1\n",
            " 2\n",
            " 3\n",
            " 4\n",
            " 5\n",
            " 6\n",
            " 7\n",
            " 8\n",
            "[torch.storage.TypedStorage(dtype=torch.int64, device=cpu) of size 9]\n",
            "True\n"
          ]
        }
      ]
    },
    {
      "cell_type": "code",
      "source": [
        "a_sub = a[1:,0]\n",
        "print(a_sub)\n",
        "print(a_sub.storage())\n",
        "print(a_sub.is_contiguous())\n",
        "print(a.storage().data_ptr() == a_sub.storage().data_ptr())"
      ],
      "metadata": {
        "colab": {
          "base_uri": "https://localhost:8080/"
        },
        "id": "tUMYyOL9ioSG",
        "outputId": "b53184aa-8b1b-4235-d84d-1a189106cf0c"
      },
      "execution_count": 29,
      "outputs": [
        {
          "output_type": "stream",
          "name": "stdout",
          "text": [
            "tensor([3, 6])\n",
            " 0\n",
            " 1\n",
            " 2\n",
            " 3\n",
            " 4\n",
            " 5\n",
            " 6\n",
            " 7\n",
            " 8\n",
            "[torch.storage.TypedStorage(dtype=torch.int64, device=cpu) of size 9]\n",
            "False\n",
            "True\n"
          ]
        }
      ]
    },
    {
      "cell_type": "markdown",
      "source": [
        "## View / Reshape\n",
        "\n",
        "view: instance가 contiguous한 경우에만 사용 가능.<br>\n",
        "reshape: <br>\n",
        "- contiguous한 경우 view와 같은 동작.\n",
        "- 아닌 경우엔 contiguous() 메서드를 호출하고 view를 수행한 것에 해당함. (이 경우  underlying memory block이 새로 만들어짐.)\n",
        "- 따라서 memory를 공유할 수도 아닐 수도 있음.\n"
      ],
      "metadata": {
        "id": "t_MNhJ63lHMJ"
      }
    },
    {
      "cell_type": "code",
      "source": [
        "a_r = a.reshape((9,))\n",
        "a_r[3] = 777\n",
        "print('데이터 저장공간을 share함.')\n",
        "print('a_r: af.reshape')\n",
        "print(a_r)\n",
        "print('a: orginal')\n",
        "print(a)\n",
        "print('a_t: transposed')\n",
        "print(a_t)"
      ],
      "metadata": {
        "colab": {
          "base_uri": "https://localhost:8080/"
        },
        "id": "JgWp-YE2k3N4",
        "outputId": "da1f53b7-ff92-4f48-e608-862101553eec"
      },
      "execution_count": 30,
      "outputs": [
        {
          "output_type": "stream",
          "name": "stdout",
          "text": [
            "데이터 저장공간을 share함.\n",
            "a_r: af.reshape\n",
            "tensor([  0,   1,   2, 777,   4,   5,   6,   7,   8])\n",
            "a: orginal\n",
            "tensor([[  0,   1,   2],\n",
            "        [777,   4,   5],\n",
            "        [  6,   7,   8]])\n",
            "a_t: transposed\n",
            "tensor([[  0, 777,   6],\n",
            "        [  1,   4,   7],\n",
            "        [  2,   5,   8]])\n"
          ]
        }
      ]
    },
    {
      "cell_type": "markdown",
      "source": [
        "## Transpose / Permute\n",
        "- underlying data 를 공유하여 Tensor 인스턴스의 meta data (stride 등)을 수정한다.\n",
        "- 단, 이를 통해 얻어진 인스턴스에서는\n",
        "contiguous는 깨지게 된다.\n",
        "- contiguous 메서드 호출을 하여 해당 인스턴스의 meta data를 기반으로 Tensor 인스턴스를 새로 얻는 경우에는 새로운 underlying data가 만들어지게 된다."
      ],
      "metadata": {
        "id": "MxNkyNp3nmEN"
      }
    },
    {
      "cell_type": "code",
      "source": [
        "a_t = torch.transpose(a,0,1)\n",
        "print(a_t)\n",
        "print(a_t.storage())\n",
        "print(a_t.is_contiguous())"
      ],
      "metadata": {
        "colab": {
          "base_uri": "https://localhost:8080/"
        },
        "id": "Z5ChwyV6jl-r",
        "outputId": "1e0869e0-e0cd-463f-9ed6-e0e3318d3da3"
      },
      "execution_count": 31,
      "outputs": [
        {
          "output_type": "stream",
          "name": "stdout",
          "text": [
            "tensor([[  0, 777,   6],\n",
            "        [  1,   4,   7],\n",
            "        [  2,   5,   8]])\n",
            " 0\n",
            " 1\n",
            " 2\n",
            " 777\n",
            " 4\n",
            " 5\n",
            " 6\n",
            " 7\n",
            " 8\n",
            "[torch.storage.TypedStorage(dtype=torch.int64, device=cpu) of size 9]\n",
            "False\n"
          ]
        }
      ]
    },
    {
      "cell_type": "code",
      "source": [
        "a_t[0,1] = 999\n",
        "print(a_t)\n",
        "print('-------')\n",
        "print(a)\n",
        "print('-------')\n",
        "print(a_sub)"
      ],
      "metadata": {
        "colab": {
          "base_uri": "https://localhost:8080/"
        },
        "id": "QzVCycFFjqEn",
        "outputId": "b9cfbcfa-463c-45d8-82ec-0c19007fecb0"
      },
      "execution_count": 32,
      "outputs": [
        {
          "output_type": "stream",
          "name": "stdout",
          "text": [
            "tensor([[  0, 999,   6],\n",
            "        [  1,   4,   7],\n",
            "        [  2,   5,   8]])\n",
            "-------\n",
            "tensor([[  0,   1,   2],\n",
            "        [999,   4,   5],\n",
            "        [  6,   7,   8]])\n",
            "-------\n",
            "tensor([999,   6])\n"
          ]
        }
      ]
    },
    {
      "cell_type": "code",
      "source": [
        "act = a_t.contiguous()\n",
        "print(act)\n",
        "print(act.storage())\n",
        "act[1] = 999\n",
        "print(act)\n",
        "print(a_t)"
      ],
      "metadata": {
        "colab": {
          "base_uri": "https://localhost:8080/"
        },
        "id": "lG-2vP1blAGo",
        "outputId": "3accc221-3064-4e5e-802f-b8f4274faacb"
      },
      "execution_count": 33,
      "outputs": [
        {
          "output_type": "stream",
          "name": "stdout",
          "text": [
            "tensor([[  0, 999,   6],\n",
            "        [  1,   4,   7],\n",
            "        [  2,   5,   8]])\n",
            " 0\n",
            " 999\n",
            " 6\n",
            " 1\n",
            " 4\n",
            " 7\n",
            " 2\n",
            " 5\n",
            " 8\n",
            "[torch.storage.TypedStorage(dtype=torch.int64, device=cpu) of size 9]\n",
            "tensor([[  0, 999,   6],\n",
            "        [999, 999, 999],\n",
            "        [  2,   5,   8]])\n",
            "tensor([[  0, 999,   6],\n",
            "        [  1,   4,   7],\n",
            "        [  2,   5,   8]])\n"
          ]
        }
      ]
    },
    {
      "cell_type": "code",
      "source": [
        "a_t_r = a_t.reshape((9,)) # uncontiguous tensor에서는 새로 생성이 이루어짐.\n",
        "print(a_t_r)\n",
        "a_t_r[1] = 999\n",
        "print(a_t_r)\n",
        "print(a_t) # 달라짐."
      ],
      "metadata": {
        "colab": {
          "base_uri": "https://localhost:8080/"
        },
        "id": "S9IisOqTk7lW",
        "outputId": "03be0d86-c53a-400b-864a-a9d5bed5ada5"
      },
      "execution_count": 34,
      "outputs": [
        {
          "output_type": "stream",
          "name": "stdout",
          "text": [
            "tensor([  0, 999,   6,   1,   4,   7,   2,   5,   8])\n",
            "tensor([  0, 999,   6,   1,   4,   7,   2,   5,   8])\n",
            "tensor([[  0, 999,   6],\n",
            "        [  1,   4,   7],\n",
            "        [  2,   5,   8]])\n"
          ]
        }
      ]
    },
    {
      "cell_type": "code",
      "source": [
        "print(a)\n",
        "print('------')\n",
        "print('permute axis-0 and axis-1 = transpose')\n",
        "ap = a.permute([1,0]) # permute axis-0 and axis-1\n",
        "print(ap)\n",
        "print(a.storage().data_ptr() == ap.storage().data_ptr())\n",
        "print(ap.is_contiguous())"
      ],
      "metadata": {
        "colab": {
          "base_uri": "https://localhost:8080/"
        },
        "id": "hsxoie-ilpmU",
        "outputId": "375064b5-c9d7-4cb4-ef73-8776f7a14dda"
      },
      "execution_count": 35,
      "outputs": [
        {
          "output_type": "stream",
          "name": "stdout",
          "text": [
            "tensor([[  0,   1,   2],\n",
            "        [999,   4,   5],\n",
            "        [  6,   7,   8]])\n",
            "------\n",
            "permute axis-0 and axis-1 = transpose\n",
            "tensor([[  0, 999,   6],\n",
            "        [  1,   4,   7],\n",
            "        [  2,   5,   8]])\n",
            "True\n",
            "False\n"
          ]
        }
      ]
    },
    {
      "cell_type": "code",
      "source": [
        "print(f\"{a.shape=}, {a.size()=}, {a.stride()=}, {a.storage_offset()=}\")\n",
        "print(f\"{a_t.shape=}, {a_t.size()=}, {a_t.stride()=}, {a_t.storage_offset()=}\")\n",
        "print(f\"{a_sub.shape=}, {a_sub.size()=}, {a_sub.stride()=}, {a_sub.storage_offset()=}\")"
      ],
      "metadata": {
        "colab": {
          "base_uri": "https://localhost:8080/"
        },
        "id": "-OLzYLt7jsIy",
        "outputId": "1f780e27-9edc-4cb4-db55-eb7b807edc9a"
      },
      "execution_count": 36,
      "outputs": [
        {
          "output_type": "stream",
          "name": "stdout",
          "text": [
            "a.shape=torch.Size([3, 3]), a.size()=torch.Size([3, 3]), a.stride()=(3, 1), a.storage_offset()=0\n",
            "a_t.shape=torch.Size([3, 3]), a_t.size()=torch.Size([3, 3]), a_t.stride()=(1, 3), a_t.storage_offset()=0\n",
            "a_sub.shape=torch.Size([2]), a_sub.size()=torch.Size([2]), a_sub.stride()=(3,), a_sub.storage_offset()=3\n"
          ]
        }
      ]
    }
  ]
}