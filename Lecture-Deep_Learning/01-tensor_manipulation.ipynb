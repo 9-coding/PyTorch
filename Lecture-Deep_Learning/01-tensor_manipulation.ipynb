{
  "nbformat": 4,
  "nbformat_minor": 0,
  "metadata": {
    "colab": {
      "provenance": [],
      "authorship_tag": "ABX9TyPSlmM1g6ezKBBqcZE+/3Yd",
      "include_colab_link": true
    },
    "kernelspec": {
      "name": "python3",
      "display_name": "Python 3"
    },
    "language_info": {
      "name": "python"
    }
  },
  "cells": [
    {
      "cell_type": "markdown",
      "metadata": {
        "id": "view-in-github",
        "colab_type": "text"
      },
      "source": [
        "<a href=\"https://colab.research.google.com/github/9-coding/PyTorch/blob/main/Lecture-Deep_Learning/01-tensor_manipulation.ipynb\" target=\"_parent\"><img src=\"https://colab.research.google.com/assets/colab-badge.svg\" alt=\"Open In Colab\"/></a>"
      ]
    },
    {
      "cell_type": "markdown",
      "source": [
        "# Tensor Manipulation"
      ],
      "metadata": {
        "id": "kqgvIx8CZm8X"
      }
    },
    {
      "cell_type": "code",
      "execution_count": 2,
      "metadata": {
        "id": "vZeUR7UNOXDM"
      },
      "outputs": [],
      "source": [
        "import numpy as np\n",
        "import torch"
      ]
    },
    {
      "cell_type": "code",
      "source": [
        "for c in [np, torch]:\n",
        "  print(c.__name__, c.__version__)"
      ],
      "metadata": {
        "colab": {
          "base_uri": "https://localhost:8080/"
        },
        "id": "7mim5Zo-SSKt",
        "outputId": "88a1cc15-786a-48e7-e11b-ebe4b9e9d195"
      },
      "execution_count": 9,
      "outputs": [
        {
          "output_type": "stream",
          "name": "stdout",
          "text": [
            "numpy 1.25.2\n",
            "torch 2.2.1+cu121\n"
          ]
        }
      ]
    },
    {
      "cell_type": "markdown",
      "source": [
        "# Tensor\n",
        "- scalar: scalar\n",
        "- vector: array of scalar\n",
        "- matrix: array of vector\n",
        "- 3d-tensor: array of matrix\n",
        "\n",
        "# NumPy\n",
        "## 1D Array with NumPy"
      ],
      "metadata": {
        "id": "MU6qu4SUOY53"
      }
    },
    {
      "cell_type": "code",
      "source": [
        "t = np.array([0., 1., 2., 3., 4., 5., 6.])\n",
        "print(t)\n",
        "print()\n",
        "print('Rank  of t: ', t.ndim)\n",
        "print('Shape of t: ', t.shape)\n",
        "print()\n",
        "print('t[0] t[1] t[-1] = ', t[0], t[1], t[-1]) # Element\n",
        "print('t[2:5] t[4:-1]  = ', t[2:5], t[4:-1]) # Slicing\n",
        "print('t[:2] t[:3].    = ', t[:2], t[:3]) # Slicing"
      ],
      "metadata": {
        "colab": {
          "base_uri": "https://localhost:8080/"
        },
        "id": "UsU94BjKOojU",
        "outputId": "c60470ac-c395-4105-a502-890590749ea4"
      },
      "execution_count": 4,
      "outputs": [
        {
          "output_type": "stream",
          "name": "stdout",
          "text": [
            "[0. 1. 2. 3. 4. 5. 6.]\n",
            "\n",
            "Rank  of t:  1\n",
            "Shape of t:  (7,)\n",
            "\n",
            "t[0] t[1] t[-1] =  0.0 1.0 6.0\n",
            "t[2:5] t[4:-1]  =  [2. 3. 4.] [4. 5.]\n",
            "t[:2] t[:3].    =  [0. 1.] [0. 1. 2.]\n"
          ]
        }
      ]
    },
    {
      "cell_type": "markdown",
      "source": [
        "## 2D Array with NumPy"
      ],
      "metadata": {
        "id": "eY6-2CVUSWf8"
      }
    },
    {
      "cell_type": "code",
      "source": [
        "t = np.array([[1., 2., 3.],[4., 5., 6.], [7., 8., 9.], [10., 11., 12.]])\n",
        "print(t)\n",
        "print()\n",
        "print('Rank  of t: ', t.ndim)\n",
        "print('Shape of t: ', t.shape)"
      ],
      "metadata": {
        "colab": {
          "base_uri": "https://localhost:8080/"
        },
        "id": "KfAWed0mSdng",
        "outputId": "48dda6b1-b38f-4f8c-a7e3-4885459320af"
      },
      "execution_count": 7,
      "outputs": [
        {
          "output_type": "stream",
          "name": "stdout",
          "text": [
            "[[ 1.  2.  3.]\n",
            " [ 4.  5.  6.]\n",
            " [ 7.  8.  9.]\n",
            " [10. 11. 12.]]\n",
            "\n",
            "Rank  of t:  2\n",
            "Shape of t:  (4, 3)\n"
          ]
        }
      ]
    },
    {
      "cell_type": "markdown",
      "source": [
        "## 3D Array with NumPy"
      ],
      "metadata": {
        "id": "9ND9R7vgSasC"
      }
    },
    {
      "cell_type": "code",
      "source": [
        "t = np.array([[[1,2], [2,3]], [[3,4], [4,5]]])\n",
        "print(t)\n",
        "print()\n",
        "print('Rank  of t: ', t.ndim)\n",
        "print('Shape of t: ', t.shape)"
      ],
      "metadata": {
        "colab": {
          "base_uri": "https://localhost:8080/"
        },
        "id": "VzYdOLLISxNr",
        "outputId": "83124761-1e52-4340-a525-9e8a2c163f0c"
      },
      "execution_count": 8,
      "outputs": [
        {
          "output_type": "stream",
          "name": "stdout",
          "text": [
            "[[[1 2]\n",
            "  [2 3]]\n",
            "\n",
            " [[3 4]\n",
            "  [4 5]]]\n",
            "\n",
            "Rank  of t:  3\n",
            "Shape of t:  (2, 2, 2)\n"
          ]
        }
      ]
    },
    {
      "cell_type": "markdown",
      "source": [
        "# PyTorch\n",
        "## 1D Array with PyTorch"
      ],
      "metadata": {
        "id": "HSNzqCyKS9x2"
      }
    },
    {
      "cell_type": "code",
      "source": [
        "t = torch.FloatTensor([0., 1., 2., 3., 4., 5., 6.])\n",
        "print(t)\n",
        "\n",
        "print(t.dim()) # rank\n",
        "print(t.shape) # shape\n",
        "print(t.size()) # shape\n",
        "print(t[0], t[1], t[-1]) # Element\n",
        "print(t[2:5], t[4:-1]) # Slicing\n",
        "print(t[:2], t[3:]) # Slicing"
      ],
      "metadata": {
        "colab": {
          "base_uri": "https://localhost:8080/"
        },
        "id": "zmtzsG4BTFdV",
        "outputId": "1f55c514-4633-451e-f879-5170ec11db63"
      },
      "execution_count": 10,
      "outputs": [
        {
          "output_type": "stream",
          "name": "stdout",
          "text": [
            "tensor([0., 1., 2., 3., 4., 5., 6.])\n",
            "1\n",
            "torch.Size([7])\n",
            "torch.Size([7])\n",
            "tensor(0.) tensor(1.) tensor(6.)\n",
            "tensor([2., 3., 4.]) tensor([4., 5.])\n",
            "tensor([0., 1.]) tensor([3., 4., 5., 6.])\n"
          ]
        }
      ]
    },
    {
      "cell_type": "markdown",
      "source": [
        "## 2D Array with PyTorch"
      ],
      "metadata": {
        "id": "hlVdIrbfU4jQ"
      }
    },
    {
      "cell_type": "code",
      "source": [
        "t = torch.FloatTensor([[1., 2., 3.],\n",
        "                       [4., 5., 6.],\n",
        "                       [7., 8., 9.],\n",
        "                       [10.,11.,12.]\n",
        "                      ])\n",
        "print(t)\n",
        "print()\n",
        "\n",
        "print(t.dim()) # rank\n",
        "print(t.shape) # shape\n",
        "print(t.size()) # shape\n",
        "print(t[:, 1])\n",
        "print(t[:, 1].size())\n",
        "print(t[:, :-1])"
      ],
      "metadata": {
        "colab": {
          "base_uri": "https://localhost:8080/"
        },
        "id": "SbRuycoFU-3B",
        "outputId": "53d708c8-c1a9-4135-a7ff-e3edb55df19d"
      },
      "execution_count": 12,
      "outputs": [
        {
          "output_type": "stream",
          "name": "stdout",
          "text": [
            "tensor([[ 1.,  2.,  3.],\n",
            "        [ 4.,  5.,  6.],\n",
            "        [ 7.,  8.,  9.],\n",
            "        [10., 11., 12.]])\n",
            "\n",
            "2\n",
            "torch.Size([4, 3])\n",
            "torch.Size([4, 3])\n",
            "tensor([ 2.,  5.,  8., 11.])\n",
            "torch.Size([4])\n",
            "tensor([[ 1.,  2.],\n",
            "        [ 4.,  5.],\n",
            "        [ 7.,  8.],\n",
            "        [10., 11.]])\n"
          ]
        }
      ]
    },
    {
      "cell_type": "markdown",
      "source": [
        "## Tensor from np.array"
      ],
      "metadata": {
        "id": "IU0QzVvYWTt1"
      }
    },
    {
      "cell_type": "code",
      "source": [
        "t = np.array([[[0, 1, 2],\n",
        "               [3, 4, 5]],\n",
        "              [[6, 7, 8],\n",
        "               [9,10,11]]])\n",
        "\n",
        "t_torch1 = torch.FloatTensor(t)\n",
        "print(t_torch1.shape)\n",
        "\n",
        "t_torch2 = torch.from_numpy(t).float()\n",
        "print(t_torch2.shape)"
      ],
      "metadata": {
        "colab": {
          "base_uri": "https://localhost:8080/"
        },
        "id": "lGSN9vQ5WTDk",
        "outputId": "15f568de-c42c-44de-9b01-84fe1e2531a2"
      },
      "execution_count": 16,
      "outputs": [
        {
          "output_type": "stream",
          "name": "stdout",
          "text": [
            "torch.Size([2, 2, 3])\n",
            "torch.Size([2, 2, 3])\n"
          ]
        }
      ]
    },
    {
      "cell_type": "markdown",
      "source": [
        "# Broadcasting"
      ],
      "metadata": {
        "id": "X1F6lFxzZATB"
      }
    },
    {
      "cell_type": "code",
      "source": [
        "# same shape\n",
        "m1 = torch.FloatTensor([[3,3]])\n",
        "m2 = torch.FloatTensor([[2,2]])\n",
        "print(m1+m2)\n",
        "print()\n",
        "\n",
        "# matrix + scalar\n",
        "m = torch.FloatTensor([[1,2]])\n",
        "s = torch.FloatTensor([3])\n",
        "print(m)\n",
        "print(s)\n",
        "print(m+s)\n",
        "print()\n",
        "\n",
        "# 2x1 matrix + 1x2 matrix\n",
        "m1 = torch.FloatTensor([[1, 2]])\n",
        "m2 = torch.FloatTensor([[3], [4]])\n",
        "print(m1)\n",
        "print(m2)\n",
        "print(m1+m2)"
      ],
      "metadata": {
        "colab": {
          "base_uri": "https://localhost:8080/"
        },
        "id": "f3I6vvFiZCee",
        "outputId": "74e9a124-4a0d-402a-8940-29df419caecb"
      },
      "execution_count": 28,
      "outputs": [
        {
          "output_type": "stream",
          "name": "stdout",
          "text": [
            "tensor([[5., 5.]])\n",
            "\n",
            "tensor([[1., 2.]])\n",
            "tensor([3.])\n",
            "tensor([[4., 5.]])\n",
            "\n",
            "tensor([[1., 2.]])\n",
            "tensor([[3.],\n",
            "        [4.]])\n",
            "tensor([[4., 5.],\n",
            "        [5., 6.]])\n"
          ]
        }
      ]
    },
    {
      "cell_type": "markdown",
      "source": [
        "## Multiplication & Matrix Multiplication"
      ],
      "metadata": {
        "id": "q1Y6BHRceRoJ"
      }
    },
    {
      "cell_type": "code",
      "source": [
        "m1 = torch.FloatTensor([[1,2], [3,4]])\n",
        "m2 = torch.FloatTensor([[1], [2]])\n",
        "print('mul')\n",
        "print('Shape of Matrix 1: ', m1.shape)\n",
        "print('Shape of Matrix 2: ', m2.shape)\n",
        "print(m1.mul(m2))\n",
        "print()\n",
        "\n",
        "m1 = torch.FloatTensor([[1,2], [3,4]])\n",
        "m2 = torch.FloatTensor([[1], [2]])\n",
        "print('matmul')\n",
        "print('Shape of Matrix 1: ', m1.shape)\n",
        "print('Shape of Matrix 2: ', m2.shape)\n",
        "print(m1.matmul(m2))"
      ],
      "metadata": {
        "colab": {
          "base_uri": "https://localhost:8080/"
        },
        "id": "1EVe35sSeQ3C",
        "outputId": "54a4361f-618c-40bb-d511-ef79b497be53"
      },
      "execution_count": 30,
      "outputs": [
        {
          "output_type": "stream",
          "name": "stdout",
          "text": [
            "mul\n",
            "Shape of Matrix 1:  torch.Size([2, 2])\n",
            "Shape of Matrix 2:  torch.Size([2, 1])\n",
            "tensor([[1., 2.],\n",
            "        [6., 8.]])\n",
            "\n",
            "matmul\n",
            "Shape of Matrix 1:  torch.Size([2, 2])\n",
            "Shape of Matrix 2:  torch.Size([2, 1])\n",
            "tensor([[ 5.],\n",
            "        [11.]])\n"
          ]
        }
      ]
    },
    {
      "cell_type": "markdown",
      "source": [
        "## Mean"
      ],
      "metadata": {
        "id": "HeZfAFDKgGxV"
      }
    },
    {
      "cell_type": "code",
      "source": [
        "t = torch.FloatTensor([[1,2], [3,4]])\n",
        "print(t)\n",
        "print(t.mean())\n",
        "print(t.mean(dim=0))\n",
        "print(t.mean(dim=1))\n",
        "print(t.mean(dim=-1))"
      ],
      "metadata": {
        "colab": {
          "base_uri": "https://localhost:8080/"
        },
        "id": "3rkH9ep3gH0S",
        "outputId": "61eca4ab-b15a-4fcb-eb69-09d003af11f8"
      },
      "execution_count": 32,
      "outputs": [
        {
          "output_type": "stream",
          "name": "stdout",
          "text": [
            "tensor([[1., 2.],\n",
            "        [3., 4.]])\n",
            "tensor(2.5000)\n",
            "tensor([2., 3.])\n",
            "tensor([1.5000, 3.5000])\n",
            "tensor([1.5000, 3.5000])\n"
          ]
        }
      ]
    },
    {
      "cell_type": "markdown",
      "source": [
        "# Sum"
      ],
      "metadata": {
        "id": "dnUW1ke9gox5"
      }
    },
    {
      "cell_type": "code",
      "source": [
        "t = torch.FloatTensor([[1,2], [3,4]])\n",
        "print(t)\n",
        "print(t.sum())\n",
        "print(t.sum(dim=0))\n",
        "print(t.sum(dim=1))\n",
        "print(t.sum(dim=-1))"
      ],
      "metadata": {
        "colab": {
          "base_uri": "https://localhost:8080/"
        },
        "id": "lEBCrB7Dgp8C",
        "outputId": "e0e4b324-e500-4eb7-9dcc-99d4a6cbd283"
      },
      "execution_count": 33,
      "outputs": [
        {
          "output_type": "stream",
          "name": "stdout",
          "text": [
            "tensor([[1., 2.],\n",
            "        [3., 4.]])\n",
            "tensor(10.)\n",
            "tensor([4., 6.])\n",
            "tensor([3., 7.])\n",
            "tensor([3., 7.])\n"
          ]
        }
      ]
    },
    {
      "cell_type": "markdown",
      "source": [
        "# Max & Argmax"
      ],
      "metadata": {
        "id": "8wtM_KxngyZJ"
      }
    },
    {
      "cell_type": "code",
      "source": [
        "t = torch.FloatTensor([[1,2], [3,4]])\n",
        "print(t)\n",
        "\n",
        "print(t.max())\n",
        "\n",
        "print(t.max(dim=0))\n",
        "print(t.max(dim=1))\n",
        "print(t.max(dim=-1))\n",
        "\n",
        "print('Max: ', t.max(dim=0)[0])\n",
        "print('Argmax: ', t.max(dim=0)[1])"
      ],
      "metadata": {
        "colab": {
          "base_uri": "https://localhost:8080/"
        },
        "id": "CiYTxKJ3g06X",
        "outputId": "76012ce7-a0c6-4d36-cad0-bbab568c4a1e"
      },
      "execution_count": 34,
      "outputs": [
        {
          "output_type": "stream",
          "name": "stdout",
          "text": [
            "tensor([[1., 2.],\n",
            "        [3., 4.]])\n",
            "tensor(4.)\n",
            "torch.return_types.max(\n",
            "values=tensor([3., 4.]),\n",
            "indices=tensor([1, 1]))\n",
            "torch.return_types.max(\n",
            "values=tensor([2., 4.]),\n",
            "indices=tensor([1, 1]))\n",
            "torch.return_types.max(\n",
            "values=tensor([2., 4.]),\n",
            "indices=tensor([1, 1]))\n",
            "Max:  tensor([3., 4.])\n",
            "Argmax:  tensor([1, 1])\n"
          ]
        }
      ]
    },
    {
      "cell_type": "markdown",
      "source": [
        "# Squeeze & Unsqueeze"
      ],
      "metadata": {
        "id": "XjLSpoi-hkJA"
      }
    },
    {
      "cell_type": "code",
      "source": [
        "# Squeeze\n",
        "\n",
        "t_torch = torch.FloatTensor([[0], [1], [2]])\n",
        "print(t_torch)\n",
        "print(t_torch.shape)\n",
        "print(t_torch.squeeze())\n",
        "print(t_torch.squeeze().shape)"
      ],
      "metadata": {
        "colab": {
          "base_uri": "https://localhost:8080/"
        },
        "id": "hyEzYnDthlkf",
        "outputId": "0bf59307-90fa-483f-e32e-eed8e7648cd8"
      },
      "execution_count": 36,
      "outputs": [
        {
          "output_type": "stream",
          "name": "stdout",
          "text": [
            "tensor([[0.],\n",
            "        [1.],\n",
            "        [2.]])\n",
            "torch.Size([3, 1])\n",
            "tensor([0., 1., 2.])\n",
            "torch.Size([3])\n"
          ]
        }
      ]
    },
    {
      "cell_type": "code",
      "source": [
        "# Unsqueeze\n",
        "\n",
        "t_torch = torch.Tensor([0,1,2])\n",
        "print(t_torch)\n",
        "print(t_torch.shape)\n",
        "print(t_torch.unsqueeze(0))\n",
        "print(t_torch.unsqueeze(0).shape)\n",
        "\n",
        "print()\n",
        "print(t_torch.view(1, -1))\n",
        "print(t_torch.view(1, -1).shape)\n",
        "print(t_torch.unsqueeze(1))\n",
        "print(t_torch.unsqueeze(1).shape)\n",
        "print(t_torch.unsqueeze(-1))\n",
        "print(t_torch.unsqueeze(-1).shape)\n"
      ],
      "metadata": {
        "colab": {
          "base_uri": "https://localhost:8080/"
        },
        "id": "4OjrSk1uix-u",
        "outputId": "32c9fea1-506e-4ae4-9b60-401ba6c397dc"
      },
      "execution_count": 38,
      "outputs": [
        {
          "output_type": "stream",
          "name": "stdout",
          "text": [
            "tensor([0., 1., 2.])\n",
            "torch.Size([3])\n",
            "tensor([[0., 1., 2.]])\n",
            "torch.Size([1, 3])\n",
            "\n",
            "tensor([[0., 1., 2.]])\n",
            "torch.Size([1, 3])\n",
            "tensor([[0.],\n",
            "        [1.],\n",
            "        [2.]])\n",
            "torch.Size([3, 1])\n",
            "tensor([[0.],\n",
            "        [1.],\n",
            "        [2.]])\n",
            "torch.Size([3, 1])\n"
          ]
        }
      ]
    },
    {
      "cell_type": "markdown",
      "source": [
        "## Type casting"
      ],
      "metadata": {
        "id": "P1eYlcNnqwLt"
      }
    },
    {
      "cell_type": "code",
      "source": [
        "lt = torch.LongTensor([1, 2, 3, 4])\n",
        "print(lt)\n",
        "print(lt.float())\n",
        "\n",
        "bt = torch.ByteTensor([True, False, False, True])\n",
        "print(bt)\n",
        "\n",
        "print(bt.long())\n",
        "print(bt.float())"
      ],
      "metadata": {
        "colab": {
          "base_uri": "https://localhost:8080/"
        },
        "id": "93bOTk15qzF9",
        "outputId": "a49be883-99b5-4403-c13b-92bcce9ffc39"
      },
      "execution_count": 40,
      "outputs": [
        {
          "output_type": "stream",
          "name": "stdout",
          "text": [
            "tensor([1, 2, 3, 4])\n",
            "tensor([1., 2., 3., 4.])\n",
            "tensor([1, 0, 0, 1], dtype=torch.uint8)\n",
            "tensor([1, 0, 0, 1])\n",
            "tensor([1., 0., 0., 1.])\n"
          ]
        }
      ]
    },
    {
      "cell_type": "markdown",
      "source": [
        "## concatenate\n",
        "- 차원을 유지하면서 위아래/양옆으로 늘림"
      ],
      "metadata": {
        "id": "ChH6_YQGrJ1h"
      }
    },
    {
      "cell_type": "code",
      "source": [
        "x = torch.FloatTensor([[1,2], [3,4]])\n",
        "y = torch.FloatTensor([[5,6], [7,8]])\n",
        "\n",
        "print(torch.cat([x,y], dim=0))\n",
        "print(torch.cat([x,y], dim=1))"
      ],
      "metadata": {
        "colab": {
          "base_uri": "https://localhost:8080/"
        },
        "id": "h3se_PCfrarf",
        "outputId": "349a9b8c-c6cf-423b-f9ef-6ac9c8052a00"
      },
      "execution_count": 41,
      "outputs": [
        {
          "output_type": "stream",
          "name": "stdout",
          "text": [
            "tensor([[1., 2.],\n",
            "        [3., 4.],\n",
            "        [5., 6.],\n",
            "        [7., 8.]])\n",
            "tensor([[1., 2., 5., 6.],\n",
            "        [3., 4., 7., 8.]])\n"
          ]
        }
      ]
    },
    {
      "cell_type": "markdown",
      "source": [
        "\n",
        "## stacking\n",
        "- 한 차원을 늘리면서 이어붙임."
      ],
      "metadata": {
        "id": "-hGB49ILrbCO"
      }
    },
    {
      "cell_type": "code",
      "source": [
        "x = torch.FloatTensor([1,4])\n",
        "y = torch.FloatTensor([2,5])\n",
        "z = torch.FloatTensor([3,6])\n",
        "\n",
        "print(torch.stack([x,y,z]))\n",
        "print(torch.stack([x,y,z], dim=1))\n",
        "\n",
        "print(torch.cat([x.unsqueeze(0), y.unsqueeze(0), z.unsqueeze(0)]))"
      ],
      "metadata": {
        "colab": {
          "base_uri": "https://localhost:8080/"
        },
        "id": "fEZehi8YsLMJ",
        "outputId": "cfe5df99-2d66-4e5b-8de4-9e50f1bea501"
      },
      "execution_count": 43,
      "outputs": [
        {
          "output_type": "stream",
          "name": "stdout",
          "text": [
            "tensor([[1., 4.],\n",
            "        [2., 5.],\n",
            "        [3., 6.]])\n",
            "tensor([[1., 2., 3.],\n",
            "        [4., 5., 6.]])\n",
            "tensor([[1., 4.],\n",
            "        [2., 5.],\n",
            "        [3., 6.]])\n"
          ]
        }
      ]
    },
    {
      "cell_type": "markdown",
      "source": [
        "## Ones & Zeros"
      ],
      "metadata": {
        "id": "F1dekUA_sq5v"
      }
    },
    {
      "cell_type": "code",
      "source": [
        "x = torch.FloatTensor([[0,1,2], [2,1,0]])\n",
        "print(x)\n",
        "\n",
        "print(torch.ones_like(x))\n",
        "print(torch.zeros_like(x))"
      ],
      "metadata": {
        "colab": {
          "base_uri": "https://localhost:8080/"
        },
        "id": "nqNxO-NCssw2",
        "outputId": "044f8aa9-b41b-4252-b1b0-e839b26ce8d9"
      },
      "execution_count": 44,
      "outputs": [
        {
          "output_type": "stream",
          "name": "stdout",
          "text": [
            "tensor([[0., 1., 2.],\n",
            "        [2., 1., 0.]])\n",
            "tensor([[1., 1., 1.],\n",
            "        [1., 1., 1.]])\n",
            "tensor([[0., 0., 0.],\n",
            "        [0., 0., 0.]])\n"
          ]
        }
      ]
    },
    {
      "cell_type": "markdown",
      "source": [
        "## In-place Operation"
      ],
      "metadata": {
        "id": "bXXtqUMms6WG"
      }
    },
    {
      "cell_type": "code",
      "source": [
        "x = torch.FloatTensor([[1,2], [3,4]])\n",
        "\n",
        "print(x.mul(2.))\n",
        "print(x)\n",
        "print(x.mul_(2.))\n",
        "print(x)"
      ],
      "metadata": {
        "colab": {
          "base_uri": "https://localhost:8080/"
        },
        "id": "YAcqWEKGs8Oj",
        "outputId": "c9099218-e6d1-483b-8e77-6895f7e4b7ee"
      },
      "execution_count": 45,
      "outputs": [
        {
          "output_type": "stream",
          "name": "stdout",
          "text": [
            "tensor([[2., 4.],\n",
            "        [6., 8.]])\n",
            "tensor([[1., 2.],\n",
            "        [3., 4.]])\n",
            "tensor([[2., 4.],\n",
            "        [6., 8.]])\n",
            "tensor([[2., 4.],\n",
            "        [6., 8.]])\n"
          ]
        }
      ]
    }
  ]
}