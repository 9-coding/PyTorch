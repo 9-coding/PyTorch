{
  "nbformat": 4,
  "nbformat_minor": 0,
  "metadata": {
    "colab": {
      "provenance": [],
      "authorship_tag": "ABX9TyNo/nCeRYLuoJiqR/Qa6Zg0",
      "include_colab_link": true
    },
    "kernelspec": {
      "name": "python3",
      "display_name": "Python 3"
    },
    "language_info": {
      "name": "python"
    }
  },
  "cells": [
    {
      "cell_type": "markdown",
      "metadata": {
        "id": "view-in-github",
        "colab_type": "text"
      },
      "source": [
        "<a href=\"https://colab.research.google.com/github/9-coding/PyTorch/blob/main/10-view_data_detach.ipynb\" target=\"_parent\"><img src=\"https://colab.research.google.com/assets/colab-badge.svg\" alt=\"Open In Colab\"/></a>"
      ]
    },
    {
      "cell_type": "markdown",
      "source": [
        "# view, data, and detach"
      ],
      "metadata": {
        "id": "gJalqAXmF1NU"
      }
    },
    {
      "cell_type": "code",
      "execution_count": 1,
      "metadata": {
        "colab": {
          "base_uri": "https://localhost:8080/"
        },
        "id": "VBGCYANy9XUF",
        "outputId": "1cf3f7fa-3ae7-4575-b35d-d8b3adc9910a"
      },
      "outputs": [
        {
          "output_type": "stream",
          "name": "stdout",
          "text": [
            "2.2.1+cu121\n"
          ]
        }
      ],
      "source": [
        "import torch\n",
        "import matplotlib.pyplot as plt\n",
        "\n",
        "print(torch.__version__)"
      ]
    },
    {
      "cell_type": "code",
      "source": [
        "def get_tensor_info(tensor):\n",
        "  info = []\n",
        "  for name in ['requires_grad', 'is_leaf', 'retains_grad', 'grad_fn', 'grad']:\n",
        "    info.append(f'{name}({getattr(tensor, name, None)})')\n",
        "  info.append(f'\\ntensor{str(tensor)}')\n",
        "  return ' '.join(info)"
      ],
      "metadata": {
        "id": "C0mX_ASZIhbr"
      },
      "execution_count": 2,
      "outputs": []
    },
    {
      "cell_type": "markdown",
      "source": [
        "## tensor.view()\n",
        "**tensor 인스턴스의 dimension 수정에 사용.**\n",
        "- 원본 tensor 인스턴스 데이터가 contiguous해야 함.\n",
        "- 이 메서드는 새로운 shape를 가진 같은 데이터의 새로운 tensor 인스턴스를 반환하지만, 원본 tensor 인스턴스와 underlying memory를 공유하여 같은 데이터를 공유함.\n",
        "- 즉, 메모리를 재할당하지 않고 tensor의 shape와 각 축의 stride만이 바뀜."
      ],
      "metadata": {
        "id": "RuTAYmgdGEvr"
      }
    },
    {
      "cell_type": "code",
      "source": [
        "# requires_grad=True는 이 텐서에 대한 연산을 추적해야 함을 의미\n",
        "a = torch.rand(12,requires_grad=True)\n",
        "print(f'{a.shape=}, {a.data_ptr()=}, \\n{a.is_contiguous()=}, {a.stride()=}\\n')\n",
        "\n",
        "a_view = a.view((2,3,2))\n",
        "print(f'a_view: {a_view.shape=}, {a_view.data_ptr()=}, \\n{a_view.is_contiguous()=}, {a_view.stride()=}\\n')\n",
        "\n",
        "a_view_t = a_view.transpose(0,1)\n",
        "print(f'a_view_t: {a_view_t.shape=}, {a_view_t.data_ptr()=}, \\n{a_view_t.is_contiguous()=}, {a_view_t.stride()=}\\n')\n",
        "\n",
        "a_other = a_view_t.contiguous()\n",
        "print(f'a_other: {a_other.shape=}, {a_other.data_ptr()=}, \\n{a_other.is_contiguous()=}, {a_other.stride()=}')\n"
      ],
      "metadata": {
        "colab": {
          "base_uri": "https://localhost:8080/"
        },
        "id": "0FkhMBGsIjXI",
        "outputId": "c8a91747-1444-4e05-eab9-1d7ccd8626b8"
      },
      "execution_count": 4,
      "outputs": [
        {
          "output_type": "stream",
          "name": "stdout",
          "text": [
            "a.shape=torch.Size([12]), a.data_ptr()=99936652987264, \n",
            "a.is_contiguous()=True, a.stride()=(1,)\n",
            "\n",
            "a_view: a_view.shape=torch.Size([2, 3, 2]), a_view.data_ptr()=99936652987264, \n",
            "a_view.is_contiguous()=True, a_view.stride()=(6, 2, 1)\n",
            "\n",
            "a_view_t: a_view_t.shape=torch.Size([3, 2, 2]), a_view_t.data_ptr()=99936652987264, \n",
            "a_view_t.is_contiguous()=False, a_view_t.stride()=(2, 6, 1)\n",
            "\n",
            "a_other: a_other.shape=torch.Size([3, 2, 2]), a_other.data_ptr()=99936668387008, \n",
            "a_other.is_contiguous()=True, a_other.stride()=(4, 2, 1)\n"
          ]
        }
      ]
    },
    {
      "cell_type": "markdown",
      "source": [
        "## tensor.data\n",
        "**tensor 인스턴스의 데이터를 의미하는 attribute.**<br>\n",
        "tensor 인스턴스의 grad와 requires_grad와 같은 tensor의 메타데이터를 가지고 있지 않은 순수한 데이터를 의미.\n",
        "- 주로 autograd에서 미분 계산을 하지 않고 원본 데이터를 직접 조작할 때 사용.\n",
        "- 현재 tensor.data를 직접 접근하는 방식은 권장되지 않음.\n",
        "\n",
        "\n",
        "## tensor.detach\n",
        "- .detach()를 사용하여 계산 그래프에서 해당 텐서를 분리하면 gradient 계산에서 제외되나 여전히 데이터는 공유함.\n",
        "- tensor.data를 직접 수정할 경우, 계산 그래프의 무결성이 깨질 수 있으며 이는 예상치 못한 버그의 원인이 됨.\n",
        "\n",
        "직접적인 데이터 조작이 필요할 때는 계산 그래프에서 해당 텐선 인스턴스를 분리하는 .detach() 사용 권장"
      ],
      "metadata": {
        "id": "mPokRDIGIz3U"
      }
    },
    {
      "cell_type": "code",
      "source": [
        "\n",
        "b = a*2.        #\n",
        "b.retain_grad() # leaf tensor가 아닌데도 grad를 확인하기 위해서 호출.\n",
        "\n",
        "c = b*3.        #\n",
        "c.retain_grad() # leaf tensor가 아닌데도 grad를 확인하기 위해서 호출.\n",
        "\n",
        "# .detach()를 사용하여 c 에서 더 이상 그래디언트가 전파되지 않도록 처리.\n",
        "c_detach = c.detach()\n",
        "# u 는 이제 그래디언트 계산에서 제외.\n",
        "# u 를 사용한 추가 연산도 수행 가능\n",
        "u = c_detach*2.  # u의 계산은 그래디언트 추적에서 제외됩니다.\n",
        "\n",
        "# 그러나 c에 대한 추가 연산은 detach되지않은 다른 tensor의 경우처럼 c의 gradient 계산에 영향.\n",
        "# 즉, c에 대해 또 다른 연산을 추가하고, 그 연산에 대한 gradient를 계산함.\n",
        "d = c * 2.\n",
        "d.retain_grad() # leaf tensor가 아닌데도 grad를 확인하기 위해서 호출.\n",
        "\n",
        "# d 에 대한 gradient를 계산.\n",
        "print('------------')\n",
        "d.backward(torch.ones(d.shape))\n",
        "\n",
        "\n",
        "print(a.grad) # 12\n",
        "print(b.grad) # 6\n",
        "print(c.grad) # 2\n",
        "print(d.grad) # 1\n",
        "\n",
        "# leaf이 아닌 tensor들에 대한 gradient를 보려면, retain_grad() 를 사용.\n",
        "for c_tensor in [a,b,c,d]:\n",
        "  c_grad = c_tensor.grad\n",
        "  if c_grad != None:\n",
        "    c_grad.zero_()\n"
      ],
      "metadata": {
        "colab": {
          "base_uri": "https://localhost:8080/"
        },
        "id": "3CXzgHhkOqRu",
        "outputId": "a77a9519-1a51-418d-8497-adcbd9bc36ef"
      },
      "execution_count": 5,
      "outputs": [
        {
          "output_type": "stream",
          "name": "stdout",
          "text": [
            "------------\n",
            "tensor([12., 12., 12., 12., 12., 12., 12., 12., 12., 12., 12., 12.])\n",
            "tensor([6., 6., 6., 6., 6., 6., 6., 6., 6., 6., 6., 6.])\n",
            "tensor([2., 2., 2., 2., 2., 2., 2., 2., 2., 2., 2., 2.])\n",
            "tensor([1., 1., 1., 1., 1., 1., 1., 1., 1., 1., 1., 1.])\n"
          ]
        }
      ]
    },
    {
      "cell_type": "code",
      "source": [
        "# require_grad 기능을 켠 tensor는 일반적인 numpy 객체를 얻거나 matplotflib에서 사용할 수 없으나 detach를 사용하면 가능.\n",
        "a_detach = a.detach().numpy() # a와 여전히 underlying memory를 공유.\n",
        "d_detach = d.detach().numpy() # b와 여전히 underlying memory를 공유.\n",
        "\n",
        "fig, axis = plt.subplots(1,1)\n",
        "axis.plot(a_detach,d_detach)\n",
        "axis.grid()\n",
        "# axis.set_xlim(a_detach.min(),a_detach.max())\n",
        "# axis.set_ylim(d_detach.min(),d_detach.max())"
      ],
      "metadata": {
        "colab": {
          "base_uri": "https://localhost:8080/",
          "height": 430
        },
        "id": "x4sOLp1COsgu",
        "outputId": "013fce24-b59e-420e-9113-1e80cb9752cf"
      },
      "execution_count": 6,
      "outputs": [
        {
          "output_type": "display_data",
          "data": {
            "text/plain": [
              "<Figure size 640x480 with 1 Axes>"
            ],
            "image/png": "[encoded data removed]"
          },
          "metadata": {}
        }
      ]
    },
    {
      "cell_type": "code",
      "source": [
        "c_detach[0] = 100\n",
        "print(c) # c도 변경됨.\n",
        "\n",
        "# underlying memory같음을 확인.\n",
        "print(c.data_ptr())\n",
        "print(c.detach().data_ptr())\n",
        ""
      ],
      "metadata": {
        "colab": {
          "base_uri": "https://localhost:8080/"
        },
        "id": "joewGvhbO7SC",
        "outputId": "be1367e2-c850-4645-d72b-5fc209bb77df"
      },
      "execution_count": 7,
      "outputs": [
        {
          "output_type": "stream",
          "name": "stdout",
          "text": [
            "tensor([100.0000,   5.9892,   2.7832,   5.3149,   0.3057,   1.1633,   3.9697,\n",
            "          4.0123,   3.6654,   2.9263,   5.3548,   0.7452],\n",
            "       grad_fn=<MulBackward0>)\n",
            "99936591759296\n",
            "99936591759296\n"
          ]
        }
      ]
    },
    {
      "cell_type": "code",
      "source": [
        "for cur in [a,b,c,d]:\n",
        "  print(get_tensor_info(cur))\n",
        "  print('------------------')"
      ],
      "metadata": {
        "colab": {
          "base_uri": "https://localhost:8080/"
        },
        "id": "HCkPaNbfO9Zc",
        "outputId": "65f05ee0-ab37-4c5a-e5b7-5c1d3bd447a9"
      },
      "execution_count": 8,
      "outputs": [
        {
          "output_type": "stream",
          "name": "stdout",
          "text": [
            "requires_grad(True) is_leaf(True) retains_grad(False) grad_fn(None) grad(tensor([0., 0., 0., 0., 0., 0., 0., 0., 0., 0., 0., 0.])) \n",
            "tensortensor([0.4348, 0.9982, 0.4639, 0.8858, 0.0509, 0.1939, 0.6616, 0.6687, 0.6109,\n",
            "        0.4877, 0.8925, 0.1242], requires_grad=True)\n",
            "------------------\n",
            "requires_grad(True) is_leaf(False) retains_grad(True) grad_fn(<MulBackward0 object at 0x7cb3b8862500>) grad(tensor([0., 0., 0., 0., 0., 0., 0., 0., 0., 0., 0., 0.])) \n",
            "tensortensor([0.8696, 1.9964, 0.9277, 1.7716, 0.1019, 0.3878, 1.3232, 1.3374, 1.2218,\n",
            "        0.9754, 1.7849, 0.2484], grad_fn=<MulBackward0>)\n",
            "------------------\n",
            "requires_grad(True) is_leaf(False) retains_grad(True) grad_fn(<MulBackward0 object at 0x7cb3b8862500>) grad(tensor([0., 0., 0., 0., 0., 0., 0., 0., 0., 0., 0., 0.])) \n",
            "tensortensor([100.0000,   5.9892,   2.7832,   5.3149,   0.3057,   1.1633,   3.9697,\n",
            "          4.0123,   3.6654,   2.9263,   5.3548,   0.7452],\n",
            "       grad_fn=<MulBackward0>)\n",
            "------------------\n",
            "requires_grad(True) is_leaf(False) retains_grad(True) grad_fn(<MulBackward0 object at 0x7cb3b8862500>) grad(tensor([0., 0., 0., 0., 0., 0., 0., 0., 0., 0., 0., 0.])) \n",
            "tensortensor([ 5.2177, 11.9783,  5.5663, 10.6297,  0.6114,  2.3265,  7.9395,  8.0245,\n",
            "         7.3309,  5.8527, 10.7095,  1.4905], grad_fn=<MulBackward0>)\n",
            "------------------\n"
          ]
        }
      ]
    }
  ]
}