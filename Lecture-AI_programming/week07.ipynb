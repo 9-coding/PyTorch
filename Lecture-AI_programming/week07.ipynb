{
  "nbformat": 4,
  "nbformat_minor": 0,
  "metadata": {
    "colab": {
      "provenance": [],
      "authorship_tag": "ABX9TyOxADyEyk+I8K4Qg+hEKacE",
      "include_colab_link": true
    },
    "kernelspec": {
      "name": "python3",
      "display_name": "Python 3"
    },
    "language_info": {
      "name": "python"
    }
  },
  "cells": [
    {
      "cell_type": "markdown",
      "metadata": {
        "id": "view-in-github",
        "colab_type": "text"
      },
      "source": [
        "<a href=\"https://colab.research.google.com/github/9-coding/PyTorch/blob/main/Lecture-AI_programming/week07.ipynb\" target=\"_parent\"><img src=\"https://colab.research.google.com/assets/colab-badge.svg\" alt=\"Open In Colab\"/></a>"
      ]
    },
    {
      "cell_type": "markdown",
      "source": [
        "# Week07\n",
        "(중간고사 review)"
      ],
      "metadata": {
        "id": "MiLUG1_RZj2a"
      }
    },
    {
      "cell_type": "code",
      "execution_count": 1,
      "metadata": {
        "id": "u_xhaakVwkta"
      },
      "outputs": [],
      "source": [
        "import numpy as np\n",
        "import tensorflow as tf\n",
        "import torch"
      ]
    },
    {
      "cell_type": "markdown",
      "source": [
        "### inplace operation\n",
        "원래 있던 것에서 update하는 방식\n",
        "\n"
      ],
      "metadata": {
        "id": "o_D3ipRA05gL"
      }
    },
    {
      "cell_type": "markdown",
      "source": [
        "reshape() vs. resize()"
      ],
      "metadata": {
        "id": "EWPLGsO52Hak"
      }
    },
    {
      "cell_type": "code",
      "source": [
        "a = torch.arange(6)\n",
        "a.random_()\n",
        "print(a)"
      ],
      "metadata": {
        "colab": {
          "base_uri": "https://localhost:8080/"
        },
        "id": "gK2wmyB_3hc9",
        "outputId": "52206e06-a62e-4e03-a343-ff3575299617"
      },
      "execution_count": 2,
      "outputs": [
        {
          "output_type": "stream",
          "name": "stdout",
          "text": [
            "tensor([4951360797863611809, 2585332681438799044, 2428829233476408226,\n",
            "        3355125140765155757, 7212651704529322310, 6140720535927486135])\n"
          ]
        }
      ]
    },
    {
      "cell_type": "code",
      "source": [
        "a = torch.tensor([[0.6060, 0.1140, 0.0921],\n",
        "                  [0.1477, 0.4904, 0.7813]])\n",
        "print(torch.where(a > .5))"
      ],
      "metadata": {
        "colab": {
          "base_uri": "https://localhost:8080/"
        },
        "id": "5DqrT6Xu30sZ",
        "outputId": "9f285c89-96a1-4d02-d95d-00aa585cfa59"
      },
      "execution_count": 3,
      "outputs": [
        {
          "output_type": "stream",
          "name": "stdout",
          "text": [
            "(tensor([0, 1]), tensor([0, 2]))\n"
          ]
        }
      ]
    },
    {
      "cell_type": "code",
      "source": [
        "torch.where(a > .5).__repr__()"
      ],
      "metadata": {
        "colab": {
          "base_uri": "https://localhost:8080/",
          "height": 35
        },
        "id": "RCMsrmkV5erZ",
        "outputId": "af36e45d-8b5b-4b3c-faef-bc6e6abdd010"
      },
      "execution_count": 6,
      "outputs": [
        {
          "output_type": "execute_result",
          "data": {
            "text/plain": [
              "'(tensor([0, 1]), tensor([0, 2]))'"
            ],
            "application/vnd.google.colaboratory.intrinsic+json": {
              "type": "string"
            }
          },
          "metadata": {},
          "execution_count": 6
        }
      ]
    },
    {
      "cell_type": "code",
      "source": [
        "torch.where(a > .5)"
      ],
      "metadata": {
        "colab": {
          "base_uri": "https://localhost:8080/"
        },
        "id": "VpSD7iCO4hXm",
        "outputId": "609832bb-da65-4fb8-c462-a659d9265b73"
      },
      "execution_count": 4,
      "outputs": [
        {
          "output_type": "execute_result",
          "data": {
            "text/plain": [
              "(tensor([0, 1]), tensor([0, 2]))"
            ]
          },
          "metadata": {},
          "execution_count": 4
        }
      ]
    },
    {
      "cell_type": "code",
      "source": [
        "a = torch.arange(6).reshape((2,3))\n",
        "print(a)\n",
        "print(torch.where(a > 2))"
      ],
      "metadata": {
        "colab": {
          "base_uri": "https://localhost:8080/"
        },
        "id": "o5EQzHeT5GLI",
        "outputId": "552533c0-fcc3-4464-bbbd-16c37133b380"
      },
      "execution_count": 9,
      "outputs": [
        {
          "output_type": "stream",
          "name": "stdout",
          "text": [
            "tensor([[0, 1, 2],\n",
            "        [3, 4, 5]])\n",
            "(tensor([1, 1, 1]), tensor([0, 1, 2]))\n"
          ]
        }
      ]
    },
    {
      "cell_type": "markdown",
      "source": [
        "`__repr__()`은 값과 함께 타입을 보여줌. 개발자용. 문자열로 반환.\n",
        "<br>`__str__`()은 값이 중요."
      ],
      "metadata": {
        "id": "LZA0VRAW5GwR"
      }
    },
    {
      "cell_type": "code",
      "source": [],
      "metadata": {
        "id": "BTJHnwXQCKlx"
      },
      "execution_count": null,
      "outputs": []
    },
    {
      "cell_type": "markdown",
      "source": [
        "list vs. ndarray vs. tensor\n",
        "list\n",
        ": 하나의 리스트에 모든 데이터 타입이 전부 들어갈 수 있음. -> 불균형하게 들어갈 수 있음.\n",
        "boxed type\n",
        "\n",
        "ndarray\n",
        "c, c++에서의 어레이.\n",
        "데이터가 모두 연결.\n",
        "효율적.\n",
        "자료형을 바꾸려면 새로 만들어야 함\n",
        "주로 cpu와 ram에서 동작하는 것 위주로.\n",
        "cpu 기반 병렬 처리\n",
        "\n",
        "tensor.\n",
        "gpu 기반\n",
        "cpu에서 썼을 때는 numpy가 훨씬 빠름."
      ],
      "metadata": {
        "id": "9Q_EjffdCK4g"
      }
    },
    {
      "cell_type": "markdown",
      "source": [
        "detach() vs. clone()\n",
        "\n",
        "clone()\n",
        "모든 정보 copy.\n",
        "연산 정보를 동시에 가지고 있음."
      ],
      "metadata": {
        "id": "RKACztBPDe9i"
      }
    },
    {
      "cell_type": "code",
      "source": [],
      "metadata": {
        "id": "zDRWYHjyP_xC"
      },
      "execution_count": null,
      "outputs": []
    },
    {
      "cell_type": "markdown",
      "source": [
        "hook 한 번 찾아보기\n"
      ],
      "metadata": {
        "id": "eX_Ajx_NQAL_"
      }
    }
  ]
}