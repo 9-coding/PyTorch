{
  "nbformat": 4,
  "nbformat_minor": 0,
  "metadata": {
    "colab": {
      "provenance": [],
      "authorship_tag": "ABX9TyONHb+8g0Bwer3C54Fr9sgW",
      "include_colab_link": true
    },
    "kernelspec": {
      "name": "python3",
      "display_name": "Python 3"
    },
    "language_info": {
      "name": "python"
    }
  },
  "cells": [
    {
      "cell_type": "markdown",
      "metadata": {
        "id": "view-in-github",
        "colab_type": "text"
      },
      "source": [
        "<a href=\"https://colab.research.google.com/github/9-coding/PyTorch/blob/main/Lecture-AI_programming/week03.ipynb\" target=\"_parent\"><img src=\"https://colab.research.google.com/assets/colab-badge.svg\" alt=\"Open In Colab\"/></a>"
      ]
    },
    {
      "cell_type": "markdown",
      "source": [
        "# Week 3\n",
        "# Transpose & Permute\n",
        "\n"
      ],
      "metadata": {
        "id": "-WRNkknObipX"
      }
    },
    {
      "cell_type": "code",
      "execution_count": null,
      "metadata": {
        "id": "Lsn8YRLpbeEQ"
      },
      "outputs": [],
      "source": [
        "import numpy as np\n",
        "import torch\n",
        "import tensorflow as tf\n",
        "import matplotlib.pyplot as plt"
      ]
    },
    {
      "cell_type": "code",
      "source": [
        "for c in [np, torch, tf]:\n",
        "  print(c.__name__, c.__version__)"
      ],
      "metadata": {
        "colab": {
          "base_uri": "https://localhost:8080/"
        },
        "id": "yO5_xzTHbsSP",
        "outputId": "36f0a82b-c189-4472-ddd0-c2ed7774c89f"
      },
      "execution_count": null,
      "outputs": [
        {
          "output_type": "stream",
          "name": "stdout",
          "text": [
            "numpy 1.25.2\n",
            "torch 2.2.1+cu121\n",
            "tensorflow 2.15.0\n"
          ]
        }
      ]
    },
    {
      "cell_type": "markdown",
      "source": [
        "## Transpose\n",
        "- 전치 행렬. 행과 열을 바꾸는 처리.\n",
        "- Tensor의 경우 여러 축을 가지는데, 이것 중 2개 축의 위치를 바꾼다.\n",
        "<hr>\n",
        "- numpy/pytorch: axis만 변경됐을 뿐 여전히 같은 데이터를 공유하므로 새로운 tensor에서 데이터를 변경할 경우 원래의 tensor도 데이터가 반영된다.\n",
        "- tensorflow: tensor가 immutable이므로 transpose하면 다른 tensor가 생성되므로 영향을 미치지 않음."
      ],
      "metadata": {
        "id": "wXvauYlQbt0Q"
      }
    },
    {
      "cell_type": "markdown",
      "source": [
        "### NumPy"
      ],
      "metadata": {
        "id": "i-8AQVXJb24l"
      }
    },
    {
      "cell_type": "code",
      "source": [
        "a = np.random.rand(2, 3)\n",
        "t1 = np.transpose(a)\n",
        "t2 = a.T\n",
        "print(a.shape)\n",
        "print(t1.shape)\n",
        "print(t2.shape)\n",
        "\n",
        "t2[0,1] = 77\n",
        "print(a[1,0])\n",
        "print(t1[0,1])\n",
        "print(t2[0,1])"
      ],
      "metadata": {
        "colab": {
          "base_uri": "https://localhost:8080/"
        },
        "id": "2VeHl9a1b6VS",
        "outputId": "45025afb-8782-4ae0-8d79-08d23ae0c16b"
      },
      "execution_count": null,
      "outputs": [
        {
          "output_type": "stream",
          "name": "stdout",
          "text": [
            "(2, 3)\n",
            "(3, 2)\n",
            "(3, 2)\n",
            "77.0\n",
            "77.0\n",
            "77.0\n"
          ]
        }
      ]
    },
    {
      "cell_type": "markdown",
      "source": [
        "### PyTorch"
      ],
      "metadata": {
        "id": "BDx8srqIb7gn"
      }
    },
    {
      "cell_type": "code",
      "source": [
        "a_torch = torch.rand(2, 3)\n",
        "t1_torch = torch.transpose(a_torch, 0, 1) #axis-0 (행) 과 axis-1 (열)을 교체.\n",
        "t2_torch = a_torch.T\n",
        "print(a_torch.shape)  #torch.Size([2,3])\n",
        "print(t1_torch.shape) #torch.Size([3,2])\n",
        "print(t2_torch.shape) #torch.Size([3,2])\n",
        "\n",
        "t2_torch[0,1] = 77\n",
        "print(a_torch[1,0])  # tensor(77.)\n",
        "print(t1_torch[0,1]) # tensor(77.)\n",
        "print(t2_torch[0,1]) # tensor(77.)"
      ],
      "metadata": {
        "colab": {
          "base_uri": "https://localhost:8080/"
        },
        "id": "Q7TPvSbMb832",
        "outputId": "d67e8764-30ad-4669-ced6-d8737b64e915"
      },
      "execution_count": null,
      "outputs": [
        {
          "output_type": "stream",
          "name": "stdout",
          "text": [
            "torch.Size([2, 3])\n",
            "torch.Size([3, 2])\n",
            "torch.Size([3, 2])\n",
            "tensor(77.)\n",
            "tensor(77.)\n",
            "tensor(77.)\n"
          ]
        }
      ]
    },
    {
      "cell_type": "markdown",
      "source": [
        "### TensorFlow"
      ],
      "metadata": {
        "id": "ry9iuuzYcACR"
      }
    },
    {
      "cell_type": "code",
      "source": [
        "a_tf = tf.random.normal([2, 3])\n",
        "t1_tf = tf.transpose(a_tf)\n",
        "t2_tf = tf.transpose(a_tf, perm=[1, 0]) # T 지원안함.\n",
        "print(a_tf.shape, a_tf.dtype)\n",
        "print(t1_tf.shape, t1_tf.dtype)\n",
        "print(t2_tf.shape, t2_tf.dtype)\n",
        "\n",
        "indices = tf.constant([[0, 1]]) # (2, 2) 위치를 변경하고자 함\n",
        "updates = tf.constant([77], dtype=tf.float32) # 해당 위치에 넣고 싶은 값\n",
        "t2_tf = tf.tensor_scatter_nd_update(t2_tf, indices, updates)\n",
        "print(a_tf[1,0])\n",
        "print(t1_tf[0,1])\n",
        "print(t2_tf[0,1])"
      ],
      "metadata": {
        "colab": {
          "base_uri": "https://localhost:8080/"
        },
        "id": "Q2jr3V0EcBlT",
        "outputId": "c39f6b80-fbc6-4cdf-9312-d03d760fc5b4"
      },
      "execution_count": null,
      "outputs": [
        {
          "output_type": "stream",
          "name": "stdout",
          "text": [
            "(2, 3) <dtype: 'float32'>\n",
            "(3, 2) <dtype: 'float32'>\n",
            "(3, 2) <dtype: 'float32'>\n",
            "tf.Tensor(0.43915224, shape=(), dtype=float32)\n",
            "tf.Tensor(0.43915224, shape=(), dtype=float32)\n",
            "tf.Tensor(77.0, shape=(), dtype=float32)\n"
          ]
        }
      ]
    },
    {
      "cell_type": "markdown",
      "source": [
        "## Permute\n",
        "- tensor 축들의 순서를 임의로 바꿈\n",
        "- transpose와 달리 임의의 수의 축들을 임의의 순서로 자유롭게 변경 가능.\n",
        "- numpy, tensorflow는 transpose 통해 permute 구현."
      ],
      "metadata": {
        "id": "FtTArmeicGLF"
      }
    },
    {
      "cell_type": "markdown",
      "source": [
        "### NumPy"
      ],
      "metadata": {
        "id": "WPKubGMVcH14"
      }
    },
    {
      "cell_type": "code",
      "source": [
        "a = np.random.rand(2, 3, 4)\n",
        "t1 = np.transpose(a, (0, 2, 1)) # 기존의 axis 0,1,2 순서를 axis 0,2,1 순서로 변경.\n",
        "print(a.shape)  # (2,3,4)\n",
        "print(t1.shape) # (2,4,3)\n",
        "t1[0,1,2] = 77\n",
        "print(a[0,2,1])  # 77.0\n",
        "print(t1[0,1,2]) # 77.0"
      ],
      "metadata": {
        "colab": {
          "base_uri": "https://localhost:8080/"
        },
        "id": "QwrA89pvcK_O",
        "outputId": "111cb42d-31d7-4e87-ad8b-5c6f7a6fde1b"
      },
      "execution_count": null,
      "outputs": [
        {
          "output_type": "stream",
          "name": "stdout",
          "text": [
            "(2, 3, 4)\n",
            "(2, 4, 3)\n",
            "77.0\n",
            "77.0\n"
          ]
        }
      ]
    },
    {
      "cell_type": "markdown",
      "source": [
        "### PyTorch"
      ],
      "metadata": {
        "id": "XLZuSoyncNZ3"
      }
    },
    {
      "cell_type": "code",
      "source": [
        "a_torch = torch.rand(2, 3, 4)\n",
        "t1_torch = torch.permute(a_torch, (0, 2, 1)) # numpy의 transpose와 사용방법이 유사.\n",
        "print(a_torch.shape)  # torch.Size([2, 3, 4])\n",
        "print(t1_torch.shape) # torch.Size([2, 4, 3])\n",
        "t1_torch[0,1,2] = 77\n",
        "print(a_torch[0,2,1])  # tensor(77.)\n",
        "print(t1_torch[0,1,2]) # tensor(77.)"
      ],
      "metadata": {
        "colab": {
          "base_uri": "https://localhost:8080/"
        },
        "id": "TUCeWcLNcN84",
        "outputId": "6ca8109a-2158-4be7-b7f6-baa37c9d40e1"
      },
      "execution_count": null,
      "outputs": [
        {
          "output_type": "stream",
          "name": "stdout",
          "text": [
            "torch.Size([2, 3, 4])\n",
            "torch.Size([2, 4, 3])\n",
            "tensor(77.)\n",
            "tensor(77.)\n"
          ]
        }
      ]
    },
    {
      "cell_type": "markdown",
      "source": [
        "### TensorFlow"
      ],
      "metadata": {
        "id": "uPmh0IdLcPRk"
      }
    },
    {
      "cell_type": "code",
      "source": [
        "a_tf = tf.random.normal([2, 3, 4])\n",
        "t1_tf = tf.transpose(a_tf, perm=[0, 2, 1]) #perm 이라는 키워드로 변경될 축의 순서를 기재.\n",
        "print(a_tf.shape)  # (2, 3, 4)\n",
        "print(t1_tf.shape) # (2, 4, 3)"
      ],
      "metadata": {
        "colab": {
          "base_uri": "https://localhost:8080/"
        },
        "id": "13gRAo-CcWNt",
        "outputId": "d48c2f35-e0cd-4e87-c824-80644e509452"
      },
      "execution_count": null,
      "outputs": [
        {
          "output_type": "stream",
          "name": "stdout",
          "text": [
            "(2, 3, 4)\n",
            "(2, 4, 3)\n"
          ]
        }
      ]
    },
    {
      "cell_type": "markdown",
      "source": [
        "# Tensor Storage\n",
        "Tensor 인스턴스의 실제 데이터가 저장되는 1D numerical array 관리\n",
        "- 여러 인스턴스들이 같은 storage를 공유할 수 있음.\n",
        "- cpu 또는 gpu 등의 memory의 실제 data가 저장된 contiguous block 관리.\n",
        "- 다양한 shape의 Tensor 인스턴스들은 자신의 storage 인스턴스를 통해 data block을 관리함."
      ],
      "metadata": {
        "id": "Vr_SVCg3ssmR"
      }
    },
    {
      "cell_type": "code",
      "source": [
        "import torch\n",
        "\n",
        "x = torch.randn(3,3)\n",
        "\n",
        "print(x.storage())"
      ],
      "metadata": {
        "colab": {
          "base_uri": "https://localhost:8080/"
        },
        "id": "scCD8JJZsw9f",
        "outputId": "eb5f7dd3-34d6-4e9b-bb26-fd65960068ae"
      },
      "execution_count": null,
      "outputs": [
        {
          "output_type": "stream",
          "name": "stdout",
          "text": [
            " -0.41986027359962463\n",
            " -0.8027663230895996\n",
            " -1.3224666118621826\n",
            " -0.945031464099884\n",
            " -1.1443856954574585\n",
            " 0.6893463730812073\n",
            " -1.1195076704025269\n",
            " -0.12586873769760132\n",
            " -0.40938544273376465\n",
            "[torch.storage.TypedStorage(dtype=torch.float32, device=cpu) of size 9]\n"
          ]
        },
        {
          "output_type": "stream",
          "name": "stderr",
          "text": [
            "<ipython-input-42-7a8fb5f03ade>:5: UserWarning: TypedStorage is deprecated. It will be removed in the future and UntypedStorage will be the only storage class. This should only matter to you if you are using storages directly.  To access UntypedStorage directly, use tensor.untyped_storage() instead of tensor.storage()\n",
            "  print(x.storage())\n"
          ]
        }
      ]
    },
    {
      "cell_type": "markdown",
      "source": [
        "- 실제 data가 저장되는 memory를 가리키는 위치를 반환하는 메서드 가짐."
      ],
      "metadata": {
        "id": "mMiX-0eKszUk"
      }
    },
    {
      "cell_type": "code",
      "source": [
        "import torch\n",
        "\n",
        "a = torch.tensor([range(i,i+3) for i in [0,3,6]])\n",
        "a_sub = a[1:,0] # 부분에 대한 view\n",
        "\n",
        "# Tensor a 와 a_sub 의 contiguous 여부 확인.\n",
        "print(a.is_contiguous(), a_sub.is_contiguous())\n",
        "\n",
        "# Tensor a 와 a_sub 가 같은 메모리의 데이터를 공유하는지 여부.\n",
        "print(a.storage().data_ptr() == a_sub.storage().data_ptr())\n",
        "\n",
        "# Storage 인스턴스는 각 Tensor 인스턴스 별로 생성됨.\n",
        "print(id(a.storage()) == id(a_sub.storage()))\n",
        "\n",
        "# Tensor 인스턴스의 meta data\n",
        "print(f\"{a.shape=}, {a.size()=}, {a.stride()=}, {a.storage_offset()=}\")\n",
        "print(f\"{a_sub.shape=}, {a_sub.size()=}, {a_sub.stride()=}, {a_sub.storage_offset()=}\")"
      ],
      "metadata": {
        "colab": {
          "base_uri": "https://localhost:8080/"
        },
        "id": "cbn05Qy-s0Sk",
        "outputId": "c8f5c7ab-eb70-4af6-b143-8adbea21f987"
      },
      "execution_count": null,
      "outputs": [
        {
          "output_type": "stream",
          "name": "stdout",
          "text": [
            "True False\n",
            "True\n",
            "True\n",
            "a.shape=torch.Size([3, 3]), a.size()=torch.Size([3, 3]), a.stride()=(3, 1), a.storage_offset()=0\n",
            "a_sub.shape=torch.Size([2]), a_sub.size()=torch.Size([2]), a_sub.stride()=(3,), a_sub.storage_offset()=3\n"
          ]
        }
      ]
    },
    {
      "cell_type": "markdown",
      "source": [
        "- `stride`: 각 축에서 index가 증가할 때 건너뛰어야하는 객체의 수.\n",
        "- `storage_offset`: 현재 Tensor 인스턴스가 Storage가 관리하는 memory block에서 몇 번째 객체에서 시작하는지를 나타냄.  "
      ],
      "metadata": {
        "id": "HKIXaQg8s2FH"
      }
    },
    {
      "cell_type": "markdown",
      "source": [
        "## Contiguous 확인"
      ],
      "metadata": {
        "id": "-2VNEDABs29j"
      }
    },
    {
      "cell_type": "code",
      "source": [
        "a = torch.tensor([ range(i,i+3) for i in [0,3,6]])\n",
        "print(a)\n",
        "print(a.storage())\n",
        "print(a.is_contiguous())"
      ],
      "metadata": {
        "colab": {
          "base_uri": "https://localhost:8080/"
        },
        "id": "j1DcgeXjs2bI",
        "outputId": "536f7de8-9e8d-444e-eb22-0a10674ee9b4"
      },
      "execution_count": null,
      "outputs": [
        {
          "output_type": "stream",
          "name": "stdout",
          "text": [
            "tensor([[0, 1, 2],\n",
            "        [3, 4, 5],\n",
            "        [6, 7, 8]])\n",
            " 0\n",
            " 1\n",
            " 2\n",
            " 3\n",
            " 4\n",
            " 5\n",
            " 6\n",
            " 7\n",
            " 8\n",
            "[torch.storage.TypedStorage(dtype=torch.int64, device=cpu) of size 9]\n",
            "True\n"
          ]
        }
      ]
    },
    {
      "cell_type": "code",
      "source": [
        "a_sub = a[1:,0]\n",
        "print(a_sub)\n",
        "print(a_sub.storage())\n",
        "print(a_sub.is_contiguous())\n",
        "print(a.storage().data_ptr() == a_sub.storage().data_ptr())"
      ],
      "metadata": {
        "colab": {
          "base_uri": "https://localhost:8080/"
        },
        "id": "FarSgfgis5el",
        "outputId": "1b637a9d-f9da-48df-a3f8-bf5ba7d624b9"
      },
      "execution_count": null,
      "outputs": [
        {
          "output_type": "stream",
          "name": "stdout",
          "text": [
            "tensor([3, 6])\n",
            " 0\n",
            " 1\n",
            " 2\n",
            " 3\n",
            " 4\n",
            " 5\n",
            " 6\n",
            " 7\n",
            " 8\n",
            "[torch.storage.TypedStorage(dtype=torch.int64, device=cpu) of size 9]\n",
            "False\n",
            "True\n"
          ]
        }
      ]
    },
    {
      "cell_type": "markdown",
      "source": [
        "## View / Reshape\n",
        "\n",
        "view: instance가 contiguous한 경우에만 사용 가능.<br>\n",
        "reshape: <br>\n",
        "- contiguous한 경우 view와 같은 동작.\n",
        "- 아닌 경우엔 contiguous() 메서드를 호출하고 view를 수행한 것에 해당함. (이 경우  underlying memory block이 새로 만들어짐.)\n",
        "- 따라서 memory를 공유할 수도 아닐 수도 있음.\n"
      ],
      "metadata": {
        "id": "4UWm8854s7ch"
      }
    },
    {
      "cell_type": "code",
      "source": [
        "a_r = a.reshape((9,))\n",
        "a_r[3] = 777\n",
        "print('데이터 저장공간을 share함.')\n",
        "print('a_r: af.reshape')\n",
        "print(a_r)\n",
        "print('a: orginal')\n",
        "print(a)"
      ],
      "metadata": {
        "colab": {
          "base_uri": "https://localhost:8080/"
        },
        "id": "QRNNAry5s-VD",
        "outputId": "06fd659a-4884-44df-9798-8ab35b70135c"
      },
      "execution_count": null,
      "outputs": [
        {
          "output_type": "stream",
          "name": "stdout",
          "text": [
            "데이터 저장공간을 share함.\n",
            "a_r: af.reshape\n",
            "tensor([  0,   1,   2, 777,   4,   5,   6,   7,   8])\n",
            "a: orginal\n",
            "tensor([[  0,   1,   2],\n",
            "        [777,   4,   5],\n",
            "        [  6,   7,   8]])\n"
          ]
        }
      ]
    },
    {
      "cell_type": "markdown",
      "source": [
        "## Transpose / Permute\n",
        "- underlying data 를 공유하여 Tensor 인스턴스의 meta data (stride 등)을 수정한다.\n",
        "- 단, 이를 통해 얻어진 인스턴스에서는\n",
        "contiguous는 깨지게 된다.\n",
        "- contiguous 메서드 호출을 하여 해당 인스턴스의 meta data를 기반으로 Tensor 인스턴스를 새로 얻는 경우에는 새로운 underlying data가 만들어지게 된다."
      ],
      "metadata": {
        "id": "C421YKeGs_f4"
      }
    },
    {
      "cell_type": "code",
      "source": [
        "a_t = torch.transpose(a,0,1)\n",
        "print(a_t)\n",
        "print(a_t.storage())\n",
        "print(a_t.is_contiguous())"
      ],
      "metadata": {
        "colab": {
          "base_uri": "https://localhost:8080/"
        },
        "id": "JvKsIwQZtAvd",
        "outputId": "ca981f2d-bd17-4f8e-c9de-9a64829b5421"
      },
      "execution_count": null,
      "outputs": [
        {
          "output_type": "stream",
          "name": "stdout",
          "text": [
            "tensor([[  0, 777,   6],\n",
            "        [  1,   4,   7],\n",
            "        [  2,   5,   8]])\n",
            " 0\n",
            " 1\n",
            " 2\n",
            " 777\n",
            " 4\n",
            " 5\n",
            " 6\n",
            " 7\n",
            " 8\n",
            "[torch.storage.TypedStorage(dtype=torch.int64, device=cpu) of size 9]\n",
            "False\n"
          ]
        }
      ]
    },
    {
      "cell_type": "code",
      "source": [
        "a_t[0,1] = 999\n",
        "print(a_t)\n",
        "print('-------')\n",
        "print(a)\n",
        "print('-------')\n",
        "print(a_sub)"
      ],
      "metadata": {
        "colab": {
          "base_uri": "https://localhost:8080/"
        },
        "id": "g88clzKOtCne",
        "outputId": "1fe8f543-7e27-4d4d-ea28-6e94a909a9e5"
      },
      "execution_count": null,
      "outputs": [
        {
          "output_type": "stream",
          "name": "stdout",
          "text": [
            "tensor([[  0, 999,   6],\n",
            "        [  1,   4,   7],\n",
            "        [  2,   5,   8]])\n",
            "-------\n",
            "tensor([[  0,   1,   2],\n",
            "        [999,   4,   5],\n",
            "        [  6,   7,   8]])\n",
            "-------\n",
            "tensor([3, 6])\n"
          ]
        }
      ]
    },
    {
      "cell_type": "code",
      "source": [
        "act = a_t.contiguous()\n",
        "print(act)\n",
        "print(act.storage())\n",
        "act[1] = 999\n",
        "print(act)\n",
        "print(a_t)"
      ],
      "metadata": {
        "colab": {
          "base_uri": "https://localhost:8080/"
        },
        "id": "OXBXav1htDdg",
        "outputId": "d3266996-752e-4afe-f061-89ba1d0fdacc"
      },
      "execution_count": null,
      "outputs": [
        {
          "output_type": "stream",
          "name": "stdout",
          "text": [
            "tensor([[  0, 999,   6],\n",
            "        [  1,   4,   7],\n",
            "        [  2,   5,   8]])\n",
            " 0\n",
            " 999\n",
            " 6\n",
            " 1\n",
            " 4\n",
            " 7\n",
            " 2\n",
            " 5\n",
            " 8\n",
            "[torch.storage.TypedStorage(dtype=torch.int64, device=cpu) of size 9]\n",
            "tensor([[  0, 999,   6],\n",
            "        [999, 999, 999],\n",
            "        [  2,   5,   8]])\n",
            "tensor([[  0, 999,   6],\n",
            "        [  1,   4,   7],\n",
            "        [  2,   5,   8]])\n"
          ]
        }
      ]
    },
    {
      "cell_type": "code",
      "source": [
        "a_t_r = a_t.reshape((9,)) # uncontiguous tensor에서는 새로 생성이 이루어짐.\n",
        "print(a_t_r)\n",
        "a_t_r[1] = 999\n",
        "print(a_t_r)\n",
        "print(a_t) # 달라짐."
      ],
      "metadata": {
        "colab": {
          "base_uri": "https://localhost:8080/"
        },
        "id": "gaY5g7PQtFSD",
        "outputId": "ab58b1f6-c0fc-47f3-b024-a743f444de59"
      },
      "execution_count": null,
      "outputs": [
        {
          "output_type": "stream",
          "name": "stdout",
          "text": [
            "tensor([  0, 999,   6,   1,   4,   7,   2,   5,   8])\n",
            "tensor([  0, 999,   6,   1,   4,   7,   2,   5,   8])\n",
            "tensor([[  0, 999,   6],\n",
            "        [  1,   4,   7],\n",
            "        [  2,   5,   8]])\n"
          ]
        }
      ]
    },
    {
      "cell_type": "code",
      "source": [
        "print(a)\n",
        "print('------')\n",
        "print('permute axis-0 and axis-1 = transpose')\n",
        "ap = a.permute([1,0]) # permute axis-0 and axis-1\n",
        "print(ap)\n",
        "print(a.storage().data_ptr() == ap.storage().data_ptr())\n",
        "print(ap.is_contiguous())"
      ],
      "metadata": {
        "colab": {
          "base_uri": "https://localhost:8080/"
        },
        "id": "nZewmjBptHL-",
        "outputId": "defa0577-d36b-4b4a-cd7f-49627ccb8da1"
      },
      "execution_count": null,
      "outputs": [
        {
          "output_type": "stream",
          "name": "stdout",
          "text": [
            "tensor([[  0,   1,   2],\n",
            "        [999,   4,   5],\n",
            "        [  6,   7,   8]])\n",
            "------\n",
            "permute axis-0 and axis-1 = transpose\n",
            "tensor([[  0, 999,   6],\n",
            "        [  1,   4,   7],\n",
            "        [  2,   5,   8]])\n",
            "True\n",
            "False\n"
          ]
        }
      ]
    },
    {
      "cell_type": "code",
      "source": [
        "print(f\"{a.shape=}, {a.size()=}, {a.stride()=}, {a.storage_offset()=}\")\n",
        "print(f\"{a_t.shape=}, {a_t.size()=}, {a_t.stride()=}, {a_t.storage_offset()=}\")\n",
        "print(f\"{a_sub.shape=}, {a_sub.size()=}, {a_sub.stride()=}, {a_sub.storage_offset()=}\")"
      ],
      "metadata": {
        "colab": {
          "base_uri": "https://localhost:8080/"
        },
        "id": "QZmLyZeDtIXL",
        "outputId": "7c4597f0-70de-4d2f-da28-650c12fbab98"
      },
      "execution_count": null,
      "outputs": [
        {
          "output_type": "stream",
          "name": "stdout",
          "text": [
            "a.shape=torch.Size([3, 3]), a.size()=torch.Size([3, 3]), a.stride()=(3, 1), a.storage_offset()=0\n",
            "a_t.shape=torch.Size([3, 3]), a_t.size()=torch.Size([3, 3]), a_t.stride()=(1, 3), a_t.storage_offset()=0\n",
            "a_sub.shape=torch.Size([2]), a_sub.size()=torch.Size([2]), a_sub.stride()=(3,), a_sub.storage_offset()=3\n"
          ]
        }
      ]
    },
    {
      "cell_type": "markdown",
      "source": [
        "# view, data, and detach"
      ],
      "metadata": {
        "id": "0rVGoIXKcgld"
      }
    },
    {
      "cell_type": "code",
      "source": [
        "def get_tensor_info(tensor):\n",
        "  info = []\n",
        "  for name in ['requires_grad', 'is_leaf', 'retains_grad', 'grad_fn', 'grad']:\n",
        "    info.append(f'{name}({getattr(tensor, name, None)})')\n",
        "  info.append(f'\\ntensor{str(tensor)}')\n",
        "  return ' '.join(info)"
      ],
      "metadata": {
        "id": "juDNi21TclOk"
      },
      "execution_count": null,
      "outputs": []
    },
    {
      "cell_type": "markdown",
      "source": [
        "## tensor.view()\n",
        "**tensor 인스턴스의 dimension 수정에 사용.**\n",
        "- 원본 tensor 인스턴스 데이터가 contiguous해야 함.\n",
        "- 이 메서드는 새로운 shape를 가진 같은 데이터의 새로운 tensor 인스턴스를 반환하지만, 원본 tensor 인스턴스와 underlying memory를 공유하여 같은 데이터를 공유함.\n",
        "- 즉, 메모리를 재할당하지 않고 tensor의 shape와 각 축의 stride만이 바뀜."
      ],
      "metadata": {
        "id": "x0KcbYvvcmUD"
      }
    },
    {
      "cell_type": "code",
      "source": [
        "# requires_grad=True는 이 텐서에 대한 연산을 추적해야 함을 의미\n",
        "a = torch.rand(12,requires_grad=True)\n",
        "print(f'{a.shape=}, {a.data_ptr()=}, \\n{a.is_contiguous()=}, {a.stride()=}\\n')\n",
        "\n",
        "a_view = a.view((2,3,2))\n",
        "print(f'a_view: {a_view.shape=}, {a_view.data_ptr()=}, \\n{a_view.is_contiguous()=}, {a_view.stride()=}\\n')\n",
        "\n",
        "a_view_t = a_view.transpose(0,1)\n",
        "print(f'a_view_t: {a_view_t.shape=}, {a_view_t.data_ptr()=}, \\n{a_view_t.is_contiguous()=}, {a_view_t.stride()=}\\n')\n",
        "\n",
        "a_other = a_view_t.contiguous()\n",
        "print(f'a_other: {a_other.shape=}, {a_other.data_ptr()=}, \\n{a_other.is_contiguous()=}, {a_other.stride()=}')\n"
      ],
      "metadata": {
        "colab": {
          "base_uri": "https://localhost:8080/"
        },
        "id": "3j1DYR1zcnXO",
        "outputId": "b89ecfdf-cb22-41b5-c39b-d7b92c61d9c0"
      },
      "execution_count": null,
      "outputs": [
        {
          "output_type": "stream",
          "name": "stdout",
          "text": [
            "a.shape=torch.Size([12]), a.data_ptr()=97289610544384, \n",
            "a.is_contiguous()=True, a.stride()=(1,)\n",
            "\n",
            "a_view: a_view.shape=torch.Size([2, 3, 2]), a_view.data_ptr()=97289610544384, \n",
            "a_view.is_contiguous()=True, a_view.stride()=(6, 2, 1)\n",
            "\n",
            "a_view_t: a_view_t.shape=torch.Size([3, 2, 2]), a_view_t.data_ptr()=97289610544384, \n",
            "a_view_t.is_contiguous()=False, a_view_t.stride()=(2, 6, 1)\n",
            "\n",
            "a_other: a_other.shape=torch.Size([3, 2, 2]), a_other.data_ptr()=97289575683712, \n",
            "a_other.is_contiguous()=True, a_other.stride()=(4, 2, 1)\n"
          ]
        }
      ]
    },
    {
      "cell_type": "markdown",
      "source": [
        "## tensor.data\n",
        "**tensor 인스턴스의 데이터를 의미하는 attribute.**<br>\n",
        "tensor 인스턴스의 grad와 requires_grad와 같은 tensor의 메타데이터를 가지고 있지 않은 순수한 데이터를 의미.\n",
        "- 주로 autograd에서 미분 계산을 하지 않고 원본 데이터를 직접 조작할 때 사용.\n",
        "- 현재 tensor.data를 직접 접근하는 방식은 권장되지 않음.\n",
        "\n",
        "\n",
        "## tensor.detach\n",
        "- .detach()를 사용하여 계산 그래프에서 해당 텐서를 분리하면 gradient 계산에서 제외되나 여전히 데이터는 공유함.\n",
        "- tensor.data를 직접 수정할 경우, 계산 그래프의 무결성이 깨질 수 있으며 이는 예상치 못한 버그의 원인이 됨.\n",
        "\n",
        "직접적인 데이터 조작이 필요할 때는 계산 그래프에서 해당 텐선 인스턴스를 분리하는 .detach() 사용 권장"
      ],
      "metadata": {
        "id": "qTPcL28gcorw"
      }
    },
    {
      "cell_type": "code",
      "source": [
        "b = a*2.        #\n",
        "b.retain_grad() # leaf tensor가 아닌데도 grad를 확인하기 위해서 호출.\n",
        "\n",
        "c = b*3.        #\n",
        "c.retain_grad() # leaf tensor가 아닌데도 grad를 확인하기 위해서 호출.\n",
        "\n",
        "# .detach()를 사용하여 c 에서 더 이상 그래디언트가 전파되지 않도록 처리.\n",
        "c_detach = c.detach()\n",
        "# u 는 이제 그래디언트 계산에서 제외.\n",
        "# u 를 사용한 추가 연산도 수행 가능\n",
        "u = c_detach*2.  # u의 계산은 그래디언트 추적에서 제외됩니다.\n",
        "\n",
        "# 그러나 c에 대한 추가 연산은 detach되지않은 다른 tensor의 경우처럼 c의 gradient 계산에 영향.\n",
        "# 즉, c에 대해 또 다른 연산을 추가하고, 그 연산에 대한 gradient를 계산함.\n",
        "d = c * 2.\n",
        "d.retain_grad() # leaf tensor가 아닌데도 grad를 확인하기 위해서 호출.\n",
        "\n",
        "# d 에 대한 gradient를 계산.\n",
        "print('------------')\n",
        "d.backward(torch.ones(d.shape))\n",
        "\n",
        "\n",
        "print(a.grad) # 12\n",
        "print(b.grad) # 6\n",
        "print(c.grad) # 2\n",
        "print(d.grad) # 1\n",
        "\n",
        "# leaf이 아닌 tensor들에 대한 gradient를 보려면, retain_grad() 를 사용.\n",
        "for c_tensor in [a,b,c,d]:\n",
        "  c_grad = c_tensor.grad\n",
        "  if c_grad != None:\n",
        "    c_grad.zero_()\n"
      ],
      "metadata": {
        "colab": {
          "base_uri": "https://localhost:8080/"
        },
        "id": "_Y8oO91vcqqW",
        "outputId": "e21c9f38-3ece-4261-d1a4-27ad1d83419f"
      },
      "execution_count": null,
      "outputs": [
        {
          "output_type": "stream",
          "name": "stdout",
          "text": [
            "------------\n",
            "tensor([12., 12., 12., 12., 12., 12., 12., 12., 12., 12., 12., 12.])\n",
            "tensor([6., 6., 6., 6., 6., 6., 6., 6., 6., 6., 6., 6.])\n",
            "tensor([2., 2., 2., 2., 2., 2., 2., 2., 2., 2., 2., 2.])\n",
            "tensor([1., 1., 1., 1., 1., 1., 1., 1., 1., 1., 1., 1.])\n"
          ]
        }
      ]
    },
    {
      "cell_type": "code",
      "source": [
        "# require_grad 기능을 켠 tensor는 일반적인 numpy 객체를 얻거나 matplotflib에서 사용할 수 없으나 detach를 사용하면 가능.\n",
        "a_detach = a.detach().numpy() # a와 여전히 underlying memory를 공유.\n",
        "d_detach = d.detach().numpy() # b와 여전히 underlying memory를 공유.\n",
        "\n",
        "fig, axis = plt.subplots(1,1)\n",
        "axis.plot(a_detach,d_detach)\n",
        "axis.grid()\n",
        "# axis.set_xlim(a_detach.min(),a_detach.max())\n",
        "# axis.set_ylim(d_detach.min(),d_detach.max())"
      ],
      "metadata": {
        "colab": {
          "base_uri": "https://localhost:8080/",
          "height": 430
        },
        "id": "-dJhvNqTcs-o",
        "outputId": "edbb03e3-f543-4df8-807b-3097acaa1375"
      },
      "execution_count": null,
      "outputs": [
        {
          "output_type": "display_data",
          "data": {
            "text/plain": [
              "<Figure size 640x480 with 1 Axes>"
            ],
            "image/png": "[encoded data removed]"
          },
          "metadata": {}
        }
      ]
    },
    {
      "cell_type": "code",
      "source": [
        "c_detach[0] = 100\n",
        "print(c) # c도 변경됨.\n",
        "\n",
        "# underlying memory같음을 확인.\n",
        "print(c.data_ptr())\n",
        "print(c.detach().data_ptr())\n"
      ],
      "metadata": {
        "colab": {
          "base_uri": "https://localhost:8080/"
        },
        "id": "H2bq3OVBcvc2",
        "outputId": "ccc02057-8015-4925-989c-b7157d561c70"
      },
      "execution_count": null,
      "outputs": [
        {
          "output_type": "stream",
          "name": "stdout",
          "text": [
            "tensor([100.0000,   5.8931,   1.2404,   1.1902,   5.6497,   1.0134,   0.8002,\n",
            "          3.2194,   0.1328,   2.2997,   2.9492,   2.2205],\n",
            "       grad_fn=<MulBackward0>)\n",
            "97289613601920\n",
            "97289613601920\n"
          ]
        }
      ]
    },
    {
      "cell_type": "code",
      "source": [
        "for cur in [a,b,c,d]:\n",
        "  print(get_tensor_info(cur))\n",
        "  print('------------------')"
      ],
      "metadata": {
        "colab": {
          "base_uri": "https://localhost:8080/"
        },
        "id": "fVLEs6GIc28V",
        "outputId": "51fab95b-bfd1-4ad4-c670-37240debd395"
      },
      "execution_count": null,
      "outputs": [
        {
          "output_type": "stream",
          "name": "stdout",
          "text": [
            "requires_grad(True) is_leaf(True) retains_grad(False) grad_fn(None) grad(tensor([0., 0., 0., 0., 0., 0., 0., 0., 0., 0., 0., 0.])) \n",
            "tensortensor([0.1626, 0.9822, 0.2067, 0.1984, 0.9416, 0.1689, 0.1334, 0.5366, 0.0221,\n",
            "        0.3833, 0.4915, 0.3701], requires_grad=True)\n",
            "------------------\n",
            "requires_grad(True) is_leaf(False) retains_grad(True) grad_fn(<MulBackward0 object at 0x7800cad46830>) grad(tensor([0., 0., 0., 0., 0., 0., 0., 0., 0., 0., 0., 0.])) \n",
            "tensortensor([0.3253, 1.9644, 0.4135, 0.3967, 1.8832, 0.3378, 0.2667, 1.0731, 0.0443,\n",
            "        0.7666, 0.9831, 0.7402], grad_fn=<MulBackward0>)\n",
            "------------------\n",
            "requires_grad(True) is_leaf(False) retains_grad(True) grad_fn(<MulBackward0 object at 0x7800c8c08070>) grad(tensor([0., 0., 0., 0., 0., 0., 0., 0., 0., 0., 0., 0.])) \n",
            "tensortensor([100.0000,   5.8931,   1.2404,   1.1902,   5.6497,   1.0134,   0.8002,\n",
            "          3.2194,   0.1328,   2.2997,   2.9492,   2.2205],\n",
            "       grad_fn=<MulBackward0>)\n",
            "------------------\n",
            "requires_grad(True) is_leaf(False) retains_grad(True) grad_fn(<MulBackward0 object at 0x7800cad46aa0>) grad(tensor([0., 0., 0., 0., 0., 0., 0., 0., 0., 0., 0., 0.])) \n",
            "tensortensor([ 1.9515, 11.7862,  2.4808,  2.3805, 11.2995,  2.0267,  1.6005,  6.4389,\n",
            "         0.2655,  4.5994,  5.8984,  4.4411], grad_fn=<MulBackward0>)\n",
            "------------------\n"
          ]
        }
      ]
    },
    {
      "cell_type": "markdown",
      "source": [
        "# Find maximum and minimum from tensor"
      ],
      "metadata": {
        "id": "yy09C5mMdFrC"
      }
    },
    {
      "cell_type": "code",
      "source": [
        "rng = np.random.default_rng(seed=23)\n",
        "ori = rng.random((3,2)).astype(np.float32)\n",
        "print(ori)\n",
        "\n",
        "a_np = ori.copy()\n",
        "a_torch = torch.tensor(ori)\n",
        "a_tf = tf.Variable(ori)"
      ],
      "metadata": {
        "colab": {
          "base_uri": "https://localhost:8080/"
        },
        "id": "Pxu_CEqbdJsG",
        "outputId": "c6b97a83-8684-4239-cc17-d90ed901f4aa"
      },
      "execution_count": null,
      "outputs": [
        {
          "output_type": "stream",
          "name": "stdout",
          "text": [
            "[[0.69393307 0.6414582 ]\n",
            " [0.12864423 0.11370805]\n",
            " [0.6533455  0.8534571 ]]\n"
          ]
        }
      ]
    },
    {
      "cell_type": "markdown",
      "source": [
        "## NumPy\n",
        "- np.max 와 np.min 함수를 이용하여 최대, 최소인 값을 구함.\n",
        "- 특정 축을 axis parameter로 지정하여 구할 수 있음 (결과는 해당 axis가 1이 됨.)\n",
        "- np.argmax 와 np.argmin 함수를 이용하여 최대, 최소인 값의 index를 반환함."
      ],
      "metadata": {
        "id": "VfzMM9x7dRKo"
      }
    },
    {
      "cell_type": "code",
      "source": [
        "print(\"max\")\n",
        "print(np.max(a_np)) # 전체\n",
        "print(np.max(a_np, 0)) # row\n",
        "print(np.max(a_np, 1)) # column\n",
        "\n",
        "print(\"\\nmin\")\n",
        "print(np.min(a_np)) # 전체\n",
        "print(np.min(a_np, 0)) # row\n",
        "print(np.min(a_np, 1)) # column\n",
        "\n",
        "print(\"\\nargmax\")\n",
        "print(np.argmax(a_np)) # 전체\n",
        "print(np.argmax(a_np, 0)) # row\n",
        "print(np.argmax(a_np, 1)) # column\n",
        "\n",
        "print(\"\\nargmin\")\n",
        "print(np.argmin(a_np)) # 전체\n",
        "print(np.argmin(a_np, 0)) # row\n",
        "print(np.argmin(a_np, 1)) # column"
      ],
      "metadata": {
        "colab": {
          "base_uri": "https://localhost:8080/"
        },
        "id": "Bj7DHPWtdRu-",
        "outputId": "1d96da00-1ee9-42a8-f199-e099f52401f0"
      },
      "execution_count": null,
      "outputs": [
        {
          "output_type": "stream",
          "name": "stdout",
          "text": [
            "max\n",
            "0.8534571\n",
            "[0.69393307 0.8534571 ]\n",
            "[0.69393307 0.12864423 0.8534571 ]\n",
            "\n",
            "min\n",
            "0.11370805\n",
            "[0.12864423 0.11370805]\n",
            "[0.6414582  0.11370805 0.6533455 ]\n",
            "\n",
            "argmax\n",
            "5\n",
            "[0 2]\n",
            "[0 0 1]\n",
            "\n",
            "argmin\n",
            "3\n",
            "[1 1]\n",
            "[1 1 0]\n"
          ]
        }
      ]
    },
    {
      "cell_type": "markdown",
      "source": [
        "## PyTorch\n",
        "\n",
        "`torch.max`와 `torch.min` 함수를 사용하여 최대값과 최소값을 구함.\n",
        "\n",
        "- 특정 축을 `dim` parameter로 지정하여 구할 수 있음.\n",
        "- 특정 축을 지정할 경우, `torch.max`와 `torch.min`은 indices를 같이 반환함.\n",
        "- `torch.argmax` 와 `torch.argmin` 함수를 이용하여 최대, 최소값의 indices를 반환함."
      ],
      "metadata": {
        "id": "EpvXE8YVdTaP"
      }
    },
    {
      "cell_type": "code",
      "source": [
        "print(\"max\")\n",
        "print(torch.max(a_torch)) # 축을 지정하지 않으면 값만 반환\n",
        "print(torch.max(a_torch, 0)) # row\n",
        "print(torch.max(a_torch, 1)) # column\n",
        "\n",
        "print(\"\\nmin\")\n",
        "print(torch.min(a_torch)) # 축을 지정하지 않으면 값만 반환\n",
        "print(torch.min(a_torch, 0)) # row\n",
        "print(torch.min(a_torch, 1)) # column\n",
        "\n",
        "print(\"\\nargmax\")\n",
        "print(torch.argmax(a_torch)) # 축을 지정하지 않으면 값만 반환\n",
        "print(torch.argmax(a_torch, 0)) # row\n",
        "print(torch.argmax(a_torch, 1)) # column\n",
        "\n",
        "print(\"\\nargmin\")\n",
        "print(torch.argmin(a_torch)) # 축을 지정하지 않으면 값만 반환\n",
        "print(torch.argmin(a_torch, 0)) # row\n",
        "print(torch.argmin(a_torch, 1)) # column"
      ],
      "metadata": {
        "colab": {
          "base_uri": "https://localhost:8080/"
        },
        "id": "k2zeMfbjdU4c",
        "outputId": "3ecba5b7-1254-49ec-a3cc-e1af523f6089"
      },
      "execution_count": null,
      "outputs": [
        {
          "output_type": "stream",
          "name": "stdout",
          "text": [
            "max\n",
            "tensor(0.8535)\n",
            "torch.return_types.max(\n",
            "values=tensor([0.6939, 0.8535]),\n",
            "indices=tensor([0, 2]))\n",
            "torch.return_types.max(\n",
            "values=tensor([0.6939, 0.1286, 0.8535]),\n",
            "indices=tensor([0, 0, 1]))\n",
            "\n",
            "min\n",
            "tensor(0.1137)\n",
            "torch.return_types.min(\n",
            "values=tensor([0.1286, 0.1137]),\n",
            "indices=tensor([1, 1]))\n",
            "torch.return_types.min(\n",
            "values=tensor([0.6415, 0.1137, 0.6533]),\n",
            "indices=tensor([1, 1, 0]))\n",
            "\n",
            "argmax\n",
            "tensor(5)\n",
            "tensor([0, 2])\n",
            "tensor([0, 0, 1])\n",
            "\n",
            "argmin\n",
            "tensor(3)\n",
            "tensor([1, 1])\n",
            "tensor([1, 1, 0])\n"
          ]
        }
      ]
    },
    {
      "cell_type": "markdown",
      "source": [
        "## TensorFlow\n",
        "\n",
        "`tf.reduce_max`와 `tf.reduce_min` 함수를 사용하여 최대값과 최소값을 구함.\n",
        "\n",
        "- 특정 축을 따라 구할 경우엔, `axis` parameter로 지정.\n",
        "- torch.argmax 와 torch.argmin 함수를 이용하여 최대, 최소값의 indices를 반환함."
      ],
      "metadata": {
        "id": "OPEnKyG7dWsy"
      }
    },
    {
      "cell_type": "code",
      "source": [
        "print(\"max\")\n",
        "print(tf.reduce_max(a_tf)) # 전체\n",
        "print(tf.reduce_max(a_tf, 0))\n",
        "print(tf.reduce_max(a_tf, 1))\n",
        "\n",
        "print(\"\\nmin\")\n",
        "print(tf.reduce_min(a_tf))\n",
        "print(tf.reduce_min(a_tf, 0))\n",
        "print(tf.reduce_min(a_tf, 1))\n",
        "\n",
        "print(\"\\nargmax\")\n",
        "print(tf.argmax(a_tf))\n",
        "print(tf.argmax(a_tf, 0))\n",
        "print(tf.argmax(a_tf, 1))\n",
        "\n",
        "print(\"\\nargmin\")\n",
        "print(tf.argmin(a_tf))\n",
        "print(tf.argmin(a_tf, 0))\n",
        "print(tf.argmin(a_tf, 1))"
      ],
      "metadata": {
        "colab": {
          "base_uri": "https://localhost:8080/"
        },
        "id": "tO5jQ3o_dX6F",
        "outputId": "5c2b0093-f66b-4e1b-ed4a-42bb85e862cf"
      },
      "execution_count": null,
      "outputs": [
        {
          "output_type": "stream",
          "name": "stdout",
          "text": [
            "max\n",
            "tf.Tensor(0.8534571, shape=(), dtype=float32)\n",
            "tf.Tensor([0.69393307 0.8534571 ], shape=(2,), dtype=float32)\n",
            "tf.Tensor([0.69393307 0.12864423 0.8534571 ], shape=(3,), dtype=float32)\n",
            "\n",
            "min\n",
            "tf.Tensor(0.11370805, shape=(), dtype=float32)\n",
            "tf.Tensor([0.12864423 0.11370805], shape=(2,), dtype=float32)\n",
            "tf.Tensor([0.6414582  0.11370805 0.6533455 ], shape=(3,), dtype=float32)\n",
            "\n",
            "argmax\n",
            "tf.Tensor([0 2], shape=(2,), dtype=int64)\n",
            "tf.Tensor([0 2], shape=(2,), dtype=int64)\n",
            "tf.Tensor([0 0 1], shape=(3,), dtype=int64)\n",
            "\n",
            "argmin\n",
            "tf.Tensor([1 1], shape=(2,), dtype=int64)\n",
            "tf.Tensor([1 1], shape=(2,), dtype=int64)\n",
            "tf.Tensor([1 1 0], shape=(3,), dtype=int64)\n"
          ]
        }
      ]
    },
    {
      "cell_type": "code",
      "source": [
        "a_np = rng.random((2,2,3)).astype(np.float32)\n",
        "a_np"
      ],
      "metadata": {
        "colab": {
          "base_uri": "https://localhost:8080/"
        },
        "id": "Pq9CDcUHdbFa",
        "outputId": "2f602497-97a0-472e-9369-d0e05deebf83"
      },
      "execution_count": null,
      "outputs": [
        {
          "output_type": "execute_result",
          "data": {
            "text/plain": [
              "array([[[0.20177913, 0.21801864, 0.7165846 ],\n",
              "        [0.47069967, 0.41522193, 0.3491478 ]],\n",
              "\n",
              "       [[0.06385376, 0.45466617, 0.3014533 ],\n",
              "        [0.38907674, 0.5402978 , 0.6835897 ]]], dtype=float32)"
            ]
          },
          "metadata": {},
          "execution_count": 38
        }
      ]
    },
    {
      "cell_type": "code",
      "source": [
        "a = torch.tensor(a_np)\n",
        "m = torch.max(a,2)\n",
        "print(m[0].shape)\n",
        "print(m[1].shape)\n",
        "m"
      ],
      "metadata": {
        "colab": {
          "base_uri": "https://localhost:8080/"
        },
        "id": "obIlOpnWdc4r",
        "outputId": "3175ff71-d138-45ea-dc22-502357465f1e"
      },
      "execution_count": null,
      "outputs": [
        {
          "output_type": "stream",
          "name": "stdout",
          "text": [
            "torch.Size([2, 2])\n",
            "torch.Size([2, 2])\n"
          ]
        },
        {
          "output_type": "execute_result",
          "data": {
            "text/plain": [
              "torch.return_types.max(\n",
              "values=tensor([[0.7166, 0.4707],\n",
              "        [0.4547, 0.6836]]),\n",
              "indices=tensor([[2, 0],\n",
              "        [1, 2]]))"
            ]
          },
          "metadata": {},
          "execution_count": 39
        }
      ]
    },
    {
      "cell_type": "code",
      "source": [
        "m = torch.max(a,1)\n",
        "print(m[0].shape, m[1].shape)\n",
        "m"
      ],
      "metadata": {
        "colab": {
          "base_uri": "https://localhost:8080/"
        },
        "id": "8-Gto9vuddry",
        "outputId": "e3803e54-4f1c-4c58-a6cf-03e7d6eae93e"
      },
      "execution_count": null,
      "outputs": [
        {
          "output_type": "stream",
          "name": "stdout",
          "text": [
            "torch.Size([2, 3]) torch.Size([2, 3])\n"
          ]
        },
        {
          "output_type": "execute_result",
          "data": {
            "text/plain": [
              "torch.return_types.max(\n",
              "values=tensor([[0.4707, 0.4152, 0.7166],\n",
              "        [0.3891, 0.5403, 0.6836]]),\n",
              "indices=tensor([[1, 1, 0],\n",
              "        [1, 1, 1]]))"
            ]
          },
          "metadata": {},
          "execution_count": 40
        }
      ]
    },
    {
      "cell_type": "code",
      "source": [
        "a_p = torch.permute(a, [0,2,1])\n",
        "a_p"
      ],
      "metadata": {
        "colab": {
          "base_uri": "https://localhost:8080/"
        },
        "id": "-scwyDC-deeF",
        "outputId": "864a76cf-1a2d-4db0-d4bb-3941b7758233"
      },
      "execution_count": null,
      "outputs": [
        {
          "output_type": "execute_result",
          "data": {
            "text/plain": [
              "tensor([[[0.2018, 0.4707],\n",
              "         [0.2180, 0.4152],\n",
              "         [0.7166, 0.3491]],\n",
              "\n",
              "        [[0.0639, 0.3891],\n",
              "         [0.4547, 0.5403],\n",
              "         [0.3015, 0.6836]]])"
            ]
          },
          "metadata": {},
          "execution_count": 41
        }
      ]
    }
  ]
}