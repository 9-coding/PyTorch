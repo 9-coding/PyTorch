{
  "nbformat": 4,
  "nbformat_minor": 0,
  "metadata": {
    "colab": {
      "provenance": [],
      "include_colab_link": true
    },
    "kernelspec": {
      "name": "python3",
      "display_name": "Python 3"
    },
    "language_info": {
      "name": "python"
    }
  },
  "cells": [
    {
      "cell_type": "markdown",
      "metadata": {
        "id": "view-in-github",
        "colab_type": "text"
      },
      "source": [
        "<a href=\"https://colab.research.google.com/github/9-coding/PyTorch/blob/main/Lecture-AI_programming/week02.ipynb\" target=\"_parent\"><img src=\"https://colab.research.google.com/assets/colab-badge.svg\" alt=\"Open In Colab\"/></a>"
      ]
    },
    {
      "cell_type": "markdown",
      "source": [
        "### Unboxed type\n",
        "-  할당된 메모리 bit들이 해당 numeric data type의 특정 값을 표현하는데 다 사용되고 해당 type이 고유의 meta data나 method등을 가지고 있지 않음\n",
        "\n",
        "### Boxed type\n",
        "- 값을 저장하는 메모리 bit 이외에\n",
        "- 가지고 있는 값에 대한 meta data\n",
        "- meta data를 처리할 수 있는 method 가지고 있음.\n",
        "\n",
        "<br>\n",
        "<br>\n",
        "https://dsaint31.tistory.com/456\n",
        "\n"
      ],
      "metadata": {
        "id": "wQWvvO4ifyWB"
      }
    },
    {
      "cell_type": "code",
      "execution_count": null,
      "metadata": {
        "id": "_q1GQv8hfjQd"
      },
      "outputs": [],
      "source": [
        "import numpy as np\n",
        "import torch\n",
        "import tensorflow as tf"
      ]
    },
    {
      "cell_type": "code",
      "source": [
        "for c in [np, torch, tf]:\n",
        "  print(c.__name__, c.__version__)\n",
        "\n",
        "# 사용하고 있는 프레임워크의 버전을 남겨놓는 것은 좋은 습관."
      ],
      "metadata": {
        "colab": {
          "base_uri": "https://localhost:8080/"
        },
        "id": "081ZdvKzi4zO",
        "outputId": "36568239-a1de-44c1-b00b-f08ee7df67fd"
      },
      "execution_count": null,
      "outputs": [
        {
          "output_type": "stream",
          "name": "stdout",
          "text": [
            "numpy 1.25.2\n",
            "torch 2.2.1+cu121\n",
            "tensorflow 2.15.0\n"
          ]
        }
      ]
    },
    {
      "cell_type": "markdown",
      "source": [
        "# Tensor 간 변환\n",
        "## From list(built-in) to tensor (numpy, tf, torch)"
      ],
      "metadata": {
        "id": "GjpIpKYanmn2"
      }
    },
    {
      "cell_type": "code",
      "source": [
        "ori = [1,2,3,4]\n",
        "a_np = np.array(ori)\n",
        "a_torch = torch.tensor(ori)\n",
        "a_tf = tf.constant(ori)\n",
        "\n",
        "print(a_np)\n",
        "print(a_torch)\n",
        "print(a_tf)"
      ],
      "metadata": {
        "colab": {
          "base_uri": "https://localhost:8080/"
        },
        "id": "7X1llfKkjFKp",
        "outputId": "5f14e429-b877-4b44-9adf-c0feb7021256"
      },
      "execution_count": null,
      "outputs": [
        {
          "output_type": "stream",
          "name": "stdout",
          "text": [
            "[1 2 3 4]\n",
            "tensor([1, 2, 3, 4])\n",
            "tf.Tensor([1 2 3 4], shape=(4,), dtype=int32)\n"
          ]
        }
      ]
    },
    {
      "cell_type": "code",
      "source": [
        "t = (1,2,3,4)\n",
        "\n",
        "a_np = np.array(t)\n",
        "a_torch = torch.tensor(t)\n",
        "a_tf = tf.constant(t)\n",
        "\n",
        "print(a_np)\n",
        "print(a_torch)\n",
        "print(a_tf)"
      ],
      "metadata": {
        "colab": {
          "base_uri": "https://localhost:8080/"
        },
        "id": "WsmQ_AudqECJ",
        "outputId": "37c31a26-a648-4ea6-a8fd-1e4a6d044f83"
      },
      "execution_count": null,
      "outputs": [
        {
          "output_type": "stream",
          "name": "stdout",
          "text": [
            "[1 2 3 4]\n",
            "tensor([1, 2, 3, 4])\n",
            "tf.Tensor([1 2 3 4], shape=(4,), dtype=int32)\n"
          ]
        }
      ]
    },
    {
      "cell_type": "code",
      "source": [
        "print(a_np.__repr__())\n",
        "print(a_np.__str__())\n",
        "print((7.0).__repr__())\n",
        "print(dir(7.0))"
      ],
      "metadata": {
        "colab": {
          "base_uri": "https://localhost:8080/"
        },
        "id": "oMTD-qxRjV-o",
        "outputId": "559e0cae-df14-4335-b8bd-69ff3484c73f"
      },
      "execution_count": null,
      "outputs": [
        {
          "output_type": "stream",
          "name": "stdout",
          "text": [
            "array([1, 2, 3, 4])\n",
            "[1 2 3 4]\n",
            "7.0\n",
            "['__abs__', '__add__', '__bool__', '__ceil__', '__class__', '__delattr__', '__dir__', '__divmod__', '__doc__', '__eq__', '__float__', '__floor__', '__floordiv__', '__format__', '__ge__', '__getattribute__', '__getformat__', '__getnewargs__', '__gt__', '__hash__', '__init__', '__init_subclass__', '__int__', '__le__', '__lt__', '__mod__', '__mul__', '__ne__', '__neg__', '__new__', '__pos__', '__pow__', '__radd__', '__rdivmod__', '__reduce__', '__reduce_ex__', '__repr__', '__rfloordiv__', '__rmod__', '__rmul__', '__round__', '__rpow__', '__rsub__', '__rtruediv__', '__setattr__', '__setformat__', '__sizeof__', '__str__', '__sub__', '__subclasshook__', '__truediv__', '__trunc__', 'as_integer_ratio', 'conjugate', 'fromhex', 'hex', 'imag', 'is_integer', 'real']\n"
          ]
        }
      ]
    },
    {
      "cell_type": "markdown",
      "source": [
        "## From tensor(tf, torch) to ndarray(numpy)\n",
        "- torch를 통해 얻은 ndarray 인스턴스는 원래의 tensor와 연결된 상태.\n",
        "- 한 쪽에서 data 변경이 있을 경우 다른 쪽에도 영향을 줌. --> device=\"cpu\" 한정"
      ],
      "metadata": {
        "id": "x507vxKBqMuL"
      }
    },
    {
      "cell_type": "code",
      "source": [
        "# torch\n",
        "\n",
        "b_np = a_torch.numpy()\n",
        "print(b_np)\n",
        "\n",
        "b_np[2] = 777\n",
        "print(b_np)\n",
        "print(a_torch) # b_np에서 바꾼 값이 a_torch에도 영향.\n",
        "\n",
        "a_torch[3] = 888\n",
        "print(b_np) # a_torch에서 바꾼 값이 b_np에도 영향."
      ],
      "metadata": {
        "colab": {
          "base_uri": "https://localhost:8080/"
        },
        "id": "slUKofHpjp0k",
        "outputId": "869d44b1-0817-406b-c435-10417b1c9825"
      },
      "execution_count": null,
      "outputs": [
        {
          "output_type": "stream",
          "name": "stdout",
          "text": [
            "[1 2 3 4]\n",
            "[  1   2 777   4]\n",
            "tensor([  1,   2, 777,   4])\n",
            "[  1   2 777 888]\n"
          ]
        }
      ]
    },
    {
      "cell_type": "code",
      "source": [
        "a_torch = torch.tensor(t)\n",
        "print(a_torch)\n",
        "a_copy = a_torch.numpy().copy()\n",
        "a_copy[0] = 999\n",
        "print(a_copy)\n",
        "print(a_torch)"
      ],
      "metadata": {
        "colab": {
          "base_uri": "https://localhost:8080/"
        },
        "id": "-ZBcm_fZS8P6",
        "outputId": "dcd84dd8-7b4b-4c31-807f-8049b6b2cebb"
      },
      "execution_count": null,
      "outputs": [
        {
          "output_type": "stream",
          "name": "stdout",
          "text": [
            "tensor([1, 2, 3, 4])\n",
            "[999   2   3   4]\n",
            "tensor([1, 2, 3, 4])\n"
          ]
        }
      ]
    },
    {
      "cell_type": "code",
      "source": [
        "# tensorflow\n",
        "\n",
        "b_np = a_tf.numpy()\n",
        "print(b_np)\n",
        "\n",
        "b_np[2] = 777\n",
        "print(b_np)\n",
        "print(a_tf) # b_np에서 바꾼 값이 a_tf에 영향을 주지 않음."
      ],
      "metadata": {
        "colab": {
          "base_uri": "https://localhost:8080/"
        },
        "id": "wgYNaeqqRFB-",
        "outputId": "51b5a068-d31f-4a43-a8e6-f8ff80a3d1f0"
      },
      "execution_count": null,
      "outputs": [
        {
          "output_type": "stream",
          "name": "stdout",
          "text": [
            "[1 2 3 4]\n",
            "[  1   2 777   4]\n",
            "tf.Tensor([1 2 3 4], shape=(4,), dtype=int32)\n"
          ]
        }
      ]
    },
    {
      "cell_type": "markdown",
      "source": [
        "## From ndarray to tensor\n",
        "- numpy로 생성된 ndarray를 tensor로 옮기면 값을 바꿨을 때 numpy array는 값이 변경되지 않음."
      ],
      "metadata": {
        "id": "E_2r9Yd1mGpO"
      }
    },
    {
      "cell_type": "code",
      "source": [
        "t = (1,2,3,4)\n",
        "\n",
        "a_np = np.array(t)\n",
        "a_torch = torch.tensor(a_np)\n",
        "b_torch = torch.from_numpy(a_np)\n",
        "a_tf = tf.constant(a_np)\n",
        "b_tf = tf.convert_to_tensor(a_np)\n",
        "\n",
        "print(a_np)\n",
        "print(a_torch)\n",
        "print(b_torch)\n",
        "print(a_tf)\n",
        "print(b_tf)"
      ],
      "metadata": {
        "colab": {
          "base_uri": "https://localhost:8080/"
        },
        "id": "NPwU79NumpbN",
        "outputId": "a4a7ec08-3696-455c-8d3a-4ef78555b6ad"
      },
      "execution_count": null,
      "outputs": [
        {
          "output_type": "stream",
          "name": "stdout",
          "text": [
            "[1 2 3 4]\n",
            "tensor([1, 2, 3, 4])\n",
            "tensor([1, 2, 3, 4])\n",
            "tf.Tensor([1 2 3 4], shape=(4,), dtype=int64)\n",
            "tf.Tensor([1 2 3 4], shape=(4,), dtype=int64)\n"
          ]
        }
      ]
    },
    {
      "cell_type": "code",
      "source": [
        "a_torch[2] = 777\n",
        "print(a_torch)\n",
        "print(a_np) # torch.tensor로 얻은 a_torch의 값을 바꿔도 a_np에 영향 없음.\n",
        "\n",
        "b_torch[2] = 777\n",
        "print(b_torch)\n",
        "print(a_np) # torch.from_numpy로 얻은 a_torch의 값을 바꾸면 a_np에 영향."
      ],
      "metadata": {
        "colab": {
          "base_uri": "https://localhost:8080/"
        },
        "id": "uj3fqYfvXdS8",
        "outputId": "2a9f880b-ac06-4f47-fd3f-d92a2dc8ec4c"
      },
      "execution_count": null,
      "outputs": [
        {
          "output_type": "stream",
          "name": "stdout",
          "text": [
            "tensor([  1,   2, 777,   4])\n",
            "[1 2 3 4]\n",
            "tensor([  1,   2, 777,   4])\n",
            "[  1   2 777   4]\n"
          ]
        }
      ]
    },
    {
      "cell_type": "code",
      "source": [
        "# np 값 변환 후 torch 확인.\n",
        "a_np = np.array(t) # 초기화\n",
        "print(a_np)\n",
        "a_np[2] = 777\n",
        "print(a_np)\n",
        "print(a_torch)\n",
        "print(b_torch) # 얻은 방식과 상관없이 a_np의 값을 바꿔도 tf에는 영향 없음."
      ],
      "metadata": {
        "colab": {
          "base_uri": "https://localhost:8080/"
        },
        "id": "ulG5rlOXYeRj",
        "outputId": "61d8d507-c32c-4ab3-867d-8c7f0dd8546a"
      },
      "execution_count": null,
      "outputs": [
        {
          "output_type": "stream",
          "name": "stdout",
          "text": [
            "[1 2 3 4]\n",
            "[  1   2 777   4]\n",
            "tensor([  1,   2, 777,   4])\n",
            "tensor([  1,   2, 777,   4])\n"
          ]
        }
      ]
    },
    {
      "cell_type": "code",
      "source": [
        "# tf값 변환 후 np 확인\n",
        "\n",
        "print(a_tf)\n",
        "a_tf = tf.tensor_scatter_nd_update(a_tf, tf.constant([[2]]), tf.constant([[777]]))\n",
        "print(a_tf)"
      ],
      "metadata": {
        "colab": {
          "base_uri": "https://localhost:8080/",
          "height": 436
        },
        "id": "RfsG7kNEZuhq",
        "outputId": "292ccb3e-b4d5-4b71-dadc-86b9e9bc7e29"
      },
      "execution_count": null,
      "outputs": [
        {
          "output_type": "stream",
          "name": "stdout",
          "text": [
            "tf.Tensor([1 2 3 4], shape=(4,), dtype=int64)\n"
          ]
        },
        {
          "output_type": "error",
          "ename": "InvalidArgumentError",
          "evalue": "cannot compute TensorScatterUpdate as input #2(zero-based) was expected to be a int64 tensor but is a int32 tensor [Op:TensorScatterUpdate] name: ",
          "traceback": [
            "\u001b[0;31m---------------------------------------------------------------------------\u001b[0m",
            "\u001b[0;31mInvalidArgumentError\u001b[0m                      Traceback (most recent call last)",
            "\u001b[0;32m<ipython-input-30-721906dc5df7>\u001b[0m in \u001b[0;36m<cell line: 4>\u001b[0;34m()\u001b[0m\n\u001b[1;32m      2\u001b[0m \u001b[0;34m\u001b[0m\u001b[0m\n\u001b[1;32m      3\u001b[0m \u001b[0mprint\u001b[0m\u001b[0;34m(\u001b[0m\u001b[0ma_tf\u001b[0m\u001b[0;34m)\u001b[0m\u001b[0;34m\u001b[0m\u001b[0;34m\u001b[0m\u001b[0m\n\u001b[0;32m----> 4\u001b[0;31m \u001b[0ma_tf\u001b[0m \u001b[0;34m=\u001b[0m \u001b[0mtf\u001b[0m\u001b[0;34m.\u001b[0m\u001b[0mtensor_scatter_nd_update\u001b[0m\u001b[0;34m(\u001b[0m\u001b[0ma_tf\u001b[0m\u001b[0;34m,\u001b[0m \u001b[0mtf\u001b[0m\u001b[0;34m.\u001b[0m\u001b[0mconstant\u001b[0m\u001b[0;34m(\u001b[0m\u001b[0;34m[\u001b[0m\u001b[0;34m[\u001b[0m\u001b[0;36m2\u001b[0m\u001b[0;34m]\u001b[0m\u001b[0;34m]\u001b[0m\u001b[0;34m)\u001b[0m\u001b[0;34m,\u001b[0m \u001b[0mtf\u001b[0m\u001b[0;34m.\u001b[0m\u001b[0mconstant\u001b[0m\u001b[0;34m(\u001b[0m\u001b[0;34m[\u001b[0m\u001b[0;34m[\u001b[0m\u001b[0;36m777\u001b[0m\u001b[0;34m]\u001b[0m\u001b[0;34m]\u001b[0m\u001b[0;34m)\u001b[0m\u001b[0;34m)\u001b[0m\u001b[0;34m\u001b[0m\u001b[0;34m\u001b[0m\u001b[0m\n\u001b[0m\u001b[1;32m      5\u001b[0m \u001b[0mprint\u001b[0m\u001b[0;34m(\u001b[0m\u001b[0ma_tf\u001b[0m\u001b[0;34m)\u001b[0m\u001b[0;34m\u001b[0m\u001b[0;34m\u001b[0m\u001b[0m\n",
            "\u001b[0;32m/usr/local/lib/python3.10/dist-packages/tensorflow/python/util/traceback_utils.py\u001b[0m in \u001b[0;36merror_handler\u001b[0;34m(*args, **kwargs)\u001b[0m\n\u001b[1;32m    151\u001b[0m     \u001b[0;32mexcept\u001b[0m \u001b[0mException\u001b[0m \u001b[0;32mas\u001b[0m \u001b[0me\u001b[0m\u001b[0;34m:\u001b[0m\u001b[0;34m\u001b[0m\u001b[0;34m\u001b[0m\u001b[0m\n\u001b[1;32m    152\u001b[0m       \u001b[0mfiltered_tb\u001b[0m \u001b[0;34m=\u001b[0m \u001b[0m_process_traceback_frames\u001b[0m\u001b[0;34m(\u001b[0m\u001b[0me\u001b[0m\u001b[0;34m.\u001b[0m\u001b[0m__traceback__\u001b[0m\u001b[0;34m)\u001b[0m\u001b[0;34m\u001b[0m\u001b[0;34m\u001b[0m\u001b[0m\n\u001b[0;32m--> 153\u001b[0;31m       \u001b[0;32mraise\u001b[0m \u001b[0me\u001b[0m\u001b[0;34m.\u001b[0m\u001b[0mwith_traceback\u001b[0m\u001b[0;34m(\u001b[0m\u001b[0mfiltered_tb\u001b[0m\u001b[0;34m)\u001b[0m \u001b[0;32mfrom\u001b[0m \u001b[0;32mNone\u001b[0m\u001b[0;34m\u001b[0m\u001b[0;34m\u001b[0m\u001b[0m\n\u001b[0m\u001b[1;32m    154\u001b[0m     \u001b[0;32mfinally\u001b[0m\u001b[0;34m:\u001b[0m\u001b[0;34m\u001b[0m\u001b[0;34m\u001b[0m\u001b[0m\n\u001b[1;32m    155\u001b[0m       \u001b[0;32mdel\u001b[0m \u001b[0mfiltered_tb\u001b[0m\u001b[0;34m\u001b[0m\u001b[0;34m\u001b[0m\u001b[0m\n",
            "\u001b[0;32m/usr/local/lib/python3.10/dist-packages/tensorflow/python/framework/ops.py\u001b[0m in \u001b[0;36mraise_from_not_ok_status\u001b[0;34m(e, name)\u001b[0m\n\u001b[1;32m   5881\u001b[0m \u001b[0;32mdef\u001b[0m \u001b[0mraise_from_not_ok_status\u001b[0m\u001b[0;34m(\u001b[0m\u001b[0me\u001b[0m\u001b[0;34m,\u001b[0m \u001b[0mname\u001b[0m\u001b[0;34m)\u001b[0m \u001b[0;34m->\u001b[0m \u001b[0mNoReturn\u001b[0m\u001b[0;34m:\u001b[0m\u001b[0;34m\u001b[0m\u001b[0;34m\u001b[0m\u001b[0m\n\u001b[1;32m   5882\u001b[0m   \u001b[0me\u001b[0m\u001b[0;34m.\u001b[0m\u001b[0mmessage\u001b[0m \u001b[0;34m+=\u001b[0m \u001b[0;34m(\u001b[0m\u001b[0;34m\" name: \"\u001b[0m \u001b[0;34m+\u001b[0m \u001b[0mstr\u001b[0m\u001b[0;34m(\u001b[0m\u001b[0mname\u001b[0m \u001b[0;32mif\u001b[0m \u001b[0mname\u001b[0m \u001b[0;32mis\u001b[0m \u001b[0;32mnot\u001b[0m \u001b[0;32mNone\u001b[0m \u001b[0;32melse\u001b[0m \u001b[0;34m\"\"\u001b[0m\u001b[0;34m)\u001b[0m\u001b[0;34m)\u001b[0m\u001b[0;34m\u001b[0m\u001b[0;34m\u001b[0m\u001b[0m\n\u001b[0;32m-> 5883\u001b[0;31m   \u001b[0;32mraise\u001b[0m \u001b[0mcore\u001b[0m\u001b[0;34m.\u001b[0m\u001b[0m_status_to_exception\u001b[0m\u001b[0;34m(\u001b[0m\u001b[0me\u001b[0m\u001b[0;34m)\u001b[0m \u001b[0;32mfrom\u001b[0m \u001b[0;32mNone\u001b[0m  \u001b[0;31m# pylint: disable=protected-access\u001b[0m\u001b[0;34m\u001b[0m\u001b[0;34m\u001b[0m\u001b[0m\n\u001b[0m\u001b[1;32m   5884\u001b[0m \u001b[0;34m\u001b[0m\u001b[0m\n\u001b[1;32m   5885\u001b[0m \u001b[0;34m\u001b[0m\u001b[0m\n",
            "\u001b[0;31mInvalidArgumentError\u001b[0m: cannot compute TensorScatterUpdate as input #2(zero-based) was expected to be a int64 tensor but is a int32 tensor [Op:TensorScatterUpdate] name: "
          ]
        }
      ]
    },
    {
      "cell_type": "code",
      "source": [
        "a_np[2] = 777\n",
        "print(a_np)\n",
        "print(a_tf)\n",
        "print(b_tf) # 얻은 방식과 상관없이 a_np의 값을 바꿔도 tf에는 영향 없음."
      ],
      "metadata": {
        "colab": {
          "base_uri": "https://localhost:8080/"
        },
        "id": "leaYii4lXfFV",
        "outputId": "b22e3084-dc2b-475a-b5ff-cce770eeed86"
      },
      "execution_count": null,
      "outputs": [
        {
          "output_type": "stream",
          "name": "stdout",
          "text": [
            "[  1   2 777   4]\n",
            "tf.Tensor([1 2 3 4], shape=(4,), dtype=int64)\n",
            "tf.Tensor([1 2 3 4], shape=(4,), dtype=int64)\n"
          ]
        }
      ]
    },
    {
      "cell_type": "markdown",
      "source": [
        "습관적으로 float32로 dtype을 변환."
      ],
      "metadata": {
        "id": "lCHq-xBLn0xp"
      }
    },
    {
      "cell_type": "markdown",
      "source": [
        "# dtype, shape 변경\n",
        "\n",
        "## dtype 변경\n",
        "바꾸는 원본 tensor인스턴스를 기반으로 원하는 dtype로 구성된 새로운 tensor인스턴스가 생성됨 (연결되지 않음)"
      ],
      "metadata": {
        "id": "ZiIHO3XCoBuU"
      }
    },
    {
      "cell_type": "code",
      "source": [
        "# numpy\n",
        "\n",
        "a = np.ones((3,3))\n",
        "b = np.uint8(a)\n",
        "c = a.astype('float32')\n",
        "print(c)\n",
        "\n",
        "print(id(a),a.dtype)\n",
        "print(id(b),b.dtype)\n",
        "print(id(c),c.dtype)"
      ],
      "metadata": {
        "colab": {
          "base_uri": "https://localhost:8080/"
        },
        "id": "GoSCBZ2doAoR",
        "outputId": "58cfcaad-64b7-4719-a107-552cae89fc16"
      },
      "execution_count": null,
      "outputs": [
        {
          "output_type": "stream",
          "name": "stdout",
          "text": [
            "[[1. 1. 1.]\n",
            " [1. 1. 1.]\n",
            " [1. 1. 1.]]\n",
            "135881498334128 float64\n",
            "135876225909648 uint8\n",
            "135876225909936 float32\n"
          ]
        }
      ]
    },
    {
      "cell_type": "code",
      "source": [
        "print(a_torch.dtype)\n",
        "print(a_torch.to(dtype = torch.float32)) # to: dtype을 어딘가로 보냄.\n",
        "print(a_torch.dtype)"
      ],
      "metadata": {
        "colab": {
          "base_uri": "https://localhost:8080/"
        },
        "id": "mf-zuf3-rQjf",
        "outputId": "684bf115-2ffe-42b6-8310-b8ccb2bcd8f6"
      },
      "execution_count": null,
      "outputs": [
        {
          "output_type": "stream",
          "name": "stdout",
          "text": [
            "torch.int64\n",
            "tensor([1., 2., 3., 4.])\n",
            "torch.int64\n"
          ]
        }
      ]
    },
    {
      "cell_type": "markdown",
      "source": [
        "자기 자신은 그대로 있고 새로 만들어준다는 느낌.<br>\n",
        "반환한 것을 출력. -> 새로 만들어서 출력<br>\n",
        "반환x -> 내부에서 변경."
      ],
      "metadata": {
        "id": "RSZsFB0Ar2kt"
      }
    },
    {
      "cell_type": "code",
      "source": [
        "ori = [3, 2, 1, 4]\n",
        "print(sorted(ori))\n",
        "ori = [3,2,1,4]\n",
        "print(ori)\n",
        "print(ori.sort()) # 내부적으로는 sort가 된 상태. 반환 값이 없기 때문에 None으로 출력됨. (삭제와 같음)\n",
        "print(ori)"
      ],
      "metadata": {
        "colab": {
          "base_uri": "https://localhost:8080/"
        },
        "id": "XWgS__gzsJIl",
        "outputId": "513f01e5-2af1-4bf7-e1bf-b0f5fc03c3f1"
      },
      "execution_count": null,
      "outputs": [
        {
          "output_type": "stream",
          "name": "stdout",
          "text": [
            "[1, 2, 3, 4]\n",
            "[3, 2, 1, 4]\n",
            "None\n",
            "[1, 2, 3, 4]\n"
          ]
        }
      ]
    },
    {
      "cell_type": "code",
      "source": [
        "# pytorch\n",
        "\n",
        "a_torch = torch.rand(3,4)\n",
        "b_torch = a_torch.to(torch.uint8) # 보통 데이터를 gpu 또는 cpu로 옮길 때 사용. 형 변환이 필요하기 때문에 함께 쓰임.\n",
        "c_torch = a_torch.type(torch.float64)\n",
        "\n",
        "print(a_torch)\n",
        "print(b_torch)\n",
        "print(c_torch)\n",
        "print()\n",
        "print(id(a_torch), a_torch.dtype)\n",
        "print(id(b_torch), b_torch.dtype)\n",
        "print(id(c_torch), c_torch.dtype)\n",
        "\n",
        "b_torch[0,1] = 9\n",
        "c_torch[0,0] = 1000\n",
        "print()\n",
        "print(a_torch)\n",
        "print(b_torch)\n",
        "print(c_torch)"
      ],
      "metadata": {
        "colab": {
          "base_uri": "https://localhost:8080/"
        },
        "id": "6QsUdMC3tdkn",
        "outputId": "4b59dd52-6c06-46c1-e427-4675a86b32f9"
      },
      "execution_count": null,
      "outputs": [
        {
          "output_type": "stream",
          "name": "stdout",
          "text": [
            "tensor([[0.5093, 0.8662, 0.4856, 0.8386],\n",
            "        [0.8164, 0.1564, 0.6892, 0.4811],\n",
            "        [0.3276, 0.8413, 0.3654, 0.6044]])\n",
            "tensor([[0, 0, 0, 0],\n",
            "        [0, 0, 0, 0],\n",
            "        [0, 0, 0, 0]], dtype=torch.uint8)\n",
            "tensor([[0.5093, 0.8662, 0.4856, 0.8386],\n",
            "        [0.8164, 0.1564, 0.6892, 0.4811],\n",
            "        [0.3276, 0.8413, 0.3654, 0.6044]], dtype=torch.float64)\n",
            "\n",
            "135876230685744 torch.float32\n",
            "135876225985776 torch.uint8\n",
            "135876095051952 torch.float64\n",
            "\n",
            "tensor([[0.5093, 0.8662, 0.4856, 0.8386],\n",
            "        [0.8164, 0.1564, 0.6892, 0.4811],\n",
            "        [0.3276, 0.8413, 0.3654, 0.6044]])\n",
            "tensor([[0, 9, 0, 0],\n",
            "        [0, 0, 0, 0],\n",
            "        [0, 0, 0, 0]], dtype=torch.uint8)\n",
            "tensor([[1.0000e+03, 8.6622e-01, 4.8556e-01, 8.3857e-01],\n",
            "        [8.1640e-01, 1.5637e-01, 6.8922e-01, 4.8105e-01],\n",
            "        [3.2765e-01, 8.4131e-01, 3.6541e-01, 6.0444e-01]], dtype=torch.float64)\n"
          ]
        }
      ]
    },
    {
      "cell_type": "code",
      "source": [
        "# tensorflow\n",
        "\n",
        "a_tf = tf.random.uniform(shape=(3,4))\n",
        "c_tf = tf.dtypes.cast(a_tf,tf.float64)\n",
        "print(c_tf)\n",
        "print(id(a_tf), a_tf.dtype)\n",
        "print(id(c_tf), c_tf.dtype)"
      ],
      "metadata": {
        "colab": {
          "base_uri": "https://localhost:8080/"
        },
        "id": "XEiIANmRtuzH",
        "outputId": "cd590047-97bb-48d1-b355-9903b9295ceb"
      },
      "execution_count": null,
      "outputs": [
        {
          "output_type": "stream",
          "name": "stdout",
          "text": [
            "tf.Tensor(\n",
            "[[0.20860517 0.63256061 0.29463625 0.15664852]\n",
            " [0.90784907 0.01899362 0.16536796 0.28680599]\n",
            " [0.56927335 0.41285229 0.85150659 0.43190277]], shape=(3, 4), dtype=float64)\n",
            "135876231081024 <dtype: 'float32'>\n",
            "135876231085600 <dtype: 'float64'>\n"
          ]
        }
      ]
    },
    {
      "cell_type": "markdown",
      "source": [
        "## shape 변경\n",
        "- shape는 tensor의 각 축의 크기를 나타내는 sequence type의 인스턴스임.\n",
        "- 즉, tensor의 크기와 형태를 나타냄.\n",
        "<br>\n",
        "\n",
        "### numpy\n",
        "- numpy.reshape(src_ndarray, desired_shape)\n",
        "- numpy.array.reshape(desired_shape)\n",
        "\n",
        "### pytorch\n",
        "- torch.reshape(src_tensor, desired_shape)\n",
        "- torch.tensor.reshape(desired_shape)\n",
        "\n",
        "### tensorflow\n",
        "- tensorflow.reshape(src_tensor, desired_shape)"
      ],
      "metadata": {
        "id": "hmZYYM5pstOY"
      }
    },
    {
      "cell_type": "markdown",
      "source": [
        "메모리가 contiguous해야 view를 만들 수 있음. <br>\n",
        "transpose는 행렬을 바꿔놓기 때문에\n",
        "일정하게 쭉 올라가던 메모리에서 순서가 꼬이게 됨.\n",
        "is_contiguous 사용하면 인접한지 확인할 수 있음.\n"
      ],
      "metadata": {
        "id": "B8dwfJ7HwUuz"
      }
    },
    {
      "cell_type": "code",
      "source": [
        "# numpy\n",
        "\n",
        "a = np.arange(0,10,1) # [ s:e :step_size]\n",
        "b = a.reshape((2,5))\n",
        "print(a.shape,id(a))\n",
        "print(b.shape,id(b))\n",
        "c = np.reshape(a,(5,2))\n",
        "print(c.shape,id(c))\n",
        "c[0,0] = 1000\n",
        "print(a)\n",
        "print(b)\n",
        "print(c)"
      ],
      "metadata": {
        "colab": {
          "base_uri": "https://localhost:8080/"
        },
        "id": "bNySSE4YxP8K",
        "outputId": "bddd2294-8306-4540-ca0d-447ce9a01ffa"
      },
      "execution_count": null,
      "outputs": [
        {
          "output_type": "stream",
          "name": "stdout",
          "text": [
            "(10,) 136772160408048\n",
            "(2, 5) 136772013527312\n",
            "(5, 2) 136772013524144\n",
            "[1000    1    2    3    4    5    6    7    8    9]\n",
            "[[1000    1    2    3    4]\n",
            " [   5    6    7    8    9]]\n",
            "[[1000    1]\n",
            " [   2    3]\n",
            " [   4    5]\n",
            " [   6    7]\n",
            " [   8    9]]\n"
          ]
        }
      ]
    },
    {
      "cell_type": "code",
      "source": [
        "# pytorch\n",
        "\n",
        "a_torch = torch.arange(0,10,1)\n",
        "b_torch = a_torch.reshape((2,5))\n",
        "print(a_torch.shape,id(a_torch))\n",
        "print(b_torch.shape,id(b_torch))\n",
        "c_torch = torch.reshape(a_torch,(5,2))\n",
        "print(c_torch.shape,id(c_torch))\n",
        "c_torch[0,0] = 1000\n",
        "\n",
        "print(a_torch)\n",
        "print(b_torch)\n",
        "print(c_torch)"
      ],
      "metadata": {
        "colab": {
          "base_uri": "https://localhost:8080/"
        },
        "id": "WRaC6YVIxiPB",
        "outputId": "d54991f7-6bc3-4fc0-f0d2-53c9ec8cec49"
      },
      "execution_count": null,
      "outputs": [
        {
          "output_type": "stream",
          "name": "stdout",
          "text": [
            "torch.Size([10]) 136772165436736\n",
            "torch.Size([2, 5]) 136772012777904\n",
            "torch.Size([5, 2]) 136772165954960\n",
            "tensor([1000,    1,    2,    3,    4,    5,    6,    7,    8,    9])\n",
            "tensor([[1000,    1,    2,    3,    4],\n",
            "        [   5,    6,    7,    8,    9]])\n",
            "tensor([[1000,    1],\n",
            "        [   2,    3],\n",
            "        [   4,    5],\n",
            "        [   6,    7],\n",
            "        [   8,    9]])\n"
          ]
        }
      ]
    },
    {
      "cell_type": "code",
      "source": [
        "# tensorflow\n",
        "\n",
        "a_tensor = tf.range(0,10,1)\n",
        "b_tensor = tf.reshape(a_tensor,(2,5))\n",
        "# b_tensor = a_tensor.reshape((2,5)) # not working\n",
        "print(a_tensor.shape,id(a_tensor))\n",
        "print(b_tensor.shape,id(b_tensor))\n",
        "\n",
        "c_tensor = tf.reshape(a_tensor,(5,2))\n",
        "print(c_tensor.shape,id(c_tensor))\n",
        "\n",
        "# 변경하고 싶은 위치와 값을 정의\n",
        "indices = tf.constant([[0, 0]]) # (2, 2) 위치를 변경하고자 함\n",
        "updates = tf.constant([999]) # 해당 위치에 넣고 싶은 값\n",
        "\n",
        "# 업데이트 적용\n",
        "c_tensor = tf.tensor_scatter_nd_update(c_tensor, indices, updates)\n",
        "\n",
        "print(a_tensor)\n",
        "print(b_tensor)\n",
        "print(c_tensor)"
      ],
      "metadata": {
        "colab": {
          "base_uri": "https://localhost:8080/"
        },
        "id": "bbbpKKpqylgh",
        "outputId": "65e5d6bb-347f-4171-f53d-c6fa42ce1179"
      },
      "execution_count": null,
      "outputs": [
        {
          "output_type": "stream",
          "name": "stdout",
          "text": [
            "(10,) 136777747448048\n",
            "(2, 5) 136772015015712\n",
            "(5, 2) 136772015028384\n",
            "tf.Tensor([0 1 2 3 4 5 6 7 8 9], shape=(10,), dtype=int32)\n",
            "tf.Tensor(\n",
            "[[0 1 2 3 4]\n",
            " [5 6 7 8 9]], shape=(2, 5), dtype=int32)\n",
            "tf.Tensor(\n",
            "[[999   1]\n",
            " [  2   3]\n",
            " [  4   5]\n",
            " [  6   7]\n",
            " [  8   9]], shape=(5, 2), dtype=int32)\n"
          ]
        }
      ]
    },
    {
      "cell_type": "markdown",
      "source": [
        "# Indexing / Slicing"
      ],
      "metadata": {
        "id": "tXurwg3Z0bFR"
      }
    },
    {
      "cell_type": "code",
      "source": [
        "a = np.arange(0, 12).reshape(3,4)\n",
        "\n",
        "print(a)\n",
        "print('===================')\n",
        "print(f'a[0] is \"{a[0]}\"')\n",
        "print(f'a[0, 2] is \"{a[0, 2]}\"')\n",
        "print(f'a[0][2] is \"{a[0][2]}\"')\n",
        "print('-------------------')\n",
        "print(f'a[1, 2:] is \"{a[1,2:]}\"')\n",
        "print(f'a[1, ::2] is \"{a[1,::2]}\"')\n",
        "print(f'a[1, ::-2] is \"{a[1,::-2]}\"')\n",
        "print(f'a[1, ::-1] is \"{a[1,::-1]}\"')\n",
        "print(f'a[1, 3:0:-1] is \"{a[1, 3:0:-1]}\"')\n"
      ],
      "metadata": {
        "colab": {
          "base_uri": "https://localhost:8080/"
        },
        "id": "c0Xa8QgI0blH",
        "outputId": "c32d49b8-0df2-42bb-e232-f2de12365b63"
      },
      "execution_count": null,
      "outputs": [
        {
          "output_type": "stream",
          "name": "stdout",
          "text": [
            "[[ 0  1  2  3]\n",
            " [ 4  5  6  7]\n",
            " [ 8  9 10 11]]\n",
            "===================\n",
            "a[0] is \"[0 1 2 3]\"\n",
            "a[0, 2] is \"2\"\n",
            "a[0][2] is \"2\"\n",
            "-------------------\n",
            "a[1, 2:] is \"[6 7]\"\n",
            "a[1, ::2] is \"[4 6]\"\n",
            "a[1, ::-2] is \"[7 5]\"\n",
            "a[1, ::-1] is \"[7 6 5 4]\"\n",
            "a[1, 3:0:-1] is \"[7 6 5]\"\n"
          ]
        }
      ]
    },
    {
      "cell_type": "code",
      "source": [
        "# pytorch\n",
        "\n",
        "a = np.arange(0, 12).reshape(3,4)\n",
        "a_torch = torch.tensor(a)\n",
        "\n",
        "print(a_torch)\n",
        "print('===================')\n",
        "print(f'a_torch[0] is \"{a_torch[0]}\"')\n",
        "print(f'a_torch[0, 2] is \"{a_torch[0, 2]}\"')\n",
        "print(f'a_torch[0][2] is \"{a_torch[0][2]}\"')\n",
        "print('-------------------')\n",
        "print(f'a_torch[1, 2:] is \"{a_torch[1,2:]}\"')\n",
        "print(f'a_torch[1, ::2] is \"{a_torch[1,::2]}\"')\n",
        "\n",
        "# negative는 동작하지 않음.\n",
        "# print(f'a_torch[1, ::-2] is \"{a_torch[1,::-2]}\"')\n",
        "# print(f'a_torch[1, ::-1] is \"{a_torch[1,::-1]}\"')\n",
        "# print(f'a_torch[1, 3:0:-1] is \"{a_torch[1, 3:0:-1]}\"')\n"
      ],
      "metadata": {
        "colab": {
          "base_uri": "https://localhost:8080/"
        },
        "id": "yFrJhzSy1_db",
        "outputId": "0ca61113-d4b4-409c-ea28-57813c7da792"
      },
      "execution_count": null,
      "outputs": [
        {
          "output_type": "stream",
          "name": "stdout",
          "text": [
            "tensor([[ 0,  1,  2,  3],\n",
            "        [ 4,  5,  6,  7],\n",
            "        [ 8,  9, 10, 11]])\n",
            "===================\n",
            "a_torch[0] is \"tensor([0, 1, 2, 3])\"\n",
            "a_torch[0, 2] is \"2\"\n",
            "a_torch[0][2] is \"2\"\n",
            "-------------------\n",
            "a_torch[1, 2:] is \"tensor([6, 7])\"\n",
            "a_torch[1, ::2] is \"tensor([4, 6])\"\n"
          ]
        }
      ]
    },
    {
      "cell_type": "code",
      "source": [
        "# tensorflow\n",
        "\n",
        "a = np.arange(0, 12).reshape(3,4)\n",
        "a_tf = tf.constant(a)\n",
        "\n",
        "print(a_tf)\n",
        "print('===================')\n",
        "print(f'a_tf[0] is \"{a_tf[0]}\"')\n",
        "print(f'a_tf[0, 2] is \"{a_tf[0, 2]}\"')\n",
        "print(f'a_tf[0][2] is \"{a_tf[0][2]}\"')\n",
        "print('-------------------')\n",
        "print(f'a_tf[1, 2:] is \"{a_tf[1,2:]}\"')\n",
        "print(f'a_tf[1, ::2] is \"{a_tf[1,::2]}\"')\n",
        "print(f'a_tf[1, ::-2] is \"{a_tf[1,::-2]}\"')\n",
        "print(f'a_tf[1, ::-1] is \"{a_tf[1,::-1]}\"')\n",
        "print(f'a_tf[1, 3:0:-1] is \"{a_tf[1, 3:0:-1]}\"')"
      ],
      "metadata": {
        "colab": {
          "base_uri": "https://localhost:8080/"
        },
        "id": "ocx6ODhr2FFj",
        "outputId": "587c792d-a968-4538-ce66-eb58ba99ac71"
      },
      "execution_count": null,
      "outputs": [
        {
          "output_type": "stream",
          "name": "stdout",
          "text": [
            "tf.Tensor(\n",
            "[[ 0  1  2  3]\n",
            " [ 4  5  6  7]\n",
            " [ 8  9 10 11]], shape=(3, 4), dtype=int64)\n",
            "===================\n",
            "a_tf[0] is \"[0 1 2 3]\"\n",
            "a_tf[0, 2] is \"2\"\n",
            "a_tf[0][2] is \"2\"\n",
            "-------------------\n",
            "a_tf[1, 2:] is \"[6 7]\"\n",
            "a_tf[1, ::2] is \"[4 6]\"\n",
            "a_tf[1, ::-2] is \"[7 5]\"\n",
            "a_tf[1, ::-1] is \"[7 6 5 4]\"\n",
            "a_tf[1, 3:0:-1] is \"[7 6 5]\"\n"
          ]
        }
      ]
    },
    {
      "cell_type": "markdown",
      "source": [
        "## Fancy Indexing"
      ],
      "metadata": {
        "id": "KM4EEMGa6Bos"
      }
    },
    {
      "cell_type": "code",
      "source": [
        "# 1d tensor\n",
        "\n",
        "x = np.array([10.,20.,30.,40.,50.])\n",
        "x_torch = torch.tensor([10.,20.,30.,40.,50.])\n",
        "x_tf = tf.constant([10.,20.,30.,40.,50.])\n",
        "\n",
        "f_indices = [3, 4, 1]\n",
        "\n",
        "print('original:')\n",
        "print(x)\n",
        "print('----------')\n",
        "print('numpy:')\n",
        "print(x[f_indices])\n",
        "print('----------')\n",
        "print('torch:')\n",
        "print(x_torch[f_indices])\n",
        "print('----------')\n",
        "print('tensorflow:')\n",
        "print(tf.gather(x_tf,f_indices)) #1D 에선 gahter, 2D 이상시 gather_nd\n",
        "print(tf.gather_nd(x_tf, [ i for i in zip(f_indices,)])) # 굳이 쓴다면, 다음과 같이."
      ],
      "metadata": {
        "colab": {
          "base_uri": "https://localhost:8080/"
        },
        "id": "7ODNuTSJM0Dk",
        "outputId": "1a4c861b-6cb5-481a-83e4-65701f1d48c3"
      },
      "execution_count": null,
      "outputs": [
        {
          "output_type": "stream",
          "name": "stdout",
          "text": [
            "original:\n",
            "[10. 20. 30. 40. 50.]\n",
            "----------\n",
            "numpy:\n",
            "[40. 50. 20.]\n",
            "----------\n",
            "torch:\n",
            "tensor([40., 50., 20.])\n",
            "----------\n",
            "tensorflow:\n",
            "tf.Tensor([40. 50. 20.], shape=(3,), dtype=float32)\n",
            "tf.Tensor([40. 50. 20.], shape=(3,), dtype=float32)\n"
          ]
        }
      ]
    },
    {
      "cell_type": "code",
      "source": [
        "# 2d tensor\n",
        "\n",
        "x = np.arange(5*5).reshape(5,5) * 10\n",
        "x_torch = torch.arange(5*5).view(size=(5,5)) * 10\n",
        "x_tf = tf.constant(x)\n",
        "\n",
        "indices_0 = [0, 1, 2]\n",
        "indices_1 = [0, 1, 2]\n",
        "\n",
        "print('original:')\n",
        "print(x)\n",
        "print('----------')\n",
        "print('numpy:')\n",
        "b = x[indices_0, indices_1]\n",
        "print('b.shape =',b.shape)\n",
        "print(b)\n",
        "print('----------')\n",
        "print('torch:')\n",
        "c = x_torch[indices_0, indices_1]\n",
        "print('c.shape =',c.shape)\n",
        "print(c)\n",
        "print('----------')\n",
        "print('tensorflow:')\n",
        "d = tf.gather_nd(x_tf, [ i for i in zip(indices_0, indices_1)])\n",
        "print('d.shape =',d.shape)\n",
        "print(d)"
      ],
      "metadata": {
        "colab": {
          "base_uri": "https://localhost:8080/"
        },
        "id": "PP4e39vxHR3Q",
        "outputId": "6d4b5dbf-521a-4382-98e6-ed415a1ceaf5"
      },
      "execution_count": null,
      "outputs": [
        {
          "output_type": "stream",
          "name": "stdout",
          "text": [
            "original:\n",
            "[[  0  10  20  30  40]\n",
            " [ 50  60  70  80  90]\n",
            " [100 110 120 130 140]\n",
            " [150 160 170 180 190]\n",
            " [200 210 220 230 240]]\n",
            "----------\n",
            "numpy:\n",
            "b.shape = (3,)\n",
            "[  0  60 120]\n",
            "----------\n",
            "torch:\n",
            "c.shape = torch.Size([3])\n",
            "tensor([  0,  60, 120])\n",
            "----------\n",
            "tensorflow:\n",
            "d.shape = (3,)\n",
            "tf.Tensor([  0  60 120], shape=(3,), dtype=int64)\n"
          ]
        }
      ]
    },
    {
      "cell_type": "code",
      "source": [
        "# 3d tensor\n",
        "\n",
        "x = np.arange(5*5*5).reshape(5,5,5) * 10\n",
        "x_torch = torch.arange(5*5*5).view(size=(5,5,5)) * 10\n",
        "x_tf = tf.constant(x)\n",
        "\n",
        "indices_0 = [0, 1] # x\n",
        "indices_1 = [1, 2] # y\n",
        "indices_2 = [2, 0] # z\n",
        "\n",
        "print('original:')\n",
        "print(x)\n",
        "print('----------')\n",
        "print('numpy:')\n",
        "b = x[indices_0, indices_1, indices_2]\n",
        "print('b.shape=',b.shape)\n",
        "print(b)\n",
        "print('----------')\n",
        "print('torch:')\n",
        "c = x_torch[indices_0, indices_1, indices_2]\n",
        "print('c.shape=',c.shape)\n",
        "print(c)\n",
        "print('----------')\n",
        "print('tensorflow')\n",
        "d = tf.gather_nd(x_tf, [ i for i in zip(indices_0, indices_1, indices_2)]) # multi-dim 에선 gater_nd 임.\n",
        "print('d.shape=',d.shape)\n",
        "print(d)"
      ],
      "metadata": {
        "colab": {
          "base_uri": "https://localhost:8080/"
        },
        "id": "f3qnoYxxHWIQ",
        "outputId": "11bbaf86-9128-4912-d49d-84524c1f627d"
      },
      "execution_count": null,
      "outputs": [
        {
          "output_type": "stream",
          "name": "stdout",
          "text": [
            "original:\n",
            "[[[   0   10   20   30   40]\n",
            "  [  50   60   70   80   90]\n",
            "  [ 100  110  120  130  140]\n",
            "  [ 150  160  170  180  190]\n",
            "  [ 200  210  220  230  240]]\n",
            "\n",
            " [[ 250  260  270  280  290]\n",
            "  [ 300  310  320  330  340]\n",
            "  [ 350  360  370  380  390]\n",
            "  [ 400  410  420  430  440]\n",
            "  [ 450  460  470  480  490]]\n",
            "\n",
            " [[ 500  510  520  530  540]\n",
            "  [ 550  560  570  580  590]\n",
            "  [ 600  610  620  630  640]\n",
            "  [ 650  660  670  680  690]\n",
            "  [ 700  710  720  730  740]]\n",
            "\n",
            " [[ 750  760  770  780  790]\n",
            "  [ 800  810  820  830  840]\n",
            "  [ 850  860  870  880  890]\n",
            "  [ 900  910  920  930  940]\n",
            "  [ 950  960  970  980  990]]\n",
            "\n",
            " [[1000 1010 1020 1030 1040]\n",
            "  [1050 1060 1070 1080 1090]\n",
            "  [1100 1110 1120 1130 1140]\n",
            "  [1150 1160 1170 1180 1190]\n",
            "  [1200 1210 1220 1230 1240]]]\n",
            "----------\n",
            "numpy:\n",
            "b.shape= (2,)\n",
            "[ 70 350]\n",
            "----------\n",
            "torch:\n",
            "c.shape= torch.Size([2])\n",
            "tensor([ 70, 350])\n",
            "----------\n",
            "tensorflow\n",
            "d.shape= (2,)\n",
            "tf.Tensor([ 70 350], shape=(2,), dtype=int64)\n"
          ]
        }
      ]
    },
    {
      "cell_type": "markdown",
      "source": [
        "## Boolean Mask"
      ],
      "metadata": {
        "id": "v38LMXy26C22"
      }
    },
    {
      "cell_type": "code",
      "source": [
        "x = np.arange(3*3*3).reshape(3,3,3) * 10\n",
        "\n",
        "print('original:')\n",
        "print(x)\n",
        "print('----------')\n",
        "print('boolean mask:')\n",
        "b = x <= 270/2\n",
        "print(b.shape)\n",
        "print(b)\n",
        "print('----------')\n",
        "print('x <= 135')\n",
        "print(x[b])\n",
        "print('----------')\n",
        "print(x[x<=270/2])\n",
        "print('----------')\n",
        "print('----------')\n",
        "print('x <= 135 | x>= 200')\n",
        "b1 = b | (x >= 200)\n",
        "print('----------')\n",
        "print('boolean mask')\n",
        "print(b1)\n",
        "print('----------')\n",
        "print(x[b1])\n",
        "print('----------')\n",
        "print(x[ (x<=270/2) | (x>=200)])"
      ],
      "metadata": {
        "colab": {
          "base_uri": "https://localhost:8080/"
        },
        "id": "I9I5cAPC46NX",
        "outputId": "bcf01907-d2b4-4aec-a621-35be878be21f"
      },
      "execution_count": null,
      "outputs": [
        {
          "output_type": "stream",
          "name": "stdout",
          "text": [
            "original:\n",
            "[[[  0  10  20]\n",
            "  [ 30  40  50]\n",
            "  [ 60  70  80]]\n",
            "\n",
            " [[ 90 100 110]\n",
            "  [120 130 140]\n",
            "  [150 160 170]]\n",
            "\n",
            " [[180 190 200]\n",
            "  [210 220 230]\n",
            "  [240 250 260]]]\n",
            "----------\n",
            "boolean mask:\n",
            "(3, 3, 3)\n",
            "[[[ True  True  True]\n",
            "  [ True  True  True]\n",
            "  [ True  True  True]]\n",
            "\n",
            " [[ True  True  True]\n",
            "  [ True  True False]\n",
            "  [False False False]]\n",
            "\n",
            " [[False False False]\n",
            "  [False False False]\n",
            "  [False False False]]]\n",
            "----------\n",
            "x <= 135\n",
            "[  0  10  20  30  40  50  60  70  80  90 100 110 120 130]\n",
            "----------\n",
            "[  0  10  20  30  40  50  60  70  80  90 100 110 120 130]\n",
            "----------\n",
            "----------\n",
            "x <= 135 | x>= 200\n",
            "----------\n",
            "boolean mask\n",
            "[[[ True  True  True]\n",
            "  [ True  True  True]\n",
            "  [ True  True  True]]\n",
            "\n",
            " [[ True  True  True]\n",
            "  [ True  True False]\n",
            "  [False False False]]\n",
            "\n",
            " [[False False  True]\n",
            "  [ True  True  True]\n",
            "  [ True  True  True]]]\n",
            "----------\n",
            "[  0  10  20  30  40  50  60  70  80  90 100 110 120 130 200 210 220 230\n",
            " 240 250 260]\n",
            "----------\n",
            "[  0  10  20  30  40  50  60  70  80  90 100 110 120 130 200 210 220 230\n",
            " 240 250 260]\n"
          ]
        }
      ]
    },
    {
      "cell_type": "code",
      "source": [
        "x_torch = torch.arange(3*3*3).view(size=(3,3,3)) * 10\n",
        "print(x_torch[ (x_torch<=270/2) | (x_torch>=200)])\n",
        "\n",
        "print('--------------')\n",
        "\n",
        "x_tf = tf.constant(x)\n",
        "print(x_tf[ (x_tf<= tf.cast(270/2, tf.int64)) | (x_tf>=200)])"
      ],
      "metadata": {
        "colab": {
          "base_uri": "https://localhost:8080/"
        },
        "id": "kH_Yq2MlOeEH",
        "outputId": "07303b86-dfeb-4b85-947e-c43155f96225"
      },
      "execution_count": null,
      "outputs": [
        {
          "output_type": "stream",
          "name": "stdout",
          "text": [
            "tensor([  0,  10,  20,  30,  40,  50,  60,  70,  80,  90, 100, 110, 120, 130,\n",
            "        200, 210, 220, 230, 240, 250, 260])\n",
            "--------------\n",
            "tf.Tensor(\n",
            "[   0   10   20   30   40   50   60   70   80   90  100  110  120  130\n",
            "  200  210  220  230  240  250  260  270  280  290  300  310  320  330\n",
            "  340  350  360  370  380  390  400  410  420  430  440  450  460  470\n",
            "  480  490  500  510  520  530  540  550  560  570  580  590  600  610\n",
            "  620  630  640  650  660  670  680  690  700  710  720  730  740  750\n",
            "  760  770  780  790  800  810  820  830  840  850  860  870  880  890\n",
            "  900  910  920  930  940  950  960  970  980  990 1000 1010 1020 1030\n",
            " 1040 1050 1060 1070 1080 1090 1100 1110 1120 1130 1140 1150 1160 1170\n",
            " 1180 1190 1200 1210 1220 1230 1240], shape=(119,), dtype=int64)\n"
          ]
        }
      ]
    },
    {
      "cell_type": "markdown",
      "source": [
        "**특정 조건에 맞는 element의 index 얻기: np.where**"
      ],
      "metadata": {
        "id": "jxswIgyePpD7"
      }
    },
    {
      "cell_type": "code",
      "source": [
        "import numpy as np\n",
        "\n",
        "r = np.random.default_rng(seed = 23)\n",
        "\n",
        "a = r.random((3,3,3)).astype(np.float32) * 10.\n",
        "\n",
        "bm = a>=5.\n",
        "idxs = np.where( a>=5)\n",
        "\n",
        "print(a)\n",
        "print('-----------------')\n",
        "print(np.array(idxs).shape)\n",
        "print(idxs)"
      ],
      "metadata": {
        "colab": {
          "base_uri": "https://localhost:8080/"
        },
        "id": "CokLHmVbPlZV",
        "outputId": "ea8ebdb4-1257-4067-c049-16d5a57cca1f"
      },
      "execution_count": null,
      "outputs": [
        {
          "output_type": "stream",
          "name": "stdout",
          "text": [
            "[[[6.9393306  6.4145823  1.2864423 ]\n",
            "  [1.1370804  6.5334554  8.534571  ]\n",
            "  [2.0177913  2.1801863  7.1658463 ]]\n",
            "\n",
            " [[4.706997   4.1522193  3.491478  ]\n",
            "  [0.6385375  4.546662   3.014533  ]\n",
            "  [3.8907673  5.402978   6.835897  ]]\n",
            "\n",
            " [[6.2475243  7.4270444  0.18217355]\n",
            "  [6.542572   5.420625   8.513411  ]\n",
            "  [9.390292   0.12823118 8.283283  ]]]\n",
            "-----------------\n",
            "(3, 14)\n",
            "(array([0, 0, 0, 0, 0, 1, 1, 2, 2, 2, 2, 2, 2, 2]), array([0, 0, 1, 1, 2, 2, 2, 0, 0, 1, 1, 1, 2, 2]), array([0, 1, 1, 2, 2, 1, 2, 0, 1, 0, 1, 2, 0, 2]))\n"
          ]
        }
      ]
    },
    {
      "cell_type": "code",
      "source": [
        "a = np.arange(0,6).reshape(2,3)\n",
        "print(a)"
      ],
      "metadata": {
        "colab": {
          "base_uri": "https://localhost:8080/"
        },
        "id": "tI4sMoVk6yBE",
        "outputId": "07432a32-795e-4080-8196-5b6e5ea118d7"
      },
      "execution_count": null,
      "outputs": [
        {
          "output_type": "stream",
          "name": "stdout",
          "text": [
            "[[0 1 2]\n",
            " [3 4 5]]\n"
          ]
        }
      ]
    },
    {
      "cell_type": "code",
      "source": [
        "b = a < 3\n",
        "b"
      ],
      "metadata": {
        "colab": {
          "base_uri": "https://localhost:8080/"
        },
        "id": "gjMWIUL663uZ",
        "outputId": "1c458f8d-2e4d-48b3-ad8c-b175b2cca412"
      },
      "execution_count": null,
      "outputs": [
        {
          "output_type": "execute_result",
          "data": {
            "text/plain": [
              "array([[ True,  True,  True],\n",
              "       [False, False, False]])"
            ]
          },
          "metadata": {},
          "execution_count": 62
        }
      ]
    },
    {
      "cell_type": "code",
      "source": [
        "a[b]"
      ],
      "metadata": {
        "colab": {
          "base_uri": "https://localhost:8080/"
        },
        "id": "kYB1e3LB68cf",
        "outputId": "a1e1b635-e3ba-499e-fe45-d42f0ec858d9"
      },
      "execution_count": null,
      "outputs": [
        {
          "output_type": "execute_result",
          "data": {
            "text/plain": [
              "array([0, 1, 2])"
            ]
          },
          "metadata": {},
          "execution_count": 63
        }
      ]
    },
    {
      "cell_type": "code",
      "source": [
        "c = a[a<3]\n",
        "c"
      ],
      "metadata": {
        "colab": {
          "base_uri": "https://localhost:8080/"
        },
        "id": "Q6acxAtD7BRt",
        "outputId": "5953608b-94de-47aa-f826-3b83ca55340c"
      },
      "execution_count": null,
      "outputs": [
        {
          "output_type": "execute_result",
          "data": {
            "text/plain": [
              "array([0, 1, 2])"
            ]
          },
          "metadata": {},
          "execution_count": 65
        }
      ]
    },
    {
      "cell_type": "code",
      "source": [
        "i = np.where(a<3)\n",
        "i"
      ],
      "metadata": {
        "colab": {
          "base_uri": "https://localhost:8080/"
        },
        "id": "CIouvC6b7FDw",
        "outputId": "ddaef83d-9f85-4738-960b-6a97b26ee919"
      },
      "execution_count": null,
      "outputs": [
        {
          "output_type": "execute_result",
          "data": {
            "text/plain": [
              "(array([0, 0, 0]), array([0, 1, 2]))"
            ]
          },
          "metadata": {},
          "execution_count": 68
        }
      ]
    },
    {
      "cell_type": "code",
      "source": [
        "a[np.where(a<3)]"
      ],
      "metadata": {
        "colab": {
          "base_uri": "https://localhost:8080/"
        },
        "id": "2x_amzJG7dak",
        "outputId": "928dae1e-a27b-46a2-9c2b-033a7cf74390"
      },
      "execution_count": null,
      "outputs": [
        {
          "output_type": "execute_result",
          "data": {
            "text/plain": [
              "array([0, 1, 2])"
            ]
          },
          "metadata": {},
          "execution_count": 69
        }
      ]
    },
    {
      "cell_type": "code",
      "source": [
        "a[a<3]=0\n",
        "a"
      ],
      "metadata": {
        "colab": {
          "base_uri": "https://localhost:8080/"
        },
        "id": "Po9eHkmW7uv3",
        "outputId": "1d54fc93-bd21-4b41-cb15-9bd2f4fd181f"
      },
      "execution_count": null,
      "outputs": [
        {
          "output_type": "execute_result",
          "data": {
            "text/plain": [
              "array([[0, 0, 0],\n",
              "       [3, 4, 5]])"
            ]
          },
          "metadata": {},
          "execution_count": 70
        }
      ]
    },
    {
      "cell_type": "markdown",
      "source": [
        "## vectorized operation\n",
        "- vector or matrix 전체에 대해 동일한 연산을 동시에 수행하는 방식."
      ],
      "metadata": {
        "id": "e6yQEirS9LVE"
      }
    },
    {
      "cell_type": "code",
      "source": [
        "# ex1.\n",
        "\n",
        "print(\"for loop\")\n",
        "def add_vectors(x, y):\n",
        "  \"\"\"두 벡터를 더합니다.\"\"\"\n",
        "  result = []\n",
        "  for i in range(len(x)):\n",
        "    result.append(x[i] + y[i])\n",
        "  return result\n",
        "\n",
        "x = np.array([1, 2, 3])\n",
        "y = np.array([4, 5, 6])\n",
        "\n",
        "z = add_vectors(x, y)\n",
        "\n",
        "print(z)\n",
        "\n",
        "print(\"vector op.\")\n",
        "import numpy as np\n",
        "\n",
        "x = np.array([1, 2, 3])\n",
        "y = np.array([4, 5, 6])\n",
        "\n",
        "z = np.add(x, y)  # 벡터 덧셈\n",
        "\n",
        "print(z)\n",
        "# [5 7 9]\n"
      ],
      "metadata": {
        "colab": {
          "base_uri": "https://localhost:8080/"
        },
        "id": "8GBJFlwD9KBG",
        "outputId": "ff65b395-172d-40fa-ddff-e91c04be4e9d"
      },
      "execution_count": null,
      "outputs": [
        {
          "output_type": "stream",
          "name": "stdout",
          "text": [
            "for loop\n",
            "[5, 7, 9]\n",
            "vector op.\n",
            "[5 7 9]\n"
          ]
        }
      ]
    },
    {
      "cell_type": "markdown",
      "source": [],
      "metadata": {
        "id": "YzStM6aaAsr3"
      }
    },
    {
      "cell_type": "markdown",
      "source": [],
      "metadata": {
        "id": "-BeWOvFJAstu"
      }
    },
    {
      "cell_type": "markdown",
      "source": [
        "### Aggregations\n",
        "\n",
        "2x3에서 2x1로 만들었다고 할 때 평균을 어떻게 낼 것인가?\n",
        "\n",
        "\n",
        "옵션이 0이면 1x3으로,\n",
        "옵션이 1이면 2x1로.\n"
      ],
      "metadata": {
        "id": "QnrYMP6nAsvg"
      }
    },
    {
      "cell_type": "markdown",
      "source": [
        "## Broadcasting\n",
        "\n",
        "leading side - 왼쪽으로.\n"
      ],
      "metadata": {
        "id": "qXZmwNk6DkiS"
      }
    }
  ]
}