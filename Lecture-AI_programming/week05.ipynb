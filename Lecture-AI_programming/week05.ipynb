{
  "nbformat": 4,
  "nbformat_minor": 0,
  "metadata": {
    "colab": {
      "provenance": [],
      "include_colab_link": true
    },
    "kernelspec": {
      "name": "python3",
      "display_name": "Python 3"
    },
    "language_info": {
      "name": "python"
    }
  },
  "cells": [
    {
      "cell_type": "markdown",
      "metadata": {
        "id": "view-in-github",
        "colab_type": "text"
      },
      "source": [
        "<a href=\"https://colab.research.google.com/github/9-coding/PyTorch/blob/main/Lecture-AI_programming/week05.ipynb\" target=\"_parent\"><img src=\"https://colab.research.google.com/assets/colab-badge.svg\" alt=\"Open In Colab\"/></a>"
      ]
    },
    {
      "cell_type": "markdown",
      "source": [
        "# Week05\n"
      ],
      "metadata": {
        "id": "01aj67Yq4EWn"
      }
    },
    {
      "cell_type": "code",
      "execution_count": 39,
      "metadata": {
        "id": "QRVdeyLdoAgx"
      },
      "outputs": [],
      "source": [
        "import torch\n",
        "import numpy as np"
      ]
    },
    {
      "cell_type": "code",
      "source": [
        "for c in [torch, np]:\n",
        "  print(c.__version__)"
      ],
      "metadata": {
        "colab": {
          "base_uri": "https://localhost:8080/"
        },
        "id": "jq3pcIW9pCpI",
        "outputId": "754546fa-fda3-4d2d-e244-b742a92082bf"
      },
      "execution_count": 40,
      "outputs": [
        {
          "output_type": "stream",
          "name": "stdout",
          "text": [
            "2.2.1+cu121\n",
            "1.25.2\n"
          ]
        }
      ]
    },
    {
      "cell_type": "code",
      "source": [
        "!pip install --quiet torchvision\n",
        "!pip install --quiet torchsummary"
      ],
      "metadata": {
        "id": "PPqnE4q3pe1M"
      },
      "execution_count": 41,
      "outputs": []
    },
    {
      "cell_type": "code",
      "source": [
        "from torch.nn import Module, init, Linear, Parameter, MSELoss, ReLU\n",
        "from torch import optim\n",
        "import matplotlib.pyplot as plt\n",
        "import torchvision\n",
        "import torchsummary"
      ],
      "metadata": {
        "id": "M3Pzd3R3ppkJ"
      },
      "execution_count": 42,
      "outputs": []
    },
    {
      "cell_type": "markdown",
      "source": [
        "# Data 생성부\n",
        "- input\n",
        "- output: x (tensor), y (tensor) = y_ideal + noise"
      ],
      "metadata": {
        "id": "nzyqW1cuHJuT"
      }
    },
    {
      "cell_type": "code",
      "source": [
        "def gen_xy():\n",
        "  x = np.linspace(-10, 10, 100)\n",
        "  y_ideal = 1.8 * x + 32.\n",
        "  y = y_ideal + 8. * np.random.randn((100))\n",
        "\n",
        "  return x, y, y_ideal"
      ],
      "metadata": {
        "id": "1AZL2oqQqpYw"
      },
      "execution_count": 43,
      "outputs": []
    },
    {
      "cell_type": "code",
      "source": [
        "x, y, y_ideal = gen_xy()\n",
        "\n",
        "plt.plot(x, y_ideal)\n",
        "plt.scatter(x, y)"
      ],
      "metadata": {
        "colab": {
          "base_uri": "https://localhost:8080/",
          "height": 448
        },
        "id": "EY8cog9CMKAp",
        "outputId": "13468eae-1ddc-4f33-b72b-39de9a7d9c43"
      },
      "execution_count": 44,
      "outputs": [
        {
          "output_type": "execute_result",
          "data": {
            "text/plain": [
              "<matplotlib.collections.PathCollection at 0x7ccfc2f77220>"
            ]
          },
          "metadata": {},
          "execution_count": 44
        },
        {
          "output_type": "display_data",
          "data": {
            "text/plain": [
              "<Figure size 640x480 with 1 Axes>"
            ],
            "image/png": "[encoded data removed]"
          },
          "metadata": {}
        }
      ]
    },
    {
      "cell_type": "markdown",
      "source": [
        "### tensor로 변환 (+shape)"
      ],
      "metadata": {
        "id": "h9OEo45jMTeC"
      }
    },
    {
      "cell_type": "code",
      "source": [
        "x = torch.tensor(x).float()\n",
        "y = torch.tensor(y).float()\n",
        "x = x.reshape(-1,1)\n",
        "y = y.reshape(-1,1)\n",
        "\n",
        "print(x.shape, type(x))\n",
        "print(y.shape, type(y))"
      ],
      "metadata": {
        "colab": {
          "base_uri": "https://localhost:8080/"
        },
        "id": "83Oug_y0rcy9",
        "outputId": "bee90ac0-691d-4354-9c63-2922765ad053"
      },
      "execution_count": 45,
      "outputs": [
        {
          "output_type": "stream",
          "name": "stdout",
          "text": [
            "torch.Size([100, 1]) <class 'torch.Tensor'>\n",
            "torch.Size([100, 1]) <class 'torch.Tensor'>\n"
          ]
        }
      ]
    },
    {
      "cell_type": "markdown",
      "source": [
        "# Model\n",
        "## (1) 선형모델"
      ],
      "metadata": {
        "id": "DYvBAqnXImT7"
      }
    },
    {
      "cell_type": "code",
      "source": [
        "class DsLinearModel(Module):\n",
        "  def __init__(self,\n",
        "               n_in_f, # input vector의 차원 수\n",
        "               n_out_f # output vector의 차원 수\n",
        "               ):\n",
        "    super().__init__()\n",
        "\n",
        "    init_w = torch.ones(1,1)\n",
        "    init_b = torch.zeros(1)\n",
        "    self.l0 = Linear(n_in_f, n_out_f)\n",
        "    self.l0.weight = Parameter(init_w)\n",
        "    self.l0.bias = Parameter(init_b)\n",
        "\n",
        "  def forward(self, x):\n",
        "    y = self.l0(x)\n",
        "    return y"
      ],
      "metadata": {
        "id": "p8Zt1GwfrrwW"
      },
      "execution_count": 46,
      "outputs": []
    },
    {
      "cell_type": "code",
      "source": [
        "linearModel = DsLinearModel(1,1)\n",
        "\n",
        "for idx, c in enumerate(linearModel.named_parameters()):\n",
        "  print(idx, c)\n",
        "print()\n",
        "\n",
        "for idx, c in enumerate(linearModel.parameters()):\n",
        "  print(idx, c)"
      ],
      "metadata": {
        "colab": {
          "base_uri": "https://localhost:8080/"
        },
        "id": "U5npqM3hvBXV",
        "outputId": "8b5e7817-a67c-448c-99f5-eca80ae9b684"
      },
      "execution_count": 47,
      "outputs": [
        {
          "output_type": "stream",
          "name": "stdout",
          "text": [
            "0 ('l0.weight', Parameter containing:\n",
            "tensor([[1.]], requires_grad=True))\n",
            "1 ('l0.bias', Parameter containing:\n",
            "tensor([0.], requires_grad=True))\n",
            "\n",
            "0 Parameter containing:\n",
            "tensor([[1.]], requires_grad=True)\n",
            "1 Parameter containing:\n",
            "tensor([0.], requires_grad=True)\n"
          ]
        }
      ]
    },
    {
      "cell_type": "code",
      "source": [
        "for idx, cl in enumerate(linearModel.named_children()): # cl: child layer\n",
        "  print(idx, cl)\n",
        "print()\n",
        "\n",
        "for idx, cl in enumerate(linearModel.children()): # cl: child layer\n",
        "  print(idx, cl)"
      ],
      "metadata": {
        "colab": {
          "base_uri": "https://localhost:8080/"
        },
        "id": "mVAAkUrvvS03",
        "outputId": "f984f47b-9b46-43f0-b568-e9aa0eed6dab"
      },
      "execution_count": 48,
      "outputs": [
        {
          "output_type": "stream",
          "name": "stdout",
          "text": [
            "0 ('l0', Linear(in_features=1, out_features=1, bias=True))\n",
            "\n",
            "0 Linear(in_features=1, out_features=1, bias=True)\n"
          ]
        }
      ]
    },
    {
      "cell_type": "code",
      "source": [
        "for idx, modu in enumerate(linearModel.named_modules()):\n",
        "  print(idx, modu)\n",
        "print()\n",
        "\n",
        "for idx, modu in enumerate(linearModel.modules()):\n",
        "  print(idx, modu)"
      ],
      "metadata": {
        "id": "wNpZMag7wpiZ",
        "colab": {
          "base_uri": "https://localhost:8080/"
        },
        "outputId": "03475ff1-4050-4c13-8e70-2220e9a782d0"
      },
      "execution_count": 49,
      "outputs": [
        {
          "output_type": "stream",
          "name": "stdout",
          "text": [
            "0 ('', DsLinearModel(\n",
            "  (l0): Linear(in_features=1, out_features=1, bias=True)\n",
            "))\n",
            "1 ('l0', Linear(in_features=1, out_features=1, bias=True))\n",
            "\n",
            "0 DsLinearModel(\n",
            "  (l0): Linear(in_features=1, out_features=1, bias=True)\n",
            ")\n",
            "1 Linear(in_features=1, out_features=1, bias=True)\n"
          ]
        }
      ]
    },
    {
      "cell_type": "code",
      "source": [
        "lin_pred = linearModel(x)\n",
        "lin_pred"
      ],
      "metadata": {
        "colab": {
          "base_uri": "https://localhost:8080/"
        },
        "id": "3KaD2hn5yHnd",
        "outputId": "8f9182a0-727f-47ea-be3d-36630e6d7eeb"
      },
      "execution_count": 50,
      "outputs": [
        {
          "output_type": "execute_result",
          "data": {
            "text/plain": [
              "tensor([[-10.0000],\n",
              "        [ -9.7980],\n",
              "        [ -9.5960],\n",
              "        [ -9.3939],\n",
              "        [ -9.1919],\n",
              "        [ -8.9899],\n",
              "        [ -8.7879],\n",
              "        [ -8.5859],\n",
              "        [ -8.3838],\n",
              "        [ -8.1818],\n",
              "        [ -7.9798],\n",
              "        [ -7.7778],\n",
              "        [ -7.5758],\n",
              "        [ -7.3737],\n",
              "        [ -7.1717],\n",
              "        [ -6.9697],\n",
              "        [ -6.7677],\n",
              "        [ -6.5657],\n",
              "        [ -6.3636],\n",
              "        [ -6.1616],\n",
              "        [ -5.9596],\n",
              "        [ -5.7576],\n",
              "        [ -5.5556],\n",
              "        [ -5.3535],\n",
              "        [ -5.1515],\n",
              "        [ -4.9495],\n",
              "        [ -4.7475],\n",
              "        [ -4.5455],\n",
              "        [ -4.3434],\n",
              "        [ -4.1414],\n",
              "        [ -3.9394],\n",
              "        [ -3.7374],\n",
              "        [ -3.5354],\n",
              "        [ -3.3333],\n",
              "        [ -3.1313],\n",
              "        [ -2.9293],\n",
              "        [ -2.7273],\n",
              "        [ -2.5253],\n",
              "        [ -2.3232],\n",
              "        [ -2.1212],\n",
              "        [ -1.9192],\n",
              "        [ -1.7172],\n",
              "        [ -1.5152],\n",
              "        [ -1.3131],\n",
              "        [ -1.1111],\n",
              "        [ -0.9091],\n",
              "        [ -0.7071],\n",
              "        [ -0.5051],\n",
              "        [ -0.3030],\n",
              "        [ -0.1010],\n",
              "        [  0.1010],\n",
              "        [  0.3030],\n",
              "        [  0.5051],\n",
              "        [  0.7071],\n",
              "        [  0.9091],\n",
              "        [  1.1111],\n",
              "        [  1.3131],\n",
              "        [  1.5152],\n",
              "        [  1.7172],\n",
              "        [  1.9192],\n",
              "        [  2.1212],\n",
              "        [  2.3232],\n",
              "        [  2.5253],\n",
              "        [  2.7273],\n",
              "        [  2.9293],\n",
              "        [  3.1313],\n",
              "        [  3.3333],\n",
              "        [  3.5354],\n",
              "        [  3.7374],\n",
              "        [  3.9394],\n",
              "        [  4.1414],\n",
              "        [  4.3434],\n",
              "        [  4.5455],\n",
              "        [  4.7475],\n",
              "        [  4.9495],\n",
              "        [  5.1515],\n",
              "        [  5.3535],\n",
              "        [  5.5556],\n",
              "        [  5.7576],\n",
              "        [  5.9596],\n",
              "        [  6.1616],\n",
              "        [  6.3636],\n",
              "        [  6.5657],\n",
              "        [  6.7677],\n",
              "        [  6.9697],\n",
              "        [  7.1717],\n",
              "        [  7.3737],\n",
              "        [  7.5758],\n",
              "        [  7.7778],\n",
              "        [  7.9798],\n",
              "        [  8.1818],\n",
              "        [  8.3838],\n",
              "        [  8.5859],\n",
              "        [  8.7879],\n",
              "        [  8.9899],\n",
              "        [  9.1919],\n",
              "        [  9.3939],\n",
              "        [  9.5960],\n",
              "        [  9.7980],\n",
              "        [ 10.0000]], grad_fn=<AddmmBackward0>)"
            ]
          },
          "metadata": {},
          "execution_count": 50
        }
      ]
    },
    {
      "cell_type": "markdown",
      "source": [
        "## (2) ANN 모델"
      ],
      "metadata": {
        "id": "7uyxKM765u2Y"
      }
    },
    {
      "cell_type": "code",
      "source": [
        "class DsANN(Module):\n",
        "  def __init__(self,\n",
        "               n_in_f, # input vector의 차원 수\n",
        "               n_out_f # output vector의 차원 수\n",
        "               ):\n",
        "    super().__init__()\n",
        "\n",
        "    self.l0 = Linear(n_in_f, 32)\n",
        "    self.relu0 = ReLU()\n",
        "    self.l1 = Linear(32, 32)\n",
        "    self.relu1 = ReLU()\n",
        "    self.l2 = Linear(32, n_out_f)\n",
        "\n",
        "    with torch.no_grad():\n",
        "      init.constant_(self.l0.bias, 0.)\n",
        "      init.xavier_uniform(self.l0.weight)\n",
        "\n",
        "  def forward(self, x):\n",
        "    x = self.l0(x)\n",
        "    x = self.relu0(x)\n",
        "    x = self.l1(x)\n",
        "    x = self.relu1(x)\n",
        "    y = self.l2(x)\n",
        "    return y"
      ],
      "metadata": {
        "id": "GfpAzSJz5eoy"
      },
      "execution_count": 51,
      "outputs": []
    },
    {
      "cell_type": "markdown",
      "source": [
        "## torch.nn.init 모듈\n",
        "ANN을 구현할 때, 각 layer의 weight 와 bias를 초기화하는 방법을 제공함.\n",
        "\n",
        "- 초기화는 ANN의 수렴 속도 및 학습 안정화에 매우 큰 영향을 줌.\n",
        "- torch.nn.init는 일반적으로 사용되는 다양한 초기화 방법들이 구현되어 있음.\n",
        "\n",
        "### `.uniform_(tensor, a=0., b=1.)`\n",
        "- 지정된 parameters를 uniform distance로 초기화\n",
        "- a와 b는 값의 범위를 지정하는데 사용됨: [a,b)\n",
        "\n",
        "### `.normal_(tensor, mean=0., std=1.)`\n",
        "- normal distribution으로 초기화.\n",
        "\n",
        "### `.constant_(tensor, val=0.)`\n",
        "- val 에 지정된 상수값으로 초기화.\n",
        "\n",
        "### `.ones_() and .zeros_()`\n",
        "- 0과 1로 초기화."
      ],
      "metadata": {
        "id": "kSnej5HP5in0"
      }
    },
    {
      "cell_type": "code",
      "source": [
        "ANNmodel = DsANN(1,1)\n",
        "\n",
        "for idx, c in enumerate(ANNmodel.named_parameters()):\n",
        "  print(idx, c)\n",
        "print()\n",
        "\n",
        "for idx, c in enumerate(ANNmodel.parameters()):\n",
        "  print(idx, c)"
      ],
      "metadata": {
        "colab": {
          "base_uri": "https://localhost:8080/"
        },
        "id": "0eQ4Ni4n5i7L",
        "outputId": "f2a76b97-d023-406e-f07b-e899e187ed3e"
      },
      "execution_count": 52,
      "outputs": [
        {
          "output_type": "stream",
          "name": "stdout",
          "text": [
            "0 ('l0.weight', Parameter containing:\n",
            "tensor([[-0.2077],\n",
            "        [-0.3890],\n",
            "        [ 0.3151],\n",
            "        [-0.0054],\n",
            "        [ 0.2290],\n",
            "        [-0.1519],\n",
            "        [ 0.0928],\n",
            "        [ 0.2827],\n",
            "        [-0.0380],\n",
            "        [ 0.3525],\n",
            "        [ 0.0103],\n",
            "        [ 0.0015],\n",
            "        [-0.3570],\n",
            "        [ 0.2997],\n",
            "        [ 0.0300],\n",
            "        [-0.3543],\n",
            "        [-0.0371],\n",
            "        [-0.0863],\n",
            "        [-0.0005],\n",
            "        [-0.1006],\n",
            "        [ 0.0243],\n",
            "        [ 0.2538],\n",
            "        [ 0.2041],\n",
            "        [-0.3375],\n",
            "        [ 0.1948],\n",
            "        [ 0.3861],\n",
            "        [ 0.2995],\n",
            "        [-0.3375],\n",
            "        [ 0.1029],\n",
            "        [-0.0826],\n",
            "        [ 0.2640],\n",
            "        [ 0.3431]], requires_grad=True))\n",
            "1 ('l0.bias', Parameter containing:\n",
            "tensor([0., 0., 0., 0., 0., 0., 0., 0., 0., 0., 0., 0., 0., 0., 0., 0., 0., 0., 0., 0., 0., 0., 0., 0.,\n",
            "        0., 0., 0., 0., 0., 0., 0., 0.], requires_grad=True))\n",
            "2 ('l1.weight', Parameter containing:\n",
            "tensor([[ 0.0088, -0.0951,  0.0766,  ...,  0.0541, -0.0998,  0.0679],\n",
            "        [ 0.0076, -0.1707, -0.0530,  ...,  0.1175,  0.0720, -0.0312],\n",
            "        [ 0.1340, -0.0235, -0.1379,  ...,  0.1693,  0.1391,  0.0468],\n",
            "        ...,\n",
            "        [-0.1575,  0.1248,  0.1175,  ..., -0.0354,  0.1477,  0.0064],\n",
            "        [-0.0363,  0.0526,  0.0748,  ...,  0.0848, -0.1591, -0.0238],\n",
            "        [ 0.1222,  0.0725, -0.0474,  ...,  0.1647, -0.0776, -0.0889]],\n",
            "       requires_grad=True))\n",
            "3 ('l1.bias', Parameter containing:\n",
            "tensor([-0.1530,  0.1644, -0.0159, -0.0910,  0.0725, -0.0669, -0.0137,  0.0047,\n",
            "        -0.0963, -0.0971,  0.0379,  0.0111, -0.0421,  0.0561, -0.0945, -0.0508,\n",
            "         0.1440,  0.1200,  0.0980,  0.1331,  0.1277,  0.0960, -0.0044,  0.1249,\n",
            "         0.1456, -0.0293, -0.1759, -0.0392,  0.1314,  0.0470, -0.0265, -0.1712],\n",
            "       requires_grad=True))\n",
            "4 ('l2.weight', Parameter containing:\n",
            "tensor([[-0.1346, -0.0424,  0.1711,  0.0659,  0.0890, -0.0805, -0.0079,  0.0769,\n",
            "         -0.0935, -0.1083, -0.1337, -0.0902,  0.1321, -0.0617, -0.0966, -0.1752,\n",
            "          0.1168, -0.1544, -0.0353,  0.0083, -0.0397, -0.1368,  0.0964,  0.1666,\n",
            "          0.1122, -0.0353, -0.0535,  0.0951,  0.1307, -0.1556, -0.1052,  0.1597]],\n",
            "       requires_grad=True))\n",
            "5 ('l2.bias', Parameter containing:\n",
            "tensor([-0.0677], requires_grad=True))\n",
            "\n",
            "0 Parameter containing:\n",
            "tensor([[-0.2077],\n",
            "        [-0.3890],\n",
            "        [ 0.3151],\n",
            "        [-0.0054],\n",
            "        [ 0.2290],\n",
            "        [-0.1519],\n",
            "        [ 0.0928],\n",
            "        [ 0.2827],\n",
            "        [-0.0380],\n",
            "        [ 0.3525],\n",
            "        [ 0.0103],\n",
            "        [ 0.0015],\n",
            "        [-0.3570],\n",
            "        [ 0.2997],\n",
            "        [ 0.0300],\n",
            "        [-0.3543],\n",
            "        [-0.0371],\n",
            "        [-0.0863],\n",
            "        [-0.0005],\n",
            "        [-0.1006],\n",
            "        [ 0.0243],\n",
            "        [ 0.2538],\n",
            "        [ 0.2041],\n",
            "        [-0.3375],\n",
            "        [ 0.1948],\n",
            "        [ 0.3861],\n",
            "        [ 0.2995],\n",
            "        [-0.3375],\n",
            "        [ 0.1029],\n",
            "        [-0.0826],\n",
            "        [ 0.2640],\n",
            "        [ 0.3431]], requires_grad=True)\n",
            "1 Parameter containing:\n",
            "tensor([0., 0., 0., 0., 0., 0., 0., 0., 0., 0., 0., 0., 0., 0., 0., 0., 0., 0., 0., 0., 0., 0., 0., 0.,\n",
            "        0., 0., 0., 0., 0., 0., 0., 0.], requires_grad=True)\n",
            "2 Parameter containing:\n",
            "tensor([[ 0.0088, -0.0951,  0.0766,  ...,  0.0541, -0.0998,  0.0679],\n",
            "        [ 0.0076, -0.1707, -0.0530,  ...,  0.1175,  0.0720, -0.0312],\n",
            "        [ 0.1340, -0.0235, -0.1379,  ...,  0.1693,  0.1391,  0.0468],\n",
            "        ...,\n",
            "        [-0.1575,  0.1248,  0.1175,  ..., -0.0354,  0.1477,  0.0064],\n",
            "        [-0.0363,  0.0526,  0.0748,  ...,  0.0848, -0.1591, -0.0238],\n",
            "        [ 0.1222,  0.0725, -0.0474,  ...,  0.1647, -0.0776, -0.0889]],\n",
            "       requires_grad=True)\n",
            "3 Parameter containing:\n",
            "tensor([-0.1530,  0.1644, -0.0159, -0.0910,  0.0725, -0.0669, -0.0137,  0.0047,\n",
            "        -0.0963, -0.0971,  0.0379,  0.0111, -0.0421,  0.0561, -0.0945, -0.0508,\n",
            "         0.1440,  0.1200,  0.0980,  0.1331,  0.1277,  0.0960, -0.0044,  0.1249,\n",
            "         0.1456, -0.0293, -0.1759, -0.0392,  0.1314,  0.0470, -0.0265, -0.1712],\n",
            "       requires_grad=True)\n",
            "4 Parameter containing:\n",
            "tensor([[-0.1346, -0.0424,  0.1711,  0.0659,  0.0890, -0.0805, -0.0079,  0.0769,\n",
            "         -0.0935, -0.1083, -0.1337, -0.0902,  0.1321, -0.0617, -0.0966, -0.1752,\n",
            "          0.1168, -0.1544, -0.0353,  0.0083, -0.0397, -0.1368,  0.0964,  0.1666,\n",
            "          0.1122, -0.0353, -0.0535,  0.0951,  0.1307, -0.1556, -0.1052,  0.1597]],\n",
            "       requires_grad=True)\n",
            "5 Parameter containing:\n",
            "tensor([-0.0677], requires_grad=True)\n"
          ]
        },
        {
          "output_type": "stream",
          "name": "stderr",
          "text": [
            "<ipython-input-51-c99a1fa6031d>:16: UserWarning: nn.init.xavier_uniform is now deprecated in favor of nn.init.xavier_uniform_.\n",
            "  init.xavier_uniform(self.l0.weight)\n"
          ]
        }
      ]
    },
    {
      "cell_type": "code",
      "source": [
        "for idx, cl in enumerate(ANNmodel.named_children()): # cl: child layer\n",
        "  print(idx, cl)\n",
        "print()\n",
        "\n",
        "for idx, cl in enumerate(ANNmodel.children()): # cl: child layer\n",
        "  print(idx, cl)"
      ],
      "metadata": {
        "colab": {
          "base_uri": "https://localhost:8080/"
        },
        "id": "dQAQx_jZ5-9L",
        "outputId": "9de0dbef-e429-4364-b233-b72960c97f75"
      },
      "execution_count": 53,
      "outputs": [
        {
          "output_type": "stream",
          "name": "stdout",
          "text": [
            "0 ('l0', Linear(in_features=1, out_features=32, bias=True))\n",
            "1 ('relu0', ReLU())\n",
            "2 ('l1', Linear(in_features=32, out_features=32, bias=True))\n",
            "3 ('relu1', ReLU())\n",
            "4 ('l2', Linear(in_features=32, out_features=1, bias=True))\n",
            "\n",
            "0 Linear(in_features=1, out_features=32, bias=True)\n",
            "1 ReLU()\n",
            "2 Linear(in_features=32, out_features=32, bias=True)\n",
            "3 ReLU()\n",
            "4 Linear(in_features=32, out_features=1, bias=True)\n"
          ]
        }
      ]
    },
    {
      "cell_type": "code",
      "source": [
        "for idx, modu in enumerate(ANNmodel.named_modules()):\n",
        "  print(idx, modu)\n",
        "print()\n",
        "\n",
        "for idx, modu in enumerate(ANNmodel.modules()):\n",
        "  print(idx, modu)"
      ],
      "metadata": {
        "colab": {
          "base_uri": "https://localhost:8080/"
        },
        "id": "HlhNOefJ6Bz4",
        "outputId": "0d4d67a5-79f4-4a57-abef-87dde999af67"
      },
      "execution_count": 54,
      "outputs": [
        {
          "output_type": "stream",
          "name": "stdout",
          "text": [
            "0 ('', DsANN(\n",
            "  (l0): Linear(in_features=1, out_features=32, bias=True)\n",
            "  (relu0): ReLU()\n",
            "  (l1): Linear(in_features=32, out_features=32, bias=True)\n",
            "  (relu1): ReLU()\n",
            "  (l2): Linear(in_features=32, out_features=1, bias=True)\n",
            "))\n",
            "1 ('l0', Linear(in_features=1, out_features=32, bias=True))\n",
            "2 ('relu0', ReLU())\n",
            "3 ('l1', Linear(in_features=32, out_features=32, bias=True))\n",
            "4 ('relu1', ReLU())\n",
            "5 ('l2', Linear(in_features=32, out_features=1, bias=True))\n",
            "\n",
            "0 DsANN(\n",
            "  (l0): Linear(in_features=1, out_features=32, bias=True)\n",
            "  (relu0): ReLU()\n",
            "  (l1): Linear(in_features=32, out_features=32, bias=True)\n",
            "  (relu1): ReLU()\n",
            "  (l2): Linear(in_features=32, out_features=1, bias=True)\n",
            ")\n",
            "1 Linear(in_features=1, out_features=32, bias=True)\n",
            "2 ReLU()\n",
            "3 Linear(in_features=32, out_features=32, bias=True)\n",
            "4 ReLU()\n",
            "5 Linear(in_features=32, out_features=1, bias=True)\n"
          ]
        }
      ]
    },
    {
      "cell_type": "code",
      "source": [
        "ann_pred = ANNmodel(x)\n",
        "ann_pred"
      ],
      "metadata": {
        "colab": {
          "base_uri": "https://localhost:8080/"
        },
        "id": "bl2HylRy6EPO",
        "outputId": "9e089969-4c9d-4ce7-f1c8-9c515c13746a"
      },
      "execution_count": 55,
      "outputs": [
        {
          "output_type": "execute_result",
          "data": {
            "text/plain": [
              "tensor([[-0.0786],\n",
              "        [-0.0784],\n",
              "        [-0.0782],\n",
              "        [-0.0781],\n",
              "        [-0.0780],\n",
              "        [-0.0779],\n",
              "        [-0.0778],\n",
              "        [-0.0777],\n",
              "        [-0.0776],\n",
              "        [-0.0775],\n",
              "        [-0.0774],\n",
              "        [-0.0773],\n",
              "        [-0.0772],\n",
              "        [-0.0771],\n",
              "        [-0.0770],\n",
              "        [-0.0768],\n",
              "        [-0.0767],\n",
              "        [-0.0766],\n",
              "        [-0.0765],\n",
              "        [-0.0764],\n",
              "        [-0.0763],\n",
              "        [-0.0762],\n",
              "        [-0.0761],\n",
              "        [-0.0760],\n",
              "        [-0.0759],\n",
              "        [-0.0759],\n",
              "        [-0.0760],\n",
              "        [-0.0762],\n",
              "        [-0.0764],\n",
              "        [-0.0766],\n",
              "        [-0.0767],\n",
              "        [-0.0769],\n",
              "        [-0.0771],\n",
              "        [-0.0773],\n",
              "        [-0.0774],\n",
              "        [-0.0776],\n",
              "        [-0.0784],\n",
              "        [-0.0793],\n",
              "        [-0.0802],\n",
              "        [-0.0810],\n",
              "        [-0.0793],\n",
              "        [-0.0777],\n",
              "        [-0.0760],\n",
              "        [-0.0733],\n",
              "        [-0.0691],\n",
              "        [-0.0624],\n",
              "        [-0.0564],\n",
              "        [-0.0552],\n",
              "        [-0.0544],\n",
              "        [-0.0531],\n",
              "        [-0.0547],\n",
              "        [-0.0558],\n",
              "        [-0.0585],\n",
              "        [-0.0639],\n",
              "        [-0.0699],\n",
              "        [-0.0781],\n",
              "        [-0.0836],\n",
              "        [-0.0891],\n",
              "        [-0.0956],\n",
              "        [-0.0998],\n",
              "        [-0.1038],\n",
              "        [-0.1078],\n",
              "        [-0.1122],\n",
              "        [-0.1170],\n",
              "        [-0.1219],\n",
              "        [-0.1268],\n",
              "        [-0.1316],\n",
              "        [-0.1365],\n",
              "        [-0.1414],\n",
              "        [-0.1464],\n",
              "        [-0.1515],\n",
              "        [-0.1566],\n",
              "        [-0.1618],\n",
              "        [-0.1669],\n",
              "        [-0.1721],\n",
              "        [-0.1777],\n",
              "        [-0.1836],\n",
              "        [-0.1896],\n",
              "        [-0.1956],\n",
              "        [-0.2016],\n",
              "        [-0.2075],\n",
              "        [-0.2135],\n",
              "        [-0.2195],\n",
              "        [-0.2254],\n",
              "        [-0.2314],\n",
              "        [-0.2374],\n",
              "        [-0.2434],\n",
              "        [-0.2493],\n",
              "        [-0.2553],\n",
              "        [-0.2613],\n",
              "        [-0.2673],\n",
              "        [-0.2732],\n",
              "        [-0.2792],\n",
              "        [-0.2852],\n",
              "        [-0.2911],\n",
              "        [-0.2971],\n",
              "        [-0.3031],\n",
              "        [-0.3091],\n",
              "        [-0.3150],\n",
              "        [-0.3210]], grad_fn=<AddmmBackward0>)"
            ]
          },
          "metadata": {},
          "execution_count": 55
        }
      ]
    },
    {
      "cell_type": "markdown",
      "source": [
        "# Loss\n",
        "## (1) 선형 모델"
      ],
      "metadata": {
        "id": "TDnYj3-gI_9p"
      }
    },
    {
      "cell_type": "code",
      "source": [
        "loss_func = MSELoss()\n",
        "\n",
        "l = loss_func(lin_pred, y)\n",
        "l"
      ],
      "metadata": {
        "colab": {
          "base_uri": "https://localhost:8080/"
        },
        "id": "m_oMh8yv5Ns4",
        "outputId": "741ab434-f074-42a2-f19a-23dc583454c3"
      },
      "execution_count": 56,
      "outputs": [
        {
          "output_type": "execute_result",
          "data": {
            "text/plain": [
              "tensor(1082.3280, grad_fn=<MseLossBackward0>)"
            ]
          },
          "metadata": {},
          "execution_count": 56
        }
      ]
    },
    {
      "cell_type": "markdown",
      "source": [
        "## (2) ANN 모델"
      ],
      "metadata": {
        "id": "8mDPL97X6PfD"
      }
    },
    {
      "cell_type": "code",
      "source": [
        "loss_func = MSELoss()\n",
        "\n",
        "l = loss_func(ann_pred, y)\n",
        "l"
      ],
      "metadata": {
        "colab": {
          "base_uri": "https://localhost:8080/"
        },
        "id": "NIRn2CG-6Sh6",
        "outputId": "3a62585b-3e56-44b4-a071-6944701f60f0"
      },
      "execution_count": 57,
      "outputs": [
        {
          "output_type": "execute_result",
          "data": {
            "text/plain": [
              "tensor(1188.9702, grad_fn=<MseLossBackward0>)"
            ]
          },
          "metadata": {},
          "execution_count": 57
        }
      ]
    },
    {
      "cell_type": "markdown",
      "source": [
        "# Training Loop"
      ],
      "metadata": {
        "id": "7FNVl-ELJC1Y"
      }
    },
    {
      "cell_type": "code",
      "source": [
        "def training_loop(\n",
        "    x, y,\n",
        "    model,\n",
        "    lr,\n",
        "    n_epochs,\n",
        "):\n",
        "\n",
        "  model.train()\n",
        "  # model.eval()\n",
        "\n",
        "  optimizer = optim.SGD(\n",
        "    model.parameters(),\n",
        "    lr = lr,\n",
        "  )\n",
        "\n",
        "  print(n_epochs)\n",
        "\n",
        "\n",
        "  for epoch in range(n_epochs):\n",
        "    pred = model(x)\n",
        "    l = loss_func(pred, y)\n",
        "\n",
        "    if torch.isinf(l).any(): # 무한대로 발산하면\n",
        "      print('Error: diverge!')\n",
        "      break\n",
        "\n",
        "    optimizer.zero_grad()\n",
        "    l.backward()\n",
        "    optimizer.step()\n",
        "\n",
        "    if epoch % 1000 == 0:\n",
        "      print(f'Epoch {epoch}: Loss {float(l):0.4f}')\n",
        "\n",
        "  return model"
      ],
      "metadata": {
        "id": "hS6gfojL6Ln1"
      },
      "execution_count": 58,
      "outputs": []
    },
    {
      "cell_type": "markdown",
      "source": [
        "# Train\n",
        "## (1) 선형 모델"
      ],
      "metadata": {
        "id": "hPalmTCNJJIB"
      }
    },
    {
      "cell_type": "code",
      "source": [
        "linearModel = DsLinearModel(1,1)\n",
        "linearModel = training_loop(\n",
        "    x, y,\n",
        "    linearModel,\n",
        "    1e-3,\n",
        "    7000,\n",
        ")"
      ],
      "metadata": {
        "colab": {
          "base_uri": "https://localhost:8080/"
        },
        "id": "s5xNKhbo9ZFR",
        "outputId": "c028bab2-6c1c-4677-a953-b9ebc1c9c583"
      },
      "execution_count": 59,
      "outputs": [
        {
          "output_type": "stream",
          "name": "stdout",
          "text": [
            "7000\n",
            "Epoch 0: Loss 1082.3280\n",
            "Epoch 1000: Loss 82.2682\n",
            "Epoch 2000: Loss 64.5594\n",
            "Epoch 3000: Loss 64.2364\n",
            "Epoch 4000: Loss 64.2305\n",
            "Epoch 5000: Loss 64.2304\n",
            "Epoch 6000: Loss 64.2304\n"
          ]
        }
      ]
    },
    {
      "cell_type": "code",
      "source": [
        "ANNmodel = DsANN(1,1)\n",
        "ANNmodel = training_loop(\n",
        "    x, y,\n",
        "    ANNmodel,\n",
        "    1e-3,\n",
        "    7000,\n",
        ")"
      ],
      "metadata": {
        "colab": {
          "base_uri": "https://localhost:8080/"
        },
        "id": "15J_mkoS6dtk",
        "outputId": "7c21b4bc-3ad8-4032-c4f3-7fe9480e02d4"
      },
      "execution_count": 60,
      "outputs": [
        {
          "output_type": "stream",
          "name": "stderr",
          "text": [
            "<ipython-input-51-c99a1fa6031d>:16: UserWarning: nn.init.xavier_uniform is now deprecated in favor of nn.init.xavier_uniform_.\n",
            "  init.xavier_uniform(self.l0.weight)\n"
          ]
        },
        {
          "output_type": "stream",
          "name": "stdout",
          "text": [
            "7000\n",
            "Epoch 0: Loss 1183.1591\n",
            "Epoch 1000: Loss 65.1092\n",
            "Epoch 2000: Loss 63.9213\n",
            "Epoch 3000: Loss 63.1424\n",
            "Epoch 4000: Loss 62.5013\n",
            "Epoch 5000: Loss 61.2798\n",
            "Epoch 6000: Loss 60.9193\n"
          ]
        }
      ]
    },
    {
      "cell_type": "markdown",
      "source": [
        "# Evaluation\n",
        "## (1) 선형회귀"
      ],
      "metadata": {
        "id": "K1xTup6QJYQv"
      }
    },
    {
      "cell_type": "code",
      "source": [
        "pred = linearModel(x)\n",
        "plt.scatter(x.detach().numpy(),y.detach().numpy())\n",
        "plt.plot(x.detach().numpy(), pred.detach().numpy(), color='r')\n",
        "plt.plot(x.detach().numpy(), y_ideal, color='g')"
      ],
      "metadata": {
        "colab": {
          "base_uri": "https://localhost:8080/",
          "height": 448
        },
        "id": "KG7L6riT8zpA",
        "outputId": "5e55bcb9-f916-4865-f252-b13bbbc87ff6"
      },
      "execution_count": 61,
      "outputs": [
        {
          "output_type": "execute_result",
          "data": {
            "text/plain": [
              "[<matplotlib.lines.Line2D at 0x7ccfc2f05510>]"
            ]
          },
          "metadata": {},
          "execution_count": 61
        },
        {
          "output_type": "display_data",
          "data": {
            "text/plain": [
              "<Figure size 640x480 with 1 Axes>"
            ],
            "image/png": "[encoded data removed]"
          },
          "metadata": {}
        }
      ]
    },
    {
      "cell_type": "code",
      "source": [
        "from torchsummary import summary\n",
        "\n",
        "summary(linearModel, (1,))"
      ],
      "metadata": {
        "colab": {
          "base_uri": "https://localhost:8080/"
        },
        "id": "u5RUZP9sFK_1",
        "outputId": "05314575-fbee-4999-d229-25126d045c2f"
      },
      "execution_count": 62,
      "outputs": [
        {
          "output_type": "stream",
          "name": "stdout",
          "text": [
            "----------------------------------------------------------------\n",
            "        Layer (type)               Output Shape         Param #\n",
            "================================================================\n",
            "            Linear-1                    [-1, 1]               2\n",
            "================================================================\n",
            "Total params: 2\n",
            "Trainable params: 2\n",
            "Non-trainable params: 0\n",
            "----------------------------------------------------------------\n",
            "Input size (MB): 0.00\n",
            "Forward/backward pass size (MB): 0.00\n",
            "Params size (MB): 0.00\n",
            "Estimated Total Size (MB): 0.00\n",
            "----------------------------------------------------------------\n"
          ]
        }
      ]
    },
    {
      "cell_type": "markdown",
      "source": [
        "## (2) ANN"
      ],
      "metadata": {
        "id": "pCeJvpFI6srC"
      }
    },
    {
      "cell_type": "code",
      "source": [
        "pred = ANNmodel(x)\n",
        "plt.scatter(x.detach().numpy(),y.detach().numpy())\n",
        "plt.plot(x.detach().numpy(), pred.detach().numpy(), color='r')\n",
        "plt.plot(x.detach().numpy(), y_ideal, color='g')"
      ],
      "metadata": {
        "colab": {
          "base_uri": "https://localhost:8080/",
          "height": 448
        },
        "id": "cB8qT9vh6wJx",
        "outputId": "b900ff84-a23d-4ac2-ede6-842d2b42f0b7"
      },
      "execution_count": 63,
      "outputs": [
        {
          "output_type": "execute_result",
          "data": {
            "text/plain": [
              "[<matplotlib.lines.Line2D at 0x7ccfc2ee89a0>]"
            ]
          },
          "metadata": {},
          "execution_count": 63
        },
        {
          "output_type": "display_data",
          "data": {
            "text/plain": [
              "<Figure size 640x480 with 1 Axes>"
            ],
            "image/png": "[encoded data removed]"
          },
          "metadata": {}
        }
      ]
    },
    {
      "cell_type": "code",
      "source": [
        "from torchsummary import summary\n",
        "\n",
        "summary(ANNmodel, (1,))"
      ],
      "metadata": {
        "colab": {
          "base_uri": "https://localhost:8080/"
        },
        "id": "a9A49xcP6zl5",
        "outputId": "37ce6ae2-49ad-44a8-8025-cd283fb85898"
      },
      "execution_count": 64,
      "outputs": [
        {
          "output_type": "stream",
          "name": "stdout",
          "text": [
            "----------------------------------------------------------------\n",
            "        Layer (type)               Output Shape         Param #\n",
            "================================================================\n",
            "            Linear-1                   [-1, 32]              64\n",
            "              ReLU-2                   [-1, 32]               0\n",
            "            Linear-3                   [-1, 32]           1,056\n",
            "              ReLU-4                   [-1, 32]               0\n",
            "            Linear-5                    [-1, 1]              33\n",
            "================================================================\n",
            "Total params: 1,153\n",
            "Trainable params: 1,153\n",
            "Non-trainable params: 0\n",
            "----------------------------------------------------------------\n",
            "Input size (MB): 0.00\n",
            "Forward/backward pass size (MB): 0.00\n",
            "Params size (MB): 0.00\n",
            "Estimated Total Size (MB): 0.01\n",
            "----------------------------------------------------------------\n"
          ]
        }
      ]
    }
  ]
}