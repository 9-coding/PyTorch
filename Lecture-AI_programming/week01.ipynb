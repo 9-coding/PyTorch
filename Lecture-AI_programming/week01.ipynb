{
  "nbformat": 4,
  "nbformat_minor": 0,
  "metadata": {
    "colab": {
      "provenance": []
    },
    "kernelspec": {
      "name": "python3",
      "display_name": "Python 3"
    },
    "language_info": {
      "name": "python"
    }
  },
  "cells": [
    {
      "cell_type": "code",
      "execution_count": null,
      "metadata": {
        "id": "HLKihuDnk3PY"
      },
      "outputs": [],
      "source": [
        "import numpy as np\n",
        "import tensorflow as tf\n",
        "import torch"
      ]
    },
    {
      "cell_type": "markdown",
      "source": [
        "### 버전 확인"
      ],
      "metadata": {
        "id": "VDG0231dLl36"
      }
    },
    {
      "cell_type": "code",
      "source": [
        "np.__version__"
      ],
      "metadata": {
        "colab": {
          "base_uri": "https://localhost:8080/",
          "height": 35
        },
        "id": "QgyNh-pgrWJN",
        "outputId": "79db6545-9cd9-49be-f458-a3e98bf46596"
      },
      "execution_count": null,
      "outputs": [
        {
          "output_type": "execute_result",
          "data": {
            "text/plain": [
              "'1.25.2'"
            ],
            "application/vnd.google.colaboratory.intrinsic+json": {
              "type": "string"
            }
          },
          "metadata": {},
          "execution_count": 3
        }
      ]
    },
    {
      "cell_type": "code",
      "source": [
        "tf.__version__"
      ],
      "metadata": {
        "colab": {
          "base_uri": "https://localhost:8080/",
          "height": 35
        },
        "id": "fiKK_FcuraOD",
        "outputId": "902feb33-a06b-4029-ef6b-db9cfc6c0429"
      },
      "execution_count": null,
      "outputs": [
        {
          "output_type": "execute_result",
          "data": {
            "text/plain": [
              "'2.15.0'"
            ],
            "application/vnd.google.colaboratory.intrinsic+json": {
              "type": "string"
            }
          },
          "metadata": {},
          "execution_count": 4
        }
      ]
    },
    {
      "cell_type": "code",
      "source": [
        "torch.__version__"
      ],
      "metadata": {
        "colab": {
          "base_uri": "https://localhost:8080/",
          "height": 35
        },
        "id": "12ddIgkGrlur",
        "outputId": "d33379d1-513c-4a0d-9c81-d94d115bc9ad"
      },
      "execution_count": null,
      "outputs": [
        {
          "output_type": "execute_result",
          "data": {
            "text/plain": [
              "'2.2.1+cu121'"
            ],
            "application/vnd.google.colaboratory.intrinsic+json": {
              "type": "string"
            }
          },
          "metadata": {},
          "execution_count": 6
        }
      ]
    },
    {
      "cell_type": "code",
      "source": [
        "import sys\n",
        "print(sys.version)"
      ],
      "metadata": {
        "colab": {
          "base_uri": "https://localhost:8080/"
        },
        "id": "sxg8W__Frn3P",
        "outputId": "a473b303-2cee-4821-b50c-d1b9fea291b5"
      },
      "execution_count": null,
      "outputs": [
        {
          "output_type": "stream",
          "name": "stdout",
          "text": [
            "3.10.12 (main, Nov 20 2023, 15:14:05) [GCC 11.4.0]\n"
          ]
        }
      ]
    },
    {
      "cell_type": "markdown",
      "source": [
        "### 크기 / 차원 / 타입 확인\n",
        "- ndim: dimension 개수\n",
        "- shape: 몇 행, 몇 열인지 반환\n",
        "- itemsize: 차지하는 byte 수\n",
        "- size: 전체 원소의 개수\n",
        "- dtype: data type\n",
        "\n",
        "data type에서 (6)과 (6,)은 매우 다른 것임. <br>\n",
        "(6)은 integer, (6,)은 튜플."
      ],
      "metadata": {
        "id": "TLfpmIM1Nq1a"
      }
    },
    {
      "cell_type": "code",
      "source": [
        "t = (1,2,3,4,5,6)\n",
        "a = np.array(t)\n",
        "print(type(t))\n",
        "print(type(a))"
      ],
      "metadata": {
        "colab": {
          "base_uri": "https://localhost:8080/"
        },
        "id": "6Mrghl5usk8W",
        "outputId": "e223724a-8f90-4b76-c6df-e4522a413dff"
      },
      "execution_count": null,
      "outputs": [
        {
          "output_type": "stream",
          "name": "stdout",
          "text": [
            "<class 'tuple'>\n",
            "<class 'numpy.ndarray'>\n"
          ]
        }
      ]
    },
    {
      "cell_type": "code",
      "source": [
        "print(a.ndim)\n",
        "print(a.shape)\n",
        "print(a.itemsize) # byte 수\n",
        "print(a.size)\n",
        "print(a.dtype)"
      ],
      "metadata": {
        "colab": {
          "base_uri": "https://localhost:8080/"
        },
        "id": "v92PajjfunjP",
        "outputId": "126b7888-16d3-45df-e12e-a7921386fc47"
      },
      "execution_count": null,
      "outputs": [
        {
          "output_type": "stream",
          "name": "stdout",
          "text": [
            "1\n",
            "(6,)\n",
            "8\n",
            "6\n",
            "int64\n"
          ]
        }
      ]
    },
    {
      "cell_type": "code",
      "source": [
        "a = np.array([1.,2.,3.])\n",
        "print(a.dtype)\n",
        "a = np.array([1.,2.,3.], dtype=int)\n",
        "print(a.dtype)\n",
        "a = np.array([1.,2.,3.], dtype=float)\n",
        "print(a.dtype)"
      ],
      "metadata": {
        "colab": {
          "base_uri": "https://localhost:8080/"
        },
        "id": "U97TJ1yowtqn",
        "outputId": "cc8717fe-e52b-4795-8d9e-def48ba6ef6e"
      },
      "execution_count": null,
      "outputs": [
        {
          "output_type": "stream",
          "name": "stdout",
          "text": [
            "float64\n",
            "int64\n",
            "float64\n"
          ]
        }
      ]
    },
    {
      "cell_type": "code",
      "source": [
        "# tensoflow에서 tensor 생성\n",
        "# tensorflow는 gpu기반 연산이기 때문에 int32와 float32를 사용.\n",
        "tensor = tf.constant(t)\n",
        "print(tf.rank(tensor)) # dimension 수 반환.\n",
        "print(tensor.ndim)\n",
        "print(tensor.shape)\n",
        "print(tensor.dtype)\n",
        "tensor"
      ],
      "metadata": {
        "colab": {
          "base_uri": "https://localhost:8080/"
        },
        "id": "1yIk4FPSxBs8",
        "outputId": "9e506d65-0de2-448e-bdb8-771bb0de16f7"
      },
      "execution_count": null,
      "outputs": [
        {
          "output_type": "stream",
          "name": "stdout",
          "text": [
            "tf.Tensor(1, shape=(), dtype=int32)\n",
            "1\n",
            "(6,)\n",
            "<dtype: 'int32'>\n"
          ]
        },
        {
          "output_type": "execute_result",
          "data": {
            "text/plain": [
              "<tf.Tensor: shape=(6,), dtype=int32, numpy=array([1, 2, 3, 4, 5, 6], dtype=int32)>"
            ]
          },
          "metadata": {},
          "execution_count": 11
        }
      ]
    },
    {
      "cell_type": "code",
      "source": [
        "# torch에서 tensor 생성\n",
        "p = torch.tensor(t)\n",
        "print(p.ndim, type(p.ndim))\n",
        "print(p.shape, type(p.shape))\n",
        "print(p.itemsize, type(p.itemsize))\n",
        "print(p.size, type(p.size()))\n",
        "print(p.dtype, type(p.dtype))"
      ],
      "metadata": {
        "colab": {
          "base_uri": "https://localhost:8080/"
        },
        "id": "7FjCOTgu1wL6",
        "outputId": "e51a3bcc-60d9-4b16-eef1-321fc87282d0"
      },
      "execution_count": null,
      "outputs": [
        {
          "output_type": "stream",
          "name": "stdout",
          "text": [
            "1 <class 'int'>\n",
            "torch.Size([6]) <class 'torch.Size'>\n",
            "8 <class 'int'>\n",
            "<built-in method size of Tensor object at 0x796f81735710> <class 'torch.Size'>\n",
            "torch.int64 <class 'torch.dtype'>\n"
          ]
        }
      ]
    },
    {
      "cell_type": "markdown",
      "source": [
        "### dtype\n",
        "- numpy: float64 / int64\n",
        "- tensorflow: float32 / int32\n",
        "- torch: float32 / int64"
      ],
      "metadata": {
        "id": "Aqt_CtJ726-5"
      }
    },
    {
      "cell_type": "code",
      "source": [
        "# 이건 기억을 해놓자\n",
        "print(np.array([1.,2.,3.]).dtype)\n",
        "print(np.array([1,2,3]).dtype)\n",
        "print(tf.constant([1.,2.,3.]).dtype)\n",
        "print(tf.constant([1,2,3]).dtype)\n",
        "print(torch.tensor([1.,2.,3.]).dtype)\n",
        "print(torch.tensor([1,2,3]).dtype)"
      ],
      "metadata": {
        "colab": {
          "base_uri": "https://localhost:8080/"
        },
        "id": "3oQfSAtTwDVC",
        "outputId": "f9a752a1-e883-42ed-a82e-8db23d823b2a"
      },
      "execution_count": null,
      "outputs": [
        {
          "output_type": "stream",
          "name": "stdout",
          "text": [
            "float64\n",
            "int64\n",
            "<dtype: 'float32'>\n",
            "<dtype: 'int32'>\n",
            "torch.float32\n",
            "torch.int64\n"
          ]
        }
      ]
    },
    {
      "cell_type": "code",
      "source": [
        "# nested lists result in multi-dimensional arrays\n",
        "a = np.array([range(i, i+3) for i in [2,4,6]]) # comprehension\n",
        "print(a.ndim)\n",
        "print(a.shape)\n",
        "print(a.itemsize) # byte 수\n",
        "print(a.size)\n",
        "print(a.dtype)\n",
        "a"
      ],
      "metadata": {
        "colab": {
          "base_uri": "https://localhost:8080/"
        },
        "id": "gqgf3u5o35iK",
        "outputId": "3e9733c9-043d-4416-96e7-5b9635240f7c"
      },
      "execution_count": null,
      "outputs": [
        {
          "output_type": "stream",
          "name": "stdout",
          "text": [
            "2\n",
            "(3, 3)\n",
            "8\n",
            "9\n",
            "int64\n"
          ]
        },
        {
          "output_type": "execute_result",
          "data": {
            "text/plain": [
              "array([[2, 3, 4],\n",
              "       [4, 5, 6],\n",
              "       [6, 7, 8]])"
            ]
          },
          "metadata": {},
          "execution_count": 17
        }
      ]
    },
    {
      "cell_type": "code",
      "source": [
        "tensor = tf.constant(a)\n",
        "print(tf.rank(tensor))\n",
        "print(tensor.ndim)\n",
        "print(tensor.dtype)\n",
        "tensor"
      ],
      "metadata": {
        "colab": {
          "base_uri": "https://localhost:8080/"
        },
        "id": "gvA_dhmX4jgp",
        "outputId": "b82fcf88-5981-44f0-dc7b-83de92e83d02"
      },
      "execution_count": null,
      "outputs": [
        {
          "output_type": "stream",
          "name": "stdout",
          "text": [
            "tf.Tensor(2, shape=(), dtype=int32)\n",
            "2\n",
            "<dtype: 'int64'>\n"
          ]
        },
        {
          "output_type": "execute_result",
          "data": {
            "text/plain": [
              "<tf.Tensor: shape=(3, 3), dtype=int64, numpy=\n",
              "array([[2, 3, 4],\n",
              "       [4, 5, 6],\n",
              "       [6, 7, 8]])>"
            ]
          },
          "metadata": {},
          "execution_count": 18
        }
      ]
    },
    {
      "cell_type": "markdown",
      "source": [
        "### zeros\n",
        "- 행렬을 0으로 채움"
      ],
      "metadata": {
        "id": "noNf5FRwfTHZ"
      }
    },
    {
      "cell_type": "code",
      "source": [
        "a = np.zeros((3,2))\n",
        "print(a.dtype)\n",
        "a"
      ],
      "metadata": {
        "colab": {
          "base_uri": "https://localhost:8080/"
        },
        "id": "x_dV6Lm143L7",
        "outputId": "cc05423f-fac0-4093-8b1b-8d3e1fd07ae3"
      },
      "execution_count": null,
      "outputs": [
        {
          "output_type": "stream",
          "name": "stdout",
          "text": [
            "float64\n"
          ]
        },
        {
          "output_type": "execute_result",
          "data": {
            "text/plain": [
              "array([[0., 0.],\n",
              "       [0., 0.],\n",
              "       [0., 0.]])"
            ]
          },
          "metadata": {},
          "execution_count": 19
        }
      ]
    },
    {
      "cell_type": "code",
      "source": [
        "a_tf = tf.zeros(shape=(3,2))\n",
        "print(a_tf.dtype)\n",
        "a_tf"
      ],
      "metadata": {
        "colab": {
          "base_uri": "https://localhost:8080/"
        },
        "id": "WJ3_EIkh56aA",
        "outputId": "0663d6b0-9553-4f22-d172-99bc2dc4f746"
      },
      "execution_count": null,
      "outputs": [
        {
          "output_type": "stream",
          "name": "stdout",
          "text": [
            "<dtype: 'float32'>\n"
          ]
        },
        {
          "output_type": "execute_result",
          "data": {
            "text/plain": [
              "array([[0., 0.],\n",
              "       [0., 0.],\n",
              "       [0., 0.]])"
            ]
          },
          "metadata": {},
          "execution_count": 20
        }
      ]
    },
    {
      "cell_type": "code",
      "source": [
        "a_tf.numpy()"
      ],
      "metadata": {
        "colab": {
          "base_uri": "https://localhost:8080/"
        },
        "id": "E4Uxuaas6rkI",
        "outputId": "6cc08558-7cbd-467d-9c93-1d401694ddca"
      },
      "execution_count": null,
      "outputs": [
        {
          "output_type": "execute_result",
          "data": {
            "text/plain": [
              "array([[0., 0.],\n",
              "       [0., 0.],\n",
              "       [0., 0.]], dtype=float32)"
            ]
          },
          "metadata": {},
          "execution_count": 21
        }
      ]
    },
    {
      "cell_type": "markdown",
      "source": [
        "### ones\n",
        "- 행렬을 1로 채움"
      ],
      "metadata": {
        "id": "3tulgZXIfa-h"
      }
    },
    {
      "cell_type": "code",
      "source": [
        "a = np.ones((3,2))\n",
        "print(a.dtype)\n",
        "a"
      ],
      "metadata": {
        "colab": {
          "base_uri": "https://localhost:8080/"
        },
        "id": "V6A_hOJ56-cR",
        "outputId": "44af58da-4290-462f-9aec-d4315dc4143b"
      },
      "execution_count": null,
      "outputs": [
        {
          "output_type": "stream",
          "name": "stdout",
          "text": [
            "float64\n"
          ]
        },
        {
          "output_type": "execute_result",
          "data": {
            "text/plain": [
              "array([[1., 1.],\n",
              "       [1., 1.],\n",
              "       [1., 1.]])"
            ]
          },
          "metadata": {},
          "execution_count": 24
        }
      ]
    },
    {
      "cell_type": "markdown",
      "source": [
        "### full / fill\n",
        "- 행렬을 특정 값으로 가득 채움"
      ],
      "metadata": {
        "id": "QE1vzHGELx7t"
      }
    },
    {
      "cell_type": "code",
      "source": [
        "a = np.full((1,3),255)\n",
        "print(a.dtype)\n",
        "a"
      ],
      "metadata": {
        "colab": {
          "base_uri": "https://localhost:8080/"
        },
        "id": "DH9clL-L7kgD",
        "outputId": "4a47037d-079f-47a6-fa0f-288f5984fd65"
      },
      "execution_count": null,
      "outputs": [
        {
          "output_type": "stream",
          "name": "stdout",
          "text": [
            "int64\n"
          ]
        },
        {
          "output_type": "execute_result",
          "data": {
            "text/plain": [
              "array([[255, 255, 255]])"
            ]
          },
          "metadata": {},
          "execution_count": 25
        }
      ]
    },
    {
      "cell_type": "code",
      "source": [
        "a_tf = tf.fill((1,3),255)\n",
        "print(a_tf.dtype)\n",
        "a_tf"
      ],
      "metadata": {
        "colab": {
          "base_uri": "https://localhost:8080/"
        },
        "id": "2I6kqWVH78sz",
        "outputId": "fbba73f4-4e9b-405d-9aba-ce28c5dd57bc"
      },
      "execution_count": null,
      "outputs": [
        {
          "output_type": "stream",
          "name": "stdout",
          "text": [
            "<dtype: 'int32'>\n"
          ]
        },
        {
          "output_type": "execute_result",
          "data": {
            "text/plain": [
              "<tf.Tensor: shape=(1, 3), dtype=int32, numpy=array([[255, 255, 255]], dtype=int32)>"
            ]
          },
          "metadata": {},
          "execution_count": 26
        }
      ]
    },
    {
      "cell_type": "markdown",
      "source": [
        "### 원하는 값으로 행렬 채우기\n",
        "- arange: 시작과 끝값을 설정하고 특정 값이 계속 더해지는 1차원 벡터 생성\n",
        "- linspace: 시작과 끝값을 설정하고 특정 값으로 등분하는 1차원 벡터 샐성\n",
        "- empty: 빈 값으로 행렬 생성\n",
        "- eye: identity matrix 생성"
      ],
      "metadata": {
        "id": "rwm6EIUjL3R1"
      }
    },
    {
      "cell_type": "code",
      "source": [
        "print(range(0,10,1))\n",
        "print(np.arange(0, 1, 0.1))"
      ],
      "metadata": {
        "colab": {
          "base_uri": "https://localhost:8080/"
        },
        "id": "Bh61OdxI9ffN",
        "outputId": "0e766824-38f1-4d82-80b1-fff5f8830d12"
      },
      "execution_count": null,
      "outputs": [
        {
          "output_type": "stream",
          "name": "stdout",
          "text": [
            "range(0, 10)\n",
            "[0.  0.1 0.2 0.3 0.4 0.5 0.6 0.7 0.8 0.9]\n"
          ]
        }
      ]
    },
    {
      "cell_type": "code",
      "source": [
        "a = np.arange(0,24,2).reshape(3,4)\n",
        "print(a.dtype)\n",
        "a"
      ],
      "metadata": {
        "colab": {
          "base_uri": "https://localhost:8080/"
        },
        "id": "_abeRp7i93qZ",
        "outputId": "47f0ff5e-a225-4a72-c4fb-a4a3654017da"
      },
      "execution_count": null,
      "outputs": [
        {
          "output_type": "stream",
          "name": "stdout",
          "text": [
            "int64\n"
          ]
        },
        {
          "output_type": "execute_result",
          "data": {
            "text/plain": [
              "array([[ 0,  2,  4,  6],\n",
              "       [ 8, 10, 12, 14],\n",
              "       [16, 18, 20, 22]])"
            ]
          },
          "metadata": {},
          "execution_count": 34
        }
      ]
    },
    {
      "cell_type": "code",
      "source": [
        "a = np.linspace(1,5,6) # (시작, 끝, 등분)\n",
        "print(a.dtype)\n",
        "print(a)\n",
        "a_tf = tf.linspace(1,5,6) # float32가 아닌 float64임을 주의.\n",
        "print(a_tf.dtype)\n",
        "b_tf = tf.dtypes.cast(a_tf, tf.float32) # 바꿔서 casting해주는 것이 좋음.\n",
        "print(b_tf.dtype)\n",
        "print(b_tf)\n",
        "a_torch = torch.linspace(1,5,6)\n",
        "print(a_torch.dtype)\n",
        "print(a_torch)"
      ],
      "metadata": {
        "colab": {
          "base_uri": "https://localhost:8080/"
        },
        "id": "7l1qq5Mg-Hsa",
        "outputId": "51a20ead-5761-4a98-adca-5b5b25693694"
      },
      "execution_count": null,
      "outputs": [
        {
          "output_type": "stream",
          "name": "stdout",
          "text": [
            "float64\n",
            "[1.  1.8 2.6 3.4 4.2 5. ]\n",
            "<dtype: 'float64'>\n",
            "<dtype: 'float32'>\n",
            "tf.Tensor([1.  1.8 2.6 3.4 4.2 5. ], shape=(6,), dtype=float32)\n",
            "torch.float32\n",
            "tensor([1.0000, 1.8000, 2.6000, 3.4000, 4.2000, 5.0000])\n"
          ]
        }
      ]
    },
    {
      "cell_type": "code",
      "source": [
        "a = np.empty((4,2)) # 초기화를 안 하기 때문에 빠름.\n",
        "print(a.dtype)\n",
        "print(a)\n",
        "a_torch = torch.empty((4,2))\n",
        "print(a_torch.dtype)\n",
        "print(a_torch)\n"
      ],
      "metadata": {
        "colab": {
          "base_uri": "https://localhost:8080/"
        },
        "id": "v1NYBsuS_f2Z",
        "outputId": "9888e58a-9a7e-46e2-9edf-0bc1218cbcfb"
      },
      "execution_count": null,
      "outputs": [
        {
          "output_type": "stream",
          "name": "stdout",
          "text": [
            "float64\n",
            "[[4.86809279e-310 0.00000000e+000]\n",
            " [0.00000000e+000 0.00000000e+000]\n",
            " [0.00000000e+000 0.00000000e+000]\n",
            " [0.00000000e+000 0.00000000e+000]]\n",
            "torch.float32\n",
            "tensor([[-5.4627e+09,  4.3564e-41],\n",
            "        [-7.8106e-37,  3.2140e-41],\n",
            "        [ 4.2000e+00,  5.0000e+00],\n",
            "        [ 1.8077e-43,  0.0000e+00]])\n"
          ]
        }
      ]
    },
    {
      "cell_type": "code",
      "source": [
        "xxx = np.eye(3) # identity matrix\n",
        "print(xxx)\n",
        "xxx"
      ],
      "metadata": {
        "colab": {
          "base_uri": "https://localhost:8080/"
        },
        "id": "klTeKO_87H10",
        "outputId": "29c03cb5-60f8-44df-cd7e-5c7cf4638f82"
      },
      "execution_count": null,
      "outputs": [
        {
          "output_type": "stream",
          "name": "stdout",
          "text": [
            "[[1. 0. 0.]\n",
            " [0. 1. 0.]\n",
            " [0. 0. 1.]]\n"
          ]
        },
        {
          "output_type": "execute_result",
          "data": {
            "text/plain": [
              "array([[1., 0., 0.],\n",
              "       [0., 1., 0.],\n",
              "       [0., 0., 1.]])"
            ]
          },
          "metadata": {},
          "execution_count": 22
        }
      ]
    },
    {
      "cell_type": "markdown",
      "source": [
        "# 파이썬 자료형\n",
        "### Immutable\n",
        "- 불변형 자료형.\n",
        "- 값을 바꿀 때 메모리에 저장된 데이터를 없애고 만듦.\n",
        "- int, float, str, tuple\n",
        "\n",
        "### Mutable\n",
        "- 변형 자료형.\n",
        "- 값을 바꿀 때 할당된 메모리를 놔두고 내용만 바꿈.\n",
        "- list, dict\n",
        "\n",
        "<br>\n",
        "\n",
        "### collection\n",
        "- 데이터를 서로 연관시키지 않고 모아두는 컨테이너.\n",
        "- set, dict 등.\n",
        "  - set: 반복 가능, mutable, 중복x, 정렬x\n",
        "\n",
        "### sequence\n",
        "- 순서가 유지되고 정수로 인덱싱하며 길이가 있는 컨테이너.\n",
        "- str(character의 시퀀스), list, tuple, 사용자 정의 클래스\n",
        "\n",
        "### mapping\n",
        "- key와 value의 짝으로 이루어짐.\n",
        "- dict.\n"
      ],
      "metadata": {
        "id": "Pyl8TuGROzAs"
      }
    }
  ]
}