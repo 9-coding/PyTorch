{
  "nbformat": 4,
  "nbformat_minor": 0,
  "metadata": {
    "colab": {
      "provenance": [],
      "include_colab_link": true
    },
    "kernelspec": {
      "name": "python3",
      "display_name": "Python 3"
    },
    "language_info": {
      "name": "python"
    }
  },
  "cells": [
    {
      "cell_type": "markdown",
      "metadata": {
        "id": "view-in-github",
        "colab_type": "text"
      },
      "source": [
        "<a href=\"https://colab.research.google.com/github/9-coding/PyTorch/blob/main/15-linear_regression_with_module.ipynb\" target=\"_parent\"><img src=\"https://colab.research.google.com/assets/colab-badge.svg\" alt=\"Open In Colab\"/></a>"
      ]
    },
    {
      "cell_type": "code",
      "execution_count": null,
      "metadata": {
        "id": "QRVdeyLdoAgx"
      },
      "outputs": [],
      "source": [
        "import torch\n",
        "import numpy as np"
      ]
    },
    {
      "cell_type": "code",
      "source": [
        "for c in [torch, np]:\n",
        "  print(c.__version__)"
      ],
      "metadata": {
        "colab": {
          "base_uri": "https://localhost:8080/"
        },
        "id": "jq3pcIW9pCpI",
        "outputId": "53643196-edf9-491f-809f-9f09eaddc4b0"
      },
      "execution_count": null,
      "outputs": [
        {
          "output_type": "stream",
          "name": "stdout",
          "text": [
            "2.2.1+cu121\n",
            "1.25.2\n"
          ]
        }
      ]
    },
    {
      "cell_type": "code",
      "source": [
        "!pip install --quiet torchvision\n",
        "!pip install --quiet torchsummary"
      ],
      "metadata": {
        "id": "PPqnE4q3pe1M"
      },
      "execution_count": null,
      "outputs": []
    },
    {
      "cell_type": "code",
      "source": [
        "from torch.nn import Module, init, Linear, Parameter, MSELoss, ReLU\n",
        "from torch import optim\n",
        "import matplotlib.pyplot as plt\n",
        "import torchvision\n",
        "import torchsummary"
      ],
      "metadata": {
        "id": "M3Pzd3R3ppkJ"
      },
      "execution_count": null,
      "outputs": []
    },
    {
      "cell_type": "markdown",
      "source": [
        "# Data 생성부\n",
        "- input\n",
        "- output: x (tensor), y (tensor) = y_ideal + noise"
      ],
      "metadata": {
        "id": "nzyqW1cuHJuT"
      }
    },
    {
      "cell_type": "code",
      "source": [
        "def gen_xy():\n",
        "  x = np.linspace(-10, 10, 100)\n",
        "  y_ideal = 1.8 * x + 32.\n",
        "  y = y_ideal + 8. * np.random.randn((100))\n",
        "\n",
        "  return x, y, y_ideal"
      ],
      "metadata": {
        "id": "1AZL2oqQqpYw"
      },
      "execution_count": null,
      "outputs": []
    },
    {
      "cell_type": "code",
      "source": [
        "x, y, y_ideal = gen_xy()\n",
        "\n",
        "plt.plot(x, y_ideal)\n",
        "plt.scatter(x, y)"
      ],
      "metadata": {
        "colab": {
          "base_uri": "https://localhost:8080/",
          "height": 447
        },
        "id": "EY8cog9CMKAp",
        "outputId": "1c529b0e-21dd-4fa7-b1ea-c1bab0bd8eda"
      },
      "execution_count": null,
      "outputs": [
        {
          "output_type": "execute_result",
          "data": {
            "text/plain": [
              "<matplotlib.collections.PathCollection at 0x7d13414b7d90>"
            ]
          },
          "metadata": {},
          "execution_count": 6
        },
        {
          "output_type": "display_data",
          "data": {
            "text/plain": [
              "<Figure size 640x480 with 1 Axes>"
            ],
            "image/png": "[encoded data removed]"
          },
          "metadata": {}
        }
      ]
    },
    {
      "cell_type": "markdown",
      "source": [
        "### tensor로 변환 (+shape)"
      ],
      "metadata": {
        "id": "h9OEo45jMTeC"
      }
    },
    {
      "cell_type": "code",
      "source": [
        "x = torch.tensor(x).float()\n",
        "y = torch.tensor(y).float()\n",
        "x = x.reshape(-1,1)\n",
        "y = y.reshape(-1,1)\n",
        "\n",
        "print(x.shape, type(x))\n",
        "print(y.shape, type(y))"
      ],
      "metadata": {
        "colab": {
          "base_uri": "https://localhost:8080/"
        },
        "id": "83Oug_y0rcy9",
        "outputId": "1fd3baf8-ef83-4fde-c8a3-8fc6988bcbed"
      },
      "execution_count": null,
      "outputs": [
        {
          "output_type": "stream",
          "name": "stdout",
          "text": [
            "torch.Size([100, 1]) <class 'torch.Tensor'>\n",
            "torch.Size([100, 1]) <class 'torch.Tensor'>\n"
          ]
        }
      ]
    },
    {
      "cell_type": "markdown",
      "source": [
        "# Model\n",
        "\n",
        "## `torch.nn.Module`\n",
        "PyTorch로 신경망을 설계하기 위한 조건\n",
        "1. `torch.nn.Module`을 상속해야 함.\n",
        "2. `__init()__` override<br>\n",
        "  모델에서 사용될 module, activation function 등 정의.\n",
        "3. `forward()` override<br>\n",
        "  모델에서 실행되어야 하는 계산 정의."
      ],
      "metadata": {
        "id": "DYvBAqnXImT7"
      }
    },
    {
      "cell_type": "code",
      "source": [
        "class DsLinearModel(Module):\n",
        "  def __init__(self,\n",
        "               n_in_f, # input vector의 차원 수\n",
        "               n_out_f # output vector의 차원 수\n",
        "               ):\n",
        "    super().__init__()\n",
        "\n",
        "    init_w = torch.ones(1,1)\n",
        "    init_b = torch.zeros(1)\n",
        "    self.l0 = Linear(n_in_f, n_out_f)\n",
        "    self.l0.weight = Parameter(init_w)\n",
        "    self.l0.bias = Parameter(init_b)\n",
        "\n",
        "  def forward(self, x):\n",
        "    y = self.l0(x)\n",
        "    return y"
      ],
      "metadata": {
        "id": "p8Zt1GwfrrwW"
      },
      "execution_count": null,
      "outputs": []
    },
    {
      "cell_type": "code",
      "source": [
        "model = DsLinearModel(1,1)\n",
        "\n",
        "for idx, c in enumerate(model.named_parameters()):\n",
        "  print(idx, c)\n",
        "print()\n",
        "\n",
        "for idx, c in enumerate(model.parameters()):\n",
        "  print(idx, c)"
      ],
      "metadata": {
        "colab": {
          "base_uri": "https://localhost:8080/"
        },
        "id": "U5npqM3hvBXV",
        "outputId": "33a6ad6d-d4e5-42ad-b7cc-83f68a9bd70f"
      },
      "execution_count": null,
      "outputs": [
        {
          "output_type": "stream",
          "name": "stdout",
          "text": [
            "0 ('l0.weight', Parameter containing:\n",
            "tensor([[1.]], requires_grad=True))\n",
            "1 ('l0.bias', Parameter containing:\n",
            "tensor([0.], requires_grad=True))\n",
            "\n",
            "0 Parameter containing:\n",
            "tensor([[1.]], requires_grad=True)\n",
            "1 Parameter containing:\n",
            "tensor([0.], requires_grad=True)\n"
          ]
        }
      ]
    },
    {
      "cell_type": "code",
      "source": [
        "for idx, cl in enumerate(model.named_children()): # cl: child layer\n",
        "  print(idx, cl)\n",
        "print()\n",
        "\n",
        "for idx, cl in enumerate(model.children()): # cl: child layer\n",
        "  print(idx, cl)"
      ],
      "metadata": {
        "colab": {
          "base_uri": "https://localhost:8080/"
        },
        "id": "mVAAkUrvvS03",
        "outputId": "a6706606-9e88-4b6e-c7fc-fcb715a18b63"
      },
      "execution_count": null,
      "outputs": [
        {
          "output_type": "stream",
          "name": "stdout",
          "text": [
            "0 ('l0', Linear(in_features=1, out_features=1, bias=True))\n",
            "\n",
            "0 Linear(in_features=1, out_features=1, bias=True)\n"
          ]
        }
      ]
    },
    {
      "cell_type": "code",
      "source": [
        "for idx, modu in enumerate(model.named_modules()):\n",
        "  print(idx, modu)\n",
        "print()\n",
        "\n",
        "for idx, modu in enumerate(model.modules()):\n",
        "  print(idx, modu)"
      ],
      "metadata": {
        "id": "wNpZMag7wpiZ",
        "colab": {
          "base_uri": "https://localhost:8080/"
        },
        "outputId": "d4f49b16-0b05-4d30-a992-d31d2dcd25d2"
      },
      "execution_count": null,
      "outputs": [
        {
          "output_type": "stream",
          "name": "stdout",
          "text": [
            "0 ('', DsLinearModel(\n",
            "  (l0): Linear(in_features=1, out_features=1, bias=True)\n",
            "))\n",
            "1 ('l0', Linear(in_features=1, out_features=1, bias=True))\n",
            "\n",
            "0 DsLinearModel(\n",
            "  (l0): Linear(in_features=1, out_features=1, bias=True)\n",
            ")\n",
            "1 Linear(in_features=1, out_features=1, bias=True)\n"
          ]
        }
      ]
    },
    {
      "cell_type": "code",
      "source": [
        "pred = model(x)\n",
        "pred"
      ],
      "metadata": {
        "colab": {
          "base_uri": "https://localhost:8080/"
        },
        "id": "3KaD2hn5yHnd",
        "outputId": "ed28c6fa-1347-4547-b850-0b199fcd5152"
      },
      "execution_count": null,
      "outputs": [
        {
          "output_type": "execute_result",
          "data": {
            "text/plain": [
              "tensor([[-10.0000],\n",
              "        [ -9.7980],\n",
              "        [ -9.5960],\n",
              "        [ -9.3939],\n",
              "        [ -9.1919],\n",
              "        [ -8.9899],\n",
              "        [ -8.7879],\n",
              "        [ -8.5859],\n",
              "        [ -8.3838],\n",
              "        [ -8.1818],\n",
              "        [ -7.9798],\n",
              "        [ -7.7778],\n",
              "        [ -7.5758],\n",
              "        [ -7.3737],\n",
              "        [ -7.1717],\n",
              "        [ -6.9697],\n",
              "        [ -6.7677],\n",
              "        [ -6.5657],\n",
              "        [ -6.3636],\n",
              "        [ -6.1616],\n",
              "        [ -5.9596],\n",
              "        [ -5.7576],\n",
              "        [ -5.5556],\n",
              "        [ -5.3535],\n",
              "        [ -5.1515],\n",
              "        [ -4.9495],\n",
              "        [ -4.7475],\n",
              "        [ -4.5455],\n",
              "        [ -4.3434],\n",
              "        [ -4.1414],\n",
              "        [ -3.9394],\n",
              "        [ -3.7374],\n",
              "        [ -3.5354],\n",
              "        [ -3.3333],\n",
              "        [ -3.1313],\n",
              "        [ -2.9293],\n",
              "        [ -2.7273],\n",
              "        [ -2.5253],\n",
              "        [ -2.3232],\n",
              "        [ -2.1212],\n",
              "        [ -1.9192],\n",
              "        [ -1.7172],\n",
              "        [ -1.5152],\n",
              "        [ -1.3131],\n",
              "        [ -1.1111],\n",
              "        [ -0.9091],\n",
              "        [ -0.7071],\n",
              "        [ -0.5051],\n",
              "        [ -0.3030],\n",
              "        [ -0.1010],\n",
              "        [  0.1010],\n",
              "        [  0.3030],\n",
              "        [  0.5051],\n",
              "        [  0.7071],\n",
              "        [  0.9091],\n",
              "        [  1.1111],\n",
              "        [  1.3131],\n",
              "        [  1.5152],\n",
              "        [  1.7172],\n",
              "        [  1.9192],\n",
              "        [  2.1212],\n",
              "        [  2.3232],\n",
              "        [  2.5253],\n",
              "        [  2.7273],\n",
              "        [  2.9293],\n",
              "        [  3.1313],\n",
              "        [  3.3333],\n",
              "        [  3.5354],\n",
              "        [  3.7374],\n",
              "        [  3.9394],\n",
              "        [  4.1414],\n",
              "        [  4.3434],\n",
              "        [  4.5455],\n",
              "        [  4.7475],\n",
              "        [  4.9495],\n",
              "        [  5.1515],\n",
              "        [  5.3535],\n",
              "        [  5.5556],\n",
              "        [  5.7576],\n",
              "        [  5.9596],\n",
              "        [  6.1616],\n",
              "        [  6.3636],\n",
              "        [  6.5657],\n",
              "        [  6.7677],\n",
              "        [  6.9697],\n",
              "        [  7.1717],\n",
              "        [  7.3737],\n",
              "        [  7.5758],\n",
              "        [  7.7778],\n",
              "        [  7.9798],\n",
              "        [  8.1818],\n",
              "        [  8.3838],\n",
              "        [  8.5859],\n",
              "        [  8.7879],\n",
              "        [  8.9899],\n",
              "        [  9.1919],\n",
              "        [  9.3939],\n",
              "        [  9.5960],\n",
              "        [  9.7980],\n",
              "        [ 10.0000]], grad_fn=<AddmmBackward0>)"
            ]
          },
          "metadata": {},
          "execution_count": 12
        }
      ]
    },
    {
      "cell_type": "markdown",
      "source": [
        "# Loss"
      ],
      "metadata": {
        "id": "TDnYj3-gI_9p"
      }
    },
    {
      "cell_type": "code",
      "source": [
        "loss_func = MSELoss()\n",
        "\n",
        "l = loss_func(pred, y)\n",
        "l"
      ],
      "metadata": {
        "colab": {
          "base_uri": "https://localhost:8080/"
        },
        "id": "m_oMh8yv5Ns4",
        "outputId": "25d41c5a-6517-42e5-eb5e-2a0746ea8a8f"
      },
      "execution_count": null,
      "outputs": [
        {
          "output_type": "execute_result",
          "data": {
            "text/plain": [
              "tensor(1113.7168, grad_fn=<MseLossBackward0>)"
            ]
          },
          "metadata": {},
          "execution_count": 13
        }
      ]
    },
    {
      "cell_type": "markdown",
      "source": [
        "# Training Loop"
      ],
      "metadata": {
        "id": "7FNVl-ELJC1Y"
      }
    },
    {
      "cell_type": "code",
      "source": [
        "def training_loop(\n",
        "    x, y,\n",
        "    model,\n",
        "    lr,\n",
        "    n_epochs,\n",
        "):\n",
        "\n",
        "  model.train()\n",
        "  # model.eval()\n",
        "\n",
        "  optimizer = optim.SGD(\n",
        "    model.parameters(),\n",
        "    lr = lr,\n",
        "  )\n",
        "\n",
        "  print(n_epochs)\n",
        "\n",
        "\n",
        "  for epoch in range(n_epochs):\n",
        "    pred = model(x)\n",
        "    l = loss_func(pred, y)\n",
        "\n",
        "    if torch.isinf(l).any(): # 무한대로 발산하면\n",
        "      print('Error: diverge!')\n",
        "      break\n",
        "\n",
        "    optimizer.zero_grad()\n",
        "    l.backward()\n",
        "    optimizer.step()\n",
        "\n",
        "    if epoch % 1000 == 0:\n",
        "      print(f'Epoch {epoch}: Loss {float(l):0.4f}')\n",
        "\n",
        "  return model"
      ],
      "metadata": {
        "id": "hS6gfojL6Ln1"
      },
      "execution_count": null,
      "outputs": []
    },
    {
      "cell_type": "markdown",
      "source": [
        "# Train"
      ],
      "metadata": {
        "id": "hPalmTCNJJIB"
      }
    },
    {
      "cell_type": "code",
      "source": [
        "model = DsLinearModel(1,1)\n",
        "model = training_loop(\n",
        "    x, y,\n",
        "    model,\n",
        "    1e-3,\n",
        "    7000,\n",
        ")"
      ],
      "metadata": {
        "colab": {
          "base_uri": "https://localhost:8080/"
        },
        "id": "s5xNKhbo9ZFR",
        "outputId": "90b3f5ff-aad6-4dd4-d2a4-f111d888ab52"
      },
      "execution_count": null,
      "outputs": [
        {
          "output_type": "stream",
          "name": "stdout",
          "text": [
            "7000\n",
            "Epoch 0: Loss 1113.7168\n",
            "Epoch 1000: Loss 81.4946\n",
            "Epoch 2000: Loss 63.0912\n",
            "Epoch 3000: Loss 62.7555\n",
            "Epoch 4000: Loss 62.7494\n",
            "Epoch 5000: Loss 62.7492\n",
            "Epoch 6000: Loss 62.7492\n"
          ]
        }
      ]
    },
    {
      "cell_type": "markdown",
      "source": [
        "# Evaluation"
      ],
      "metadata": {
        "id": "K1xTup6QJYQv"
      }
    },
    {
      "cell_type": "code",
      "source": [
        "pred = model(x)\n",
        "plt.scatter(x.detach().numpy(),y.detach().numpy())\n",
        "plt.plot(x.detach().numpy(), pred.detach().numpy(), color='r')\n",
        "plt.plot(x.detach().numpy(), y_ideal, color='g')"
      ],
      "metadata": {
        "colab": {
          "base_uri": "https://localhost:8080/",
          "height": 447
        },
        "id": "KG7L6riT8zpA",
        "outputId": "48cad41a-19ad-46f4-ce46-057219952e5c"
      },
      "execution_count": null,
      "outputs": [
        {
          "output_type": "execute_result",
          "data": {
            "text/plain": [
              "[<matplotlib.lines.Line2D at 0x7d133e7764a0>]"
            ]
          },
          "metadata": {},
          "execution_count": 18
        },
        {
          "output_type": "display_data",
          "data": {
            "text/plain": [
              "<Figure size 640x480 with 1 Axes>"
            ],
            "image/png": "[encoded data removed]"
          },
          "metadata": {}
        }
      ]
    },
    {
      "cell_type": "code",
      "source": [
        "from torchsummary import summary\n",
        "\n",
        "summary(model, (1,))"
      ],
      "metadata": {
        "colab": {
          "base_uri": "https://localhost:8080/"
        },
        "id": "u5RUZP9sFK_1",
        "outputId": "aba0767b-69c1-414f-b747-0757a3fd40aa"
      },
      "execution_count": null,
      "outputs": [
        {
          "output_type": "stream",
          "name": "stdout",
          "text": [
            "----------------------------------------------------------------\n",
            "        Layer (type)               Output Shape         Param #\n",
            "================================================================\n",
            "            Linear-1                    [-1, 1]               2\n",
            "================================================================\n",
            "Total params: 2\n",
            "Trainable params: 2\n",
            "Non-trainable params: 0\n",
            "----------------------------------------------------------------\n",
            "Input size (MB): 0.00\n",
            "Forward/backward pass size (MB): 0.00\n",
            "Params size (MB): 0.00\n",
            "Estimated Total Size (MB): 0.00\n",
            "----------------------------------------------------------------\n"
          ]
        }
      ]
    }
  ]
}