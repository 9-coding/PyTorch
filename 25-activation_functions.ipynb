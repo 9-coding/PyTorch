{
  "nbformat": 4,
  "nbformat_minor": 0,
  "metadata": {
    "colab": {
      "provenance": [],
      "authorship_tag": "ABX9TyMArSzQbtkaXWxLnsD6Ex7f",
      "include_colab_link": true
    },
    "kernelspec": {
      "name": "python3",
      "display_name": "Python 3"
    },
    "language_info": {
      "name": "python"
    }
  },
  "cells": [
    {
      "cell_type": "markdown",
      "metadata": {
        "id": "view-in-github",
        "colab_type": "text"
      },
      "source": [
        "<a href=\"https://colab.research.google.com/github/9-coding/PyTorch/blob/main/25-activation_functions.ipynb\" target=\"_parent\"><img src=\"https://colab.research.google.com/assets/colab-badge.svg\" alt=\"Open In Colab\"/></a>"
      ]
    },
    {
      "cell_type": "code",
      "execution_count": null,
      "metadata": {
        "id": "hdfLWhhfHkNG"
      },
      "outputs": [],
      "source": []
    },
    {
      "cell_type": "markdown",
      "metadata": {
        "id": "nXfZupICExrn"
      },
      "source": [
        "# Week10"
      ]
    },
    {
      "cell_type": "code",
      "execution_count": 1,
      "metadata": {
        "id": "YV4m-pPHEwMa"
      },
      "outputs": [],
      "source": [
        "import torch\n",
        "import torch.nn.functional as F\n",
        "import numpy as np\n",
        "import matplotlib.pyplot as plt"
      ]
    },
    {
      "cell_type": "markdown",
      "metadata": {
        "id": "5sht2PjhCNAA"
      },
      "source": [
        "# Activation Functions"
      ]
    },
    {
      "cell_type": "code",
      "execution_count": 2,
      "metadata": {
        "id": "ng1a8O5mY1Ry"
      },
      "outputs": [],
      "source": [
        "range = torch.arange(-5.0, 5.0, 0.1)\n",
        "logits = torch.tensor([2.0, -1.0, 0.5])"
      ]
    },
    {
      "cell_type": "code",
      "execution_count": 3,
      "metadata": {
        "id": "97jfn9yxEiPs"
      },
      "outputs": [],
      "source": [
        "def plot_graph(f_y, y):\n",
        "  f_x = range\n",
        "  x = logits\n",
        "  plt.plot(f_x, f_y)\n",
        "  plt.scatter(x, y, color='r')\n",
        "  plt.show()"
      ]
    },
    {
      "cell_type": "markdown",
      "metadata": {
        "id": "7qoC0qvLzvpI"
      },
      "source": [
        "## Binary Classification"
      ]
    },
    {
      "cell_type": "markdown",
      "metadata": {
        "id": "X9Ph1zDFCROM"
      },
      "source": [
        "## Sigmoid"
      ]
    },
    {
      "cell_type": "code",
      "execution_count": 4,
      "metadata": {
        "id": "sOr5xrLg7KXT",
        "colab": {
          "base_uri": "https://localhost:8080/"
        },
        "outputId": "993e20ab-c584-40c1-b9d8-e12c33491766"
      },
      "outputs": [
        {
          "output_type": "stream",
          "name": "stdout",
          "text": [
            "leaky relu outputs: tensor([0.8808, 0.2689, 0.6225])\n"
          ]
        }
      ],
      "source": [
        "sig_outputs = F.sigmoid(logits)\n",
        "print('leaky relu outputs:', sig_outputs)"
      ]
    },
    {
      "cell_type": "code",
      "execution_count": 5,
      "metadata": {
        "id": "H3ELhbZrCCQQ",
        "colab": {
          "base_uri": "https://localhost:8080/",
          "height": 448
        },
        "outputId": "868d4f34-f2d7-4e18-99af-baea7ee6b824"
      },
      "outputs": [
        {
          "output_type": "stream",
          "name": "stdout",
          "text": [
            "sigmoid outputs: tensor([0.88, 0.27, 0.62])\n"
          ]
        },
        {
          "output_type": "display_data",
          "data": {
            "text/plain": [
              "<Figure size 640x480 with 1 Axes>"
            ],
            "image/png": "[encoded data removed]"
          },
          "metadata": {}
        }
      ],
      "source": [
        "sigmoid_outputs = torch.sigmoid(logits)\n",
        "torch.set_printoptions(precision=2)\n",
        "print('sigmoid outputs:', sigmoid_outputs)\n",
        "plot_graph(torch.sigmoid(range), sigmoid_outputs)"
      ]
    },
    {
      "cell_type": "markdown",
      "metadata": {
        "id": "bTdm9wjhzzgB"
      },
      "source": [
        "## tanh - hyperbolic tangent"
      ]
    },
    {
      "cell_type": "code",
      "execution_count": 6,
      "metadata": {
        "id": "BNegXfGL7F6n",
        "colab": {
          "base_uri": "https://localhost:8080/"
        },
        "outputId": "08dbf9e6-543c-4993-aac4-c7301bb5f439"
      },
      "outputs": [
        {
          "output_type": "stream",
          "name": "stdout",
          "text": [
            "leaky relu outputs: tensor([ 0.96, -0.76,  0.46])\n"
          ]
        }
      ],
      "source": [
        "tanh_outputs = F.tanh(logits)\n",
        "print('leaky relu outputs:', tanh_outputs)"
      ]
    },
    {
      "cell_type": "code",
      "execution_count": 7,
      "metadata": {
        "id": "dMZ10BEQzzFz",
        "colab": {
          "base_uri": "https://localhost:8080/",
          "height": 448
        },
        "outputId": "f4819469-d9ad-4371-dc84-d66e830135cd"
      },
      "outputs": [
        {
          "output_type": "stream",
          "name": "stdout",
          "text": [
            "tanh outputs: tensor([ 0.96, -0.76,  0.46])\n"
          ]
        },
        {
          "output_type": "display_data",
          "data": {
            "text/plain": [
              "<Figure size 640x480 with 1 Axes>"
            ],
            "image/png": "[encoded data removed]"
          },
          "metadata": {}
        }
      ],
      "source": [
        "tanh_outputs = torch.tanh(logits)\n",
        "print('tanh outputs:', tanh_outputs)\n",
        "plot_graph(torch.tanh(range), tanh_outputs)"
      ]
    },
    {
      "cell_type": "markdown",
      "metadata": {
        "id": "Tz0vM6r11NlX"
      },
      "source": [
        "## ReLU"
      ]
    },
    {
      "cell_type": "code",
      "execution_count": 8,
      "metadata": {
        "id": "seHUEiZL68N4",
        "colab": {
          "base_uri": "https://localhost:8080/"
        },
        "outputId": "74ffe962-007a-4de8-d5c4-fcdb945706a5"
      },
      "outputs": [
        {
          "output_type": "stream",
          "name": "stdout",
          "text": [
            "leaky relu outputs: tensor([2.00, 0.00, 0.50])\n"
          ]
        }
      ],
      "source": [
        "relu_outputs = F.relu(logits)\n",
        "print('leaky relu outputs:', relu_outputs)"
      ]
    },
    {
      "cell_type": "code",
      "execution_count": 9,
      "metadata": {
        "id": "sIieb_V31Ntu",
        "colab": {
          "base_uri": "https://localhost:8080/",
          "height": 448
        },
        "outputId": "46fdc474-597d-4fe4-c37a-ceedf41da202"
      },
      "outputs": [
        {
          "output_type": "stream",
          "name": "stdout",
          "text": [
            "relu outputs: tensor([2.00, 0.00, 0.50])\n"
          ]
        },
        {
          "output_type": "display_data",
          "data": {
            "text/plain": [
              "<Figure size 640x480 with 1 Axes>"
            ],
            "image/png": "[encoded data removed]"
          },
          "metadata": {}
        }
      ],
      "source": [
        "relu_outputs = torch.relu(logits)\n",
        "print('relu outputs:', relu_outputs)\n",
        "plot_graph(torch.relu(range), relu_outputs)"
      ]
    },
    {
      "cell_type": "markdown",
      "metadata": {
        "id": "Yj2xKly52g8q"
      },
      "source": [
        "## Leaky ReLU"
      ]
    },
    {
      "cell_type": "code",
      "execution_count": 10,
      "metadata": {
        "id": "POTCV-vo6jFv",
        "colab": {
          "base_uri": "https://localhost:8080/"
        },
        "outputId": "f1cc4ab1-fdc5-441b-e981-e88f2222f89e"
      },
      "outputs": [
        {
          "output_type": "stream",
          "name": "stdout",
          "text": [
            "leaky relu outputs: tensor([ 2.00, -0.10,  0.50])\n"
          ]
        }
      ],
      "source": [
        "leaky_outputs = F.leaky_relu(logits, negative_slope=0.1) # default = 0.01\n",
        "print('leaky relu outputs:', leaky_outputs)"
      ]
    },
    {
      "cell_type": "code",
      "execution_count": 11,
      "metadata": {
        "id": "ectXbU8y2gl9",
        "colab": {
          "base_uri": "https://localhost:8080/",
          "height": 448
        },
        "outputId": "011e3a75-1b30-480f-a444-bf4ef63881ae"
      },
      "outputs": [
        {
          "output_type": "stream",
          "name": "stdout",
          "text": [
            "leaky relu outputs: tensor([ 2.00, -0.10,  0.50])\n"
          ]
        },
        {
          "output_type": "display_data",
          "data": {
            "text/plain": [
              "<Figure size 640x480 with 1 Axes>"
            ],
            "image/png": "[encoded data removed]"
          },
          "metadata": {}
        }
      ],
      "source": [
        "LeakyReLU = torch.nn.LeakyReLU(negative_slope=0.1) # default = 0.01\n",
        "leaky_outputs = LeakyReLU(logits)\n",
        "print('leaky relu outputs:', leaky_outputs)\n",
        "plot_graph(LeakyReLU(range), leaky_outputs)"
      ]
    },
    {
      "cell_type": "markdown",
      "metadata": {
        "id": "T7ktGJZd1dR_"
      },
      "source": [
        "## Multi-class classification"
      ]
    },
    {
      "cell_type": "markdown",
      "metadata": {
        "id": "SKzluXRhDzYt"
      },
      "source": [
        "## Softmax"
      ]
    },
    {
      "cell_type": "code",
      "execution_count": 12,
      "metadata": {
        "id": "csn_g1s3D1yN",
        "colab": {
          "base_uri": "https://localhost:8080/"
        },
        "outputId": "d80af71d-415f-4a33-f14e-c388d4d98519"
      },
      "outputs": [
        {
          "output_type": "stream",
          "name": "stdout",
          "text": [
            "softmax_outputs=tensor([0.79, 0.04, 0.18])\n"
          ]
        }
      ],
      "source": [
        "# functional api\n",
        "softmax_outputs = F.softmax(logits, dim=-1)\n",
        "print(f'{softmax_outputs=}')"
      ]
    },
    {
      "cell_type": "code",
      "execution_count": 13,
      "metadata": {
        "id": "2uzarNGKcQR9",
        "colab": {
          "base_uri": "https://localhost:8080/"
        },
        "outputId": "494219a0-5cb7-41b7-8ae2-3e585b6a3e36"
      },
      "outputs": [
        {
          "output_type": "stream",
          "name": "stdout",
          "text": [
            "softmax_outputs=tensor([0.79, 0.04, 0.18])\n"
          ]
        }
      ],
      "source": [
        "# class 이용\n",
        "softmax = torch.nn.Softmax(dim=-1)\n",
        "softmax_outputs = softmax(logits)\n",
        "print(f'{softmax_outputs=}')"
      ]
    },
    {
      "cell_type": "markdown",
      "metadata": {
        "id": "rUnlTkFvSRNL"
      },
      "source": [
        "## LogSoftmax"
      ]
    },
    {
      "cell_type": "code",
      "execution_count": 14,
      "metadata": {
        "id": "uqwWFjPVSQtK",
        "colab": {
          "base_uri": "https://localhost:8080/"
        },
        "outputId": "ddf6deac-ca7e-4faa-c3b2-8f01d81c553b"
      },
      "outputs": [
        {
          "output_type": "stream",
          "name": "stdout",
          "text": [
            "LogSoftmax outputs: tensor([-0.24, -3.24, -1.74])\n"
          ]
        }
      ],
      "source": [
        "log_softmax_outputs = F.log_softmax(logits, dim=0)\n",
        "print('LogSoftmax outputs:', log_softmax_outputs)"
      ]
    }
  ]
}