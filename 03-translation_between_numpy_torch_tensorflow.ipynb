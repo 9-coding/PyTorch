{
  "nbformat": 4,
  "nbformat_minor": 0,
  "metadata": {
    "colab": {
      "provenance": [],
      "authorship_tag": "ABX9TyONS3Eo8+R7kh7fJIIQUFHs",
      "include_colab_link": true
    },
    "kernelspec": {
      "name": "python3",
      "display_name": "Python 3"
    },
    "language_info": {
      "name": "python"
    }
  },
  "cells": [
    {
      "cell_type": "markdown",
      "metadata": {
        "id": "view-in-github",
        "colab_type": "text"
      },
      "source": [
        "<a href=\"https://colab.research.google.com/github/9-coding/PyTorch/blob/main/03-translation_between_numpy_torch_tensorflow.ipynb\" target=\"_parent\"><img src=\"https://colab.research.google.com/assets/colab-badge.svg\" alt=\"Open In Colab\"/></a>"
      ]
    },
    {
      "cell_type": "markdown",
      "source": [
        "# Tensor(numpy / torch / tensorflow) 간 변환"
      ],
      "metadata": {
        "id": "VwEcTD8K_yxL"
      }
    },
    {
      "cell_type": "code",
      "source": [
        "import numpy as np\n",
        "import torch\n",
        "import tensorflow as tf"
      ],
      "metadata": {
        "id": "KnaD2g_gfDxm"
      },
      "execution_count": 14,
      "outputs": []
    },
    {
      "cell_type": "code",
      "source": [
        "for c in [np, torch, tf]:\n",
        "  print(c.__name__, c.__version__)"
      ],
      "metadata": {
        "colab": {
          "base_uri": "https://localhost:8080/"
        },
        "id": "5DTc0OHLfJrI",
        "outputId": "3372a15a-e31c-4be1-a889-d43403a0e564"
      },
      "execution_count": 2,
      "outputs": [
        {
          "output_type": "stream",
          "name": "stdout",
          "text": [
            "numpy 1.25.2\n",
            "torch 2.2.1+cu121\n",
            "tensorflow 2.15.0\n"
          ]
        }
      ]
    },
    {
      "cell_type": "markdown",
      "source": [
        "# 정리\n",
        "\n",
        "## tensor 생성\n",
        "```\n",
        "t = (1, 2, 3, 4)\n",
        "a_np = np.array(t)\n",
        "a_tf = tf.constant(t)\n",
        "a_torch = torch.tensor(t)\n",
        "```\n",
        "## tf → numpy\n",
        "- `np = np.array(a_tf)`: 서로 영향x\n",
        "- `np = a_tf.array`: 서로 영향x\n",
        "- `np = a_tf.numpy()`: 서로 영향x\n",
        "\n",
        "## torch → numpy\n",
        "- `np = np.array(a_torch)`: 서로 영향x\n",
        "- `np = a_torch.array`: 서로 영향(device=\"cpu\"에서만)\n",
        "- `np = a_torch.numpy().copy()`: 서로 영향x\n",
        "\n",
        "## numpy → tf\n",
        "- `tf = tf.constant(a_np)`: 서로 영향x\n",
        "- `tf = tf.convert_to_tensor(a_np)`: 서로 영향x\n",
        "\n",
        "## numpy -> torch\n",
        "- `torch = torch.tensor(a_np)`: 서로 영향x\n",
        "- `torch = torch.from_numpy(a_np)`: 서로 영향o\n",
        "\n",
        "## torch -> tf\n",
        "- `tf = tf.constant(a_torch)`: 서로 영향o\n",
        "- `tf = tf.convert_to_tensor(a_torch)`: 서로 영향o\n"
      ],
      "metadata": {
        "id": "IdNLEyJBO2Fp"
      }
    },
    {
      "cell_type": "markdown",
      "source": [
        "# tf, torch → numpy\n",
        "\n",
        "일종의 새로운 view를 얻는 것으로 볼 것.\n",
        "\n",
        "### Tensor 생성"
      ],
      "metadata": {
        "id": "NsJusgYLe42Z"
      }
    },
    {
      "cell_type": "code",
      "execution_count": 15,
      "metadata": {
        "colab": {
          "base_uri": "https://localhost:8080/"
        },
        "id": "GqFuk0YFeebs",
        "outputId": "fc016d7c-a03a-4321-89c4-31fec2f815f4"
      },
      "outputs": [
        {
          "output_type": "stream",
          "name": "stdout",
          "text": [
            "[1 2 3 4]\n",
            "tensor([1, 2, 3, 4])\n",
            "tf.Tensor([1 2 3 4], shape=(4,), dtype=int32)\n"
          ]
        }
      ],
      "source": [
        "t = (1,2,3,4)\n",
        "\n",
        "a_np = np.array(t)\n",
        "a_tf = tf.constant(t)\n",
        "a_torch = torch.tensor(t)\n",
        "\n",
        "print(a_np)\n",
        "print(a_torch)\n",
        "print(a_tf)"
      ]
    },
    {
      "cell_type": "markdown",
      "source": [
        "## torch → numpy\n",
        "\n",
        "원래 tensor와 연결된 상태.\n",
        "\n",
        "한 쪽에서 data를 변경하면 **다른 쪽에도 영향을 줌.**\n",
        "\n",
        "→ device=”cpu” 한정\n",
        "\n",
        "copy method를 사용하면 연결되지 않은 상태로 얻을 수 있음."
      ],
      "metadata": {
        "id": "pcAMKzBH-oyS"
      }
    },
    {
      "cell_type": "code",
      "source": [
        "# torch 값 변환 후 np 확인\n",
        "b_np = a_torch.numpy()\n",
        "print(b_np)\n",
        "\n",
        "b_np[2] = 777\n",
        "print(b_np)\n",
        "print(a_torch) # b_np에서 바꾼 값이 a_torch에도 영향.\n",
        "\n",
        "a_torch[3] = 888\n",
        "print(b_np) # a_torch에서 바꾼 값이 b_np에도 영향."
      ],
      "metadata": {
        "colab": {
          "base_uri": "https://localhost:8080/"
        },
        "id": "7Y7yXQDO-ujv",
        "outputId": "b3f6d455-626c-419c-e37d-24acf2e24fd3"
      },
      "execution_count": 4,
      "outputs": [
        {
          "output_type": "stream",
          "name": "stdout",
          "text": [
            "[1 2 3 4]\n",
            "[  1   2 777   4]\n",
            "tensor([  1,   2, 777,   4])\n",
            "[  1   2 777 888]\n"
          ]
        }
      ]
    },
    {
      "cell_type": "code",
      "source": [
        "# torch 값 변환 후 np 확인\n",
        "a_torch = torch.tensor(t) # 초기화\n",
        "print(\"a_torch: \", a_torch)\n",
        "c_np = np.array(a_torch)\n",
        "print(\"c_np: \", c_np)\n",
        "\n",
        "print(\"\\n<c_np[2] = 777>\")\n",
        "c_np[2] = 777\n",
        "print(\"c_np: \", c_np)\n",
        "print(\"a_torch: \", a_torch) # c_np에서 바꾼 값이 a_torch에 영향x.\n",
        "\n",
        "print(\"\\n<a_torch[3] = 888>\")\n",
        "c_np[2] = 3\n",
        "a_torch[3] = 888\n",
        "print(\"a_torch: \", a_torch)\n",
        "print(\"c_np: \", c_np) # a_torch에서 바꾼 값이 c_np에 영향x."
      ],
      "metadata": {
        "colab": {
          "base_uri": "https://localhost:8080/"
        },
        "id": "ooYbX_XwQUXq",
        "outputId": "28fd5994-72fd-4c46-d023-a43d79344a0d"
      },
      "execution_count": 5,
      "outputs": [
        {
          "output_type": "stream",
          "name": "stdout",
          "text": [
            "a_torch:  tensor([1, 2, 3, 4])\n",
            "c_np:  [1 2 3 4]\n",
            "\n",
            "<c_np[2] = 777>\n",
            "c_np:  [  1   2 777   4]\n",
            "a_torch:  tensor([1, 2, 3, 4])\n",
            "\n",
            "<a_torch[3] = 888>\n",
            "a_torch:  tensor([  1,   2,   3, 888])\n",
            "c_np:  [1 2 3 4]\n"
          ]
        }
      ]
    },
    {
      "cell_type": "markdown",
      "source": [
        "### copy"
      ],
      "metadata": {
        "id": "N4lJ6i3v-wTC"
      }
    },
    {
      "cell_type": "code",
      "source": [
        "a_torch = torch.tensor(t) # a_torch 초기화\n",
        "print(a_torch)\n",
        "a_copy = a_torch.numpy().copy()\n",
        "a_copy[0] = 999\n",
        "print(a_copy)\n",
        "print(a_torch) # a_copy에서 바꾼 값이 a_torch에 영향을 주지 않음."
      ],
      "metadata": {
        "colab": {
          "base_uri": "https://localhost:8080/"
        },
        "id": "L5OPBzSW-yVI",
        "outputId": "1f271044-62f7-4c3b-e9a5-7db458f28f6e"
      },
      "execution_count": 6,
      "outputs": [
        {
          "output_type": "stream",
          "name": "stdout",
          "text": [
            "tensor([1, 2, 3, 4])\n",
            "[999   2   3   4]\n",
            "tensor([1, 2, 3, 4])\n"
          ]
        }
      ]
    },
    {
      "cell_type": "markdown",
      "source": [
        "## tensorflow → numpy\n",
        "\n",
        "tf.constant가 immutable이므로 **서로 영향을 주지 않음**"
      ],
      "metadata": {
        "id": "T0rNTnmb-0Mc"
      }
    },
    {
      "cell_type": "code",
      "source": [
        "b_np = a_tf.numpy()\n",
        "print(b_np)\n",
        "\n",
        "b_np[2] = 777\n",
        "print(b_np)\n",
        "print(a_tf) # b_np에서 바꾼 값이 a_tf에 영향을 주지 않음."
      ],
      "metadata": {
        "id": "8a9Z05VQ-znI",
        "colab": {
          "base_uri": "https://localhost:8080/"
        },
        "outputId": "2ebc1be5-dd6f-49b8-bb61-7178d9a43284"
      },
      "execution_count": 7,
      "outputs": [
        {
          "output_type": "stream",
          "name": "stdout",
          "text": [
            "[1 2 3 4]\n",
            "[  1   2 777   4]\n",
            "tf.Tensor([1 2 3 4], shape=(4,), dtype=int32)\n"
          ]
        }
      ]
    },
    {
      "cell_type": "code",
      "source": [
        "c_np = np.array(a_tf)\n",
        "print(\"c_np: \", c_np)\n",
        "\n",
        "print(\"\\n<c_np[2] = 777>\")\n",
        "c_np[2] = 777\n",
        "print(\"c_np: \", c_np)\n",
        "print(\"a_tf: \", a_tf)"
      ],
      "metadata": {
        "colab": {
          "base_uri": "https://localhost:8080/"
        },
        "id": "pj65VykPSwC8",
        "outputId": "1343b947-6db7-4dd6-a4aa-85efa55177d9"
      },
      "execution_count": 8,
      "outputs": [
        {
          "output_type": "stream",
          "name": "stdout",
          "text": [
            "c_np:  [1 2 3 4]\n",
            "\n",
            "<c_np[2] = 777>\n",
            "c_np:  [  1   2 777   4]\n",
            "a_tf:  tf.Tensor([1 2 3 4], shape=(4,), dtype=int32)\n"
          ]
        }
      ]
    },
    {
      "cell_type": "markdown",
      "source": [
        "## numpy → tf, torch\n",
        "\n",
        "### dtype 주의 사항\n",
        "    \n",
        "numpy는 float64를 기본으로 사용하고 pytorch / tensorflow는 float32를 기본으로 사용.\n",
        "    \n",
        "→ numpy로부터 tensor 객체를 얻을 경우 float32로 dtype을 변환해야 함.\n",
        "<br><br>\n",
        "    \n",
        "\n",
        "### **Torch**\n",
        "\n",
        "**torch 변환 후 np 확인**\n",
        "\n",
        "- `torch.tensor()`: 서로 영향X\n",
        "- `torch.from_numpy()`: 서로 영향O\n",
        "\n",
        "**np 변환 후 torch 확인**\n",
        "\n",
        "- 얻은 방식과 상관없이 서로 영향.\n",
        "\n",
        "### **TensorFlow**\n",
        "\n",
        "**tf 변환 후 np 확인**\n",
        "-> immutable이므로 바꿀 수 없음.\n",
        "\n",
        "- `tf.constant()`\n",
        "- `tf.convert_to_tensor()`\n",
        "\n",
        "**np 변환 후 tf 확인**\n",
        "\n",
        "- 얻은 방식과 상관없이 서로 영향 없음.\n",
        "<br><br>\n",
        "\n",
        "### Tensor 생성"
      ],
      "metadata": {
        "id": "PNW9_ehH-9yK"
      }
    },
    {
      "cell_type": "code",
      "source": [
        "t = (1,2,3,4)\n",
        "\n",
        "a_np = np.array(t)\n",
        "a_torch = torch.tensor(a_np)\n",
        "b_torch = torch.from_numpy(a_np)\n",
        "a_tf = tf.constant(a_np)\n",
        "b_tf = tf.convert_to_tensor(a_np)\n",
        "\n",
        "print(a_np)\n",
        "print(a_torch)\n",
        "print(b_torch)\n",
        "print(a_tf)\n",
        "print(b_tf)"
      ],
      "metadata": {
        "colab": {
          "base_uri": "https://localhost:8080/"
        },
        "id": "SrxHF4lU_dRj",
        "outputId": "d4ed422a-fec1-47e7-c0c9-a29eb8af57d3"
      },
      "execution_count": 9,
      "outputs": [
        {
          "output_type": "stream",
          "name": "stdout",
          "text": [
            "[1 2 3 4]\n",
            "tensor([1, 2, 3, 4])\n",
            "tensor([1, 2, 3, 4])\n",
            "tf.Tensor([1 2 3 4], shape=(4,), dtype=int64)\n",
            "tf.Tensor([1 2 3 4], shape=(4,), dtype=int64)\n"
          ]
        }
      ]
    },
    {
      "cell_type": "markdown",
      "source": [
        "### Torch"
      ],
      "metadata": {
        "id": "_ZmYwQwh_kf1"
      }
    },
    {
      "cell_type": "code",
      "source": [
        "# torch 값 변환 후 np 확인\n",
        "a_torch[2] = 777\n",
        "print(a_torch)\n",
        "print(a_np) # torch.tensor로 얻은 a_torch의 값을 바꿔도 a_np에 영향 없음.\n",
        "\n",
        "b_torch[2] = 777\n",
        "print(b_torch)\n",
        "print(a_np) # torch.from_numpy로 얻은 a_torch의 값을 바꾸면 a_np에 영향."
      ],
      "metadata": {
        "colab": {
          "base_uri": "https://localhost:8080/"
        },
        "id": "7AqFW6PZ_o4q",
        "outputId": "cd52e7b8-5436-409c-cf09-5ff8403f3432"
      },
      "execution_count": 10,
      "outputs": [
        {
          "output_type": "stream",
          "name": "stdout",
          "text": [
            "tensor([  1,   2, 777,   4])\n",
            "[1 2 3 4]\n",
            "tensor([  1,   2, 777,   4])\n",
            "[  1   2 777   4]\n"
          ]
        }
      ]
    },
    {
      "cell_type": "code",
      "source": [
        "# np 값 변환 후 torch 확인.\n",
        "a_np = np.array(t) # 초기화\n",
        "print(a_np)\n",
        "a_np[2] = 777\n",
        "print(a_np)\n",
        "print(a_torch)\n",
        "print(b_torch) # 얻은 방식과 상관없이 a_np의 값을 바꾸면 torch에 영향."
      ],
      "metadata": {
        "colab": {
          "base_uri": "https://localhost:8080/"
        },
        "id": "n7jZ-F1u_p1e",
        "outputId": "833a43de-fbed-40da-b6b3-427056d12f1b"
      },
      "execution_count": 11,
      "outputs": [
        {
          "output_type": "stream",
          "name": "stdout",
          "text": [
            "[1 2 3 4]\n",
            "[  1   2 777   4]\n",
            "tensor([  1,   2, 777,   4])\n",
            "tensor([  1,   2, 777,   4])\n"
          ]
        }
      ]
    },
    {
      "cell_type": "markdown",
      "source": [
        "### Tensorflow\n"
      ],
      "metadata": {
        "id": "dLGNj3XB_sBs"
      }
    },
    {
      "cell_type": "code",
      "source": [
        "print(a_np)\n",
        "a_np[2] = 777\n",
        "print(a_np)\n",
        "print(a_tf)\n",
        "print(b_tf) # 얻은 방식과 상관없이 a_np의 값을 바꿔도 tf에는 영향 없음."
      ],
      "metadata": {
        "colab": {
          "base_uri": "https://localhost:8080/"
        },
        "id": "pyIPHlVH_ui9",
        "outputId": "25763969-bf44-477b-b323-345ab4282261"
      },
      "execution_count": 33,
      "outputs": [
        {
          "output_type": "stream",
          "name": "stdout",
          "text": [
            "[1 2 3 4]\n",
            "[  1   2 777   4]\n",
            "tf.Tensor([1 2 3 4], shape=(4,), dtype=int32)\n",
            "tf.Tensor([1 2 3 4], shape=(4,), dtype=int64)\n"
          ]
        }
      ]
    },
    {
      "cell_type": "markdown",
      "source": [
        "## torch -> tf"
      ],
      "metadata": {
        "id": "8Sk5TAD4729K"
      }
    },
    {
      "cell_type": "code",
      "source": [
        "a_torch = torch.tensor([1, 2, 3, 4])\n",
        "print(a_torch)\n",
        "x = tf.constant(a_torch)\n",
        "a_torch[2] = 100\n",
        "print(a_torch)\n",
        "print(x)"
      ],
      "metadata": {
        "colab": {
          "base_uri": "https://localhost:8080/"
        },
        "id": "lKHn9-mq8Xuu",
        "outputId": "ddd72b1b-a4b3-4459-b9ca-cf433907509b"
      },
      "execution_count": 31,
      "outputs": [
        {
          "output_type": "stream",
          "name": "stdout",
          "text": [
            "tensor([1, 2, 3, 4])\n",
            "tensor([  1,   2, 100,   4])\n",
            "tf.Tensor([  1   2 100   4], shape=(4,), dtype=int64)\n"
          ]
        }
      ]
    },
    {
      "cell_type": "code",
      "source": [
        "a_torch = torch.tensor([1, 2, 3, 4])\n",
        "print(a_torch)\n",
        "x = tf.convert_to_tensor(a_torch)\n",
        "a_torch[2] = 100\n",
        "print(a_torch)\n",
        "print(x)"
      ],
      "metadata": {
        "colab": {
          "base_uri": "https://localhost:8080/"
        },
        "id": "1GpZB8Za8t8f",
        "outputId": "6450c0d8-7a2a-4233-c2ee-e2032d1d29be"
      },
      "execution_count": 29,
      "outputs": [
        {
          "output_type": "stream",
          "name": "stdout",
          "text": [
            "tensor([1, 2, 3, 4])\n",
            "tensor([  1,   2, 100,   4])\n",
            "tf.Tensor([  1   2 100   4], shape=(4,), dtype=int64)\n"
          ]
        }
      ]
    }
  ]
}