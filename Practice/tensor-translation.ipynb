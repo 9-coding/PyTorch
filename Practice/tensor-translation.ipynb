{
  "nbformat": 4,
  "nbformat_minor": 0,
  "metadata": {
    "colab": {
      "provenance": [],
      "authorship_tag": "ABX9TyNex3kBvkl++2gveg63GPlB",
      "include_colab_link": true
    },
    "kernelspec": {
      "name": "python3",
      "display_name": "Python 3"
    },
    "language_info": {
      "name": "python"
    }
  },
  "cells": [
    {
      "cell_type": "markdown",
      "metadata": {
        "id": "view-in-github",
        "colab_type": "text"
      },
      "source": [
        "<a href=\"https://colab.research.google.com/github/9-coding/PyTorch/blob/main/Practice/tensor-translation.ipynb\" target=\"_parent\"><img src=\"https://colab.research.google.com/assets/colab-badge.svg\" alt=\"Open In Colab\"/></a>"
      ]
    },
    {
      "cell_type": "code",
      "execution_count": 42,
      "metadata": {
        "id": "lljzu3TdH0m-"
      },
      "outputs": [],
      "source": [
        "import torch\n",
        "import numpy as np\n",
        "import tensorflow as tf"
      ]
    },
    {
      "cell_type": "markdown",
      "source": [
        "1. 주어진 NumPy 배열을 PyTorch 텐서로 변환하고, 변환된 텐서의 모양(shape)을 출력하세요."
      ],
      "metadata": {
        "id": "W8AO6ybIJ5sv"
      }
    },
    {
      "cell_type": "code",
      "source": [
        "a = np.arange(0, 6, 1)\n",
        "print(type(a))\n",
        "a_t = torch.from_numpy(a)\n",
        "print(a_t.dtype)\n",
        "print(a_t.shape)"
      ],
      "metadata": {
        "colab": {
          "base_uri": "https://localhost:8080/"
        },
        "id": "3P2Q65HmJ5QG",
        "outputId": "369dee05-0a2d-4a73-ec01-d860879e96e8"
      },
      "execution_count": null,
      "outputs": [
        {
          "output_type": "stream",
          "name": "stdout",
          "text": [
            "<class 'numpy.ndarray'>\n",
            "torch.int64\n",
            "torch.Size([6])\n"
          ]
        }
      ]
    },
    {
      "cell_type": "markdown",
      "source": [
        "2. 주어진 PyTorch 텐서를 TensorFlow 텐서로 변환하고, 변환된 텐서의 데이터 타입(dtype)을 출력하세요."
      ],
      "metadata": {
        "id": "9awYXpEqJ8vp"
      }
    },
    {
      "cell_type": "code",
      "source": [
        "a_t = torch.tensor([1, 2, 3, 4])\n",
        "a = np.array(a_t)\n",
        "print(a.dtype)"
      ],
      "metadata": {
        "id": "heBsTet3J8z_",
        "colab": {
          "base_uri": "https://localhost:8080/"
        },
        "outputId": "fb7b7daf-9e29-41a2-ec9f-038be237cc2e"
      },
      "execution_count": null,
      "outputs": [
        {
          "output_type": "stream",
          "name": "stdout",
          "text": [
            "int64\n"
          ]
        }
      ]
    },
    {
      "cell_type": "markdown",
      "source": [
        "3. 주어진 TensorFlow 텐서를 NumPy 배열로 변환하고, 변환된 배열의 차원(dimension) 수(ndim)를 출력하세요."
      ],
      "metadata": {
        "id": "GXVzQIchJ_82"
      }
    },
    {
      "cell_type": "code",
      "source": [
        "a_tf = tf.constant([1, 2, 3, 4])\n",
        "a = a_tf.numpy()\n",
        "print(a)\n",
        "print(a.ndim)"
      ],
      "metadata": {
        "colab": {
          "base_uri": "https://localhost:8080/"
        },
        "id": "VuJlSR3iOUc4",
        "outputId": "7b809bb4-6637-438f-9518-22a90e09f134"
      },
      "execution_count": null,
      "outputs": [
        {
          "output_type": "stream",
          "name": "stdout",
          "text": [
            "[1 2 3 4]\n",
            "1\n"
          ]
        }
      ]
    },
    {
      "cell_type": "markdown",
      "source": [
        "4. 주어진 튜플 t = (5, 6, 7, 8)을 사용하여 numpy 배열, PyTorch 텐서, TensorFlow 텐서를 생성하는 코드를 작성하세요."
      ],
      "metadata": {
        "id": "oeOK72IzMXaQ"
      }
    },
    {
      "cell_type": "code",
      "source": [
        "t = (5, 6, 7, 8)\n",
        "a = np.array(t)\n",
        "a_t = torch.tensor(t)\n",
        "a_tf = tf.constant(t)\n",
        "\n",
        "print(a)\n",
        "print(a_t)\n",
        "print(a_tf)"
      ],
      "metadata": {
        "colab": {
          "base_uri": "https://localhost:8080/"
        },
        "id": "uXDKnpLbO2MY",
        "outputId": "6f23ed6e-441d-40fb-d55d-14b79118babb"
      },
      "execution_count": null,
      "outputs": [
        {
          "output_type": "stream",
          "name": "stdout",
          "text": [
            "[5 6 7 8]\n",
            "tensor([5, 6, 7, 8])\n",
            "tf.Tensor([5 6 7 8], shape=(4,), dtype=int32)\n"
          ]
        }
      ]
    },
    {
      "cell_type": "markdown",
      "source": [
        "5. PyTorch 텐서 a_torch가 주어졌을 때, 이를 TensorFlow 텐서로 변환하는 코드를 작성하세요."
      ],
      "metadata": {
        "id": "sUKtkEVFMY3Y"
      }
    },
    {
      "cell_type": "code",
      "source": [
        "a_torch = torch.tensor([1, 2, 3, 4])\n",
        "a_tf = tf.constant(a_torch)\n",
        "b_tf = tf.convert_to_tensor(a_torch)\n",
        "print(a_tf)\n",
        "print(b_tf)"
      ],
      "metadata": {
        "colab": {
          "base_uri": "https://localhost:8080/"
        },
        "id": "MCr0UApQPC6r",
        "outputId": "fcef5f7e-cbd0-40f8-a5be-dafa58cd9f74"
      },
      "execution_count": null,
      "outputs": [
        {
          "output_type": "stream",
          "name": "stdout",
          "text": [
            "tf.Tensor([1 2 3 4], shape=(4,), dtype=int64)\n",
            "tf.Tensor([1 2 3 4], shape=(4,), dtype=int64)\n"
          ]
        }
      ]
    },
    {
      "cell_type": "markdown",
      "source": [
        "Numpy 배열 a_np를 생성하고, 이 배열을 사용하여 동일한 데이터를 가지지만 서로 다른 라이브러리(TensorFlow, PyTorch)의 Tensor 객체를 생성하는 코드를 작성하세요."
      ],
      "metadata": {
        "id": "Xtz9PTNXMerH"
      }
    },
    {
      "cell_type": "code",
      "source": [
        "a_np = np.arange(0, 6, 1)\n",
        "a_t = torch.from_numpy(a_np)\n",
        "a_tf = tf.convert_to_tensor(a_np)\n",
        "\n",
        "print(a_t)\n",
        "print(a_tf)"
      ],
      "metadata": {
        "colab": {
          "base_uri": "https://localhost:8080/"
        },
        "id": "I8tf_D-WPhzZ",
        "outputId": "6cf74dc3-57a8-4b3a-cf3c-5d6dee5fc300"
      },
      "execution_count": null,
      "outputs": [
        {
          "output_type": "stream",
          "name": "stdout",
          "text": [
            "tensor([0, 1, 2, 3, 4, 5])\n",
            "tf.Tensor([0 1 2 3 4 5], shape=(6,), dtype=int64)\n"
          ]
        }
      ]
    },
    {
      "cell_type": "markdown",
      "source": [
        "다음 코드를 실행한 후의 a_np의 출력값은 무엇일까요?\n",
        "```\n",
        "t = (1, 2, 3, 4)\n",
        "a_np = np.array(t)\n",
        "a_torch = torch.tensor(a_np)\n",
        "a_torch[2] = 777\n",
        "\n",
        "print(a_np)\n",
        "```"
      ],
      "metadata": {
        "id": "2v7Jg7YjMgQO"
      }
    },
    {
      "cell_type": "markdown",
      "source": [
        "- [1 2 3 4]"
      ],
      "metadata": {
        "id": "fvnLdka8Ptl3"
      }
    },
    {
      "cell_type": "markdown",
      "source": [
        "다음 코드를 실행한 후 b_np의 출력값은?\n",
        "```\n",
        "t = (1, 2, 3, 4)\n",
        "a_tf = tf.constant(t)\n",
        "b_np = a_tf.numpy()\n",
        "b_np[2] = 777\n",
        "\n",
        "print(b_np)\n",
        "```"
      ],
      "metadata": {
        "id": "JQ9u8MjFMjR_"
      }
    },
    {
      "cell_type": "markdown",
      "source": [
        "- [1 2 777 4]"
      ],
      "metadata": {
        "id": "RMxI8XNVP6IT"
      }
    },
    {
      "cell_type": "markdown",
      "source": [
        "다음 코드를 실행한 후 a_torch와 b_torch의 출력값은?\n",
        "```\n",
        "t = (1, 2, 3, 4)\n",
        "a_np = np.array(t)\n",
        "b_torch = torch.from_numpy(a_np)\n",
        "a_np[2] = 777\n",
        "\n",
        "a_torch = torch.tensor(t)\n",
        "print(a_torch)\n",
        "print(b_torch)\n",
        "```"
      ],
      "metadata": {
        "id": "ZfG3U2W3MmyX"
      }
    },
    {
      "cell_type": "markdown",
      "source": [
        "- tensor([1, 2, 3, 4])\n",
        "- tensor([1, 2, 777, 4])"
      ],
      "metadata": {
        "id": "OPZPYfm-QGtD"
      }
    },
    {
      "cell_type": "markdown",
      "source": [
        "### 다음 코드를 실행한 후, a_np, a_torch, (b_torch)의 결과를 예측하세요.\n",
        "```\n",
        "import numpy as np\n",
        "import torch\n",
        "\n",
        "t = (1, 2, 3, 4)\n",
        "a_np = np.array(t)\n",
        "a_torch = torch.tensor(a_np)\n",
        "b_torch = torch.from_numpy(a_np)\n",
        "\n",
        "b_torch[2] = 777\n",
        "```"
      ],
      "metadata": {
        "id": "ahLhfp7fMpDs"
      }
    },
    {
      "cell_type": "markdown",
      "source": [
        "- a_np: [1 2 777 4]\n",
        "- a_torch: tensor([1, 2, 3, 4])\n",
        "- b_torch: tensor([1, 2, 777, 4])"
      ],
      "metadata": {
        "id": "ukUfGRghSA94"
      }
    },
    {
      "cell_type": "markdown",
      "source": [
        "\n",
        "```\n",
        "import numpy as np\n",
        "import torch\n",
        "\n",
        "t = (5, 10, 15, 20)\n",
        "a_np = np.array(t)\n",
        "a_torch = torch.tensor(a_np)\n",
        "b_torch = torch.from_numpy(a_np)\n",
        "\n",
        "a_np[1] = 100\n",
        "\n",
        "```"
      ],
      "metadata": {
        "id": "e3xSzgw6RGOf"
      }
    },
    {
      "cell_type": "markdown",
      "source": [
        "- a_np: [5 100 15 20]\n",
        "- a_torch: tensor([5, 10, 15, 20])\n",
        "- b_torch: tensor([5, 100, 15, 20])"
      ],
      "metadata": {
        "id": "CQ2GygwySF-n"
      }
    },
    {
      "cell_type": "markdown",
      "source": [
        "\n",
        "```\n",
        "import numpy as np\n",
        "import torch\n",
        "\n",
        "t = (0.1, 0.2, 0.3, 0.4)\n",
        "a_np = np.array(t)\n",
        "a_torch = torch.tensor(a_np)\n",
        "b_torch = torch.from_numpy(a_np)\n",
        "\n",
        "b_torch[0] = 999\n",
        "\n",
        "```"
      ],
      "metadata": {
        "id": "wXrFJEnYRLGA"
      }
    },
    {
      "cell_type": "markdown",
      "source": [
        "- a_np: [999 0.2 0.3 0.4]\n",
        "- a_torch: tensor([0.1, 0.2, 0.3, 0.4])\n",
        "- b_torch: tensor([999, 0.2, 0.3, 0.4])"
      ],
      "metadata": {
        "id": "_90HpsqeSGyA"
      }
    },
    {
      "cell_type": "markdown",
      "source": [
        "```\n",
        "import numpy as np\n",
        "import torch\n",
        "\n",
        "t = [9, 8, 7, 6]\n",
        "a_np = np.array(t)\n",
        "a_torch = torch.tensor(a_np)\n",
        "b_torch = torch.from_numpy(a_np)\n",
        "\n",
        "a_torch[3] = 1000\n",
        "```\n"
      ],
      "metadata": {
        "id": "WMtqKSy4RUR2"
      }
    },
    {
      "cell_type": "markdown",
      "source": [
        "- a_np: [9 8 7 6]\n",
        "- a_torch: tensor([9, 8, 7, 1000])\n",
        "- b_torch: tensor([9, 8, 7, 6])"
      ],
      "metadata": {
        "id": "scyr-pruSHYa"
      }
    },
    {
      "cell_type": "markdown",
      "source": [
        "```\n",
        "import numpy as np\n",
        "import torch\n",
        "\n",
        "t = (11, 22, 33, 44)\n",
        "a_np = np.array(t)\n",
        "a_torch = torch.tensor(a_np)\n",
        "b_torch = torch.from_numpy(a_np)\n",
        "\n",
        "b_torch = torch.tensor([55, 66, 77, 88])\n",
        "```"
      ],
      "metadata": {
        "id": "1Ww4AyvtRfCH"
      }
    },
    {
      "cell_type": "markdown",
      "source": [
        "- a_np: [11 22 33 44]\n",
        "- a_torch: tensor([11, 22, 33, 44])\n",
        "- b_torch: tensor([55, 66, 77, 88])"
      ],
      "metadata": {
        "id": "Go6m38LGSH3U"
      }
    },
    {
      "cell_type": "markdown",
      "source": [
        "```\n",
        "import numpy as np\n",
        "import torch\n",
        "\n",
        "t = (2, 4, 6, 8)\n",
        "a_torch = torch.tensor(t)\n",
        "a_np = a_torch.numpy()\n",
        "\n",
        "a_torch[1] = 100\n",
        "a_np[2] = 999\n",
        "```"
      ],
      "metadata": {
        "id": "Y-CaN2BUR5vU"
      }
    },
    {
      "cell_type": "code",
      "source": [
        "import numpy as np\n",
        "import torch\n",
        "\n",
        "t = (2, 4, 6, 8)\n",
        "a_torch = torch.tensor(t)\n",
        "a_np = a_torch.numpy()\n",
        "\n",
        "a_torch[1] = 100\n",
        "a_np[2] = 999"
      ],
      "metadata": {
        "colab": {
          "base_uri": "https://localhost:8080/"
        },
        "id": "qItkHxuOWf-7",
        "outputId": "ed60694d-a3e5-48a7-c14b-c3d1fc309611"
      },
      "execution_count": 47,
      "outputs": [
        {
          "output_type": "execute_result",
          "data": {
            "text/plain": [
              "tensor([  2, 100, 999,   8])"
            ]
          },
          "metadata": {},
          "execution_count": 47
        }
      ]
    },
    {
      "cell_type": "markdown",
      "source": [
        "- a_np: [2 100 999 8]\n",
        "- a_torch: tensor([2, 100, 999, 8])"
      ],
      "metadata": {
        "id": "TmFV8x0pSIS9"
      }
    },
    {
      "cell_type": "markdown",
      "source": [
        "```\n",
        "import numpy as np\n",
        "import torch\n",
        "\n",
        "t = [5, 10, 15, 20]\n",
        "a_torch = torch.tensor(t)\n",
        "a_np = a_torch.numpy()\n",
        "\n",
        "a_np[0] = 777\n",
        "a_torch[3] = 888\n",
        "```"
      ],
      "metadata": {
        "id": "8FRHnnGfR8xZ"
      }
    },
    {
      "cell_type": "markdown",
      "source": [
        "- a_np: [777 10 15 888]\n",
        "- a_torch: tensor([777, 10, 15, 888])"
      ],
      "metadata": {
        "id": "ESB5HA4fSJZv"
      }
    },
    {
      "cell_type": "markdown",
      "source": [
        "```\n",
        "import numpy as np\n",
        "import torch\n",
        "\n",
        "t = (0.5, 1.0, 1.5, 2.0)\n",
        "a_torch = torch.tensor(t)\n",
        "a_np = a_torch.numpy()\n",
        "\n",
        "a_torch[2] = 999\n",
        "a_np[1] = 777\n",
        "\n",
        "```"
      ],
      "metadata": {
        "id": "Mxh9HswhR-So"
      }
    },
    {
      "cell_type": "markdown",
      "source": [
        "- a_np: [0.5, 777, 999, 2.0]\n",
        "- a_torch: tensor([0.5, 777, 999, 2.0])"
      ],
      "metadata": {
        "id": "4pNA7HcLSJ2k"
      }
    },
    {
      "cell_type": "markdown",
      "source": [
        "### 다음 코드를 실행한 후 a_np, a_tf, b_tf의 결과를 예측하세요"
      ],
      "metadata": {
        "id": "QFwjmBpCXiIc"
      }
    },
    {
      "cell_type": "markdown",
      "source": [
        "```\n",
        "import numpy as np\n",
        "import tensorflow as tf\n",
        "\n",
        "t = [3, 6, 9, 12]\n",
        "a_np = np.array(t)\n",
        "a_tf = tf.constant(a_np)\n",
        "b_tf = tf.convert_to_tensor(a_np)\n",
        "\n",
        "a_np[2] = 999\n",
        "```"
      ],
      "metadata": {
        "id": "9yTNP6AdXmfH"
      }
    },
    {
      "cell_type": "markdown",
      "source": [
        "- a_np: [3 6 999 12]\n",
        "- a_tf: tf.Tensor([3 6 9 12])\n",
        "- b_tf: tf.Tensor([3 6 9 12])"
      ],
      "metadata": {
        "id": "oMfrv6jtXvOd"
      }
    },
    {
      "cell_type": "markdown",
      "source": [
        "```\n",
        "import numpy as np\n",
        "import tensorflow as tf\n",
        "\n",
        "t = [3, 6, 9, 12]\n",
        "a_np = np.array(t)\n",
        "a_tf = tf.constant(a_np)\n",
        "a_np[2] = 999\n",
        "b_tf = tf.convert_to_tensor(a_np)\n",
        "\n",
        "\n",
        "```"
      ],
      "metadata": {
        "id": "CDRsGMZvYFR6"
      }
    },
    {
      "cell_type": "markdown",
      "source": [
        "- a_np: [3 6 999 12]\n",
        "- a_tf: tf.Tensor([3 6 9 12])\n",
        "- b_tf: tf.Tensor([3 6 999 12])"
      ],
      "metadata": {
        "id": "lHqJ-8lsYJid"
      }
    },
    {
      "cell_type": "markdown",
      "source": [
        "```\n",
        "import numpy as np\n",
        "import tensorflow as tf\n",
        "\n",
        "t = [1.1, 2.2, 3.3, 4.4]\n",
        "a_np = np.array(t)\n",
        "a_tf = tf.constant(a_np)\n",
        "b_tf = tf.convert_to_tensor(a_np)\n",
        "\n",
        "b_tf[3] = 888\n",
        "```"
      ],
      "metadata": {
        "id": "X0Hrf1uZXqgv"
      }
    },
    {
      "cell_type": "markdown",
      "source": [
        "```\n",
        "import numpy as np\n",
        "import tensorflow as tf\n",
        "\n",
        "t = [7, 14, 21, 28]\n",
        "a_np = np.array(t)\n",
        "a_tf = tf.constant(a_np)\n",
        "b_tf = tf.convert_to_tensor(a_np)\n",
        "\n",
        "a_tf = tf.constant([1, 2, 3, 4])\n",
        "\n",
        "```"
      ],
      "metadata": {
        "id": "PBvU3C-eXraS"
      }
    },
    {
      "cell_type": "markdown",
      "source": [
        "- a_np: [7 14 21 28]\n",
        "- a_tf: tf.Tensor([1 2 3 4])\n",
        "- b_tf: tf.Tensor([7 14 21 28])"
      ],
      "metadata": {
        "id": "hgvZYfmGXz_k"
      }
    },
    {
      "cell_type": "markdown",
      "source": [
        "```\n",
        "import numpy as np\n",
        "import tensorflow as tf\n",
        "\n",
        "t = (10, 20, 30, 40)\n",
        "a_np = np.array(t)\n",
        "a_tf = tf.constant(a_np)\n",
        "b_tf = tf.convert_to_tensor(a_np)\n",
        "\n",
        "b_tf = tf.constant([50, 60, 70, 80])\n",
        "\n",
        "```"
      ],
      "metadata": {
        "id": "yjeUz2wXXtHL"
      }
    },
    {
      "cell_type": "markdown",
      "source": [
        "- a_np: [10 20 30 40]\n",
        "- a_tf: tf.Tensor([10 20 30 40])\n",
        "- b_tf: tf.Tensor([50 60 70 80])"
      ],
      "metadata": {
        "id": "a89QDa0zX0T8"
      }
    }
  ]
}