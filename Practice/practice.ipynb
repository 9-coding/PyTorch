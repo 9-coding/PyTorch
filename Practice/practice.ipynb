{
  "nbformat": 4,
  "nbformat_minor": 0,
  "metadata": {
    "colab": {
      "provenance": [],
      "authorship_tag": "ABX9TyNF+0BP7usFGfc1l8IA43MN",
      "include_colab_link": true
    },
    "kernelspec": {
      "name": "python3",
      "display_name": "Python 3"
    },
    "language_info": {
      "name": "python"
    }
  },
  "cells": [
    {
      "cell_type": "markdown",
      "metadata": {
        "id": "view-in-github",
        "colab_type": "text"
      },
      "source": [
        "<a href=\"https://colab.research.google.com/github/9-coding/PyTorch/blob/main/practice.ipynb\" target=\"_parent\"><img src=\"https://colab.research.google.com/assets/colab-badge.svg\" alt=\"Open In Colab\"/></a>"
      ]
    },
    {
      "cell_type": "code",
      "execution_count": 29,
      "metadata": {
        "id": "sRZwDSepgEsa"
      },
      "outputs": [],
      "source": [
        "import torch\n",
        "import numpy as np\n",
        "import tensorflow as tf"
      ]
    },
    {
      "cell_type": "markdown",
      "source": [
        "# 코드 작성"
      ],
      "metadata": {
        "id": "xKTddb1y_jN8"
      }
    },
    {
      "cell_type": "markdown",
      "source": [
        "주어진 Python 튜플을 이용해 NumPy 배열을 생성하고, 배열의 차원(dimension)과 형태(shape)를 출력하는 코드를 작성하시오.<br>\n",
        "```t = (1, 2, 3, 4, 5, 6)```\n"
      ],
      "metadata": {
        "id": "aDP8Zg0U-zjH"
      }
    },
    {
      "cell_type": "code",
      "source": [
        "t = (1, 2, 3, 4, 5, 6)\n",
        "a_np = np.array(t)\n",
        "print(a_np.ndim)\n",
        "print(a_np.shape)"
      ],
      "metadata": {
        "colab": {
          "base_uri": "https://localhost:8080/"
        },
        "id": "LIay0H7Q-7p8",
        "outputId": "1f707710-1029-481f-afde-933cb541eae7"
      },
      "execution_count": 5,
      "outputs": [
        {
          "output_type": "stream",
          "name": "stdout",
          "text": [
            "1\n",
            "(6,)\n"
          ]
        }
      ]
    },
    {
      "cell_type": "markdown",
      "source": [
        "주어진 PyTorch 텐서의 데이터 타입을 float32로 변환하고, 결과 텐서의 데이터 타입을 출력하는 코드를 작성하시오.\n",
        "```\n",
        "import torch\n",
        "p = torch.tensor([1, 2, 3])\n",
        "```"
      ],
      "metadata": {
        "id": "ikjNlaP9-7iN"
      }
    },
    {
      "cell_type": "code",
      "source": [
        "p = torch.FloatTensor([1,2,3])\n",
        "print(p.dtype)\n",
        "\n",
        "p_float = p.float()\n",
        "print(p_float.dtype)\n",
        "\n",
        "p = torch.tensor([1,2,3], dtype=torch.float32)\n",
        "print(p.dtype)"
      ],
      "metadata": {
        "colab": {
          "base_uri": "https://localhost:8080/"
        },
        "id": "rbcpF1Y0_ER2",
        "outputId": "e85a4d51-cf26-4d20-eac0-f81d07211424"
      },
      "execution_count": 28,
      "outputs": [
        {
          "output_type": "stream",
          "name": "stdout",
          "text": [
            "torch.float32\n",
            "torch.float32\n",
            "torch.float32\n"
          ]
        }
      ]
    },
    {
      "cell_type": "markdown",
      "source": [
        "2x3 배열을 생성하되, 첫 번째 행은 1부터 3까지 연속된 숫자로, 두 번째 행은 6부터 8까지 연속된 숫자로 채워진 NumPy 배열을 생성하고 출력하세요.\n",
        "\n"
      ],
      "metadata": {
        "id": "JAjvj1tk_rEq"
      }
    },
    {
      "cell_type": "code",
      "source": [
        "a = np.array([[1, 2, 3], [6, 7, 8]])\n",
        "print(a)"
      ],
      "metadata": {
        "colab": {
          "base_uri": "https://localhost:8080/"
        },
        "id": "NMJ06svyFVZU",
        "outputId": "437eed87-bd54-4067-a8f5-edb61b5aee25"
      },
      "execution_count": 14,
      "outputs": [
        {
          "output_type": "stream",
          "name": "stdout",
          "text": [
            "[[1 2 3]\n",
            " [6 7 8]]\n"
          ]
        }
      ]
    },
    {
      "cell_type": "markdown",
      "source": [
        "주어진 PyTorch 텐서에 대해 모든 요소의 합을 구하고, 결과를 출력하세요.\n",
        "```\n",
        "import torch\n",
        "p = torch.tensor([[1, 2, 3], [4, 5, 6]])\n",
        "```\n"
      ],
      "metadata": {
        "id": "Z4iNjKpr_uJ9"
      }
    },
    {
      "cell_type": "code",
      "source": [
        "p = torch.arange(1,7,1).reshape(2,3)\n",
        "print(p.sum())\n",
        "print(torch.sum(p))"
      ],
      "metadata": {
        "colab": {
          "base_uri": "https://localhost:8080/"
        },
        "id": "7LH_nYYdFcA9",
        "outputId": "7e748355-6686-4728-ff91-593d5b8de539"
      },
      "execution_count": 27,
      "outputs": [
        {
          "output_type": "stream",
          "name": "stdout",
          "text": [
            "tensor(21)\n",
            "tensor(21)\n"
          ]
        }
      ]
    },
    {
      "cell_type": "markdown",
      "source": [
        "# 결과 예측"
      ],
      "metadata": {
        "id": "ff1EVxFz_mbN"
      }
    },
    {
      "cell_type": "markdown",
      "source": [
        "아래 코드를 실행했을 때의 출력 결과를 예측하시오.\n",
        "```\n",
        "import numpy as np\n",
        "a = np.array([1., 2., 3.])\n",
        "print(a.dtype)\n",
        "```"
      ],
      "metadata": {
        "id": "vo_uiiH5_EWA"
      }
    },
    {
      "cell_type": "markdown",
      "source": [
        "- float64"
      ],
      "metadata": {
        "id": "0sfCpQsq_VJI"
      }
    },
    {
      "cell_type": "markdown",
      "source": [
        "아래 코드를 실행했을 때의 출력 결과를 예측하시오.\n",
        "```\n",
        "import torch\n",
        "p = torch.tensor([1, 2, 3])\n",
        "p[1] = 777\n",
        "print(p)\n",
        "```"
      ],
      "metadata": {
        "id": "BkJpDqQd_VK6"
      }
    },
    {
      "cell_type": "markdown",
      "source": [
        "- tensor([1, 777, 3])"
      ],
      "metadata": {
        "id": "XNo00MmOGMLC"
      }
    },
    {
      "cell_type": "markdown",
      "source": [
        "아래 코드를 실행했을 때의 출력 결과를 예측하세요.\n",
        "```\n",
        "import tensorflow as tf\n",
        "a_tf = tf.constant([[1, 2, 3], [4, 5, 6]])\n",
        "print(a_tf.shape)\n",
        "```"
      ],
      "metadata": {
        "id": "-sdxmrIc_0o-"
      }
    },
    {
      "cell_type": "markdown",
      "source": [
        "- (2, 3)"
      ],
      "metadata": {
        "id": "BruhAA2XGgNY"
      }
    },
    {
      "cell_type": "markdown",
      "source": [
        "아래 코드를 실행했을 때의 출력 결과를 예측하세요.\n",
        "```\n",
        "import numpy as np\n",
        "a = np.arange(5, 15, 2).reshape(2, 3)\n",
        "print(a)\n",
        "```"
      ],
      "metadata": {
        "id": "3u9Jtq0w_4mS"
      }
    },
    {
      "cell_type": "markdown",
      "source": [
        "- [[5 7 9],<br>\n",
        "[11 13 15]]\n"
      ],
      "metadata": {
        "id": "g00Cb5qRGjX-"
      }
    },
    {
      "cell_type": "markdown",
      "source": [
        "# 빈칸 채우기"
      ],
      "metadata": {
        "id": "vaK9b1h1_nwT"
      }
    },
    {
      "cell_type": "markdown",
      "source": [
        "주어진 PyTorch 텐서의 차원 수를 출력하는 코드의 빈칸을 채우시오.\n",
        "```\n",
        "import torch\n",
        "p = torch.tensor([[1, 2, 3], [4, 5, 6]])\n",
        "print(p._____)\n",
        "```"
      ],
      "metadata": {
        "id": "UKH_WTvp_aaN"
      }
    },
    {
      "cell_type": "markdown",
      "source": [
        "- ndim"
      ],
      "metadata": {
        "id": "r23PtQO7G0B8"
      }
    },
    {
      "cell_type": "markdown",
      "source": [
        "아래 코드의 빈칸을 채워 TensorFlow 상수 텐서를 생성하고, 텐서의 데이터 타입을 출력하세요.\n",
        "```\n",
        "import tensorflow as tf\n",
        "a_tf = tf.constant([1.0, 2.0, 3.0], dtype=tf._____)\n",
        "print(a_tf.dtype)\n",
        "```"
      ],
      "metadata": {
        "id": "U7sAK33e_735"
      }
    },
    {
      "cell_type": "markdown",
      "source": [
        "- float32"
      ],
      "metadata": {
        "id": "5BPCoI5pG21K"
      }
    },
    {
      "cell_type": "markdown",
      "source": [
        "아래 코드의 빈칸을 채워, 4x4 단위 행렬(identity matrix)을 생성하고 출력하세요.\n",
        "```\n",
        "import numpy as np\n",
        "a = np._____(4)\n",
        "print(a)\n",
        "```"
      ],
      "metadata": {
        "id": "IexLQSo5_-Xn"
      }
    },
    {
      "cell_type": "markdown",
      "source": [
        "- eye"
      ],
      "metadata": {
        "id": "VGoZg95ZG_KZ"
      }
    },
    {
      "cell_type": "markdown",
      "source": [
        "# tensor 간 변환\n",
        "## 코드 작성\n"
      ],
      "metadata": {
        "id": "hJs8PIUDHh8K"
      }
    },
    {
      "cell_type": "markdown",
      "source": [
        "주어진 튜플 t = (5, 6, 7, 8)을 사용하여 numpy 배열, PyTorch 텐서, TensorFlow 텐서를 생성하는 코드를 작성하세요."
      ],
      "metadata": {
        "id": "-6X1iCOWIFgD"
      }
    },
    {
      "cell_type": "code",
      "source": [
        "t = (5,6,7,8)\n",
        "t_np = np.array(t)\n",
        "t_torch = torch.tensor(t)\n",
        "t_tf = tf.constant(t)\n",
        "\n",
        "print(t_np)\n",
        "print(t_torch)\n",
        "print(t_tf)"
      ],
      "metadata": {
        "colab": {
          "base_uri": "https://localhost:8080/"
        },
        "id": "4N2D7QfgIJQm",
        "outputId": "cbb731ef-18c2-4688-a3ab-99dea6b9f6b3"
      },
      "execution_count": 33,
      "outputs": [
        {
          "output_type": "stream",
          "name": "stdout",
          "text": [
            "[5 6 7 8]\n",
            "tensor([5, 6, 7, 8])\n",
            "tf.Tensor([5 6 7 8], shape=(4,), dtype=int32)\n"
          ]
        }
      ]
    },
    {
      "cell_type": "markdown",
      "source": [
        "PyTorch 텐서 a_torch가 주어졌을 때, 이를 TensorFlow 텐서로 변환하는 코드를 작성하세요.<br>\n",
        "```a_torch = torch.tensor([10, 20, 30, 40])```"
      ],
      "metadata": {
        "id": "DA9ryMm0Is6I"
      }
    },
    {
      "cell_type": "code",
      "source": [
        "a_torch = torch.tensor([10, 20, 30, 40])\n",
        "a_tf = tf.constant(a_torch)\n",
        "print(a_tf)"
      ],
      "metadata": {
        "colab": {
          "base_uri": "https://localhost:8080/"
        },
        "id": "BUjlpgJDI0lN",
        "outputId": "88876985-b374-4308-8c85-19b6975e6021"
      },
      "execution_count": 35,
      "outputs": [
        {
          "output_type": "stream",
          "name": "stdout",
          "text": [
            "tf.Tensor([10 20 30 40], shape=(4,), dtype=int64)\n"
          ]
        }
      ]
    },
    {
      "cell_type": "markdown",
      "source": [
        "Numpy 배열 a_np가 주어졌을 때, 배열 내 값이 50 이상인 모든 요소를 0으로 변경하는 코드를 작성하세요.<br>\n",
        "```a_np = np.array([45, 55, 60, 40, 20, 80])```"
      ],
      "metadata": {
        "id": "0vF0qxQLI0o3"
      }
    },
    {
      "cell_type": "code",
      "source": [
        "a_np = np.array([45, 55, 60, 40, 20, 80])\n",
        "a_np[a_np > 50] = 0\n",
        "a_np"
      ],
      "metadata": {
        "colab": {
          "base_uri": "https://localhost:8080/"
        },
        "id": "jDgZC6nPJ1B7",
        "outputId": "1e7a2374-051c-4edc-c3cc-e027bb6db7b9"
      },
      "execution_count": 37,
      "outputs": [
        {
          "output_type": "execute_result",
          "data": {
            "text/plain": [
              "array([45,  0,  0, 40, 20,  0])"
            ]
          },
          "metadata": {},
          "execution_count": 37
        }
      ]
    },
    {
      "cell_type": "markdown",
      "source": [
        "Numpy 배열 a_np를 생성하고, 이 배열을 사용하여 동일한 데이터를 가지지만 서로 다른 라이브러리(TensorFlow, PyTorch)의 Tensor 객체를 생성하는 코드를 작성하세요.<br>\n",
        "```a_np = np.array([5, 10, 15, 20])```"
      ],
      "metadata": {
        "id": "uaTQfbGJJzNd"
      }
    },
    {
      "cell_type": "code",
      "source": [
        "a_np = np.array([5, 10, 15, 20])\n",
        "a_tf = tf.convert_to_tensor(a_np)\n",
        "a_torch = torch.from_numpy(a_np)\n",
        "print(a_tf, type(a_tf))\n",
        "print(a_torch, type(a_torch))"
      ],
      "metadata": {
        "colab": {
          "base_uri": "https://localhost:8080/"
        },
        "id": "ME95OfdmJzSF",
        "outputId": "726c4dda-2161-4f22-d891-9bc7e980fa63"
      },
      "execution_count": 39,
      "outputs": [
        {
          "output_type": "stream",
          "name": "stdout",
          "text": [
            "tf.Tensor([ 5 10 15 20], shape=(4,), dtype=int64) <class 'tensorflow.python.framework.ops.EagerTensor'>\n",
            "tensor([ 5, 10, 15, 20]) <class 'torch.Tensor'>\n"
          ]
        }
      ]
    },
    {
      "cell_type": "markdown",
      "source": [
        "## 결과 예측"
      ],
      "metadata": {
        "id": "w-bEvr_6H6cg"
      }
    },
    {
      "cell_type": "markdown",
      "source": [
        "다음 코드를 실행한 후의 a_np의 출력값은 무엇일까요? **(다시 풀기)**\n",
        "```\n",
        "t = (1, 2, 3, 4)\n",
        "a_np = np.array(t)\n",
        "a_torch = torch.tensor(a_np)\n",
        "a_torch[2] = 777\n",
        "\n",
        "print(a_np)\n",
        "```"
      ],
      "metadata": {
        "id": "pnN-V4wgINxH"
      }
    },
    {
      "cell_type": "markdown",
      "source": [
        "- [1 2 777 4]"
      ],
      "metadata": {
        "id": "fngCmrACMMlw"
      }
    },
    {
      "cell_type": "markdown",
      "source": [
        "다음 코드를 실행한 후 b_np의 출력값은?\n",
        "```\n",
        "t = (1, 2, 3, 4)\n",
        "a_tf = tf.constant(t)\n",
        "b_np = a_tf.numpy()\n",
        "b_np[2] = 777\n",
        "\n",
        "print(b_np)\n",
        "```"
      ],
      "metadata": {
        "id": "9cc1FRpcITNj"
      }
    },
    {
      "cell_type": "markdown",
      "source": [
        "- [1 2 777 4]"
      ],
      "metadata": {
        "id": "ISNhgDz5MR5r"
      }
    },
    {
      "cell_type": "markdown",
      "source": [
        "다음 코드를 실행한 후 a_torch와 b_torch의 출력값은?\n",
        "```\n",
        "t = (1, 2, 3, 4)\n",
        "a_np = np.array(t)\n",
        "b_torch = torch.from_numpy(a_np)\n",
        "a_np[2] = 777\n",
        "\n",
        "a_torch = torch.tensor(t)\n",
        "print(a_torch)\n",
        "print(b_torch)\n",
        "```"
      ],
      "metadata": {
        "id": "5a7NMyyFIYIg"
      }
    },
    {
      "cell_type": "markdown",
      "source": [
        "- tensor([1, 2, 3, 4])<br>\n",
        "tensor([1, 2, 777, 4])"
      ],
      "metadata": {
        "id": "gDcg-EiAMb4o"
      }
    },
    {
      "cell_type": "markdown",
      "source": [
        "다음 코드를 실행한 후, a_np, a_torch, b_torch의 결과를 예측하세요. **(다시 풀기)**\n",
        "\n",
        "```\n",
        "import numpy as np\n",
        "import torch\n",
        "\n",
        "t = (1, 2, 3, 4)\n",
        "a_np = np.array(t)\n",
        "a_torch = torch.tensor(a_np)\n",
        "b_torch = torch.from_numpy(a_np)\n",
        "\n",
        "b_torch[2] = 777\n",
        "```"
      ],
      "metadata": {
        "id": "FO-6VsgZJ43N"
      }
    },
    {
      "cell_type": "markdown",
      "source": [
        "- a_np: [1 2 777 4] -> from_numpy()로 얻은 텐서를 조작했으므로\n",
        "- a_torch: tensor([1, 2, 3, 4])\n",
        "- b_torch: tensor([1, 2, 777, 4])"
      ],
      "metadata": {
        "id": "nO7FXUItMyyz"
      }
    },
    {
      "cell_type": "markdown",
      "source": [
        "## 빈칸 채우기"
      ],
      "metadata": {
        "id": "KfW-OD4sH8e2"
      }
    },
    {
      "cell_type": "markdown",
      "source": [
        "다음 코드에서 빈칸에 들어갈 적절한 함수 또는 메서드 이름을 적으세요.\n",
        "\n",
        "```\n",
        "import numpy as np\n",
        "import torch\n",
        "import tensorflow as tf\n",
        "\n",
        "# Tensor 생성\n",
        "t = (1, 2, 3, 4)\n",
        "\n",
        "a_np = np.array(t)\n",
        "a_tf = tf.constant(t)\n",
        "a_torch = torch.tensor(t)\n",
        "\n",
        "# torch → numpy\n",
        "b_np = a_torch.______()\n",
        "\n",
        "```"
      ],
      "metadata": {
        "id": "tJ-WAa2KJrmB"
      }
    },
    {
      "cell_type": "markdown",
      "source": [
        "- numpy"
      ],
      "metadata": {
        "id": "poXr54aJM_Pf"
      }
    },
    {
      "cell_type": "markdown",
      "source": [
        "## 코드 수정하기"
      ],
      "metadata": {
        "id": "_XUbAISZJ-5S"
      }
    },
    {
      "cell_type": "markdown",
      "source": [
        "TensorFlow와 Numpy 간의 변환에서, 아래 코드는 오류 없이 실행되도록 수정해야 합니다. 수정해주세요.\n",
        "\n",
        "```\n",
        "import tensorflow as tf\n",
        "import numpy as np\n",
        "\n",
        "t = (1,2,3,4)\n",
        "\n",
        "# 오류가 발생하는 부분\n",
        "a_tf = tf.constant(t, dtype=tf.float64)\n",
        "b_np = a_tf._______()  # a_tf를 Numpy 배열로 변환하는 코드\n",
        "\n",
        "b_np[2] = 777\n",
        "\n",
        "```"
      ],
      "metadata": {
        "id": "xIDG9OU3KAuQ"
      }
    },
    {
      "cell_type": "markdown",
      "source": [
        "- numpy"
      ],
      "metadata": {
        "id": "iEcUbNogNGXh"
      }
    }
  ]
}