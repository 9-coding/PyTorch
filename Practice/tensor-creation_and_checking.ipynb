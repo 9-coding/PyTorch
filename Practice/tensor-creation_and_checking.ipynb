{
  "nbformat": 4,
  "nbformat_minor": 0,
  "metadata": {
    "colab": {
      "provenance": [],
      "authorship_tag": "ABX9TyNFTf7WoyBdlK03f0xfycmW",
      "include_colab_link": true
    },
    "kernelspec": {
      "name": "python3",
      "display_name": "Python 3"
    },
    "language_info": {
      "name": "python"
    }
  },
  "cells": [
    {
      "cell_type": "markdown",
      "metadata": {
        "id": "view-in-github",
        "colab_type": "text"
      },
      "source": [
        "<a href=\"https://colab.research.google.com/github/9-coding/PyTorch/blob/main/Practice/tensor-creation_and_checking.ipynb\" target=\"_parent\"><img src=\"https://colab.research.google.com/assets/colab-badge.svg\" alt=\"Open In Colab\"/></a>"
      ]
    },
    {
      "cell_type": "code",
      "execution_count": 28,
      "metadata": {
        "id": "I0ogjKHO3idp"
      },
      "outputs": [],
      "source": [
        "import torch\n",
        "import numpy as np\n",
        "import tensorflow as tf"
      ]
    },
    {
      "cell_type": "markdown",
      "source": [
        "# Tensor Creation"
      ],
      "metadata": {
        "id": "xss2FdKt4IPc"
      }
    },
    {
      "cell_type": "markdown",
      "source": [
        "1. PyTorch를 사용하여 3x3 크기의 랜덤한 텐서를 생성하고 출력하세요."
      ],
      "metadata": {
        "id": "ZDzilkNz3oAn"
      }
    },
    {
      "cell_type": "code",
      "source": [
        "t = torch.rand(3,3)\n",
        "print(t)"
      ],
      "metadata": {
        "colab": {
          "base_uri": "https://localhost:8080/"
        },
        "id": "KPa1P7sP3pMD",
        "outputId": "8e48d804-0c62-4f8e-9d30-9aabc34bf2bd"
      },
      "execution_count": 2,
      "outputs": [
        {
          "output_type": "stream",
          "name": "stdout",
          "text": [
            "tensor([[0.7804, 0.2516, 0.3044],\n",
            "        [0.4548, 0.3764, 0.3498],\n",
            "        [0.8972, 0.1118, 0.6326]])\n"
          ]
        }
      ]
    },
    {
      "cell_type": "markdown",
      "source": [
        "2. NumPy를 사용하여 모든 값이 0인 크기가 (4, 2)인 행렬을 생성하고 출력하세요."
      ],
      "metadata": {
        "id": "dqrOZKMd3_l5"
      }
    },
    {
      "cell_type": "code",
      "source": [
        "t = np.zeros((4,2))\n",
        "print(t)"
      ],
      "metadata": {
        "colab": {
          "base_uri": "https://localhost:8080/"
        },
        "id": "iQPeOEX23oIl",
        "outputId": "376a174c-2c6a-40fd-c940-b7095048ea8b"
      },
      "execution_count": 4,
      "outputs": [
        {
          "output_type": "stream",
          "name": "stdout",
          "text": [
            "[[0. 0.]\n",
            " [0. 0.]\n",
            " [0. 0.]\n",
            " [0. 0.]]\n"
          ]
        }
      ]
    },
    {
      "cell_type": "markdown",
      "source": [
        "3. TensorFlow를 사용하여 1에서 10까지의 숫자로 이루어진 1차원 텐서를 생성하고 출력하세요."
      ],
      "metadata": {
        "id": "zTkePZdY4HnR"
      }
    },
    {
      "cell_type": "code",
      "source": [
        "t = tf.linspace(1, 10, 10)\n",
        "print(t)"
      ],
      "metadata": {
        "colab": {
          "base_uri": "https://localhost:8080/"
        },
        "id": "u_495Zha4TSg",
        "outputId": "5fde1c58-dc27-4c9f-ff32-9314a4922d58"
      },
      "execution_count": 10,
      "outputs": [
        {
          "output_type": "stream",
          "name": "stdout",
          "text": [
            "tf.Tensor([ 1.  2.  3.  4.  5.  6.  7.  8.  9. 10.], shape=(10,), dtype=float64)\n"
          ]
        }
      ]
    },
    {
      "cell_type": "code",
      "source": [
        "t = tf.range(1, 11, 1)\n",
        "print(t)"
      ],
      "metadata": {
        "colab": {
          "base_uri": "https://localhost:8080/"
        },
        "id": "UIWSuQKC405-",
        "outputId": "27c9ee99-ceb0-4f98-a81a-fb3adf587fc3"
      },
      "execution_count": 13,
      "outputs": [
        {
          "output_type": "stream",
          "name": "stdout",
          "text": [
            "tf.Tensor([ 1  2  3  4  5  6  7  8  9 10], shape=(10,), dtype=int32)\n"
          ]
        }
      ]
    },
    {
      "cell_type": "markdown",
      "source": [
        "4. PyTorch를 사용하여 2x2 크기의 단위 행렬(identity matrix)을 생성하고 출력하세요."
      ],
      "metadata": {
        "id": "9GdPuJtg_vna"
      }
    },
    {
      "cell_type": "code",
      "source": [
        "a_t = torch.eye(2)\n",
        "print(a_t)"
      ],
      "metadata": {
        "colab": {
          "base_uri": "https://localhost:8080/"
        },
        "id": "fjvnbc3E_vRz",
        "outputId": "3343d72f-8203-485c-fe59-de2b89511443"
      },
      "execution_count": 29,
      "outputs": [
        {
          "output_type": "stream",
          "name": "stdout",
          "text": [
            "tensor([[1., 0.],\n",
            "        [0., 1.]])\n"
          ]
        }
      ]
    },
    {
      "cell_type": "markdown",
      "source": [
        "5. NumPy를 사용하여 3x3 크기의 모든 요소가 1인 행렬을 생성하고 출력하세요."
      ],
      "metadata": {
        "id": "ClWP52xE_2Fd"
      }
    },
    {
      "cell_type": "code",
      "source": [
        "a = np.ones((3,3))\n",
        "print(a)"
      ],
      "metadata": {
        "colab": {
          "base_uri": "https://localhost:8080/"
        },
        "id": "WngVjs7t_37S",
        "outputId": "e723d039-3d7e-40ad-987f-d2a87b73380f"
      },
      "execution_count": 30,
      "outputs": [
        {
          "output_type": "stream",
          "name": "stdout",
          "text": [
            "[[1. 1. 1.]\n",
            " [1. 1. 1.]\n",
            " [1. 1. 1.]]\n"
          ]
        }
      ]
    },
    {
      "cell_type": "markdown",
      "source": [
        "6. TensorFlow를 사용하여 4x4 크기의 모든 요소가 0인 행렬을 생성하고 출력하세요."
      ],
      "metadata": {
        "id": "yHiKe82H_3-t"
      }
    },
    {
      "cell_type": "code",
      "source": [
        "a_tf = tf.zeros((4,4))\n",
        "print(a_tf)"
      ],
      "metadata": {
        "colab": {
          "base_uri": "https://localhost:8080/"
        },
        "id": "TpwFBFUZ_5z4",
        "outputId": "6184e339-7040-4079-fac2-8fb124599511"
      },
      "execution_count": 31,
      "outputs": [
        {
          "output_type": "stream",
          "name": "stdout",
          "text": [
            "tf.Tensor(\n",
            "[[0. 0. 0. 0.]\n",
            " [0. 0. 0. 0.]\n",
            " [0. 0. 0. 0.]\n",
            " [0. 0. 0. 0.]], shape=(4, 4), dtype=float32)\n"
          ]
        }
      ]
    },
    {
      "cell_type": "markdown",
      "source": [
        "7. PyTorch를 사용하여 3차원의 크기가 (2, 3, 4)인 랜덤한 텐서를 생성하고 출력하세요."
      ],
      "metadata": {
        "id": "Xn7dO2R3_53T"
      }
    },
    {
      "cell_type": "code",
      "source": [
        "a_t = torch.rand(24).reshape(2,3,4)\n",
        "print(a_t)\n",
        "print(a_t.shape)"
      ],
      "metadata": {
        "colab": {
          "base_uri": "https://localhost:8080/"
        },
        "id": "MOxcy3nA_7jr",
        "outputId": "f3f803f9-7db4-40ef-e5a5-79083164581a"
      },
      "execution_count": 33,
      "outputs": [
        {
          "output_type": "stream",
          "name": "stdout",
          "text": [
            "tensor([[[0.2575, 0.3797, 0.9407, 0.3572],\n",
            "         [0.6402, 0.2799, 0.1153, 0.5646],\n",
            "         [0.4285, 0.6131, 0.1425, 0.9006]],\n",
            "\n",
            "        [[0.9417, 0.5300, 0.8327, 0.1116],\n",
            "         [0.6908, 0.5967, 0.3867, 0.8732],\n",
            "         [0.7992, 0.7890, 0.0710, 0.2176]]])\n",
            "torch.Size([2, 3, 4])\n"
          ]
        }
      ]
    },
    {
      "cell_type": "markdown",
      "source": [
        "8. NumPy를 사용하여 1부터 10까지의 숫자로 이루어진 1차원 배열을 생성하고 출력하세요."
      ],
      "metadata": {
        "id": "n3lwc4dT_7m7"
      }
    },
    {
      "cell_type": "code",
      "source": [
        "a = np.arange(1, 11, 1)\n",
        "print(a)"
      ],
      "metadata": {
        "colab": {
          "base_uri": "https://localhost:8080/"
        },
        "id": "cSnJgo-__9__",
        "outputId": "33883f65-3131-4941-ff7d-84f5860c5525"
      },
      "execution_count": 34,
      "outputs": [
        {
          "output_type": "stream",
          "name": "stdout",
          "text": [
            "[ 1  2  3  4  5  6  7  8  9 10]\n"
          ]
        }
      ]
    },
    {
      "cell_type": "markdown",
      "source": [
        "9. PyTorch를 사용하여 10부터 20까지의 숫자로 이루어진 1차원 텐서를 생성하고 출력하세요."
      ],
      "metadata": {
        "id": "HamRHeGqCmoj"
      }
    },
    {
      "cell_type": "code",
      "source": [
        "a_t = torch.arange(10, 21, 1)\n",
        "print(a_t)"
      ],
      "metadata": {
        "colab": {
          "base_uri": "https://localhost:8080/"
        },
        "id": "ptvgBX9BCrGk",
        "outputId": "58ad4695-7348-480f-aae2-bff729a38574"
      },
      "execution_count": 40,
      "outputs": [
        {
          "output_type": "stream",
          "name": "stdout",
          "text": [
            "tensor([10, 11, 12, 13, 14, 15, 16, 17, 18, 19, 20])\n"
          ]
        }
      ]
    },
    {
      "cell_type": "markdown",
      "source": [
        "10. TensorFlow를 사용하여 랜덤한 실수 값으로 이루어진 2x3x4 크기의 텐서를 생성하고 출력하세요."
      ],
      "metadata": {
        "id": "rCvOOBR1CrJf"
      }
    },
    {
      "cell_type": "code",
      "source": [
        "a_tf = tf.random.uniform(shape=[2,3,4])\n",
        "print(a_tf)"
      ],
      "metadata": {
        "colab": {
          "base_uri": "https://localhost:8080/"
        },
        "id": "yr4LqDODDphv",
        "outputId": "8f5806b3-6860-4ada-d0fd-0b6bd6484829"
      },
      "execution_count": 47,
      "outputs": [
        {
          "output_type": "stream",
          "name": "stdout",
          "text": [
            "tf.Tensor(\n",
            "[[[0.15724134 0.6619135  0.37365496 0.8280219 ]\n",
            "  [0.26908815 0.44617045 0.661368   0.80773413]\n",
            "  [0.7123344  0.7186307  0.28576016 0.25967038]]\n",
            "\n",
            " [[0.7079599  0.5665163  0.24847174 0.40549743]\n",
            "  [0.8566592  0.658973   0.2818942  0.75252616]\n",
            "  [0.48827994 0.08695817 0.24540794 0.4389367 ]]], shape=(2, 3, 4), dtype=float32)\n"
          ]
        }
      ]
    },
    {
      "cell_type": "code",
      "source": [
        "a_tf = tf.random.normal((2,3,4))\n",
        "print(a_tf)"
      ],
      "metadata": {
        "colab": {
          "base_uri": "https://localhost:8080/"
        },
        "id": "DLq0SnMsFWYQ",
        "outputId": "0800cbf3-54c8-4895-e9c2-745fafc44763"
      },
      "execution_count": 48,
      "outputs": [
        {
          "output_type": "stream",
          "name": "stdout",
          "text": [
            "tf.Tensor(\n",
            "[[[-0.16741638 -0.0903293  -1.7839351  -0.2580345 ]\n",
            "  [-0.69353133 -0.6378479  -0.4907138  -2.0854604 ]\n",
            "  [ 0.348408    0.45687863 -0.38634628  1.3075079 ]]\n",
            "\n",
            " [[ 0.49305516  1.7685043  -0.49232447 -1.8886913 ]\n",
            "  [ 0.35147825  0.4685747  -0.68841606 -0.8843067 ]\n",
            "  [-1.1114802  -1.4839015   0.9483162  -2.3914757 ]]], shape=(2, 3, 4), dtype=float32)\n"
          ]
        }
      ]
    },
    {
      "cell_type": "markdown",
      "source": [
        "# Tensor Understanding"
      ],
      "metadata": {
        "id": "ZWzR9BuD93Pr"
      }
    },
    {
      "cell_type": "markdown",
      "source": [
        "1. 주어진 PyTorch 텐서의 모양(shape)과 데이터 타입(dtype)을 확인하세요.<br>\n",
        "`a_t = torch.arange(0, 12, 1).reshape(3, 4)`"
      ],
      "metadata": {
        "id": "aV1XqWCX96ZM"
      }
    },
    {
      "cell_type": "code",
      "source": [
        "a_t = torch.arange(0, 12, 1).reshape(3, 4)\n",
        "print(a_t.shape)\n",
        "print(a_t.dtype)"
      ],
      "metadata": {
        "colab": {
          "base_uri": "https://localhost:8080/"
        },
        "id": "sqqK3K4096eg",
        "outputId": "787d1d1c-a195-40c8-fdb8-57b765a2df52"
      },
      "execution_count": 14,
      "outputs": [
        {
          "output_type": "stream",
          "name": "stdout",
          "text": [
            "torch.Size([3, 4])\n",
            "torch.int64\n"
          ]
        }
      ]
    },
    {
      "cell_type": "markdown",
      "source": [
        "2. NumPy 배열을 사용하여 만든 행렬의 차원(dimension) 수를 확인하세요."
      ],
      "metadata": {
        "id": "8vTUpOp296ik"
      }
    },
    {
      "cell_type": "code",
      "source": [
        "a = np.arange(0, 12, 1).reshape(2, 2, 3)\n",
        "print(a.ndim)"
      ],
      "metadata": {
        "colab": {
          "base_uri": "https://localhost:8080/"
        },
        "id": "WhdTUnSZ96oJ",
        "outputId": "41b58cb5-31fe-4c9f-8f1d-bc12ffa07b07"
      },
      "execution_count": 15,
      "outputs": [
        {
          "output_type": "stream",
          "name": "stdout",
          "text": [
            "3\n"
          ]
        }
      ]
    },
    {
      "cell_type": "markdown",
      "source": [
        "3. TensorFlow 텐서의 크기(size)를 계산하세요."
      ],
      "metadata": {
        "id": "ZB-WO2bJ96tM"
      }
    },
    {
      "cell_type": "code",
      "source": [
        "a_tf = tf.ones((2,3))\n",
        "print(tf.size(a_tf))"
      ],
      "metadata": {
        "colab": {
          "base_uri": "https://localhost:8080/"
        },
        "id": "5_j05bYn96xx",
        "outputId": "d22b7440-93cf-4ad8-b8e7-666c1d53c771"
      },
      "execution_count": 26,
      "outputs": [
        {
          "output_type": "stream",
          "name": "stdout",
          "text": [
            "tf.Tensor(6, shape=(), dtype=int32)\n",
            "(2, 3)\n"
          ]
        }
      ]
    },
    {
      "cell_type": "markdown",
      "source": [
        "4. PyTorch를 사용하여 모든 요소가 0이고 크기가 (3, 3)인 텐서를 생성하고, 그 텐서의 총 요소 수를 계산하세요.<br>\n",
        "(did not covered.)"
      ],
      "metadata": {
        "id": "Q_p3fr0RAOvR"
      }
    },
    {
      "cell_type": "code",
      "source": [
        "a_t = torch.zeros((3,3))\n",
        "print(a_t.numel())"
      ],
      "metadata": {
        "colab": {
          "base_uri": "https://localhost:8080/"
        },
        "id": "DVy1fnzUAQ29",
        "outputId": "48921a03-3862-46e5-f77c-7da5d6a3ffb4"
      },
      "execution_count": 37,
      "outputs": [
        {
          "output_type": "stream",
          "name": "stdout",
          "text": [
            "9\n"
          ]
        }
      ]
    },
    {
      "cell_type": "markdown",
      "source": [
        "5. NumPy를 사용하여 크기가 (2, 4)이고 모든 요소가 5인 행렬을 생성하고, 해당 행렬의 데이터 타입을 확인하세요."
      ],
      "metadata": {
        "id": "acp98aacAQ6t"
      }
    },
    {
      "cell_type": "code",
      "source": [
        "a = np.full((2, 4), 5)\n",
        "print(a)\n",
        "print(a.dtype)"
      ],
      "metadata": {
        "colab": {
          "base_uri": "https://localhost:8080/"
        },
        "id": "pRPHAVYgBCIP",
        "outputId": "8aed8c2d-aa9d-4e03-927c-4e953c755366"
      },
      "execution_count": 39,
      "outputs": [
        {
          "output_type": "stream",
          "name": "stdout",
          "text": [
            "[[5 5 5 5]\n",
            " [5 5 5 5]]\n",
            "int64\n"
          ]
        }
      ]
    }
  ]
}