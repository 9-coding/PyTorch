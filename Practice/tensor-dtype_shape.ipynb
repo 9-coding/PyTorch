{
  "nbformat": 4,
  "nbformat_minor": 0,
  "metadata": {
    "colab": {
      "provenance": [],
      "authorship_tag": "ABX9TyO2hVU9/cNObiJbsHepbMTh",
      "include_colab_link": true
    },
    "kernelspec": {
      "name": "python3",
      "display_name": "Python 3"
    },
    "language_info": {
      "name": "python"
    }
  },
  "cells": [
    {
      "cell_type": "markdown",
      "metadata": {
        "id": "view-in-github",
        "colab_type": "text"
      },
      "source": [
        "<a href=\"https://colab.research.google.com/github/9-coding/PyTorch/blob/main/Practice/tensor-dtype_shape.ipynb\" target=\"_parent\"><img src=\"https://colab.research.google.com/assets/colab-badge.svg\" alt=\"Open In Colab\"/></a>"
      ]
    },
    {
      "cell_type": "code",
      "execution_count": 1,
      "metadata": {
        "id": "9gGCEcWLaE-p"
      },
      "outputs": [],
      "source": [
        "import numpy as np\n",
        "import torch\n",
        "import tensorflow as tf"
      ]
    },
    {
      "cell_type": "markdown",
      "source": [
        "## dtype 변경"
      ],
      "metadata": {
        "id": "nyon9W0raLLc"
      }
    },
    {
      "cell_type": "markdown",
      "source": [
        "### PyTorch"
      ],
      "metadata": {
        "id": "dKI_HyX4bU10"
      }
    },
    {
      "cell_type": "markdown",
      "source": [
        "다음과 같은 PyTorch 텐서가 주어졌을 때, 이를 부동소수점으로 dtype을 변경하고 출력하는 코드를 작성하세요."
      ],
      "metadata": {
        "id": "TgNrapJ4akaX"
      }
    },
    {
      "cell_type": "code",
      "source": [
        "import torch\n",
        "\n",
        "# 주어진 텐서\n",
        "a_torch = torch.tensor([1, 2, 3, 4])\n",
        "\n",
        "# 주어진 텐서의 dtype을 부동소수점으로 변경하는 코드를 작성하세요.\n",
        "a_torch = a_torch.to(torch.float32)\n",
        "print(a_torch.dtype)"
      ],
      "metadata": {
        "colab": {
          "base_uri": "https://localhost:8080/"
        },
        "id": "kphy-sVTaMqo",
        "outputId": "5c0709fc-13d0-4edd-b713-27d285c03d7a"
      },
      "execution_count": 5,
      "outputs": [
        {
          "output_type": "stream",
          "name": "stdout",
          "text": [
            "torch.float32\n"
          ]
        }
      ]
    },
    {
      "cell_type": "markdown",
      "source": [
        "다음과 같은 PyTorch 텐서가 주어졌을 때, 이를 64비트 정수로 dtype을 변경하고 출력하는 코드를 작성하세요."
      ],
      "metadata": {
        "id": "SF2SuekHa-IZ"
      }
    },
    {
      "cell_type": "code",
      "source": [
        "import torch\n",
        "\n",
        "# 주어진 텐서\n",
        "a_torch = torch.tensor([1.1, 2.2, 3.3, 4.4])\n",
        "\n",
        "# 주어진 텐서의 dtype을 64비트 정수로 변경하는 코드를 작성하세요.\n",
        "a_int = a_torch.type(torch.int64)\n",
        "print(a_int)\n",
        "print(a_int.dtype)"
      ],
      "metadata": {
        "colab": {
          "base_uri": "https://localhost:8080/"
        },
        "id": "XDhPJ20Fa-58",
        "outputId": "9dd8ca6d-3318-4bae-da18-c6de86ac9a3b"
      },
      "execution_count": 7,
      "outputs": [
        {
          "output_type": "stream",
          "name": "stdout",
          "text": [
            "tensor([1, 2, 3, 4])\n",
            "torch.int64\n"
          ]
        }
      ]
    },
    {
      "cell_type": "markdown",
      "source": [
        " 다음과 같은 PyTorch 텐서가 주어졌을 때, 이를 16비트 정수로 dtype을 변경하고 출력하는 코드를 작성하세요."
      ],
      "metadata": {
        "id": "VYBAEWi-bGw9"
      }
    },
    {
      "cell_type": "code",
      "source": [
        "import torch\n",
        "\n",
        "# 주어진 텐서\n",
        "a_torch = torch.tensor([0.5, 1.0, 1.5, 2.0])\n",
        "\n",
        "# 주어진 텐서의 dtype을 16비트 정수로 변경하는 코드를 작성하세요.\n",
        "a_int = a_int.to(torch.int16)\n",
        "print(a_int)\n",
        "print(a_int.dtype)"
      ],
      "metadata": {
        "colab": {
          "base_uri": "https://localhost:8080/"
        },
        "id": "rLElIK-ibHKL",
        "outputId": "f39fcaea-68b6-434d-a2c4-f00eca5b7146"
      },
      "execution_count": 8,
      "outputs": [
        {
          "output_type": "stream",
          "name": "stdout",
          "text": [
            "tensor([1, 2, 3, 4], dtype=torch.int16)\n",
            "torch.int16\n"
          ]
        }
      ]
    },
    {
      "cell_type": "markdown",
      "source": [
        "다음과 같은 PyTorch 텐서가 주어졌을 때, 이를 부호 없는 8비트 정수로 dtype을 변경하고 출력하는 코드를 작성하세요."
      ],
      "metadata": {
        "id": "Z8UgH4DObpjp"
      }
    },
    {
      "cell_type": "code",
      "source": [
        "import torch\n",
        "\n",
        "# 주어진 텐서\n",
        "a_torch = torch.tensor([0.1, 0.2, 0.3, 0.4])\n",
        "\n",
        "# 주어진 텐서의 dtype을 부호 없는 8비트 정수로 변경하는 코드를 작성하세요.\n",
        "a_torch = a_torch.to(torch.uint8)\n",
        "print(a_torch)\n",
        "print(a_torch.dtype)"
      ],
      "metadata": {
        "colab": {
          "base_uri": "https://localhost:8080/"
        },
        "id": "Jbt6rlm-bHPg",
        "outputId": "819cb601-88f7-4ac7-9313-06f617cfdb04"
      },
      "execution_count": 12,
      "outputs": [
        {
          "output_type": "stream",
          "name": "stdout",
          "text": [
            "tensor([0, 0, 0, 0], dtype=torch.uint8)\n",
            "torch.uint8\n"
          ]
        }
      ]
    },
    {
      "cell_type": "markdown",
      "source": [
        "### NumPy\n",
        "다음과 같은 NumPy 배열이 주어졌을 때, 이를 부호 없는 16비트 정수로 dtype을 변경하고 출력하는 코드를 작성하세요."
      ],
      "metadata": {
        "id": "45OBFkvRcxAX"
      }
    },
    {
      "cell_type": "code",
      "source": [
        "import numpy as np\n",
        "\n",
        "# 주어진 배열\n",
        "a_np = np.array([5, 10, 15, 20])\n",
        "\n",
        "# 주어진 배열의 dtype을 부호 없는 16비트 정수로 변경하는 코드를 작성하세요.\n",
        "a_np = np.uint16(a_np)\n",
        "print(a_np)\n",
        "print(a_np.dtype)"
      ],
      "metadata": {
        "colab": {
          "base_uri": "https://localhost:8080/"
        },
        "id": "IZPRLZv3c10s",
        "outputId": "e278f7a6-6313-4be1-93cd-6169f3bdf7df"
      },
      "execution_count": 13,
      "outputs": [
        {
          "output_type": "stream",
          "name": "stdout",
          "text": [
            "[ 5 10 15 20]\n",
            "uint16\n"
          ]
        }
      ]
    },
    {
      "cell_type": "markdown",
      "source": [
        "다음과 같은 NumPy 배열이 주어졌을 때, 이를 부동소수점으로 dtype을 변경하고 출력하는 코드를 작성하세요."
      ],
      "metadata": {
        "id": "_spGjivGeclS"
      }
    },
    {
      "cell_type": "code",
      "source": [
        "import numpy as np\n",
        "\n",
        "# 주어진 배열\n",
        "a_np = np.array([1, 2, 3, 4])\n",
        "\n",
        "# 주어진 배열의 dtype을 부동소수점으로 변경하는 코드를 작성하세요.\n",
        "a_np = a_np.astype('float32')\n",
        "print(a_np)\n",
        "print(a_np.dtype)"
      ],
      "metadata": {
        "colab": {
          "base_uri": "https://localhost:8080/"
        },
        "id": "Dq61r2wAcww9",
        "outputId": "a779659c-3844-4911-f999-6736772701d2"
      },
      "execution_count": 14,
      "outputs": [
        {
          "output_type": "stream",
          "name": "stdout",
          "text": [
            "[1. 2. 3. 4.]\n",
            "float32\n"
          ]
        }
      ]
    },
    {
      "cell_type": "markdown",
      "source": [
        "## TensorFlow"
      ],
      "metadata": {
        "id": "-8lEiRkYembf"
      }
    },
    {
      "cell_type": "markdown",
      "source": [
        "다음과 같은 TensorFlow 텐서가 주어졌을 때, 이를 32비트 부동소수점으로 dtype을 변경하고 출력하는 코드를 작성하세요."
      ],
      "metadata": {
        "id": "m83WBrcBetAr"
      }
    },
    {
      "cell_type": "code",
      "source": [
        "import tensorflow as tf\n",
        "\n",
        "# 주어진 텐서\n",
        "a_tf = tf.constant([1.1, 2.2, 3.3, 4.4])\n",
        "\n",
        "# 주어진 텐서의 dtype을 32비트 부동소수점으로 변경하는 코드를 작성하세요.\n",
        "a_tf = tf.dtypes.cast(a_tf, tf.float32)\n",
        "print(a_tf)\n",
        "print(a_tf.dtype)"
      ],
      "metadata": {
        "colab": {
          "base_uri": "https://localhost:8080/"
        },
        "id": "49M7_m1oet_V",
        "outputId": "4331cef4-21e5-4838-a53d-8cd0462f71b9"
      },
      "execution_count": 15,
      "outputs": [
        {
          "output_type": "stream",
          "name": "stdout",
          "text": [
            "tf.Tensor([1.1 2.2 3.3 4.4], shape=(4,), dtype=float32)\n",
            "<dtype: 'float32'>\n"
          ]
        }
      ]
    },
    {
      "cell_type": "markdown",
      "source": [
        "다음과 같은 TensorFlow 텐서가 주어졌을 때, 이를 64비트 정수로 dtype을 변경하고 출력하는 코드를 작성하세요."
      ],
      "metadata": {
        "id": "xqNzwwO7e6B4"
      }
    },
    {
      "cell_type": "code",
      "source": [
        "import tensorflow as tf\n",
        "\n",
        "# 주어진 텐서\n",
        "a_tf = tf.constant([5.0, 10.0, 15.0, 20.0])\n",
        "\n",
        "# 주어진 텐서의 dtype을 64비트 정수로 변경하는 코드를 작성하세요.\n",
        "a_tf = tf.dtypes.cast(a_tf, tf.int64)\n",
        "print(a_tf)\n",
        "print(a_tf.dtype)"
      ],
      "metadata": {
        "colab": {
          "base_uri": "https://localhost:8080/"
        },
        "id": "GsTGtqIZe6fI",
        "outputId": "99bcef33-57f1-48d1-f32e-d530d05c0495"
      },
      "execution_count": 16,
      "outputs": [
        {
          "output_type": "stream",
          "name": "stdout",
          "text": [
            "tf.Tensor([ 5 10 15 20], shape=(4,), dtype=int64)\n",
            "<dtype: 'int64'>\n"
          ]
        }
      ]
    },
    {
      "cell_type": "markdown",
      "source": [
        "# Shape 변경"
      ],
      "metadata": {
        "id": "AlaHXqIrfOqv"
      }
    },
    {
      "cell_type": "markdown",
      "source": [
        "다음과 같은 PyTorch 텐서가 주어졌을 때, 이를 2행 4열의 형태로 변경하고 출력하세요."
      ],
      "metadata": {
        "id": "Zff0-CfWfSgz"
      }
    },
    {
      "cell_type": "code",
      "source": [
        "import torch\n",
        "\n",
        "# 주어진 텐서\n",
        "a_torch = torch.tensor([[1, 2, 3, 4],\n",
        "                        [5, 6, 7, 8]])\n",
        "\n",
        "# 주어진 텐서의 shape을 4행 2열로 변경하고 출력하는 코드를 작성하세요.\n",
        "print(a_torch.reshape((4,2)))"
      ],
      "metadata": {
        "colab": {
          "base_uri": "https://localhost:8080/"
        },
        "id": "w_n_SSWQfUCm",
        "outputId": "37251eb4-4b8f-4929-b893-048ca6e55ab7"
      },
      "execution_count": 18,
      "outputs": [
        {
          "output_type": "stream",
          "name": "stdout",
          "text": [
            "tensor([[1, 2],\n",
            "        [3, 4],\n",
            "        [5, 6],\n",
            "        [7, 8]])\n"
          ]
        }
      ]
    },
    {
      "cell_type": "markdown",
      "source": [
        "다음과 같은 PyTorch 텐서가 주어졌을 때, 이를 3차원 형태로 변경하고 출력하세요."
      ],
      "metadata": {
        "id": "jQXJ71h8fgAs"
      }
    },
    {
      "cell_type": "code",
      "source": [
        "import torch\n",
        "\n",
        "# 주어진 텐서\n",
        "a_torch = torch.tensor([1, 2, 3, 4, 5, 6, 7, 8])\n",
        "\n",
        "# 주어진 텐서의 shape을 3차원으로 변경하고 출력하는 코드를 작성하세요.\n",
        "t = torch.reshape(a_torch, (2,2,2))\n",
        "print(t)"
      ],
      "metadata": {
        "colab": {
          "base_uri": "https://localhost:8080/"
        },
        "id": "Jgy8lGP-fgM1",
        "outputId": "5a229774-bda9-4d90-aeb3-9b42677b82b2"
      },
      "execution_count": 19,
      "outputs": [
        {
          "output_type": "stream",
          "name": "stdout",
          "text": [
            "tensor([[[1, 2],\n",
            "         [3, 4]],\n",
            "\n",
            "        [[5, 6],\n",
            "         [7, 8]]])\n"
          ]
        }
      ]
    },
    {
      "cell_type": "markdown",
      "source": [
        "다음과 같은 PyTorch 텐서가 주어졌을 때, 이를 2차원 형태로 변경하고 출력하세요."
      ],
      "metadata": {
        "id": "KGo7SWZSfuFs"
      }
    },
    {
      "cell_type": "code",
      "source": [
        "import torch\n",
        "\n",
        "# 주어진 텐서\n",
        "a_torch = torch.arange(0, 6, 1)\n",
        "\n",
        "# 주어진 텐서의 shape을 2차원으로 변경하고 출력하는 코드를 작성하세요.\n",
        "t = a_torch.reshape((2, 3))\n",
        "print(t)"
      ],
      "metadata": {
        "colab": {
          "base_uri": "https://localhost:8080/"
        },
        "id": "xYOkWpSLfvst",
        "outputId": "e282ef54-9244-40d1-9ec4-0585289a955c"
      },
      "execution_count": 20,
      "outputs": [
        {
          "output_type": "stream",
          "name": "stdout",
          "text": [
            "tensor([[0, 1, 2],\n",
            "        [3, 4, 5]])\n"
          ]
        }
      ]
    },
    {
      "cell_type": "markdown",
      "source": [
        "다음과 같은 PyTorch 텐서가 주어졌을 때, 이를 1차원 형태로 변경하고 출력하세요."
      ],
      "metadata": {
        "id": "cj0lRqeTf85h"
      }
    },
    {
      "cell_type": "code",
      "source": [
        "import torch\n",
        "\n",
        "# 주어진 텐서\n",
        "a_torch = torch.tensor([[1, 2, 3, 4]])\n",
        "\n",
        "# 주어진 텐서의 shape을 1차원으로 변경하고 출력하는 코드를 작성하세요.\n",
        "t1 = a_torch.squeeze()\n",
        "t2 = a_torch.reshape((4))\n",
        "print(t1)\n",
        "print(t2)"
      ],
      "metadata": {
        "colab": {
          "base_uri": "https://localhost:8080/"
        },
        "id": "2OinFYTCf9R6",
        "outputId": "4caa6f09-a7c7-474d-9f76-29451339ebdc"
      },
      "execution_count": 21,
      "outputs": [
        {
          "output_type": "stream",
          "name": "stdout",
          "text": [
            "tensor([1, 2, 3, 4])\n",
            "tensor([1, 2, 3, 4])\n"
          ]
        }
      ]
    },
    {
      "cell_type": "markdown",
      "source": [
        "다음과 같은 PyTorch 텐서가 주어졌을 때, 이를 4행 2열의 형태로 변경하고 출력하세요."
      ],
      "metadata": {
        "id": "b0ET15oogLQR"
      }
    },
    {
      "cell_type": "code",
      "source": [
        "import torch\n",
        "\n",
        "# 주어진 텐서\n",
        "a_torch = torch.tensor([1, 2, 3, 4, 5, 6, 7, 8])\n",
        "\n",
        "# 주어진 텐서의 shape을 4행 2열로 변경하고 출력하는 코드를 작성하세요.\n",
        "t = torch.reshape(a_torch, (4, 2))\n",
        "print(t)"
      ],
      "metadata": {
        "colab": {
          "base_uri": "https://localhost:8080/"
        },
        "id": "iNNn2ZXqgMAC",
        "outputId": "27c37264-8e2e-4cd6-aa92-4e2b948a17d4"
      },
      "execution_count": 22,
      "outputs": [
        {
          "output_type": "stream",
          "name": "stdout",
          "text": [
            "tensor([[1, 2],\n",
            "        [3, 4],\n",
            "        [5, 6],\n",
            "        [7, 8]])\n"
          ]
        }
      ]
    },
    {
      "cell_type": "markdown",
      "source": [
        "다음과 같은 NumPy 배열이 주어졌을 때, 이를 2행 3열의 형태로 변경하고 출력하세요."
      ],
      "metadata": {
        "id": "iVG7cj2Cgf2E"
      }
    },
    {
      "cell_type": "code",
      "source": [
        "import numpy as np\n",
        "\n",
        "# 주어진 배열\n",
        "a_np = np.array([[1, 2, 3],\n",
        "                 [4, 5, 6],\n",
        "                 [7, 8, 9],\n",
        "                 [10, 11, 12]])\n",
        "\n",
        "# 주어진 배열의 shape을 2행 6열로 변경하고 출력하는 코드를 작성하세요.\n",
        "t = a_np.reshape((2,6))\n",
        "print(t)"
      ],
      "metadata": {
        "colab": {
          "base_uri": "https://localhost:8080/"
        },
        "id": "apcRZcC6ghZ2",
        "outputId": "2180ef25-850f-4d34-8eee-c026965d4bec"
      },
      "execution_count": 24,
      "outputs": [
        {
          "output_type": "stream",
          "name": "stdout",
          "text": [
            "[[ 1  2  3  4  5  6]\n",
            " [ 7  8  9 10 11 12]]\n"
          ]
        }
      ]
    },
    {
      "cell_type": "markdown",
      "source": [
        "다음과 같은 NumPy 배열이 주어졌을 때, 이를 1차원 형태로 변경하고 출력하세요."
      ],
      "metadata": {
        "id": "XBkluJxOghHm"
      }
    },
    {
      "cell_type": "code",
      "source": [
        "import numpy as np\n",
        "\n",
        "# 주어진 배열\n",
        "a_np = np.array([[1, 2, 3],\n",
        "                 [4, 5, 6],\n",
        "                 [7, 8, 9]])\n",
        "\n",
        "# 주어진 배열의 shape을 1차원으로 변경하고 출력하는 코드를 작성하세요.\n",
        "t1 = a_np.squeeze()\n",
        "t2 = a_np.reshape((9))\n",
        "print(t1)\n",
        "print(t2)"
      ],
      "metadata": {
        "colab": {
          "base_uri": "https://localhost:8080/"
        },
        "id": "HBNGlucpgxgP",
        "outputId": "ebeee4c5-ae7a-47c5-997b-aadcdf29861f"
      },
      "execution_count": 26,
      "outputs": [
        {
          "output_type": "stream",
          "name": "stdout",
          "text": [
            "[[1 2 3]\n",
            " [4 5 6]\n",
            " [7 8 9]]\n",
            "[1 2 3 4 5 6 7 8 9]\n"
          ]
        }
      ]
    },
    {
      "cell_type": "markdown",
      "source": [
        "다음과 같은 TensorFlow 텐서가 주어졌을 때, 이를 3차원 형태로 변경하고 출력하세요."
      ],
      "metadata": {
        "id": "jANGhSjlhFvI"
      }
    },
    {
      "cell_type": "code",
      "source": [
        "import tensorflow as tf\n",
        "\n",
        "# 주어진 텐서\n",
        "a_tf = tf.constant([[1, 2, 3],\n",
        "                    [4, 5, 6]])\n",
        "\n",
        "# 주어진 텐서의 shape을 3차원으로 변경하고 출력하는 코드를 작성하세요.\n",
        "t = tf.reshape(a_tf, (1, 2, 3))\n",
        "print(t)\n",
        "print(t.ndim)"
      ],
      "metadata": {
        "colab": {
          "base_uri": "https://localhost:8080/"
        },
        "id": "-eg8y30yhG34",
        "outputId": "3e29daa8-c88b-4575-ba80-122fae7df79c"
      },
      "execution_count": 28,
      "outputs": [
        {
          "output_type": "stream",
          "name": "stdout",
          "text": [
            "tf.Tensor(\n",
            "[[[1 2 3]\n",
            "  [4 5 6]]], shape=(1, 2, 3), dtype=int32)\n",
            "3\n"
          ]
        }
      ]
    },
    {
      "cell_type": "markdown",
      "source": [
        "다음과 같은 TensorFlow 텐서가 주어졌을 때, 이를 3차원 형태로 변경하고 출력하세요."
      ],
      "metadata": {
        "id": "Puq6eTpMhGre"
      }
    },
    {
      "cell_type": "code",
      "source": [
        "import tensorflow as tf\n",
        "\n",
        "# 주어진 텐서\n",
        "a_tf = tf.constant([1, 2, 3, 4, 5, 6])\n",
        "\n",
        "# 주어진 텐서의 shape을 3차원으로 변경하고 출력하는 코드를 작성하세요.\n",
        "t = tf.reshape(a_tf, (3, 2, 1))\n",
        "print(t)\n",
        "print(t.ndim)"
      ],
      "metadata": {
        "colab": {
          "base_uri": "https://localhost:8080/"
        },
        "id": "RSGTcD36hbMQ",
        "outputId": "b7b69c0b-0ca6-44d4-dd76-dd3cd0ba4340"
      },
      "execution_count": 29,
      "outputs": [
        {
          "output_type": "stream",
          "name": "stdout",
          "text": [
            "tf.Tensor(\n",
            "[[[1]\n",
            "  [2]]\n",
            "\n",
            " [[3]\n",
            "  [4]]\n",
            "\n",
            " [[5]\n",
            "  [6]]], shape=(3, 2, 1), dtype=int32)\n",
            "3\n"
          ]
        }
      ]
    }
  ]
}