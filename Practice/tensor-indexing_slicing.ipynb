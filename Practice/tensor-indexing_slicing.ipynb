{
  "nbformat": 4,
  "nbformat_minor": 0,
  "metadata": {
    "colab": {
      "provenance": [],
      "authorship_tag": "ABX9TyMwE6ytzbAcZaKBO+icGVy8",
      "include_colab_link": true
    },
    "kernelspec": {
      "name": "python3",
      "display_name": "Python 3"
    },
    "language_info": {
      "name": "python"
    }
  },
  "cells": [
    {
      "cell_type": "markdown",
      "metadata": {
        "id": "view-in-github",
        "colab_type": "text"
      },
      "source": [
        "<a href=\"https://colab.research.google.com/github/9-coding/PyTorch/blob/main/Practice/tensor-indexing_slicing.ipynb\" target=\"_parent\"><img src=\"https://colab.research.google.com/assets/colab-badge.svg\" alt=\"Open In Colab\"/></a>"
      ]
    },
    {
      "cell_type": "code",
      "execution_count": 2,
      "metadata": {
        "colab": {
          "base_uri": "https://localhost:8080/"
        },
        "id": "lRLxx0BqjHOv",
        "outputId": "265e54e9-6b9c-40e3-ac6d-87fc9004ddef"
      },
      "outputs": [
        {
          "output_type": "stream",
          "name": "stdout",
          "text": [
            "[[[ 0  1  2]\n",
            "  [ 3  4  5]\n",
            "  [ 6  7  8]]\n",
            "\n",
            " [[ 9 10 11]\n",
            "  [12 13 14]\n",
            "  [15 16 17]]\n",
            "\n",
            " [[18 19 20]\n",
            "  [21 22 23]\n",
            "  [24 25 26]]]\n",
            "[11 14]\n",
            "[11 14 17]\n"
          ]
        }
      ],
      "source": [
        "import numpy as np\n",
        "\n",
        "# 주어진 배열\n",
        "arr = np.arange(27).reshape(3, 3, 3)\n",
        "\n",
        "# slicing을 사용하여 아래 조건에 맞는 결과를 출력하세요.\n",
        "# - 첫 번째 축에서 index가 1인 slice\n",
        "# - 두 번째 축에서 index가 0부터 1까지의 slice\n",
        "# - 세 번째 축에서 index가 2인 slice\n",
        "print(arr)\n",
        "print(arr[1, 0:2, 2])"
      ]
    },
    {
      "cell_type": "code",
      "source": [
        "import torch\n",
        "\n",
        "# 주어진 텐서\n",
        "tensor = torch.tensor([[1, 2, 3],\n",
        "                       [4, 5, 6],\n",
        "                       [7, 8, 9]])\n",
        "\n",
        "# Fancy Indexing을 사용하여 아래 조건에 맞는 결과를 출력하세요.\n",
        "# - 세 번째 행과 첫 번째 행을 선택하여 출력\n",
        "# - 두 번째 열과 세 번째 열을 선택하여 출력\n",
        "f_indices = [[2, 0]]\n",
        "\n",
        "print(tensor[f_indices])\n",
        "print(tensor[:, 1:])"
      ],
      "metadata": {
        "colab": {
          "base_uri": "https://localhost:8080/"
        },
        "id": "RG3sq4C1lcS6",
        "outputId": "51523295-adb7-4ef2-91a6-bdd17495d61e"
      },
      "execution_count": 17,
      "outputs": [
        {
          "output_type": "stream",
          "name": "stdout",
          "text": [
            "tensor([[7, 8, 9],\n",
            "        [1, 2, 3]])\n",
            "tensor([[2, 3],\n",
            "        [5, 6],\n",
            "        [8, 9]])\n"
          ]
        }
      ]
    },
    {
      "cell_type": "markdown",
      "source": [
        "아래 코드의 빈칸을 채워서 주어진 NumPy 배열을 사용하여 인덱싱을 수행하고 결과를 출력하세요."
      ],
      "metadata": {
        "id": "-eRac4ZenabM"
      }
    },
    {
      "cell_type": "code",
      "source": [
        "import numpy as np\n",
        "\n",
        "a = np.array([[1, 2, 3],\n",
        "              [4, 5, 6],\n",
        "              [7, 8, 9]])\n",
        "\n",
        "print(a[2, 1])\n",
        "print('----------')\n",
        "print(a[1])\n",
        "print('----------')\n",
        "print(a[:, 0])\n",
        "print('----------')\n",
        "print(a[1, 0:2])\n"
      ],
      "metadata": {
        "id": "EHTJVFbynXje"
      },
      "execution_count": null,
      "outputs": []
    },
    {
      "cell_type": "markdown",
      "source": [
        "- 8\n",
        "- [4 5 6]\n",
        "- [1 4 7]\n",
        "- [4 5]"
      ],
      "metadata": {
        "id": "rq9LTpW3njrc"
      }
    },
    {
      "cell_type": "markdown",
      "source": [
        "아래 코드의 빈칸을 채워서 주어진 PyTorch 텐서를 사용하여 인덱싱을 수행하고 결과를 출력하세요.\n",
        "```\n",
        "import torch\n",
        "\n",
        "a_torch = torch.tensor([[1, 2, 3],\n",
        "                        [4, 5, 6],\n",
        "                        [7, 8, 9]])\n",
        "\n",
        "print(a_torch[0, 2])\n",
        "print('----------')\n",
        "print(a_torch[2])\n",
        "print('----------')\n",
        "print(a_torch[:, 0])\n",
        "print('----------')\n",
        "print(a_torch[1, 0:2])\n",
        "```"
      ],
      "metadata": {
        "id": "Hh_UJRVBndNO"
      }
    },
    {
      "cell_type": "markdown",
      "source": [
        "- tensor(3)\n",
        "- tensor([7, 8, 9])\n",
        "- tensor([1, 4, 7])\n",
        "- tensor([4, 5])"
      ],
      "metadata": {
        "id": "i9J8SU2Ond4E"
      }
    },
    {
      "cell_type": "markdown",
      "source": [
        "아래 코드의 빈칸을 채워서 주어진 TensorFlow 텐서를 사용하여 인덱싱을 수행하고 결과를 출력하세요.\n",
        "\n",
        "```\n",
        "import tensorflow as tf\n",
        "\n",
        "a_tf = tf.constant([[1, 2, 3],\n",
        "                    [4, 5, 6],\n",
        "                    [7, 8, 9]])\n",
        "\n",
        "print(a_tf[0, 2])\n",
        "print('----------')\n",
        "print(a_tf[2])\n",
        "print('----------')\n",
        "print(a_tf[:, 0])\n",
        "print('----------')\n",
        "print(a_tf[1, 0:2])\n",
        "```\n"
      ],
      "metadata": {
        "id": "akt0HVYgnd5E"
      }
    },
    {
      "cell_type": "markdown",
      "source": [
        "- tf.Tensor(3)\n",
        "- tf.Tensor([7 8 9])\n",
        "- tf.Tensor([1 4 7])\n",
        "- tf.Tensor([4 5])"
      ],
      "metadata": {
        "id": "aNGaufAfnXNo"
      }
    },
    {
      "cell_type": "markdown",
      "source": [
        "아래 주어진 NumPy 배열을 사용하여 인덱싱 및 슬라이싱을 수행한 결과를 예측하세요.\n",
        "```\n",
        "import numpy as np\n",
        "\n",
        "a = np.array([[1, 2, 3],\n",
        "              [4, 5, 6],\n",
        "              [7, 8, 9]])\n",
        "\n",
        "print(a[1]) # 결과: ?\n",
        "print('----------')\n",
        "print(a[:, 0:2]) # 결과: ?\n",
        "```"
      ],
      "metadata": {
        "id": "yGXxCpQhosEX"
      }
    },
    {
      "cell_type": "markdown",
      "source": [
        "- [4 5 6]\n",
        "- [[1 2]<br>\n",
        "   [4 5]<br>\n",
        "   [7 8]]"
      ],
      "metadata": {
        "id": "bxDYncm3ou2n"
      }
    },
    {
      "cell_type": "code",
      "source": [
        "import numpy as np\n",
        "\n",
        "# 주어진 배열\n",
        "arr = np.array([[1, 2, 3],\n",
        "                [4, 5, 6],\n",
        "                [7, 8, 9]])\n",
        "\n",
        "# Fancy Indexing을 사용하여 아래 조건에 맞는 결과를 출력하세요.\n",
        "# - 첫 번째 행과 세 번째 행을 선택하여 출력\n",
        "# - 두 번째 열과 세 번째 열을 선택하여 출력\n",
        "print(arr[[0, 2]])\n",
        "print(arr[:, [1, 2]])"
      ],
      "metadata": {
        "colab": {
          "base_uri": "https://localhost:8080/"
        },
        "id": "ndc9A3ZipF7b",
        "outputId": "8dafd279-19c4-48dd-ca49-4fe2595db98d"
      },
      "execution_count": 21,
      "outputs": [
        {
          "output_type": "stream",
          "name": "stdout",
          "text": [
            "[[1 2 3]\n",
            " [7 8 9]]\n",
            "[[2 3]\n",
            " [5 6]\n",
            " [8 9]]\n"
          ]
        }
      ]
    },
    {
      "cell_type": "code",
      "source": [
        "import numpy as np\n",
        "\n",
        "# 주어진 배열\n",
        "arr = np.array([[1, 2, 3],\n",
        "                [4, 5, 6],\n",
        "                [7, 8, 9]])\n",
        "\n",
        "# Fancy Indexing을 사용하여 아래 조건에 맞는 결과를 출력하세요.\n",
        "# - 인덱스가 (0, 2), (1, 1), (2, 0)인 위치의 값을 선택하여 출력\n",
        "print(arr[(0, 1, 2), (2, 1, 0)])"
      ],
      "metadata": {
        "colab": {
          "base_uri": "https://localhost:8080/"
        },
        "id": "rHnrNnmyp3xN",
        "outputId": "88dd737f-523c-45d4-aeea-bb04ed4093f2"
      },
      "execution_count": 25,
      "outputs": [
        {
          "output_type": "stream",
          "name": "stdout",
          "text": [
            "[3 5 7]\n"
          ]
        }
      ]
    },
    {
      "cell_type": "code",
      "source": [
        "import numpy as np\n",
        "\n",
        "# 주어진 배열\n",
        "arr = np.array([[1, 2, 3],\n",
        "                [4, 5, 6],\n",
        "                [7, 8, 9]])\n",
        "\n",
        "# Fancy Indexing을 사용하여 아래 조건에 맞는 결과를 출력하세요.\n",
        "# - 첫 번째 행과 두 번째 행에서 값을 선택하여 출력\n",
        "# - 두 번째 열과 세 번째 열에서 값을 선택하여 출력\n",
        "print(arr[0:2])\n",
        "print(arr[0:2, 1:3])"
      ],
      "metadata": {
        "colab": {
          "base_uri": "https://localhost:8080/"
        },
        "id": "Tin-Hdh-qUSc",
        "outputId": "b9883062-f98c-4612-b510-bfba32eea962"
      },
      "execution_count": 30,
      "outputs": [
        {
          "output_type": "stream",
          "name": "stdout",
          "text": [
            "[[1 2 3]\n",
            " [4 5 6]]\n",
            "[[2 3]\n",
            " [5 6]]\n"
          ]
        }
      ]
    },
    {
      "cell_type": "markdown",
      "source": [
        "# Boolean Masking"
      ],
      "metadata": {
        "id": "5jK88blcq6eg"
      }
    },
    {
      "cell_type": "code",
      "source": [
        "import numpy as np\n",
        "\n",
        "# 주어진 배열\n",
        "arr = np.array([[1, 2, 3],\n",
        "                [4, 5, 6],\n",
        "                [7, 8, 9]])\n",
        "\n",
        "# Boolean Masking을 사용하여 아래 조건에 맞는 결과를 출력하세요.\n",
        "# - 배열 arr에서 값이 5보다 큰 값들만 선택하여 출력\n",
        "# - 배열 arr에서 짝수인 값들만 선택하여 출력\n",
        "print(arr[arr>5])\n",
        "print(arr[arr % 2 == 0])"
      ],
      "metadata": {
        "colab": {
          "base_uri": "https://localhost:8080/"
        },
        "id": "P2xhRoWAq9L9",
        "outputId": "f790b2e4-7796-41e9-a3d2-80e909cbc545"
      },
      "execution_count": 33,
      "outputs": [
        {
          "output_type": "stream",
          "name": "stdout",
          "text": [
            "[6 7 8 9]\n",
            "[2 4 6 8]\n"
          ]
        }
      ]
    },
    {
      "cell_type": "code",
      "source": [
        "import numpy as np\n",
        "\n",
        "# 주어진 배열\n",
        "arr = np.array([[1, 2, 3],\n",
        "                [4, 5, 6],\n",
        "                [7, 8, 9]])\n",
        "\n",
        "# Boolean Masking을 사용하여 아래 조건에 맞는 결과를 출력하세요.\n",
        "# - 배열 arr에서 값이 3의 배수인 값들만 선택하여 출력\n",
        "# - 배열 arr에서 값이 7 또는 9인 값들만 선택하여 출력\n",
        "print(arr[arr % 3 == 0])\n",
        "print(arr[(arr == 7) | (arr == 9)])\n",
        "print(arr % 3 == 0)\n",
        "print((arr == 7) | (arr == 9))"
      ],
      "metadata": {
        "colab": {
          "base_uri": "https://localhost:8080/"
        },
        "id": "R9zStQNyrKc6",
        "outputId": "6892d1fc-1429-4707-da67-dc4d1eaf14fe"
      },
      "execution_count": 40,
      "outputs": [
        {
          "output_type": "stream",
          "name": "stdout",
          "text": [
            "[3 6 9]\n",
            "[7 9]\n",
            "[[False False  True]\n",
            " [False False  True]\n",
            " [False False  True]]\n",
            "[[False False False]\n",
            " [False False False]\n",
            " [ True False  True]]\n"
          ]
        }
      ]
    }
  ]
}