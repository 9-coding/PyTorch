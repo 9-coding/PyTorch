{
  "nbformat": 4,
  "nbformat_minor": 0,
  "metadata": {
    "colab": {
      "provenance": [],
      "authorship_tag": "ABX9TyOOeleR4+b5vTySZ87GchVh",
      "include_colab_link": true
    },
    "kernelspec": {
      "name": "python3",
      "display_name": "Python 3"
    },
    "language_info": {
      "name": "python"
    }
  },
  "cells": [
    {
      "cell_type": "markdown",
      "metadata": {
        "id": "view-in-github",
        "colab_type": "text"
      },
      "source": [
        "<a href=\"https://colab.research.google.com/github/9-coding/PyTorch/blob/main/23-tensor_comparison.ipynb\" target=\"_parent\"><img src=\"https://colab.research.google.com/assets/colab-badge.svg\" alt=\"Open In Colab\"/></a>"
      ]
    },
    {
      "cell_type": "markdown",
      "source": [
        "# Tensor 비교"
      ],
      "metadata": {
        "id": "JRGm2rkbUWg_"
      }
    },
    {
      "cell_type": "code",
      "source": [
        "import torch\n",
        "from torch import nn"
      ],
      "metadata": {
        "id": "iFoyvRLp5Hz-"
      },
      "execution_count": 5,
      "outputs": []
    },
    {
      "cell_type": "code",
      "source": [
        "# nn.Parameter 객체 생성\n",
        "param1 = nn.Parameter(torch.tensor([1.0, 2.0, 3.0]))\n",
        "param2 = nn.Parameter(torch.tensor([1.0, 2.0, 3.0]))\n",
        "param3 = nn.Parameter(torch.tensor([1.0, 2.0, 3.00001]))"
      ],
      "metadata": {
        "id": "bjfAa3zv5R6B"
      },
      "execution_count": 7,
      "outputs": []
    },
    {
      "cell_type": "markdown",
      "source": [
        "PyTorch에서 `nn.Parameter` 또는 `tensor` 객체 두 개가 같은 값을 가지는지 확인하는 방법.\n",
        "- `torch.equal` : 두 텐서의 모든 요소가 동일한지 확인\n",
        "- `torch.allclose` : 지정된 허용 오차 내에서 두 텐서가 거의 동일한지 확인."
      ],
      "metadata": {
        "id": "RsiTGQ_cUwa1"
      }
    },
    {
      "cell_type": "markdown",
      "source": [
        "## `torch.equal` 사용\n",
        "- 완벽히 같은 값을 가질 때만 `True` 반환."
      ],
      "metadata": {
        "id": "9v6CjNM5VRNg"
      }
    },
    {
      "cell_type": "code",
      "source": [
        "print(torch.equal(param1, param2))\n",
        "print(torch.equal(param1, param3))"
      ],
      "metadata": {
        "colab": {
          "base_uri": "https://localhost:8080/"
        },
        "id": "2t8Iu9vTVWlM",
        "outputId": "f5402599-f4b4-47bd-908c-66f2ca0fb04c"
      },
      "execution_count": 3,
      "outputs": [
        {
          "output_type": "stream",
          "name": "stdout",
          "text": [
            "True\n",
            "False\n"
          ]
        }
      ]
    },
    {
      "cell_type": "markdown",
      "source": [
        "## `torch.allclose` 사용\n",
        "- 두 텐서가 지정된 허용 오차 내에서 거의 동일한지 확인.\n",
        "- 부동 소수점 연산의 미세한 차이로 인한 불일치를 허용할 수 있음"
      ],
      "metadata": {
        "id": "es8eLtyyVXRJ"
      }
    },
    {
      "cell_type": "code",
      "source": [
        "print(torch.allclose(param1, param2))\n",
        "print(torch.allclose(param1, param3))"
      ],
      "metadata": {
        "colab": {
          "base_uri": "https://localhost:8080/"
        },
        "id": "_QtfPWkSyby8",
        "outputId": "6a0281d5-62bb-4698-ab9f-cb771f6d3a43"
      },
      "execution_count": 8,
      "outputs": [
        {
          "output_type": "stream",
          "name": "stdout",
          "text": [
            "True\n",
            "True\n"
          ]
        }
      ]
    },
    {
      "cell_type": "markdown",
      "source": [
        "### 허용 오차 설정\n",
        "`torch.allclose(tensor1, tensor2, rtol=1e-05, atol=1e-08)`\n",
        "- 절대적(atol), 상대적(rtol) 허용 오차 설정 가능."
      ],
      "metadata": {
        "id": "c5JSKfNUys44"
      }
    },
    {
      "cell_type": "code",
      "source": [
        "param3 = nn.Parameter(torch.tensor([1.0, 2.0, 3.0001]))\n",
        "\n",
        "print(torch.allclose(param1, param2, atol=1e-4))  # True, 허용 오차 내\n",
        "print(torch.allclose(param1, param3, atol=1e-5))  # False, 허용 오차 밖"
      ],
      "metadata": {
        "colab": {
          "base_uri": "https://localhost:8080/"
        },
        "id": "3_x7oMevzC6F",
        "outputId": "76c23a5a-c802-4d11-a86b-bd8623fbe52d"
      },
      "execution_count": 13,
      "outputs": [
        {
          "output_type": "stream",
          "name": "stdout",
          "text": [
            "True\n",
            "False\n"
          ]
        }
      ]
    },
    {
      "cell_type": "markdown",
      "source": [
        "### 절대적 오차 (`atol`)\n",
        "$\\mathrm{atol} = |a-b|$\n",
        "- 두 값의 차이가 일정한 허용 오차인지 확인.\n",
        "- 값 크기에 상관없이 일정\n",
        "\n",
        "$ a = 100$이고 $b = 100.1$이면\n",
        "\n",
        "$\\mathrm{atol} = |100-100.1| = 0.1$\n"
      ],
      "metadata": {
        "id": "udxtWH8qzkrl"
      }
    },
    {
      "cell_type": "markdown",
      "source": [
        "### 상대적 오차 (`rtol`)\n",
        "$\\mathrm{rtol} = \\cfrac{|a-b|}{|b|}$\n",
        "- 두 값의 차이가 값에 크기에 비례한 허용 오차인지 확인.\n",
        "- 값 크기에 비례함.\n",
        "\n",
        "$ a = 100$이고 $b = 100.1$이면\n",
        "\n",
        "$\\mathrm{rtol} = \\cfrac{|100-100.1|}{|100.1|} \\approx 0.001$\n"
      ],
      "metadata": {
        "id": "JK4nCMHv2N9D"
      }
    },
    {
      "cell_type": "markdown",
      "source": [
        "### `torch.allclose`의 유사 기준\n",
        "$|a_i - b_i| \\leq \\mathrm{atol}+|b_i| \\times \\mathrm{rtol}$"
      ],
      "metadata": {
        "id": "Vs9s51wZ2-Rb"
      }
    }
  ]
}