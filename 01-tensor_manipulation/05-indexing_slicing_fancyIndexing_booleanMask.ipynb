{
  "nbformat": 4,
  "nbformat_minor": 0,
  "metadata": {
    "colab": {
      "provenance": [],
      "authorship_tag": "ABX9TyPWxm6raf5SpnE61k/kFEpI",
      "include_colab_link": true
    },
    "kernelspec": {
      "name": "python3",
      "display_name": "Python 3"
    },
    "language_info": {
      "name": "python"
    }
  },
  "cells": [
    {
      "cell_type": "markdown",
      "metadata": {
        "id": "view-in-github",
        "colab_type": "text"
      },
      "source": [
        "<a href=\"https://colab.research.google.com/github/9-coding/PyTorch/blob/main/05-indexing_slicing_fancyIndexing_booleanMask.ipynb\" target=\"_parent\"><img src=\"https://colab.research.google.com/assets/colab-badge.svg\" alt=\"Open In Colab\"/></a>"
      ]
    },
    {
      "cell_type": "markdown",
      "source": [
        "# Indexing / Slicing / Fancy Indexing / Boolean Mask"
      ],
      "metadata": {
        "id": "AF8BS-iDQ1w4"
      }
    },
    {
      "cell_type": "code",
      "execution_count": 1,
      "metadata": {
        "id": "ntOyN1pnIuED"
      },
      "outputs": [],
      "source": [
        "import numpy as np\n",
        "import torch\n",
        "import tensorflow as tf"
      ]
    },
    {
      "cell_type": "code",
      "source": [
        "for c in [np, torch, tf]:\n",
        "  print(c.__name__, c.__version__)"
      ],
      "metadata": {
        "colab": {
          "base_uri": "https://localhost:8080/"
        },
        "id": "er_5KYHUQCxw",
        "outputId": "5e1a95fd-735b-4a14-ff4f-f8a49c3c0c42"
      },
      "execution_count": 2,
      "outputs": [
        {
          "output_type": "stream",
          "name": "stdout",
          "text": [
            "numpy 1.25.2\n",
            "torch 2.2.1+cu121\n",
            "tensorflow 2.15.0\n"
          ]
        }
      ]
    },
    {
      "cell_type": "markdown",
      "source": [
        "## Indexing / slicing\n",
        "\n",
        "### numpy\n",
        "\n",
        "- 가장 기본.\n",
        "- arr[x, y, z]와 arr[x][y][z] 둘 다 사용 가능."
      ],
      "metadata": {
        "id": "FMrFKw1bQEKa"
      }
    },
    {
      "cell_type": "code",
      "source": [
        "a = np.arange(0, 12).reshape(3,4)\n",
        "\n",
        "print(a)\n",
        "print('===================')\n",
        "print(f'a[0] is \"{a[0]}\"')\n",
        "print(f'a[0, 2] is \"{a[0, 2]}\"')\n",
        "print(f'a[0][2] is \"{a[0][2]}\"')\n",
        "print('-------------------')\n",
        "print(f'a[1, 2:] is \"{a[1,2:]}\"')\n",
        "print(f'a[1, ::2] is \"{a[1,::2]}\"')\n",
        "print(f'a[1, ::-2] is \"{a[1,::-2]}\"')\n",
        "print(f'a[1, ::-1] is \"{a[1,::-1]}\"')\n",
        "print(f'a[1, 3:0:-1] is \"{a[1, 3:0:-1]}\"')"
      ],
      "metadata": {
        "colab": {
          "base_uri": "https://localhost:8080/"
        },
        "id": "DTBTCd0jQGLE",
        "outputId": "64518828-aa90-4460-c243-51c72c43ec71"
      },
      "execution_count": 3,
      "outputs": [
        {
          "output_type": "stream",
          "name": "stdout",
          "text": [
            "[[ 0  1  2  3]\n",
            " [ 4  5  6  7]\n",
            " [ 8  9 10 11]]\n",
            "===================\n",
            "a[0] is \"[0 1 2 3]\"\n",
            "a[0, 2] is \"2\"\n",
            "a[0][2] is \"2\"\n",
            "-------------------\n",
            "a[1, 2:] is \"[6 7]\"\n",
            "a[1, ::2] is \"[4 6]\"\n",
            "a[1, ::-2] is \"[7 5]\"\n",
            "a[1, ::-1] is \"[7 6 5 4]\"\n",
            "a[1, 3:0:-1] is \"[7 6 5]\"\n"
          ]
        }
      ]
    },
    {
      "cell_type": "markdown",
      "source": [
        "### pytorch\n",
        "\n",
        "- negative step 동작 X"
      ],
      "metadata": {
        "id": "emjOIxh4QIgj"
      }
    },
    {
      "cell_type": "code",
      "source": [
        "a = np.arange(0, 12).reshape(3,4)\n",
        "a_torch = torch.tensor(a)\n",
        "\n",
        "print(a_torch)\n",
        "print('===================')\n",
        "print(f'a_torch[0] is \"{a_torch[0]}\"')\n",
        "print(f'a_torch[0, 2] is \"{a_torch[0, 2]}\"')\n",
        "print(f'a_torch[0][2] is \"{a_torch[0][2]}\"')\n",
        "print('-------------------')\n",
        "print(f'a_torch[1, 2:] is \"{a_torch[1,2:]}\"')\n",
        "print(f'a_torch[1, ::2] is \"{a_torch[1,::2]}\"')\n",
        "\n",
        "# negative는 동작하지 않음.\n",
        "# print(f'a_torch[1, ::-2] is \"{a_torch[1,::-2]}\"')\n",
        "# print(f'a_torch[1, ::-1] is \"{a_torch[1,::-1]}\"')\n",
        "# print(f'a_torch[1, 3:0:-1] is \"{a_torch[1, 3:0:-1]}\"')"
      ],
      "metadata": {
        "colab": {
          "base_uri": "https://localhost:8080/"
        },
        "id": "goV1jpPRQLP7",
        "outputId": "5824489d-fc03-4468-ec21-970cbde35192"
      },
      "execution_count": 4,
      "outputs": [
        {
          "output_type": "stream",
          "name": "stdout",
          "text": [
            "tensor([[ 0,  1,  2,  3],\n",
            "        [ 4,  5,  6,  7],\n",
            "        [ 8,  9, 10, 11]])\n",
            "===================\n",
            "a_torch[0] is \"tensor([0, 1, 2, 3])\"\n",
            "a_torch[0, 2] is \"2\"\n",
            "a_torch[0][2] is \"2\"\n",
            "-------------------\n",
            "a_torch[1, 2:] is \"tensor([6, 7])\"\n",
            "a_torch[1, ::2] is \"tensor([4, 6])\"\n"
          ]
        }
      ]
    },
    {
      "cell_type": "markdown",
      "source": [
        "### tensorflow\n",
        "\n",
        "- tensor가 immutable이라는 것 외에 numpy와 유사.\n",
        "- negative 동작."
      ],
      "metadata": {
        "id": "qWtNq0HMQNyd"
      }
    },
    {
      "cell_type": "code",
      "source": [
        "a = np.arange(0, 12).reshape(3,4)\n",
        "a_tf = tf.constant(a)\n",
        "\n",
        "print(a_tf)\n",
        "print('===================')\n",
        "print(f'a_tf[0] is \"{a_tf[0]}\"')\n",
        "print(f'a_tf[0, 2] is \"{a_tf[0, 2]}\"')\n",
        "print(f'a_tf[0][2] is \"{a_tf[0][2]}\"')\n",
        "print('-------------------')\n",
        "print(f'a_tf[1, 2:] is \"{a_tf[1,2:]}\"')\n",
        "print(f'a_tf[1, ::2] is \"{a_tf[1,::2]}\"')\n",
        "print(f'a_tf[1, ::-2] is \"{a_tf[1,::-2]}\"')\n",
        "print(f'a_tf[1, ::-1] is \"{a_tf[1,::-1]}\"')\n",
        "print(f'a_tf[1, 3:0:-1] is \"{a_tf[1, 3:0:-1]}\"')"
      ],
      "metadata": {
        "colab": {
          "base_uri": "https://localhost:8080/"
        },
        "id": "SQbkmyufQOjZ",
        "outputId": "a4e39f15-02eb-4f36-fe00-9af84261229b"
      },
      "execution_count": 5,
      "outputs": [
        {
          "output_type": "stream",
          "name": "stdout",
          "text": [
            "tf.Tensor(\n",
            "[[ 0  1  2  3]\n",
            " [ 4  5  6  7]\n",
            " [ 8  9 10 11]], shape=(3, 4), dtype=int64)\n",
            "===================\n",
            "a_tf[0] is \"[0 1 2 3]\"\n",
            "a_tf[0, 2] is \"2\"\n",
            "a_tf[0][2] is \"2\"\n",
            "-------------------\n",
            "a_tf[1, 2:] is \"[6 7]\"\n",
            "a_tf[1, ::2] is \"[4 6]\"\n",
            "a_tf[1, ::-2] is \"[7 5]\"\n",
            "a_tf[1, ::-1] is \"[7 6 5 4]\"\n",
            "a_tf[1, 3:0:-1] is \"[7 6 5]\"\n"
          ]
        }
      ]
    },
    {
      "cell_type": "markdown",
      "source": [
        "## Fancy indexing\n",
        "\n",
        "**index tensor를 [ ] 내에 기재하여 여러 elements 한 번에 선택**\n",
        "\n",
        "- index array는 각 axis에서 index를 나타내는 integer로 이루어진 sequence type instance 사용.\n",
        "- tensorflow는 `tf.gather` , `tf.gather_nd` 를 통해 유사한 기능을 제공하지만 직접적으로 지원하지 않음.\n",
        "\n",
        "### 1d tensor"
      ],
      "metadata": {
        "id": "oR7qUXESQQir"
      }
    },
    {
      "cell_type": "code",
      "source": [
        "x = np.array([10.,20.,30.,40.,50.])\n",
        "x_torch = torch.tensor([10.,20.,30.,40.,50.])\n",
        "x_tf = tf.constant([10.,20.,30.,40.,50.])\n",
        "\n",
        "f_indices = [3, 4, 1]\n",
        "\n",
        "print('original:')\n",
        "print(x)\n",
        "print('----------')\n",
        "print('numpy:')\n",
        "print(x[f_indices])\n",
        "print('----------')\n",
        "print('torch:')\n",
        "print(x_torch[f_indices])\n",
        "print('----------')\n",
        "print('tensorflow:')\n",
        "print(tf.gather(x_tf,f_indices)) #1D 에선 gahter, 2D 이상시 gather_nd\n",
        "print(tf.gather_nd(x_tf, [ i for i in zip(f_indices,)])) # 굳이 쓴다면, 다음과 같이."
      ],
      "metadata": {
        "colab": {
          "base_uri": "https://localhost:8080/"
        },
        "id": "sT14n1DEQRZW",
        "outputId": "b6a47e07-615f-49b5-be08-d845d7dc9c13"
      },
      "execution_count": 7,
      "outputs": [
        {
          "output_type": "stream",
          "name": "stdout",
          "text": [
            "original:\n",
            "[10. 20. 30. 40. 50.]\n",
            "----------\n",
            "numpy:\n",
            "[40. 50. 20.]\n",
            "----------\n",
            "torch:\n",
            "tensor([40., 50., 20.])\n",
            "----------\n",
            "tensorflow:\n",
            "tf.Tensor([40. 50. 20.], shape=(3,), dtype=float32)\n",
            "tf.Tensor([40. 50. 20.], shape=(3,), dtype=float32)\n"
          ]
        }
      ]
    },
    {
      "cell_type": "markdown",
      "source": [
        "### 2d tensor"
      ],
      "metadata": {
        "id": "_PWh5yTQQTNa"
      }
    },
    {
      "cell_type": "code",
      "source": [
        "x = np.arange(5*5).reshape(5,5) * 10\n",
        "x_torch = torch.arange(5*5).view(size=(5,5)) * 10\n",
        "x_tf = tf.constant(x)\n",
        "\n",
        "indices_0 = [0, 1, 2]\n",
        "indices_1 = [0, 1, 2]\n",
        "\n",
        "print('original:')\n",
        "print(x)\n",
        "print('----------')\n",
        "print('numpy:')\n",
        "b = x[indices_0, indices_1]\n",
        "print('b.shape =',b.shape)\n",
        "print(b)\n",
        "print('----------')\n",
        "print('torch:')\n",
        "c = x_torch[indices_0, indices_1]\n",
        "print('c.shape =',c.shape)\n",
        "print(c)\n",
        "print('----------')\n",
        "print('tensorflow:')\n",
        "d = tf.gather_nd(x_tf, [ i for i in zip(indices_0, indices_1)])\n",
        "print('d.shape =',d.shape)\n",
        "print(d)"
      ],
      "metadata": {
        "colab": {
          "base_uri": "https://localhost:8080/"
        },
        "id": "6KnCoNvBQSiu",
        "outputId": "7b3a2f4d-f898-4a31-a784-b44025574adf"
      },
      "execution_count": 6,
      "outputs": [
        {
          "output_type": "stream",
          "name": "stdout",
          "text": [
            "original:\n",
            "[[  0  10  20  30  40]\n",
            " [ 50  60  70  80  90]\n",
            " [100 110 120 130 140]\n",
            " [150 160 170 180 190]\n",
            " [200 210 220 230 240]]\n",
            "----------\n",
            "numpy:\n",
            "b.shape = (3,)\n",
            "[  0  60 120]\n",
            "----------\n",
            "torch:\n",
            "c.shape = torch.Size([3])\n",
            "tensor([  0,  60, 120])\n",
            "----------\n",
            "tensorflow:\n",
            "d.shape = (3,)\n",
            "tf.Tensor([  0  60 120], shape=(3,), dtype=int64)\n"
          ]
        }
      ]
    },
    {
      "cell_type": "markdown",
      "source": [
        "### 3d tensor"
      ],
      "metadata": {
        "id": "sUoWa4RMQW8y"
      }
    },
    {
      "cell_type": "code",
      "source": [
        "x = np.arange(5*5*5).reshape(5,5,5) * 10\n",
        "x_torch = torch.arange(5*5*5).view(size=(5,5,5)) * 10\n",
        "x_tf = tf.constant(x)\n",
        "\n",
        "indices_0 = [0, 1] # x\n",
        "indices_1 = [1, 2] # y\n",
        "indices_2 = [2, 0] # z\n",
        "\n",
        "print('original:')\n",
        "print(x)\n",
        "print('----------')\n",
        "print('numpy:')\n",
        "b = x[indices_0, indices_1, indices_2]\n",
        "print('b.shape=',b.shape)\n",
        "print(b)\n",
        "print('----------')\n",
        "print('torch:')\n",
        "c = x_torch[indices_0, indices_1, indices_2]\n",
        "print('c.shape=',c.shape)\n",
        "print(c)\n",
        "print('----------')\n",
        "print('tensorflow')\n",
        "d = tf.gather_nd(x_tf, [ i for i in zip(indices_0, indices_1, indices_2)]) # multi-dim 에선 gater_nd 임.\n",
        "print('d.shape=',d.shape)\n",
        "print(d)"
      ],
      "metadata": {
        "colab": {
          "base_uri": "https://localhost:8080/"
        },
        "id": "5TcFwJtRQZPG",
        "outputId": "6d9fc4a6-d690-4991-dfcf-61d1357b30d2"
      },
      "execution_count": 8,
      "outputs": [
        {
          "output_type": "stream",
          "name": "stdout",
          "text": [
            "original:\n",
            "[[[   0   10   20   30   40]\n",
            "  [  50   60   70   80   90]\n",
            "  [ 100  110  120  130  140]\n",
            "  [ 150  160  170  180  190]\n",
            "  [ 200  210  220  230  240]]\n",
            "\n",
            " [[ 250  260  270  280  290]\n",
            "  [ 300  310  320  330  340]\n",
            "  [ 350  360  370  380  390]\n",
            "  [ 400  410  420  430  440]\n",
            "  [ 450  460  470  480  490]]\n",
            "\n",
            " [[ 500  510  520  530  540]\n",
            "  [ 550  560  570  580  590]\n",
            "  [ 600  610  620  630  640]\n",
            "  [ 650  660  670  680  690]\n",
            "  [ 700  710  720  730  740]]\n",
            "\n",
            " [[ 750  760  770  780  790]\n",
            "  [ 800  810  820  830  840]\n",
            "  [ 850  860  870  880  890]\n",
            "  [ 900  910  920  930  940]\n",
            "  [ 950  960  970  980  990]]\n",
            "\n",
            " [[1000 1010 1020 1030 1040]\n",
            "  [1050 1060 1070 1080 1090]\n",
            "  [1100 1110 1120 1130 1140]\n",
            "  [1150 1160 1170 1180 1190]\n",
            "  [1200 1210 1220 1230 1240]]]\n",
            "----------\n",
            "numpy:\n",
            "b.shape= (2,)\n",
            "[ 70 350]\n",
            "----------\n",
            "torch:\n",
            "c.shape= torch.Size([2])\n",
            "tensor([ 70, 350])\n",
            "----------\n",
            "tensorflow\n",
            "d.shape= (2,)\n",
            "tf.Tensor([ 70 350], shape=(2,), dtype=int64)\n"
          ]
        }
      ]
    },
    {
      "cell_type": "markdown",
      "source": [
        "## Boolean Mask\n",
        "\n",
        "**대상이 되는 tensor와 같은 shape**를 가지는 boolean mask의 tensor를 통해 특정 element를 선택.\n",
        "\n",
        "- 텐서 인스턴스에 **비교 연산자를 적용하여 boolean mask를 얻을 수 있음**\n",
        "- 해당 텐서 인스턴스에 관계(relative, 비교)연산자으로 구성된 expression(=***condition***이라고 불림)을 **\"index가 기재되는 square bracket 안에 넣는 방식\"**으로의 활용이 많음."
      ],
      "metadata": {
        "id": "Y5C1QoWtQauj"
      }
    },
    {
      "cell_type": "code",
      "source": [
        "x = np.arange(3*3*3).reshape(3,3,3) * 10\n",
        "\n",
        "print('original:')\n",
        "print(x)\n",
        "print('----------')\n",
        "print('boolean mask:')\n",
        "b = x <= 270/2\n",
        "print(b.shape)\n",
        "print(b)\n",
        "print('----------')\n",
        "print('x <= 135')\n",
        "print(x[b])\n",
        "print('----------')\n",
        "print(x[x<=270/2])\n",
        "print('----------')\n",
        "print('----------')\n",
        "print('x <= 135 | x>= 200')\n",
        "b1 = b | (x >= 200)\n",
        "print('----------')\n",
        "print('boolean mask')\n",
        "print(b1)\n",
        "print('----------')\n",
        "print(x[b1])\n",
        "print('----------')\n",
        "print(x[ (x<=270/2) | (x>=200)])"
      ],
      "metadata": {
        "colab": {
          "base_uri": "https://localhost:8080/"
        },
        "id": "wYvBJSwsQcsB",
        "outputId": "1a2e7ff8-b33d-408d-c044-a0f1badd5b82"
      },
      "execution_count": 9,
      "outputs": [
        {
          "output_type": "stream",
          "name": "stdout",
          "text": [
            "original:\n",
            "[[[  0  10  20]\n",
            "  [ 30  40  50]\n",
            "  [ 60  70  80]]\n",
            "\n",
            " [[ 90 100 110]\n",
            "  [120 130 140]\n",
            "  [150 160 170]]\n",
            "\n",
            " [[180 190 200]\n",
            "  [210 220 230]\n",
            "  [240 250 260]]]\n",
            "----------\n",
            "boolean mask:\n",
            "(3, 3, 3)\n",
            "[[[ True  True  True]\n",
            "  [ True  True  True]\n",
            "  [ True  True  True]]\n",
            "\n",
            " [[ True  True  True]\n",
            "  [ True  True False]\n",
            "  [False False False]]\n",
            "\n",
            " [[False False False]\n",
            "  [False False False]\n",
            "  [False False False]]]\n",
            "----------\n",
            "x <= 135\n",
            "[  0  10  20  30  40  50  60  70  80  90 100 110 120 130]\n",
            "----------\n",
            "[  0  10  20  30  40  50  60  70  80  90 100 110 120 130]\n",
            "----------\n",
            "----------\n",
            "x <= 135 | x>= 200\n",
            "----------\n",
            "boolean mask\n",
            "[[[ True  True  True]\n",
            "  [ True  True  True]\n",
            "  [ True  True  True]]\n",
            "\n",
            " [[ True  True  True]\n",
            "  [ True  True False]\n",
            "  [False False False]]\n",
            "\n",
            " [[False False  True]\n",
            "  [ True  True  True]\n",
            "  [ True  True  True]]]\n",
            "----------\n",
            "[  0  10  20  30  40  50  60  70  80  90 100 110 120 130 200 210 220 230\n",
            " 240 250 260]\n",
            "----------\n",
            "[  0  10  20  30  40  50  60  70  80  90 100 110 120 130 200 210 220 230\n",
            " 240 250 260]\n"
          ]
        }
      ]
    },
    {
      "cell_type": "markdown",
      "source": [
        "135 이하 또는 200 이상인 elements 선택 예시."
      ],
      "metadata": {
        "id": "1xZSMj1VQdyf"
      }
    },
    {
      "cell_type": "code",
      "source": [
        "x_torch = torch.arange(3*3*3).view(size=(3,3,3)) * 10\n",
        "print(x_torch[ (x_torch<=270/2) | (x_torch>=200)])\n",
        "\n",
        "print('--------------')\n",
        "\n",
        "x_tf = tf.constant(x)\n",
        "print(x_tf[ (x_tf<= tf.cast(270/2, tf.int64)) | (x_tf>=200)])"
      ],
      "metadata": {
        "colab": {
          "base_uri": "https://localhost:8080/"
        },
        "id": "oKJVxzPVQeWA",
        "outputId": "83fa7423-20b9-4a0f-b821-0520bc5226fa"
      },
      "execution_count": 10,
      "outputs": [
        {
          "output_type": "stream",
          "name": "stdout",
          "text": [
            "tensor([  0,  10,  20,  30,  40,  50,  60,  70,  80,  90, 100, 110, 120, 130,\n",
            "        200, 210, 220, 230, 240, 250, 260])\n",
            "--------------\n",
            "tf.Tensor(\n",
            "[  0  10  20  30  40  50  60  70  80  90 100 110 120 130 200 210 220 230\n",
            " 240 250 260], shape=(21,), dtype=int64)\n"
          ]
        }
      ]
    },
    {
      "cell_type": "markdown",
      "source": [
        "**특정 조건에 맞는 element의 index 얻기 → np.where**"
      ],
      "metadata": {
        "id": "9zxhd9ckQfue"
      }
    },
    {
      "cell_type": "code",
      "source": [
        "import numpy as np\n",
        "\n",
        "r = np.random.default_rng(seed = 23)\n",
        "\n",
        "a = r.random((3,3,3)).astype(np.float32) * 10.\n",
        "\n",
        "bm = a>=5.\n",
        "idxs = np.where( a>=5)\n",
        "\n",
        "print(a)\n",
        "print('-----------------')\n",
        "print(np.array(idxs).shape)\n",
        "print(idxs)"
      ],
      "metadata": {
        "colab": {
          "base_uri": "https://localhost:8080/"
        },
        "id": "Jobyv0iSQiaT",
        "outputId": "badd3ad1-31bf-4b92-e195-a71523f6e8e1"
      },
      "execution_count": 11,
      "outputs": [
        {
          "output_type": "stream",
          "name": "stdout",
          "text": [
            "[[[6.9393306  6.4145823  1.2864423 ]\n",
            "  [1.1370804  6.5334554  8.534571  ]\n",
            "  [2.0177913  2.1801863  7.1658463 ]]\n",
            "\n",
            " [[4.706997   4.1522193  3.491478  ]\n",
            "  [0.6385375  4.546662   3.014533  ]\n",
            "  [3.8907673  5.402978   6.835897  ]]\n",
            "\n",
            " [[6.2475243  7.4270444  0.18217355]\n",
            "  [6.542572   5.420625   8.513411  ]\n",
            "  [9.390292   0.12823118 8.283283  ]]]\n",
            "-----------------\n",
            "(3, 14)\n",
            "(array([0, 0, 0, 0, 0, 1, 1, 2, 2, 2, 2, 2, 2, 2]), array([0, 0, 1, 1, 2, 2, 2, 0, 0, 1, 1, 1, 2, 2]), array([0, 1, 1, 2, 2, 1, 2, 0, 1, 0, 1, 2, 0, 2]))\n"
          ]
        }
      ]
    }
  ]
}