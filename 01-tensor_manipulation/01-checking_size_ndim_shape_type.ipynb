{
  "nbformat": 4,
  "nbformat_minor": 0,
  "metadata": {
    "colab": {
      "provenance": [],
      "authorship_tag": "ABX9TyNDiBq4hFqHQfVj8YWsOgB8",
      "include_colab_link": true
    },
    "kernelspec": {
      "name": "python3",
      "display_name": "Python 3"
    },
    "language_info": {
      "name": "python"
    }
  },
  "cells": [
    {
      "cell_type": "markdown",
      "metadata": {
        "id": "view-in-github",
        "colab_type": "text"
      },
      "source": [
        "<a href=\"https://colab.research.google.com/github/9-coding/PyTorch/blob/main/01-checking_size_ndim_shape_type.ipynb\" target=\"_parent\"><img src=\"https://colab.research.google.com/assets/colab-badge.svg\" alt=\"Open In Colab\"/></a>"
      ]
    },
    {
      "cell_type": "markdown",
      "source": [
        "# Checking size / ndim / shape / type\n",
        "- ndim: dimension 개수\n",
        "- shape: 몇 행, 몇 열인지 반환\n",
        "- itemsize: 차지하는 byte 수\n",
        "- size: 전체 원소의 개수\n",
        "- dtype: data type\n",
        "data type에서 (6)과 (6,)은 매우 다른 것임.\n",
        "(6)은 integer, (6,)은 튜플."
      ],
      "metadata": {
        "id": "CjxOz95MpRoY"
      }
    },
    {
      "cell_type": "code",
      "execution_count": 1,
      "metadata": {
        "id": "gzZXFV0_o2be"
      },
      "outputs": [],
      "source": [
        "import numpy as np\n",
        "import torch\n",
        "import tensorflow as tf"
      ]
    },
    {
      "cell_type": "code",
      "source": [
        "for c in [np, torch, tf]:\n",
        "  print(c.__name__, c.__version__)"
      ],
      "metadata": {
        "colab": {
          "base_uri": "https://localhost:8080/"
        },
        "id": "jUHT5PufpPUu",
        "outputId": "7a49b704-51ef-4053-e5e3-0a9ea5863f0f"
      },
      "execution_count": 2,
      "outputs": [
        {
          "output_type": "stream",
          "name": "stdout",
          "text": [
            "numpy 1.25.2\n",
            "torch 2.2.1+cu121\n",
            "tensorflow 2.15.0\n"
          ]
        }
      ]
    },
    {
      "cell_type": "markdown",
      "source": [
        "## NumPy"
      ],
      "metadata": {
        "id": "fYH92aNprVM_"
      }
    },
    {
      "cell_type": "code",
      "source": [
        "t = (1,2,3,4,5,6)\n",
        "a = np.array(t)\n",
        "print(type(t))\n",
        "print(type(a))\n",
        "print(a.ndim)\n",
        "print(a.shape)\n",
        "print(a.itemsize) # byte 수\n",
        "print(a.size)\n",
        "print(a.dtype)"
      ],
      "metadata": {
        "colab": {
          "base_uri": "https://localhost:8080/"
        },
        "id": "049mYzLYp5ix",
        "outputId": "82c0673e-5665-4038-ad90-9a8d634db772"
      },
      "execution_count": 3,
      "outputs": [
        {
          "output_type": "stream",
          "name": "stdout",
          "text": [
            "<class 'tuple'>\n",
            "<class 'numpy.ndarray'>\n",
            "1\n",
            "(6,)\n",
            "8\n",
            "6\n",
            "int64\n"
          ]
        }
      ]
    },
    {
      "cell_type": "code",
      "source": [
        "a = np.array([1.,2.,3.])\n",
        "print(a.dtype)\n",
        "a = np.array([1.,2.,3.], dtype=int)\n",
        "print(a.dtype)\n",
        "a = np.array([1.,2.,3.], dtype=float)\n",
        "print(a.dtype)"
      ],
      "metadata": {
        "colab": {
          "base_uri": "https://localhost:8080/"
        },
        "id": "fEVW1FJ5rK7G",
        "outputId": "ca260c3a-f343-4a03-9bf2-0deaa31a57d6"
      },
      "execution_count": 4,
      "outputs": [
        {
          "output_type": "stream",
          "name": "stdout",
          "text": [
            "float64\n",
            "int64\n",
            "float64\n"
          ]
        }
      ]
    },
    {
      "cell_type": "markdown",
      "source": [
        "## TensorFlow\n",
        "- gpu기반 연산이기 때문에 int32와 float32를 사용."
      ],
      "metadata": {
        "id": "dLTtpuMsrOW8"
      }
    },
    {
      "cell_type": "code",
      "source": [
        "tensor = tf.constant(t)\n",
        "print(tf.rank(tensor)) # dimension 수 반환.\n",
        "print(tensor.ndim)\n",
        "print(tensor.shape)\n",
        "print(tensor.dtype)\n",
        "tensor"
      ],
      "metadata": {
        "colab": {
          "base_uri": "https://localhost:8080/"
        },
        "id": "ZfSzD-tGrNyv",
        "outputId": "3f0696f0-2324-42af-b7e7-3f6879c36352"
      },
      "execution_count": 7,
      "outputs": [
        {
          "output_type": "stream",
          "name": "stdout",
          "text": [
            "tf.Tensor(1, shape=(), dtype=int32)\n",
            "1\n",
            "(6,)\n",
            "<dtype: 'int32'>\n"
          ]
        },
        {
          "output_type": "execute_result",
          "data": {
            "text/plain": [
              "<tf.Tensor: shape=(6,), dtype=int32, numpy=array([1, 2, 3, 4, 5, 6], dtype=int32)>"
            ]
          },
          "metadata": {},
          "execution_count": 7
        }
      ]
    },
    {
      "cell_type": "markdown",
      "source": [
        "## PyTorch"
      ],
      "metadata": {
        "id": "xasoy8n4rXpP"
      }
    },
    {
      "cell_type": "code",
      "source": [
        "p = torch.tensor(t)\n",
        "print(p.ndim, type(p.ndim))\n",
        "print(p.shape, type(p.shape))\n",
        "print(p.itemsize, type(p.itemsize))\n",
        "print(p.size, type(p.size()))\n",
        "print(p.dtype, type(p.dtype))"
      ],
      "metadata": {
        "colab": {
          "base_uri": "https://localhost:8080/"
        },
        "id": "P9vOyBaNrXAe",
        "outputId": "5c7464af-2587-4467-9cd8-12efd4f246ea"
      },
      "execution_count": 5,
      "outputs": [
        {
          "output_type": "stream",
          "name": "stdout",
          "text": [
            "1 <class 'int'>\n",
            "torch.Size([6]) <class 'torch.Size'>\n",
            "8 <class 'int'>\n",
            "<built-in method size of Tensor object at 0x7e4f7efa3c90> <class 'torch.Size'>\n",
            "torch.int64 <class 'torch.dtype'>\n"
          ]
        }
      ]
    },
    {
      "cell_type": "markdown",
      "source": [
        "## dtype\n",
        "- numpy: float64 / int64\n",
        "- tensorflow: float32 / int32\n",
        "- torch: float32 / int64"
      ],
      "metadata": {
        "id": "jsqztboHrfKO"
      }
    },
    {
      "cell_type": "code",
      "source": [
        "# 이건 기억을 해놓자\n",
        "print(np.array([1.,2.,3.]).dtype)\n",
        "print(np.array([1,2,3]).dtype)\n",
        "print(tf.constant([1.,2.,3.]).dtype)\n",
        "print(tf.constant([1,2,3]).dtype)\n",
        "print(torch.tensor([1.,2.,3.]).dtype)\n",
        "print(torch.tensor([1,2,3]).dtype)"
      ],
      "metadata": {
        "colab": {
          "base_uri": "https://localhost:8080/"
        },
        "id": "mxBrPp-irlJ7",
        "outputId": "2523981a-7fea-4bce-9256-b7c541de763d"
      },
      "execution_count": 8,
      "outputs": [
        {
          "output_type": "stream",
          "name": "stdout",
          "text": [
            "float64\n",
            "int64\n",
            "<dtype: 'float32'>\n",
            "<dtype: 'int32'>\n",
            "torch.float32\n",
            "torch.int64\n"
          ]
        }
      ]
    },
    {
      "cell_type": "code",
      "source": [
        "# nested lists result in multi-dimensional arrays\n",
        "a = np.array([range(i, i+3) for i in [2,4,6]]) # comprehension\n",
        "print(a.ndim)\n",
        "print(a.shape)\n",
        "print(a.itemsize) # byte 수\n",
        "print(a.size)\n",
        "print(a.dtype)\n",
        "a"
      ],
      "metadata": {
        "colab": {
          "base_uri": "https://localhost:8080/"
        },
        "id": "2RUBXc_erofx",
        "outputId": "fd98da98-90f1-444c-dd04-b3406b66d769"
      },
      "execution_count": 9,
      "outputs": [
        {
          "output_type": "stream",
          "name": "stdout",
          "text": [
            "2\n",
            "(3, 3)\n",
            "8\n",
            "9\n",
            "int64\n"
          ]
        },
        {
          "output_type": "execute_result",
          "data": {
            "text/plain": [
              "array([[2, 3, 4],\n",
              "       [4, 5, 6],\n",
              "       [6, 7, 8]])"
            ]
          },
          "metadata": {},
          "execution_count": 9
        }
      ]
    },
    {
      "cell_type": "code",
      "source": [
        "tensor = tf.constant(a)\n",
        "print(tf.rank(tensor))\n",
        "print(tensor.ndim)\n",
        "print(tensor.dtype)\n",
        "tensor"
      ],
      "metadata": {
        "colab": {
          "base_uri": "https://localhost:8080/"
        },
        "id": "umV62Q7GrrGf",
        "outputId": "bdefa614-3781-4843-c11a-5fedbe09536d"
      },
      "execution_count": 10,
      "outputs": [
        {
          "output_type": "stream",
          "name": "stdout",
          "text": [
            "tf.Tensor(2, shape=(), dtype=int32)\n",
            "2\n",
            "<dtype: 'int64'>\n"
          ]
        },
        {
          "output_type": "execute_result",
          "data": {
            "text/plain": [
              "<tf.Tensor: shape=(3, 3), dtype=int64, numpy=\n",
              "array([[2, 3, 4],\n",
              "       [4, 5, 6],\n",
              "       [6, 7, 8]])>"
            ]
          },
          "metadata": {},
          "execution_count": 10
        }
      ]
    }
  ]
}