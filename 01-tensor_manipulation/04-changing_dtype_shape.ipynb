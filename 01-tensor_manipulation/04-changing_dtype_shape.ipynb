{
  "nbformat": 4,
  "nbformat_minor": 0,
  "metadata": {
    "colab": {
      "provenance": [],
      "authorship_tag": "ABX9TyM8tu+6EOt2MfXC2iWGG+qW",
      "include_colab_link": true
    },
    "kernelspec": {
      "name": "python3",
      "display_name": "Python 3"
    },
    "language_info": {
      "name": "python"
    }
  },
  "cells": [
    {
      "cell_type": "markdown",
      "metadata": {
        "id": "view-in-github",
        "colab_type": "text"
      },
      "source": [
        "<a href=\"https://colab.research.google.com/github/9-coding/PyTorch/blob/main/04-changing_dtype_shape.ipynb\" target=\"_parent\"><img src=\"https://colab.research.google.com/assets/colab-badge.svg\" alt=\"Open In Colab\"/></a>"
      ]
    },
    {
      "cell_type": "markdown",
      "source": [
        "# dtype, shape 변경"
      ],
      "metadata": {
        "id": "t2G1i0jQhanw"
      }
    },
    {
      "cell_type": "code",
      "source": [
        "import numpy as np\n",
        "import torch\n",
        "import tensorflow as tf"
      ],
      "metadata": {
        "id": "O3yyVvtthhwA"
      },
      "execution_count": 2,
      "outputs": []
    },
    {
      "cell_type": "code",
      "source": [
        "for c in [np, torch, tf]:\n",
        "  print(c.__name__, c.__version__)"
      ],
      "metadata": {
        "colab": {
          "base_uri": "https://localhost:8080/"
        },
        "id": "PUMHHNQghml8",
        "outputId": "5199cf49-b0e9-47f3-9a3d-ce19f8e21b9d"
      },
      "execution_count": 3,
      "outputs": [
        {
          "output_type": "stream",
          "name": "stdout",
          "text": [
            "numpy 1.25.2\n",
            "torch 2.2.1+cu121\n",
            "tensorflow 2.15.0\n"
          ]
        }
      ]
    },
    {
      "cell_type": "code",
      "execution_count": 4,
      "metadata": {
        "id": "VwbagjDcAUBY"
      },
      "outputs": [],
      "source": [
        "# tensor 생성\n",
        "t = (1,2,3,4)\n",
        "\n",
        "a_np = np.array(t)\n",
        "a_torch = torch.tensor(t)\n",
        "a_tf = tf.constant(t)"
      ]
    },
    {
      "cell_type": "markdown",
      "source": [
        "## dtype 변경\n",
        "\n",
        "**dtype: The data type of element**\n",
        "\n",
        "바꾸는 원본 tensor인스턴스를 기반으로 원하는 dtype으로 구성된 새로운 tensor인스턴스가 생성됨 (연결X)\n",
        "\n",
        "### numpy\n",
        "dtype 이름만으로 사용 가능.\n",
        "- `ndarray.astype(desired_dtype)`\n",
        "  - ex) a_float = a_np.astype('float32')\n",
        "- `np.desired_dtype(src_array)`\n",
        "  - ex) a_int = np.int32(a_np)\n",
        "\n",
        "### pytorch\n",
        "torch.dtype 형식\n",
        "- `torch.tensor.type(desired_dtype)`\n",
        "  - ex) a_float = a_torch.type(torch.float64)\n",
        "- `tensor.to(desired_dtype)`\n",
        "  - ex) a_int = a_torch.to(torch.int32)\n",
        "\n",
        "### tensorflow\n",
        "tf.dtype 형식\n",
        "- `tensorflow.dtypes.cast(src_tensor, desired_dtype)`\n",
        "  - ex) a_float = tf.dtypes.casts(a_tf, tf.float64)"
      ],
      "metadata": {
        "id": "xg3hl_bLho9O"
      }
    },
    {
      "cell_type": "markdown",
      "source": [
        "### NumPy"
      ],
      "metadata": {
        "id": "HFPEMLl1DfgI"
      }
    },
    {
      "cell_type": "code",
      "source": [
        "a = np.ones((3,3))\n",
        "b = np.uint8(a)\n",
        "c = a.astype('float32')\n",
        "d = np.int32(a)\n",
        "print(c)\n",
        "\n",
        "print(id(a),a.dtype)\n",
        "print(id(b),b.dtype)\n",
        "print(id(c),c.dtype)\n",
        "print(id(d),d.dtype)"
      ],
      "metadata": {
        "colab": {
          "base_uri": "https://localhost:8080/"
        },
        "id": "43R2We41hq3-",
        "outputId": "72a17e8e-9fbf-4a23-a698-05c6255b7faf"
      },
      "execution_count": 25,
      "outputs": [
        {
          "output_type": "stream",
          "name": "stdout",
          "text": [
            "[[1. 1. 1.]\n",
            " [1. 1. 1.]\n",
            " [1. 1. 1.]]\n",
            "140324546677616 float64\n",
            "140324546678768 uint8\n",
            "140324512719440 float32\n",
            "140324548060880 int32\n"
          ]
        }
      ]
    },
    {
      "cell_type": "code",
      "source": [
        "a[1][1] = 0\n",
        "print(a, end=\"\\n\\n\")\n",
        "\n",
        "# 영향x\n",
        "print(b)\n",
        "print(c)\n",
        "print(d)"
      ],
      "metadata": {
        "colab": {
          "base_uri": "https://localhost:8080/"
        },
        "id": "p71QZhM0DkJ4",
        "outputId": "c7d10d74-bbb9-414b-d40e-4fdb77885651"
      },
      "execution_count": 22,
      "outputs": [
        {
          "output_type": "stream",
          "name": "stdout",
          "text": [
            "[[1. 1. 1.]\n",
            " [1. 0. 1.]\n",
            " [1. 1. 1.]]\n",
            "\n",
            "[[1 1 1]\n",
            " [1 1 1]\n",
            " [1 1 1]]\n",
            "[[1. 1. 1.]\n",
            " [1. 1. 1.]\n",
            " [1. 1. 1.]]\n",
            "[[1 1 1]\n",
            " [1 1 1]\n",
            " [1 1 1]]\n"
          ]
        }
      ]
    },
    {
      "cell_type": "markdown",
      "source": [
        "### Torch\n",
        "(type이 float32이면 tensor 출력시 dtype을 따로 출력하지 않음.)"
      ],
      "metadata": {
        "id": "XeWvMn0wiIPq"
      }
    },
    {
      "cell_type": "code",
      "source": [
        "print(a_torch.dtype)\n",
        "print(a_torch.to(dtype = torch.float32)) # to: dtype을 어딘가로 보냄.\n",
        "print(a_torch.dtype) # 연결x"
      ],
      "metadata": {
        "colab": {
          "base_uri": "https://localhost:8080/"
        },
        "id": "tzohm344htwn",
        "outputId": "d3986f19-9ec5-4fd3-9f6e-18e1850519e6"
      },
      "execution_count": 6,
      "outputs": [
        {
          "output_type": "stream",
          "name": "stdout",
          "text": [
            "torch.int64\n",
            "tensor([1., 2., 3., 4.])\n",
            "torch.int64\n"
          ]
        }
      ]
    },
    {
      "cell_type": "code",
      "source": [
        "a_torch = torch.rand(3,4)\n",
        "b_torch = a_torch.to(torch.uint8) # 보통 데이터를 gpu 또는 cpu로 옮길 때 사용. 형 변환이 필요하기 때문에 함께 쓰임.\n",
        "c_torch = a_torch.type(torch.float64)\n",
        "\n",
        "print(a_torch)\n",
        "print(b_torch)\n",
        "print(c_torch, end=\"\\n\\n\")\n",
        "print(id(a_torch), a_torch.dtype)\n",
        "print(id(b_torch), b_torch.dtype)\n",
        "print(id(c_torch), c_torch.dtype)\n",
        "\n",
        "b_torch[0,1] = 9\n",
        "c_torch[0,0] = 1000\n",
        "print()\n",
        "print(\"b_torch: \\n\", b_torch)\n",
        "print(\"c_torch: \\n\", c_torch)\n",
        "print(\"a_torch: \\n\", a_torch) # b_torch와 c_torch의 값을 바꿔도 a_torch의 값이 변하지 않음."
      ],
      "metadata": {
        "colab": {
          "base_uri": "https://localhost:8080/"
        },
        "id": "4Iax_EUkiHFm",
        "outputId": "3310e47d-f7bf-4b43-8739-91ed5dc5a86e"
      },
      "execution_count": 14,
      "outputs": [
        {
          "output_type": "stream",
          "name": "stdout",
          "text": [
            "tensor([[0.9889, 0.7115, 0.1673, 0.6618],\n",
            "        [0.4739, 0.6860, 0.3276, 0.4921],\n",
            "        [0.6148, 0.0571, 0.5319, 0.7147]])\n",
            "tensor([[0, 0, 0, 0],\n",
            "        [0, 0, 0, 0],\n",
            "        [0, 0, 0, 0]], dtype=torch.uint8)\n",
            "tensor([[0.9889, 0.7115, 0.1673, 0.6618],\n",
            "        [0.4739, 0.6860, 0.3276, 0.4921],\n",
            "        [0.6148, 0.0571, 0.5319, 0.7147]], dtype=torch.float64)\n",
            "\n",
            "140324551670768 torch.float32\n",
            "140324836316384 torch.uint8\n",
            "140324551727584 torch.float64\n",
            "\n",
            "b_torch: \n",
            " tensor([[0, 9, 0, 0],\n",
            "        [0, 0, 0, 0],\n",
            "        [0, 0, 0, 0]], dtype=torch.uint8)\n",
            "c_torch: \n",
            " tensor([[1.0000e+03, 7.1151e-01, 1.6735e-01, 6.6179e-01],\n",
            "        [4.7392e-01, 6.8599e-01, 3.2756e-01, 4.9210e-01],\n",
            "        [6.1477e-01, 5.7141e-02, 5.3190e-01, 7.1466e-01]], dtype=torch.float64)\n",
            "a_torch: \n",
            " tensor([[0.9889, 0.7115, 0.1673, 0.6618],\n",
            "        [0.4739, 0.6860, 0.3276, 0.4921],\n",
            "        [0.6148, 0.0571, 0.5319, 0.7147]])\n"
          ]
        }
      ]
    },
    {
      "cell_type": "markdown",
      "source": [
        "### TensorFlow"
      ],
      "metadata": {
        "id": "eKfb_3TdiLYp"
      }
    },
    {
      "cell_type": "code",
      "source": [
        "a_tf = tf.random.uniform(shape=(3,4))\n",
        "c_tf = tf.dtypes.cast(a_tf,tf.float64)\n",
        "print(a_tf)\n",
        "print(c_tf)\n",
        "print(id(a_tf), a_tf.dtype)\n",
        "print(id(c_tf), c_tf.dtype)"
      ],
      "metadata": {
        "colab": {
          "base_uri": "https://localhost:8080/"
        },
        "id": "lQh7EW3GiNv2",
        "outputId": "fabbc3b1-efce-47b9-b6a2-3f5cd534dd43"
      },
      "execution_count": 17,
      "outputs": [
        {
          "output_type": "stream",
          "name": "stdout",
          "text": [
            "tf.Tensor(\n",
            "[[0.48520315 0.7671863  0.5304713  0.9550866 ]\n",
            " [0.16791809 0.13852668 0.94590735 0.0984906 ]\n",
            " [0.1073997  0.76407945 0.77132523 0.10747445]], shape=(3, 4), dtype=float32)\n",
            "tf.Tensor(\n",
            "[[0.48520315 0.76718628 0.53047132 0.95508659]\n",
            " [0.16791809 0.13852668 0.94590735 0.0984906 ]\n",
            " [0.1073997  0.76407945 0.77132523 0.10747445]], shape=(3, 4), dtype=float64)\n",
            "140324815894336 <dtype: 'float32'>\n",
            "140324815893456 <dtype: 'float64'>\n"
          ]
        }
      ]
    },
    {
      "cell_type": "markdown",
      "source": [
        "## Shape 변경\n",
        "\n",
        "- shape는 tensor의 각 축의 크기를 나타내는 sequence type의 인스턴스임.\n",
        "- 즉, tensor의 크기와 형태를 나타냄.\n",
        "- desired_shape은 튜플 형태로.\n",
        "- 메모리가 contiguous해야 view를 만들 수 있음.\n",
        "- transpose는 행렬을 바꿔놓기 때문에 일정하게 쭉 올라가던 메모리에서 순서가 꼬이게 됨. <br>is_contiguous 사용하면 인접한지 확인할 수 있음.\n",
        "\n",
        "\n",
        "### numpy\n",
        "같은 행렬에서 reshape로 얻은 행렬의 경우 서로에게 영향을 미침.\n",
        "- `numpy.reshape(src_ndarray, desired_shape)`\n",
        "- `numpy.array.reshape(desired_shape)`\n",
        "\n",
        "### pytorch\n",
        "같은 행렬에서 reshape로 얻은 행렬의 경우 서로에게 영향을 미침.\n",
        "- `torch.reshape(src_tensor, desired_shape)`\n",
        "- `torch.tensor.reshape(desired_shape)`\n",
        "\n",
        "### tensorflow\n",
        "reshape로 얻어도 영향 없음.<br>\n",
        "src_tensor.reshape(desired_shape) 방식은 작동X.\n",
        "- `tensorflow.reshape(src_tensor, desired_shape)`\n",
        "\n"
      ],
      "metadata": {
        "id": "ju-7cj25iOq_"
      }
    },
    {
      "cell_type": "markdown",
      "source": [
        "\n",
        "\n",
        "### numpy"
      ],
      "metadata": {
        "id": "5Hq3iazhJjMP"
      }
    },
    {
      "cell_type": "code",
      "source": [
        "a = np.arange(0,10,1) # [ s : e : step_size ]\n",
        "b = a.reshape((2,5))\n",
        "print(a.shape,id(a))\n",
        "print(b.shape,id(b))\n",
        "c = np.reshape(a,(5,2))\n",
        "print(c.shape,id(c), end=\"\\n\\n\")\n",
        "\n",
        "c[0,0] = 1000\n",
        "# 같은 행렬에서 reshape로 얻은 행렬의 경우 서로에게 영향을 미침.\n",
        "print(a)\n",
        "print(b)\n",
        "print(c)"
      ],
      "metadata": {
        "colab": {
          "base_uri": "https://localhost:8080/"
        },
        "id": "99eyFGDNiQ_9",
        "outputId": "4bb0b717-53f2-4edb-d5d8-139ed62d0ad7"
      },
      "execution_count": 16,
      "outputs": [
        {
          "output_type": "stream",
          "name": "stdout",
          "text": [
            "(10,) 140324551552592\n",
            "(2, 5) 140324551719792\n",
            "(5, 2) 140324549838960\n",
            "\n",
            "[1000    1    2    3    4    5    6    7    8    9]\n",
            "[[1000    1    2    3    4]\n",
            " [   5    6    7    8    9]]\n",
            "[[1000    1]\n",
            " [   2    3]\n",
            " [   4    5]\n",
            " [   6    7]\n",
            " [   8    9]]\n"
          ]
        }
      ]
    },
    {
      "cell_type": "markdown",
      "source": [
        "### pytorch"
      ],
      "metadata": {
        "id": "0KYoZYIbiZ4m"
      }
    },
    {
      "cell_type": "code",
      "source": [
        "a_torch = torch.arange(0,10,1)\n",
        "b_torch = a_torch.reshape((2,5))\n",
        "c_torch = torch.reshape(a_torch,(5,2))\n",
        "\n",
        "print(a_torch.shape,id(a_torch))\n",
        "print(b_torch.shape,id(b_torch))\n",
        "print(c_torch.shape,id(c_torch), end=\"\\n\\n\")\n",
        "\n",
        "c_torch[0,0] = 1000\n",
        "# 같은 행렬에서 reshape로 얻은 행렬의 경우 서로에게 영향을 미침.\n",
        "print(a_torch)\n",
        "print(b_torch)\n",
        "print(c_torch)"
      ],
      "metadata": {
        "colab": {
          "base_uri": "https://localhost:8080/"
        },
        "id": "V0dBximWibVL",
        "outputId": "a861eaf8-f330-4905-a885-8b5bb3d8f4a3"
      },
      "execution_count": 29,
      "outputs": [
        {
          "output_type": "stream",
          "name": "stdout",
          "text": [
            "torch.Size([10]) 140324551668768\n",
            "torch.Size([2, 5]) 140324551659888\n",
            "torch.Size([5, 2]) 140324548612944\n",
            "\n",
            "tensor([1000,    1,    2,    3,    4,    5,    6,    7,    8,    9])\n",
            "tensor([[1000,    1,    2,    3,    4],\n",
            "        [   5,    6,    7,    8,    9]])\n",
            "tensor([[1000,    1],\n",
            "        [   2,    3],\n",
            "        [   4,    5],\n",
            "        [   6,    7],\n",
            "        [   8,    9]])\n"
          ]
        }
      ]
    },
    {
      "cell_type": "markdown",
      "source": [
        "### tensorflow"
      ],
      "metadata": {
        "id": "xgH6owoLicyX"
      }
    },
    {
      "cell_type": "code",
      "source": [
        "a_tensor = tf.range(0,10,1)\n",
        "b_tensor = tf.reshape(a_tensor,(2,5))\n",
        "# b_tensor = a_tensor.reshape((2,5)) # not working\n",
        "print(a_tensor.shape,id(a_tensor))\n",
        "print(b_tensor.shape,id(b_tensor))\n",
        "\n",
        "c_tensor = tf.reshape(a_tensor,(5,2))\n",
        "print(c_tensor.shape,id(c_tensor), end=\"\\n\\n\")\n",
        "\n",
        "# 변경하고 싶은 위치와 값을 정의\n",
        "indices = tf.constant([[0, 0]]) # (2, 2) 위치를 변경하고자 함\n",
        "updates = tf.constant([999]) # 해당 위치에 넣고 싶은 값\n",
        "\n",
        "# 업데이트 적용\n",
        "c_tensor = tf.tensor_scatter_nd_update(c_tensor, indices, updates)\n",
        "# 값을 바꾸어도 영향 없음.\n",
        "print(a_tensor)\n",
        "print(b_tensor)\n",
        "print(c_tensor)"
      ],
      "metadata": {
        "colab": {
          "base_uri": "https://localhost:8080/"
        },
        "id": "1OFmedm1idzC",
        "outputId": "a7f502cd-c580-4979-cf5c-c98c403b0333"
      },
      "execution_count": 23,
      "outputs": [
        {
          "output_type": "stream",
          "name": "stdout",
          "text": [
            "(10,) 140324512597616\n",
            "(2, 5) 140324514566688\n",
            "(5, 2) 140324514565632\n",
            "\n",
            "tf.Tensor([0 1 2 3 4 5 6 7 8 9], shape=(10,), dtype=int32)\n",
            "tf.Tensor(\n",
            "[[0 1 2 3 4]\n",
            " [5 6 7 8 9]], shape=(2, 5), dtype=int32)\n",
            "tf.Tensor(\n",
            "[[999   1]\n",
            " [  2   3]\n",
            " [  4   5]\n",
            " [  6   7]\n",
            " [  8   9]], shape=(5, 2), dtype=int32)\n"
          ]
        }
      ]
    }
  ]
}