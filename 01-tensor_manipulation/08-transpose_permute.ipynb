{
  "nbformat": 4,
  "nbformat_minor": 0,
  "metadata": {
    "colab": {
      "provenance": [],
      "authorship_tag": "ABX9TyPtEqnOx/AsFMv3rtGfaPHW",
      "include_colab_link": true
    },
    "kernelspec": {
      "name": "python3",
      "display_name": "Python 3"
    },
    "language_info": {
      "name": "python"
    }
  },
  "cells": [
    {
      "cell_type": "markdown",
      "metadata": {
        "id": "view-in-github",
        "colab_type": "text"
      },
      "source": [
        "<a href=\"https://colab.research.google.com/github/9-coding/PyTorch/blob/main/08-transpose_permute.ipynb\" target=\"_parent\"><img src=\"https://colab.research.google.com/assets/colab-badge.svg\" alt=\"Open In Colab\"/></a>"
      ]
    },
    {
      "cell_type": "markdown",
      "source": [
        "# Transpose & Permute"
      ],
      "metadata": {
        "id": "xCOVAi8FtDWP"
      }
    },
    {
      "cell_type": "code",
      "execution_count": null,
      "metadata": {
        "id": "jLwXllEVrv3M"
      },
      "outputs": [],
      "source": [
        "import numpy as np\n",
        "import torch\n",
        "import tensorflow as tf"
      ]
    },
    {
      "cell_type": "code",
      "source": [
        "for c in [np, torch, tf]:\n",
        "  print(c.__name__, c.__version__)"
      ],
      "metadata": {
        "colab": {
          "base_uri": "https://localhost:8080/"
        },
        "id": "Pfmw4-m0t_Eq",
        "outputId": "fd377329-4e14-4f55-8c3e-5a3d7cfe083f"
      },
      "execution_count": null,
      "outputs": [
        {
          "output_type": "stream",
          "name": "stdout",
          "text": [
            "numpy 1.25.2\n",
            "torch 2.2.1+cu121\n",
            "tensorflow 2.15.0\n"
          ]
        }
      ]
    },
    {
      "cell_type": "markdown",
      "source": [
        "## Transpose\n",
        "- 전치 행렬. 행과 열을 바꾸는 처리.\n",
        "- Tensor의 경우 여러 축을 가지는데, 이것 중 2개 축의 위치를 바꾼다.\n",
        "---\n",
        "- numpy/pytorch: axis만 변경됐을 뿐 여전히 같은 데이터를 공유하므로 새로운 tensor에서 데이터를 변경할 경우 원래의 tensor도 데이터가 반영된다.\n",
        "- tensorflow: tensor가 immutable이므로 transpose하면 다른 tensor가 생성되므로 영향을 미치지 않음."
      ],
      "metadata": {
        "id": "aRcjJyK7tHaD"
      }
    },
    {
      "cell_type": "markdown",
      "source": [
        "### NumPy"
      ],
      "metadata": {
        "id": "RDZIJLCWu7d6"
      }
    },
    {
      "cell_type": "code",
      "source": [
        "a = np.random.rand(2, 3)\n",
        "t1 = np.transpose(a)\n",
        "t2 = a.T\n",
        "print(a.shape)\n",
        "print(t1.shape)\n",
        "print(t2.shape)\n",
        "\n",
        "t2[0,1] = 77\n",
        "print(a[1,0])\n",
        "print(t1[0,1])\n",
        "print(t2[0,1])"
      ],
      "metadata": {
        "colab": {
          "base_uri": "https://localhost:8080/"
        },
        "id": "AyK1Npa8u4Of",
        "outputId": "482075f3-f46b-43d3-f3e0-41703ce35f27"
      },
      "execution_count": null,
      "outputs": [
        {
          "output_type": "stream",
          "name": "stdout",
          "text": [
            "(2, 3)\n",
            "(3, 2)\n",
            "(3, 2)\n",
            "77.0\n",
            "77.0\n",
            "77.0\n"
          ]
        }
      ]
    },
    {
      "cell_type": "markdown",
      "source": [
        "### PyTorch"
      ],
      "metadata": {
        "id": "rWC4LNU6u-Yc"
      }
    },
    {
      "cell_type": "code",
      "source": [
        "a_torch = torch.rand(2, 3)\n",
        "t1_torch = torch.transpose(a_torch, 0, 1) #axis-0 (행) 과 axis-1 (열)을 교체.\n",
        "t2_torch = a_torch.T\n",
        "print(a_torch.shape)  #torch.Size([2,3])\n",
        "print(t1_torch.shape) #torch.Size([3,2])\n",
        "print(t2_torch.shape) #torch.Size([3,2])\n",
        "\n",
        "t2_torch[0,1] = 77\n",
        "print(a_torch[1,0])  # tensor(77.)\n",
        "print(t1_torch[0,1]) # tensor(77.)\n",
        "print(t2_torch[0,1]) # tensor(77.)"
      ],
      "metadata": {
        "colab": {
          "base_uri": "https://localhost:8080/"
        },
        "id": "UT6XBAy0vADb",
        "outputId": "9d0acc74-2a8d-4bfc-80be-fc0dd264f6ac"
      },
      "execution_count": null,
      "outputs": [
        {
          "output_type": "stream",
          "name": "stdout",
          "text": [
            "torch.Size([2, 3])\n",
            "torch.Size([3, 2])\n",
            "torch.Size([3, 2])\n",
            "tensor(77.)\n",
            "tensor(77.)\n",
            "tensor(77.)\n"
          ]
        }
      ]
    },
    {
      "cell_type": "markdown",
      "source": [
        "### TensorFlow"
      ],
      "metadata": {
        "id": "hjLbKOYsGCYi"
      }
    },
    {
      "cell_type": "code",
      "source": [
        "a_tf = tf.random.normal([2, 3])\n",
        "t1_tf = tf.transpose(a_tf)\n",
        "t2_tf = tf.transpose(a_tf, perm=[1, 0]) # T 지원안함.\n",
        "print(a_tf.shape, a_tf.dtype)\n",
        "print(t1_tf.shape, t1_tf.dtype)\n",
        "print(t2_tf.shape, t2_tf.dtype)\n",
        "\n",
        "indices = tf.constant([[0, 1]]) # (2, 2) 위치를 변경하고자 함\n",
        "updates = tf.constant([77], dtype=tf.float32) # 해당 위치에 넣고 싶은 값\n",
        "t2_tf = tf.tensor_scatter_nd_update(t2_tf, indices, updates)\n",
        "print(a_tf[1,0])\n",
        "print(t1_tf[0,1])\n",
        "print(t2_tf[0,1])"
      ],
      "metadata": {
        "colab": {
          "base_uri": "https://localhost:8080/"
        },
        "id": "7ZrnJYJHGEHZ",
        "outputId": "a63fb66b-8cb9-451b-d2f7-ef6479b6e6de"
      },
      "execution_count": null,
      "outputs": [
        {
          "output_type": "stream",
          "name": "stdout",
          "text": [
            "(2, 3) <dtype: 'float32'>\n",
            "(3, 2) <dtype: 'float32'>\n",
            "(3, 2) <dtype: 'float32'>\n",
            "tf.Tensor(0.254899, shape=(), dtype=float32)\n",
            "tf.Tensor(0.254899, shape=(), dtype=float32)\n",
            "tf.Tensor(77.0, shape=(), dtype=float32)\n"
          ]
        }
      ]
    },
    {
      "cell_type": "markdown",
      "source": [
        "## Permute\n",
        "- tensor 축들의 순서를 임의로 바꿈\n",
        "- transpose와 달리 임의의 수의 축들을 임의의 순서로 자유롭게 변경 가능.\n",
        "- numpy, tensorflow는 transpose 통해 permute 구현."
      ],
      "metadata": {
        "id": "DF8ULV9CGGYt"
      }
    },
    {
      "cell_type": "markdown",
      "source": [
        "### NumPy"
      ],
      "metadata": {
        "id": "QcLGDilhGZzJ"
      }
    },
    {
      "cell_type": "code",
      "source": [
        "a = np.random.rand(2, 3, 4)\n",
        "t1 = np.transpose(a, (0, 2, 1)) # 기존의 axis 0,1,2 순서를 axis 0,2,1 순서로 변경.\n",
        "print(a.shape)  # (2,3,4)\n",
        "print(t1.shape) # (2,4,3)\n",
        "t1[0,1,2] = 77\n",
        "print(a[0,2,1])  # 77.0\n",
        "print(t1[0,1,2]) # 77.0"
      ],
      "metadata": {
        "colab": {
          "base_uri": "https://localhost:8080/"
        },
        "id": "ug5EasyMGc5N",
        "outputId": "035efe54-59c6-4aaf-b82c-40e1eece4314"
      },
      "execution_count": null,
      "outputs": [
        {
          "output_type": "stream",
          "name": "stdout",
          "text": [
            "(2, 3, 4)\n",
            "(2, 4, 3)\n",
            "77.0\n",
            "77.0\n"
          ]
        }
      ]
    },
    {
      "cell_type": "markdown",
      "source": [
        "### PyTorch"
      ],
      "metadata": {
        "id": "j3dyiQKVGezR"
      }
    },
    {
      "cell_type": "code",
      "source": [
        "a_torch = torch.rand(2, 3, 4)\n",
        "t1_torch = torch.permute(a_torch, (0, 2, 1)) # numpy의 transpose와 사용방법이 유사.\n",
        "print(a_torch.shape)  # torch.Size([2, 3, 4])\n",
        "print(t1_torch.shape) # torch.Size([2, 4, 3])\n",
        "t1_torch[0,1,2] = 77\n",
        "print(a_torch[0,2,1])  # tensor(77.)\n",
        "print(t1_torch[0,1,2]) # tensor(77.)"
      ],
      "metadata": {
        "colab": {
          "base_uri": "https://localhost:8080/"
        },
        "id": "ohdJUzhWGgi4",
        "outputId": "1e10ee47-23dc-4343-a6aa-e58b5e972319"
      },
      "execution_count": null,
      "outputs": [
        {
          "output_type": "stream",
          "name": "stdout",
          "text": [
            "torch.Size([2, 3, 4])\n",
            "torch.Size([2, 4, 3])\n",
            "tensor(77.)\n",
            "tensor(77.)\n"
          ]
        }
      ]
    },
    {
      "cell_type": "markdown",
      "source": [
        "### TensorFlow"
      ],
      "metadata": {
        "id": "YKhQu8gKGkSL"
      }
    },
    {
      "cell_type": "code",
      "source": [
        "a_tf = tf.random.normal([2, 3, 4])\n",
        "t1_tf = tf.transpose(a_tf, perm=[0, 2, 1]) #perm 이라는 키워드로 변경될 축의 순서를 기재.\n",
        "print(a_tf.shape)  # (2, 3, 4)\n",
        "print(t1_tf.shape) # (2, 4, 3)"
      ],
      "metadata": {
        "id": "Ls26dTGTGm6y",
        "outputId": "85447777-15d5-495a-ed5a-b9b03cdc0c0e",
        "colab": {
          "base_uri": "https://localhost:8080/"
        }
      },
      "execution_count": null,
      "outputs": [
        {
          "output_type": "stream",
          "name": "stdout",
          "text": [
            "(2, 3, 4)\n",
            "(2, 4, 3)\n"
          ]
        }
      ]
    }
  ]
}